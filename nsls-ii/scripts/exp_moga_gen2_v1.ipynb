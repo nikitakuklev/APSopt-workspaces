{
 "cells": [
  {
   "cell_type": "code",
   "execution_count": null,
   "metadata": {},
   "outputs": [],
   "source": [
    "import sys\n",
    "import logging\n",
    "import json\n",
    "import numpy as np\n",
    "import pandas as pd\n",
    "from datetime import datetime\n",
    "import time\n",
    "\n",
    "from apsopt.core.optimizer import Optimizer, get_generator_class\n",
    "from apsopt.core.evaluators import FunctionEvaluator\n",
    "from apsopt.util.pydantic.options import AlgorithmOptions\n",
    "from apsopt.util.pydantic.vocs import GVOCS\n",
    "\n",
    "logger = logging.getLogger(__name__)"
   ]
  },
  {
   "cell_type": "markdown",
   "metadata": {},
   "source": [
    "### SETUP"
   ]
  },
  {
   "cell_type": "code",
   "execution_count": null,
   "metadata": {},
   "outputs": [],
   "source": [
    "# Load precomputed data\n",
    "\n",
    "MODE = '6and3'\n",
    "with open(f'lattice/data_{MODE}.json', 'r') as f:\n",
    "    data_dict = json.load(f)\n",
    "groups = data_dict['groups']\n",
    "groups_direct = data_dict['groups_direct']\n",
    "all_groups = {**groups, **groups_direct}\n",
    "indices = data_dict['indices']\n",
    "null_knobs = data_dict['null_knobs']\n",
    "dfknobs = pd.read_json(f'lattice/dfknobs_{MODE}.json')\n",
    "\n",
    "# impact of K2L difference\n",
    "dfknobs.loc['SM2B',:] *= 0.25/0.2\n",
    "\n",
    "# DO NOT CHANGE - USED TO CALCULATE ABSOLUTE K2L\n",
    "initial_values_ref = {\n",
    "    'SM1A': -23.68063424*0.2,\n",
    "    'SM2B': 28.64315469*0.25,\n",
    "    'SM1B': -25.94603546*0.2,\n",
    "    'SL3': -29.46086061*0.2,\n",
    "    'SL2': 35.67792145*0.2,\n",
    "    'SL1': -13.27160605*0.2,\n",
    "    'SH4': -15.82090071*0.2,\n",
    "    'SH3': -5.85510841*0.2,\n",
    "    'SH1': 19.8329121*0.2,\n",
    "}\n",
    "\n",
    "# CHANGE THIS TO VALUES FROM RING IF NEEDED\n",
    "initial_values = initial_values_ref.copy()\n",
    "\n",
    "# optimizer variables in units of K2L\n",
    "#variables = {'SVD0':[-0.6,0.6]} # this means SM1B will change by ~10%\n",
    "variables = {'SVD0':[-0.4,0.4]} # this means SM1B will change by ~10%\n",
    "\n",
    "for k in ['SH1','SH3','SH4','SL1','SL2','SL3']:\n",
    "    # variables[k] = [-np.abs(initial_values_ref[k])*0.1,np.abs(initial_values_ref[k])*0.1]\n",
    "    variables[k] = [-np.abs(initial_values_ref[k])*0.075,np.abs(initial_values_ref[k])*0.075]\n",
    "\n",
    "objectives_active = {'LT': 'MAXIMIZE', 'EFF':'MAXIMIZE'}\n",
    "\n",
    "initial_variable_values = {k:0.0 for k in variables.keys()}\n",
    "\n",
    "gvocs = GVOCS(variables=variables,\n",
    "              variables_active=variables,\n",
    "              objectives=objectives_active,\n",
    "              objectives_active=objectives_active)\n",
    "\n",
    "print(pd.DataFrame(initial_values_ref,index=[0]))\n",
    "print(pd.DataFrame(variables))"
   ]
  },
  {
   "cell_type": "code",
   "execution_count": null,
   "metadata": {},
   "outputs": [],
   "source": [
    "reference_point = {'LT': 3.0, # hours\n",
    "                   'EFF': 10.0 # % injected\n",
    "                   }"
   ]
  },
  {
   "cell_type": "code",
   "execution_count": null,
   "metadata": {},
   "outputs": [],
   "source": [
    "import sext_tools\n",
    "def compute_family_k2l_from_knob_k2l(dfknobs, knobs_dict, debug=False):\n",
    "    group_relative_strengths = sext_tools.knob_strengths_to_group_strengths(dfknobs, knobs_dict)\n",
    "    for k in group_relative_strengths:\n",
    "        if debug:\n",
    "            print(f'{k}: {initial_values[k]:.3f} + {group_relative_strengths[k]:.3f} -> {initial_values[k]+group_relative_strengths[k]:.3f}')\n",
    "        group_relative_strengths[k] = group_relative_strengths[k] + initial_values[k]\n",
    "    return group_relative_strengths"
   ]
  },
  {
   "cell_type": "code",
   "execution_count": null,
   "metadata": {},
   "outputs": [],
   "source": [
    "TEST = True\n",
    "\n",
    "if TEST:\n",
    "    from opt_funcs_nsls import make_dummy_eval\n",
    "    eval_f = make_dummy_eval(gvocs)\n",
    "else:\n",
    "    sys.path.insert(0, \"/nsls2/users/yhidaka/git_repos/nsls2scripts3/shifts/2023-11-26_APSU_DA_MA\")\n",
    "    import opt_funcs\n",
    "    \n",
    "    def knobs_to_family(inputs_dict):\n",
    "        d = compute_family_k2l_from_knob_k2l(dfknobs, inputs_dict, True)\n",
    "        return opt_funcs.master_eval_function(d)\n",
    "    \n",
    "    eval_f = knobs_to_family"
   ]
  },
  {
   "cell_type": "code",
   "execution_count": null,
   "metadata": {},
   "outputs": [],
   "source": [
    "inputs_dict = compute_family_k2l_from_knob_k2l(\n",
    "    dfknobs, {k:variables[k][0] for k in variables.keys()}, True)\n",
    "inputs_dict"
   ]
  },
  {
   "cell_type": "code",
   "execution_count": null,
   "metadata": {},
   "outputs": [],
   "source": [
    "ev = FunctionEvaluator(script=eval_f)\n",
    "generator_name = 'aps_moga'\n",
    "gc = get_generator_class(generator_name)\n",
    "gen = gc(gvocs=gvocs)\n",
    "gen.population_size = 8\n",
    "gen.reference_point = reference_point"
   ]
  },
  {
   "cell_type": "code",
   "execution_count": null,
   "metadata": {},
   "outputs": [],
   "source": [
    "options = AlgorithmOptions(store_history=True, dump_every_step=True)\n",
    "opt = Optimizer(options=options,\n",
    "                generator=gen,\n",
    "                evaluator=ev,\n",
    "                gvocs=gvocs)"
   ]
  },
  {
   "cell_type": "markdown",
   "metadata": {},
   "source": [
    "### Run optimizer"
   ]
  },
  {
   "cell_type": "code",
   "execution_count": null,
   "metadata": {},
   "outputs": [],
   "source": [
    "opt.generate_at(initial_variable_values)\n",
    "opt.evaluate_data()"
   ]
  },
  {
   "cell_type": "code",
   "execution_count": null,
   "metadata": {},
   "outputs": [],
   "source": [
    "for i in range(opt.generator.population_size):\n",
    "    opt.generate_random()\n",
    "    opt.evaluate_data()\n",
    "\n",
    "assert opt.generator.population is not None"
   ]
  },
  {
   "cell_type": "code",
   "execution_count": null,
   "metadata": {},
   "outputs": [],
   "source": [
    "opt.generator.population"
   ]
  },
  {
   "cell_type": "code",
   "execution_count": null,
   "metadata": {},
   "outputs": [],
   "source": [
    "opt.generator._offspring"
   ]
  },
  {
   "cell_type": "code",
   "execution_count": null,
   "metadata": {},
   "outputs": [],
   "source": [
    "opt.data"
   ]
  },
  {
   "cell_type": "code",
   "execution_count": null,
   "metadata": {},
   "outputs": [],
   "source": [
    "for i in range(24):\n",
    "    print(f'** Step #{i+1} at {datetime.now():%Y-%m-%d %H:%M:%S}**')\n",
    "    opt.generate_next()\n",
    "    #opt.generate_random_around_point(n=1, point=initial_variable_values, spans=mt, use_normalized_distances=True)\n",
    "    opt.evaluate_data()"
   ]
  },
  {
   "cell_type": "code",
   "execution_count": null,
   "metadata": {},
   "outputs": [],
   "source": [
    "opt.data.tail()"
   ]
  },
  {
   "cell_type": "code",
   "execution_count": null,
   "metadata": {},
   "outputs": [],
   "source": [
    "opt.generator.population"
   ]
  },
  {
   "cell_type": "code",
   "execution_count": null,
   "metadata": {},
   "outputs": [],
   "source": [
    "import matplotlib.pyplot as plt\n",
    "\n",
    "hvs = []\n",
    "for i in range(1,len(opt.data)):\n",
    "    hv = opt.generator.calculate_hypervolume_at(opt.data, i)\n",
    "    hvs.append(hv)\n",
    "\n",
    "fig,ax = plt.subplots(1,2,squeeze=False,figsize=(12,6))\n",
    "df = opt.data\n",
    "ol = ['EFF', 'LT']\n",
    "l = ax[0,0].scatter(df.loc[:,ol[0]], df.loc[:,ol[1]],10,marker='o',c=range(len(df)),vmax=len(df))\n",
    "ax[0,0].scatter(df.loc[:1,ol[0]], df.loc[:1,ol[1]], 20,marker='o',c='red',label='initial point')\n",
    "ax[0,0].scatter(gen.reference_point[ol[0]], gen.reference_point[ol[1]],40,marker='*',c='black',label='reference point')\n",
    "ax[0,0].set_xlabel(ol[0])\n",
    "ax[0,0].set_ylabel(ol[1])\n",
    "fig.colorbar(l)\n",
    "ax[0,0].legend()\n",
    "\n",
    "ax[0,1].plot(hvs,marker='o')\n",
    "ax[0,1].set_xlabel('Step #')\n",
    "ax[0,1].set_ylabel('Hypervolume')"
   ]
  },
  {
   "cell_type": "code",
   "execution_count": null,
   "metadata": {},
   "outputs": [],
   "source": [
    "fig,ax = plt.subplots(1,2,squeeze=False,figsize=(8,6))\n",
    "df = opt.data\n",
    "\n",
    "ax[0,0].plot(df.loc[:,'_nux'], marker='o', label='nux')\n",
    "ax[0,0].plot(df.loc[:,'_nuy'], marker='o', label='nuy')\n",
    "ax[0,1].plot(df.loc[:,'_eps_x_bxbOn'], marker='o', label='eps_x_bxbOn', color='red')\n",
    "ax[0,1].plot(df.loc[:,'_eps_y_bxbOn']*1e2, marker='o', label='eps_y_bxbOn', color='green')\n",
    "ax[0,0].set_xlabel('Step #')\n",
    "ax[0,0].set_ylabel('Tune')\n",
    "ax[0,0].legend()\n",
    "ax[0,1].legend()"
   ]
  },
  {
   "cell_type": "code",
   "execution_count": null,
   "metadata": {},
   "outputs": [],
   "source": [
    "# This will save optimizer state\n",
    "from datetime import datetime\n",
    "opt.state_to_json(f'{datetime.now():%Y%m%dT%H%M%S}_exp_moga_dump.json')"
   ]
  },
  {
   "cell_type": "code",
   "execution_count": null,
   "metadata": {},
   "outputs": [],
   "source": []
  }
 ],
 "metadata": {
  "kernelspec": {
   "display_name": "py311ml",
   "language": "python",
   "name": "python3"
  },
  "language_info": {
   "codemirror_mode": {
    "name": "ipython",
    "version": 3
   },
   "file_extension": ".py",
   "mimetype": "text/x-python",
   "name": "python",
   "nbconvert_exporter": "python",
   "pygments_lexer": "ipython3",
   "version": "3.11.6"
  }
 },
 "nbformat": 4,
 "nbformat_minor": 2
}
