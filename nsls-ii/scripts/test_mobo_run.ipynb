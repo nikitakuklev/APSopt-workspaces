{
 "cells": [
  {
   "cell_type": "code",
   "execution_count": 1,
   "metadata": {},
   "outputs": [],
   "source": [
    "import logging\n",
    "import numpy as np\n",
    "\n",
    "from apsopt.core.optimizer import Optimizer, get_generator_class\n",
    "from apsopt.core.evaluators import FunctionEvaluator\n",
    "from apsopt.util.pydantic.options import AlgorithmOptions\n",
    "from apsopt.util.pydantic.vocs import GVOCS\n",
    "\n",
    "from opt_funcs_nsls import make_dummy_eval\n",
    "\n",
    "logger = logging.getLogger(__name__)"
   ]
  },
  {
   "cell_type": "markdown",
   "metadata": {},
   "source": [
    "SETUP"
   ]
  },
  {
   "cell_type": "code",
   "execution_count": 2,
   "metadata": {},
   "outputs": [],
   "source": [
    "variables = {'x0':[0,1], # magnet current/knob/etc.\n",
    "              'x1':[0,1]}\n",
    "objectives = {'LT':'maximize', 'EFF':'maximize'}\n",
    "reference_point = {'LT':0.7, # hours\n",
    "                   'EFF':0.5 # fraction injected\n",
    "                   }\n",
    "initial_variable_values = {'x0':0.5, 'x1':0.5}\n",
    "\n",
    "gvocs = GVOCS(variables=variables,\n",
    "              variables_active=variables,\n",
    "              objectives=objectives,\n",
    "              objectives_active=objectives)"
   ]
  },
  {
   "cell_type": "code",
   "execution_count": 3,
   "metadata": {},
   "outputs": [],
   "source": [
    "eval_f = make_dummy_eval(gvocs)\n",
    "ev = FunctionEvaluator(script=eval_f)\n",
    "\n",
    "generator_name = 'aps_mobo'\n",
    "gc = get_generator_class(generator_name)\n",
    "\n",
    "gen = gc(gvocs=gvocs)\n",
    "gen.numerical_optimizer.n_raw_samples = 512\n",
    "gen.numerical_optimizer.n_restarts = 10\n",
    "gen.gp_constructor.use_low_noise_prior = False\n",
    "gen.gp_constructor.use_high_noise_prior = False\n",
    "#gen.max_travel_distances = [0.1] * len(gvocs.variables_active)\n",
    "gen.reference_point = reference_point"
   ]
  },
  {
   "cell_type": "code",
   "execution_count": 4,
   "metadata": {},
   "outputs": [],
   "source": [
    "options = AlgorithmOptions(store_history=True, dump_every_step=True)\n",
    "opt = Optimizer(options=options,\n",
    "                generator=gen,\n",
    "                evaluator=ev,\n",
    "                gvocs=gvocs)"
   ]
  },
  {
   "cell_type": "markdown",
   "metadata": {},
   "source": [
    "Sample at initial values (i.e. standard lattice)"
   ]
  },
  {
   "cell_type": "code",
   "execution_count": 5,
   "metadata": {},
   "outputs": [],
   "source": [
    "opt.generate_at(initial_variable_values)\n",
    "opt.evaluate_data()"
   ]
  },
  {
   "cell_type": "code",
   "execution_count": 6,
   "metadata": {},
   "outputs": [
    {
     "data": {
      "text/html": [
       "<div>\n",
       "<style scoped>\n",
       "    .dataframe tbody tr th:only-of-type {\n",
       "        vertical-align: middle;\n",
       "    }\n",
       "\n",
       "    .dataframe tbody tr th {\n",
       "        vertical-align: top;\n",
       "    }\n",
       "\n",
       "    .dataframe thead th {\n",
       "        text-align: right;\n",
       "    }\n",
       "</style>\n",
       "<table border=\"1\" class=\"dataframe\">\n",
       "  <thead>\n",
       "    <tr style=\"text-align: right;\">\n",
       "      <th></th>\n",
       "      <th>x0</th>\n",
       "      <th>x1</th>\n",
       "      <th>result</th>\n",
       "      <th>exception</th>\n",
       "      <th>traceback</th>\n",
       "      <th>wall_time</th>\n",
       "      <th>cpu_time</th>\n",
       "      <th>valid</th>\n",
       "      <th>LT</th>\n",
       "      <th>EFF</th>\n",
       "    </tr>\n",
       "  </thead>\n",
       "  <tbody>\n",
       "    <tr>\n",
       "      <th>1</th>\n",
       "      <td>0.5</td>\n",
       "      <td>0.5</td>\n",
       "      <td>{'LT': 9.653540800734882, 'EFF': 0.98396759152...</td>\n",
       "      <td>None</td>\n",
       "      <td></td>\n",
       "      <td>0.000085</td>\n",
       "      <td>0.0</td>\n",
       "      <td>True</td>\n",
       "      <td>9.653541</td>\n",
       "      <td>0.983968</td>\n",
       "    </tr>\n",
       "  </tbody>\n",
       "</table>\n",
       "</div>"
      ],
      "text/plain": [
       "    x0   x1                                             result exception  \\\n",
       "1  0.5  0.5  {'LT': 9.653540800734882, 'EFF': 0.98396759152...      None   \n",
       "\n",
       "  traceback  wall_time  cpu_time  valid        LT       EFF  \n",
       "1             0.000085       0.0   True  9.653541  0.983968  "
      ]
     },
     "execution_count": 6,
     "metadata": {},
     "output_type": "execute_result"
    }
   ],
   "source": [
    "opt.data"
   ]
  },
  {
   "cell_type": "markdown",
   "metadata": {},
   "source": [
    "Sample close to initial point"
   ]
  },
  {
   "cell_type": "code",
   "execution_count": 7,
   "metadata": {},
   "outputs": [],
   "source": [
    "mt = {'x0':0.05, 'x1':0.05}\n",
    "opt.generate_random_around_point(n=1, point=initial_variable_values, spans=mt, use_normalized_distances=True)\n",
    "opt.evaluate_data()"
   ]
  },
  {
   "cell_type": "code",
   "execution_count": 8,
   "metadata": {},
   "outputs": [
    {
     "data": {
      "text/html": [
       "<div>\n",
       "<style scoped>\n",
       "    .dataframe tbody tr th:only-of-type {\n",
       "        vertical-align: middle;\n",
       "    }\n",
       "\n",
       "    .dataframe tbody tr th {\n",
       "        vertical-align: top;\n",
       "    }\n",
       "\n",
       "    .dataframe thead th {\n",
       "        text-align: right;\n",
       "    }\n",
       "</style>\n",
       "<table border=\"1\" class=\"dataframe\">\n",
       "  <thead>\n",
       "    <tr style=\"text-align: right;\">\n",
       "      <th></th>\n",
       "      <th>x0</th>\n",
       "      <th>x1</th>\n",
       "      <th>result</th>\n",
       "      <th>exception</th>\n",
       "      <th>traceback</th>\n",
       "      <th>wall_time</th>\n",
       "      <th>cpu_time</th>\n",
       "      <th>valid</th>\n",
       "      <th>LT</th>\n",
       "      <th>EFF</th>\n",
       "    </tr>\n",
       "  </thead>\n",
       "  <tbody>\n",
       "    <tr>\n",
       "      <th>1</th>\n",
       "      <td>0.500000</td>\n",
       "      <td>0.500000</td>\n",
       "      <td>{'LT': 9.653540800734882, 'EFF': 0.98396759152...</td>\n",
       "      <td>None</td>\n",
       "      <td></td>\n",
       "      <td>0.000085</td>\n",
       "      <td>0.0</td>\n",
       "      <td>True</td>\n",
       "      <td>9.653541</td>\n",
       "      <td>0.983968</td>\n",
       "    </tr>\n",
       "    <tr>\n",
       "      <th>2</th>\n",
       "      <td>0.499065</td>\n",
       "      <td>0.516663</td>\n",
       "      <td>{'LT': 9.61674934199741, 'EFF': 1.024776453534...</td>\n",
       "      <td>None</td>\n",
       "      <td></td>\n",
       "      <td>0.000058</td>\n",
       "      <td>0.0</td>\n",
       "      <td>True</td>\n",
       "      <td>9.616749</td>\n",
       "      <td>1.024776</td>\n",
       "    </tr>\n",
       "  </tbody>\n",
       "</table>\n",
       "</div>"
      ],
      "text/plain": [
       "         x0        x1                                             result  \\\n",
       "1  0.500000  0.500000  {'LT': 9.653540800734882, 'EFF': 0.98396759152...   \n",
       "2  0.499065  0.516663  {'LT': 9.61674934199741, 'EFF': 1.024776453534...   \n",
       "\n",
       "  exception traceback  wall_time  cpu_time  valid        LT       EFF  \n",
       "1      None             0.000085       0.0   True  9.653541  0.983968  \n",
       "2      None             0.000058       0.0   True  9.616749  1.024776  "
      ]
     },
     "execution_count": 8,
     "metadata": {},
     "output_type": "execute_result"
    }
   ],
   "source": [
    "opt.data"
   ]
  },
  {
   "cell_type": "markdown",
   "metadata": {},
   "source": [
    "Run optimizer"
   ]
  },
  {
   "cell_type": "code",
   "execution_count": 9,
   "metadata": {},
   "outputs": [],
   "source": [
    "import warnings\n",
    "#warnings.filterwarnings(\"ignore\", message=\"Unable to find non-zero acquisition function values\")\n",
    "\n",
    "for i in range(20):\n",
    "    opt.step()"
   ]
  },
  {
   "cell_type": "code",
   "execution_count": 10,
   "metadata": {},
   "outputs": [
    {
     "data": {
      "text/plain": [
       "'{\\n  \"optimizer\": {\\n    \"tag\": \"b075a4a319\",\\n    \"store_history\": true,\\n    \"dump_every_step\": true,\\n    \"history_directory\": null,\\n    \"execution_mode\": \"sync\"\\n  },\\n  \"generator\": {\\n    \"name\": \"aps_mobo\",\\n    \"n_monte_carlo_samples\": 128,\\n    \"turbo_controller\": null,\\n    \"use_cuda\": false,\\n    \"gp_constructor\": {\\n      \"name\": \"mobo_model\",\\n      \"use_low_noise_prior\": false,\\n      \"covar_modules\": {},\\n      \"mean_modules\": {},\\n      \"trainable_mean_keys\": [],\\n      \"use_high_noise_prior\": false\\n    },\\n    \"numerical_optimizer\": {\\n      \"name\": \"APSLBFGS\",\\n      \"n_raw_samples\": 512,\\n      \"n_restarts\": 10,\\n      \"max_iter\": 2000,\\n      \"sequential\": true\\n    },\\n    \"max_travel_distances\": null,\\n    \"fixed_features\": null,\\n    \"computation_time\": null,\\n    \"n_candidates\": 1,\\n    \"reference_point\": {\\n      \"LT\": 0.7,\\n      \"EFF\": 0.5\\n    },\\n    \"prune_inferior_points_kwargs\": null\\n  },\\n  \"evaluator\": {\\n    \"name\": \"func\",\\n    \"on_error\": \"ignore\",\\n    \"max_workers\": 1,\\n    \"script\": \"opt_funcs_nsls.make_dummy_eval.<locals>.master_eval_function_dummy\",\\n    \"post_script\": null,\\n    \"script_kwargs\": {},\\n    \"eval_cnt\": 22,\\n    \"TRACE\": true\\n  },\\n  \"gvocs\": {\\n    \"variables\": {\\n      \"x0\": [\\n        0.0,\\n        1.0\\n      ],\\n      \"x1\": [\\n        0.0,\\n        1.0\\n      ]\\n    },\\n    \"variables_active\": {\\n      \"x0\": [\\n        0.0,\\n        1.0\\n      ],\\n      \"x1\": [\\n        0.0,\\n        1.0\\n      ]\\n    },\\n    \"auxiliary\": {},\\n    \"readbacks\": {},\\n    \"constraints\": {},\\n    \"constraints_active\": {},\\n    \"objectives\": {\\n      \"LT\": \"MAXIMIZE\",\\n      \"EFF\": \"MAXIMIZE\"\\n    },\\n    \"objectives_active\": {\\n      \"LT\": \"MAXIMIZE\",\\n      \"EFF\": \"MAXIMIZE\"\\n    },\\n    \"observables\": [],\\n    \"atol\": {\\n      \"x0\": 0.05,\\n      \"x1\": 0.05\\n    },\\n    \"initial_change\": {},\\n    \"constants\": {},\\n    \"linked_variables\": {},\\n    \"knobs\": {},\\n    \"knobs_initial_values\": {}\\n  },\\n  \"data\": {\\n    \"input_data\": {\\n      \"1\": {\\n        \"x0\": 0.5,\\n        \"x1\": 0.5\\n      },\\n      \"2\": {\\n        \"x0\": 0.49906544545126674,\\n        \"x1\": 0.516662742018337\\n      },\\n      \"3\": {\\n        \"x0\": 0.0,\\n        \"x1\": 1.0\\n      },\\n      \"4\": {\\n        \"x0\": 0.7269481709677578,\\n        \"x1\": 0.20104287279072836\\n      },\\n      \"5\": {\\n        \"x0\": 0.6880169759724796,\\n        \"x1\": 0.7573352215986753\\n      },\\n      \"6\": {\\n        \"x0\": 0.9005317937243988,\\n        \"x1\": 0.8688643537479197\\n      },\\n      \"7\": {\\n        \"x0\": 0.7649170552315478,\\n        \"x1\": 1.0\\n      },\\n      \"8\": {\\n        \"x0\": 0.6753405384497787,\\n        \"x1\": 0.5713394098826746\\n      },\\n      \"9\": {\\n        \"x0\": 0.6870582533561778,\\n        \"x1\": 0.8875430497277503\\n      },\\n      \"10\": {\\n        \"x0\": 0.8397992874968074,\\n        \"x1\": 1.0\\n      },\\n      \"11\": {\\n        \"x0\": 0.0,\\n        \"x1\": 0.0\\n      },\\n      \"12\": {\\n        \"x0\": 1.0,\\n        \"x1\": 1.0\\n      },\\n      \"13\": {\\n        \"x0\": 0.5824444709431384,\\n        \"x1\": 0.4218174511594809\\n      },\\n      \"14\": {\\n        \"x0\": 0.6820855951540307,\\n        \"x1\": 0.6771839342883218\\n      },\\n      \"15\": {\\n        \"x0\": 0.7480757525454569,\\n        \"x1\": 0.9355241755789364\\n      },\\n      \"16\": {\\n        \"x0\": 0.5305454786432972,\\n        \"x1\": 0.29401511316851836\\n      },\\n      \"17\": {\\n        \"x0\": 0.7223097521635113,\\n        \"x1\": 0.8179809797589919\\n      },\\n      \"18\": {\\n        \"x0\": 0.9246519496181361,\\n        \"x1\": 1.0\\n      },\\n      \"19\": {\\n        \"x0\": 0.6357767583772805,\\n        \"x1\": 0.49382930902989247\\n      },\\n      \"20\": {\\n        \"x0\": 0.47260124603837217,\\n        \"x1\": 0.38506836364266694\\n      },\\n      \"21\": {\\n        \"x0\": 0.5763671416196666,\\n        \"x1\": 1.0\\n      },\\n      \"22\": {\\n        \"x0\": 0.6183926679198731,\\n        \"x1\": 0.6482108061072143\\n      }\\n    },\\n    \"last_input_data\": {\\n      \"22\": {\\n        \"x0\": 0.6183926679198731,\\n        \"x1\": 0.6482108061072143\\n      }\\n    },\\n    \"output_data\": {\\n      \"1\": {\\n        \"result\": {\\n          \"LT\": 9.653540800734882,\\n          \"EFF\": 0.9839675915205546\\n        },\\n        \"exception\": null,\\n        \"traceback\": \"\",\\n        \"wall_time\": 8.519995026290417e-05,\\n        \"cpu_time\": 0.0,\\n        \"valid\": true,\\n        \"LT\": 9.653540800734882,\\n        \"EFF\": 0.9839675915205546\\n      },\\n      \"2\": {\\n        \"result\": {\\n          \"LT\": 9.61674934199741,\\n          \"EFF\": 1.0247764535341277\\n        },\\n        \"exception\": null,\\n        \"traceback\": \"\",\\n        \"wall_time\": 5.840003723278642e-05,\\n        \"cpu_time\": 0.0,\\n        \"valid\": true,\\n        \"LT\": 9.61674934199741,\\n        \"EFF\": 1.0247764535341277\\n      },\\n      \"3\": {\\n        \"result\": {\\n          \"LT\": 7.291737304449358,\\n          \"EFF\": 0.9779832263298084\\n        },\\n        \"exception\": null,\\n        \"traceback\": \"\",\\n        \"wall_time\": 5.490001058205962e-05,\\n        \"cpu_time\": 0.0,\\n        \"valid\": true,\\n        \"LT\": 7.291737304449358,\\n        \"EFF\": 0.9779832263298084\\n      },\\n      \"4\": {\\n        \"result\": {\\n          \"LT\": 9.39287964976853,\\n          \"EFF\": 0.852514367546405\\n        },\\n        \"exception\": null,\\n        \"traceback\": \"\",\\n        \"wall_time\": 6.410002242773771e-05,\\n        \"cpu_time\": 0.0,\\n        \"valid\": true,\\n        \"LT\": 9.39287964976853,\\n        \"EFF\": 0.852514367546405\\n      },\\n      \"5\": {\\n        \"result\": {\\n          \"LT\": 9.143448374727102,\\n          \"EFF\": 1.4617141262963242\\n        },\\n        \"exception\": null,\\n        \"traceback\": \"\",\\n        \"wall_time\": 5.129998316988349e-05,\\n        \"cpu_time\": 0.0,\\n        \"valid\": true,\\n        \"LT\": 9.143448374727102,\\n        \"EFF\": 1.4617141262963242\\n      },\\n      \"6\": {\\n        \"result\": {\\n          \"LT\": 7.666310643310819,\\n          \"EFF\": 1.6604352530859323\\n        },\\n        \"exception\": null,\\n        \"traceback\": \"\",\\n        \"wall_time\": 4.67000063508749e-05,\\n        \"cpu_time\": 0.0,\\n        \"valid\": true,\\n        \"LT\": 7.666310643310819,\\n        \"EFF\": 1.6604352530859323\\n      },\\n      \"7\": {\\n        \"result\": {\\n          \"LT\": 7.434022645073426,\\n          \"EFF\": 1.841282196832582\\n        },\\n        \"exception\": null,\\n        \"traceback\": \"\",\\n        \"wall_time\": 5.3499999921768904e-05,\\n        \"cpu_time\": 0.0,\\n        \"valid\": true,\\n        \"LT\": 7.434022645073426,\\n        \"EFF\": 1.841282196832582\\n      },\\n      \"8\": {\\n        \"result\": {\\n          \"LT\": 9.556188427924305,\\n          \"EFF\": 1.225717406216026\\n        },\\n        \"exception\": null,\\n        \"traceback\": \"\",\\n        \"wall_time\": 4.730001091957092e-05,\\n        \"cpu_time\": 0.0,\\n        \"valid\": true,\\n        \"LT\": 9.556188427924305,\\n        \"EFF\": 1.225717406216026\\n      },\\n      \"9\": {\\n        \"result\": {\\n          \"LT\": 8.177373668486533,\\n          \"EFF\": 1.598057452656559\\n        },\\n        \"exception\": null,\\n        \"traceback\": \"\",\\n        \"wall_time\": 6.320001557469368e-05,\\n        \"cpu_time\": 0.0,\\n        \"valid\": true,\\n        \"LT\": 8.177373668486533,\\n        \"EFF\": 1.598057452656559\\n      },\\n      \"10\": {\\n        \"result\": {\\n          \"LT\": 7.567651530527378,\\n          \"EFF\": 1.8444733814874477\\n        },\\n        \"exception\": null,\\n        \"traceback\": \"\",\\n        \"wall_time\": 4.7900015488266945e-05,\\n        \"cpu_time\": 0.0,\\n        \"valid\": true,\\n        \"LT\": 7.567651530527378,\\n        \"EFF\": 1.8444733814874477\\n      },\\n      \"11\": {\\n        \"result\": {\\n          \"LT\": 8.450249057597615,\\n          \"EFF\": 0.035115554240270894\\n        },\\n        \"exception\": null,\\n        \"traceback\": \"\",\\n        \"wall_time\": 4.930002614855766e-05,\\n        \"cpu_time\": 0.0,\\n        \"valid\": true,\\n        \"LT\": 8.450249057597615,\\n        \"EFF\": 0.035115554240270894\\n      },\\n      \"12\": {\\n        \"result\": {\\n          \"LT\": 6.282241353874804,\\n          \"EFF\": 1.9988586196171245\\n        },\\n        \"exception\": null,\\n        \"traceback\": \"\",\\n        \"wall_time\": 4.989997250959277e-05,\\n        \"cpu_time\": 0.0,\\n        \"valid\": true,\\n        \"LT\": 6.282241353874804,\\n        \"EFF\": 1.9988586196171245\\n      },\\n      \"13\": {\\n        \"result\": {\\n          \"LT\": 9.877177429000096,\\n          \"EFF\": 1.0472509726205947\\n        },\\n        \"exception\": null,\\n        \"traceback\": \"\",\\n        \"wall_time\": 5.619996227324009e-05,\\n        \"cpu_time\": 0.0,\\n        \"valid\": true,\\n        \"LT\": 9.877177429000096,\\n        \"EFF\": 1.0472509726205947\\n      },\\n      \"14\": {\\n        \"result\": {\\n          \"LT\": 9.150739940009228,\\n          \"EFF\": 1.3970772486815428\\n        },\\n        \"exception\": null,\\n        \"traceback\": \"\",\\n        \"wall_time\": 6.160000339150429e-05,\\n        \"cpu_time\": 0.0,\\n        \"valid\": true,\\n        \"LT\": 9.150739940009228,\\n        \"EFF\": 1.3970772486815428\\n      },\\n      \"15\": {\\n        \"result\": {\\n          \"LT\": 8.140666727964632,\\n          \"EFF\": 1.7149302258269423\\n        },\\n        \"exception\": null,\\n        \"traceback\": \"\",\\n        \"wall_time\": 4.339998122304678e-05,\\n        \"cpu_time\": 0.0,\\n        \"valid\": true,\\n        \"LT\": 8.140666727964632,\\n        \"EFF\": 1.7149302258269423\\n      },\\n      \"16\": {\\n        \"result\": {\\n          \"LT\": 9.97183437413398,\\n          \"EFF\": 0.7728177990592492\\n        },\\n        \"exception\": null,\\n        \"traceback\": \"\",\\n        \"wall_time\": 4.959997022524476e-05,\\n        \"cpu_time\": 0.0,\\n        \"valid\": true,\\n        \"LT\": 9.97183437413398,\\n        \"EFF\": 0.7728177990592492\\n      },\\n      \"17\": {\\n        \"result\": {\\n          \"LT\": 8.793446399627255,\\n          \"EFF\": 1.5447224210725103\\n        },\\n        \"exception\": null,\\n        \"traceback\": \"\",\\n        \"wall_time\": 4.299997817724943e-05,\\n        \"cpu_time\": 0.0,\\n        \"valid\": true,\\n        \"LT\": 8.793446399627255,\\n        \"EFF\": 1.5447224210725103\\n      },\\n      \"18\": {\\n        \"result\": {\\n          \"LT\": 7.078755809971742,\\n          \"EFF\": 1.8008496881111113\\n        },\\n        \"exception\": null,\\n        \"traceback\": \"\",\\n        \"wall_time\": 5.749997217208147e-05,\\n        \"cpu_time\": 0.0,\\n        \"valid\": true,\\n        \"LT\": 7.078755809971742,\\n        \"EFF\": 1.8008496881111113\\n      },\\n      \"19\": {\\n        \"result\": {\\n          \"LT\": 9.33091019286727,\\n          \"EFF\": 1.0707533396181337\\n        },\\n        \"exception\": null,\\n        \"traceback\": \"\",\\n        \"wall_time\": 4.910002462565899e-05,\\n        \"cpu_time\": 0.0,\\n        \"valid\": true,\\n        \"LT\": 9.33091019286727,\\n        \"EFF\": 1.0707533396181337\\n      },\\n      \"20\": {\\n        \"result\": {\\n          \"LT\": 9.262244651151075,\\n          \"EFF\": 0.8766442120994341\\n        },\\n        \"exception\": null,\\n        \"traceback\": \"\",\\n        \"wall_time\": 5.9299985878169537e-05,\\n        \"cpu_time\": 0.0,\\n        \"valid\": true,\\n        \"LT\": 9.262244651151075,\\n        \"EFF\": 0.8766442120994341\\n      },\\n      \"21\": {\\n        \"result\": {\\n          \"LT\": 7.998341898640556,\\n          \"EFF\": 1.58077084550508\\n        },\\n        \"exception\": null,\\n        \"traceback\": \"\",\\n        \"wall_time\": 4.840001929551363e-05,\\n        \"cpu_time\": 0.0,\\n        \"valid\": true,\\n        \"LT\": 7.998341898640556,\\n        \"EFF\": 1.58077084550508\\n      },\\n      \"22\": {\\n        \"result\": {\\n          \"LT\": 9.133965249121493,\\n          \"EFF\": 1.3200719061994535\\n        },\\n        \"exception\": null,\\n        \"traceback\": \"\",\\n        \"wall_time\": 4.8399961087852716e-05,\\n        \"cpu_time\": 0.0,\\n        \"valid\": true,\\n        \"LT\": 9.133965249121493,\\n        \"EFF\": 1.3200719061994535\\n      }\\n    },\\n    \"last_output_data\": {\\n      \"22\": {\\n        \"result\": {\\n          \"LT\": 9.133965249121493,\\n          \"EFF\": 1.3200719061994535\\n        },\\n        \"exception\": null,\\n        \"traceback\": \"\",\\n        \"wall_time\": 4.8399961087852716e-05,\\n        \"cpu_time\": 0.0,\\n        \"valid\": true,\\n        \"LT\": 9.133965249121493,\\n        \"EFF\": 1.3200719061994535\\n      }\\n    },\\n    \"metadata\": {\\n      \"1\": 5,\\n      \"2\": 5,\\n      \"3\": 5,\\n      \"4\": 5,\\n      \"5\": 5,\\n      \"6\": 5,\\n      \"7\": 5,\\n      \"8\": 5,\\n      \"9\": 5,\\n      \"10\": 5,\\n      \"11\": 5,\\n      \"12\": 5,\\n      \"13\": 5,\\n      \"14\": 5,\\n      \"15\": 5,\\n      \"16\": 5,\\n      \"17\": 5,\\n      \"18\": 5,\\n      \"19\": 5,\\n      \"20\": 5,\\n      \"21\": 5,\\n      \"22\": 5\\n    }\\n  }\\n}'"
      ]
     },
     "execution_count": 10,
     "metadata": {},
     "output_type": "execute_result"
    }
   ],
   "source": [
    "opt.state_to_json()"
   ]
  },
  {
   "cell_type": "code",
   "execution_count": 11,
   "metadata": {},
   "outputs": [
    {
     "data": {
      "text/html": [
       "<div>\n",
       "<style scoped>\n",
       "    .dataframe tbody tr th:only-of-type {\n",
       "        vertical-align: middle;\n",
       "    }\n",
       "\n",
       "    .dataframe tbody tr th {\n",
       "        vertical-align: top;\n",
       "    }\n",
       "\n",
       "    .dataframe thead th {\n",
       "        text-align: right;\n",
       "    }\n",
       "</style>\n",
       "<table border=\"1\" class=\"dataframe\">\n",
       "  <thead>\n",
       "    <tr style=\"text-align: right;\">\n",
       "      <th></th>\n",
       "      <th>x0</th>\n",
       "      <th>x1</th>\n",
       "      <th>result</th>\n",
       "      <th>exception</th>\n",
       "      <th>traceback</th>\n",
       "      <th>wall_time</th>\n",
       "      <th>cpu_time</th>\n",
       "      <th>valid</th>\n",
       "      <th>LT</th>\n",
       "      <th>EFF</th>\n",
       "    </tr>\n",
       "  </thead>\n",
       "  <tbody>\n",
       "    <tr>\n",
       "      <th>18</th>\n",
       "      <td>0.924652</td>\n",
       "      <td>1.000000</td>\n",
       "      <td>{'LT': 7.078755809971742, 'EFF': 1.80084968811...</td>\n",
       "      <td>None</td>\n",
       "      <td></td>\n",
       "      <td>0.000057</td>\n",
       "      <td>0.0</td>\n",
       "      <td>True</td>\n",
       "      <td>7.078756</td>\n",
       "      <td>1.800850</td>\n",
       "    </tr>\n",
       "    <tr>\n",
       "      <th>19</th>\n",
       "      <td>0.635777</td>\n",
       "      <td>0.493829</td>\n",
       "      <td>{'LT': 9.33091019286727, 'EFF': 1.070753339618...</td>\n",
       "      <td>None</td>\n",
       "      <td></td>\n",
       "      <td>0.000049</td>\n",
       "      <td>0.0</td>\n",
       "      <td>True</td>\n",
       "      <td>9.330910</td>\n",
       "      <td>1.070753</td>\n",
       "    </tr>\n",
       "    <tr>\n",
       "      <th>20</th>\n",
       "      <td>0.472601</td>\n",
       "      <td>0.385068</td>\n",
       "      <td>{'LT': 9.262244651151075, 'EFF': 0.87664421209...</td>\n",
       "      <td>None</td>\n",
       "      <td></td>\n",
       "      <td>0.000059</td>\n",
       "      <td>0.0</td>\n",
       "      <td>True</td>\n",
       "      <td>9.262245</td>\n",
       "      <td>0.876644</td>\n",
       "    </tr>\n",
       "    <tr>\n",
       "      <th>21</th>\n",
       "      <td>0.576367</td>\n",
       "      <td>1.000000</td>\n",
       "      <td>{'LT': 7.998341898640556, 'EFF': 1.58077084550...</td>\n",
       "      <td>None</td>\n",
       "      <td></td>\n",
       "      <td>0.000048</td>\n",
       "      <td>0.0</td>\n",
       "      <td>True</td>\n",
       "      <td>7.998342</td>\n",
       "      <td>1.580771</td>\n",
       "    </tr>\n",
       "    <tr>\n",
       "      <th>22</th>\n",
       "      <td>0.618393</td>\n",
       "      <td>0.648211</td>\n",
       "      <td>{'LT': 9.133965249121493, 'EFF': 1.32007190619...</td>\n",
       "      <td>None</td>\n",
       "      <td></td>\n",
       "      <td>0.000048</td>\n",
       "      <td>0.0</td>\n",
       "      <td>True</td>\n",
       "      <td>9.133965</td>\n",
       "      <td>1.320072</td>\n",
       "    </tr>\n",
       "  </tbody>\n",
       "</table>\n",
       "</div>"
      ],
      "text/plain": [
       "          x0        x1                                             result  \\\n",
       "18  0.924652  1.000000  {'LT': 7.078755809971742, 'EFF': 1.80084968811...   \n",
       "19  0.635777  0.493829  {'LT': 9.33091019286727, 'EFF': 1.070753339618...   \n",
       "20  0.472601  0.385068  {'LT': 9.262244651151075, 'EFF': 0.87664421209...   \n",
       "21  0.576367  1.000000  {'LT': 7.998341898640556, 'EFF': 1.58077084550...   \n",
       "22  0.618393  0.648211  {'LT': 9.133965249121493, 'EFF': 1.32007190619...   \n",
       "\n",
       "   exception traceback  wall_time  cpu_time  valid        LT       EFF  \n",
       "18      None             0.000057       0.0   True  7.078756  1.800850  \n",
       "19      None             0.000049       0.0   True  9.330910  1.070753  \n",
       "20      None             0.000059       0.0   True  9.262245  0.876644  \n",
       "21      None             0.000048       0.0   True  7.998342  1.580771  \n",
       "22      None             0.000048       0.0   True  9.133965  1.320072  "
      ]
     },
     "execution_count": 11,
     "metadata": {},
     "output_type": "execute_result"
    }
   ],
   "source": [
    "opt.data.tail()"
   ]
  },
  {
   "cell_type": "code",
   "execution_count": 12,
   "metadata": {},
   "outputs": [
    {
     "data": {
      "text/plain": [
       "Text(0, 0.5, 'Hypervolume')"
      ]
     },
     "execution_count": 12,
     "metadata": {},
     "output_type": "execute_result"
    },
    {
     "data": {
      "image/png": "[encoded data removed]",
      "text/plain": [
       "<Figure size 1400x600 with 3 Axes>"
      ]
     },
     "metadata": {},
     "output_type": "display_data"
    }
   ],
   "source": [
    "import matplotlib.pyplot as plt\n",
    "\n",
    "hvs = []\n",
    "for i in range(1,len(opt.data)):\n",
    "    hv = opt.generator.calculate_hypervolume_at(i)\n",
    "    hvs.append(hv)\n",
    "\n",
    "fig,ax = plt.subplots(1,2,squeeze=False,figsize=(14,6))\n",
    "df = opt.data\n",
    "ol = ['EFF', 'LT']\n",
    "l = ax[0,0].scatter(df.loc[:,ol[0]], df.loc[:,ol[1]],10,marker='o',c=range(len(df)),vmax=len(df))\n",
    "ax[0,0].scatter(df.loc[:1,ol[0]], df.loc[:1,ol[1]], 20,marker='o',c='red',label='initial point')\n",
    "ax[0,0].scatter(gen.reference_point[ol[0]], gen.reference_point[ol[1]],40,marker='*',c='black',label='reference point')\n",
    "ax[0,0].set_xlabel(ol[0])\n",
    "ax[0,0].set_ylabel(ol[1])\n",
    "fig.colorbar(l)\n",
    "ax[0,0].legend()\n",
    "\n",
    "ax[0,1].plot(hvs,marker='o')\n",
    "ax[0,1].set_xlabel('Step #')\n",
    "ax[0,1].set_ylabel('Hypervolume')"
   ]
  }
 ],
 "metadata": {
  "kernelspec": {
   "display_name": "py311ml",
   "language": "python",
   "name": "python3"
  },
  "language_info": {
   "codemirror_mode": {
    "name": "ipython",
    "version": 3
   },
   "file_extension": ".py",
   "mimetype": "text/x-python",
   "name": "python",
   "nbconvert_exporter": "python",
   "pygments_lexer": "ipython3",
   "version": "3.11.6"
  }
 },
 "nbformat": 4,
 "nbformat_minor": 2
}
