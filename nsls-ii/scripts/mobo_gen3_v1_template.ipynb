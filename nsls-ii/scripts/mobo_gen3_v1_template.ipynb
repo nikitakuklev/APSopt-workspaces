{
 "cells": [
  {
   "cell_type": "code",
   "execution_count": 1,
   "metadata": {},
   "outputs": [],
   "source": [
    "import sys\n",
    "import logging\n",
    "import json\n",
    "import numpy as np\n",
    "import pandas as pd\n",
    "from datetime import datetime\n",
    "import time\n",
    "\n",
    "from apsopt.core.optimizer import Optimizer, get_generator_class\n",
    "from apsopt.core.evaluators import FunctionEvaluator\n",
    "from apsopt.util.pydantic.options import AlgorithmOptions\n",
    "from apsopt.util.pydantic.vocs import GVOCS\n",
    "import sext_tools as st\n",
    "from gen3_shared import prepare, get_eval_f, compute_family_k2l_from_knob_k2l, get_raw_eval_f\n",
    "\n",
    "logger = logging.getLogger(__name__)"
   ]
  },
  {
   "cell_type": "markdown",
   "metadata": {},
   "source": [
    "### SETUP"
   ]
  },
  {
   "cell_type": "code",
   "execution_count": 3,
   "metadata": {},
   "outputs": [
    {
     "data": {
      "text/html": [
       "<div>\n",
       "<style scoped>\n",
       "    .dataframe tbody tr th:only-of-type {\n",
       "        vertical-align: middle;\n",
       "    }\n",
       "\n",
       "    .dataframe tbody tr th {\n",
       "        vertical-align: top;\n",
       "    }\n",
       "\n",
       "    .dataframe thead th {\n",
       "        text-align: right;\n",
       "    }\n",
       "</style>\n",
       "<table border=\"1\" class=\"dataframe\">\n",
       "  <thead>\n",
       "    <tr style=\"text-align: right;\">\n",
       "      <th></th>\n",
       "      <th>SH1N</th>\n",
       "      <th>SH3N</th>\n",
       "      <th>SH4N</th>\n",
       "      <th>SL1</th>\n",
       "      <th>SL2</th>\n",
       "      <th>SL3</th>\n",
       "      <th>SH1-DW08</th>\n",
       "      <th>SH1-DW18</th>\n",
       "      <th>SH1-DW28</th>\n",
       "      <th>SH3-DW08</th>\n",
       "      <th>SH3-DW18</th>\n",
       "      <th>SH3-DW28</th>\n",
       "      <th>SH4-DW08</th>\n",
       "      <th>SH4-DW18</th>\n",
       "      <th>SH4-DW28</th>\n",
       "    </tr>\n",
       "  </thead>\n",
       "  <tbody>\n",
       "    <tr>\n",
       "      <th>0</th>\n",
       "      <td>3.966582</td>\n",
       "      <td>-1.171022</td>\n",
       "      <td>-3.16418</td>\n",
       "      <td>-2.654321</td>\n",
       "      <td>7.135584</td>\n",
       "      <td>-5.892172</td>\n",
       "      <td>3.966582</td>\n",
       "      <td>3.966582</td>\n",
       "      <td>3.966582</td>\n",
       "      <td>-1.171022</td>\n",
       "      <td>-1.171022</td>\n",
       "      <td>-1.171022</td>\n",
       "      <td>-3.16418</td>\n",
       "      <td>-3.16418</td>\n",
       "      <td>-3.16418</td>\n",
       "    </tr>\n",
       "  </tbody>\n",
       "</table>\n",
       "</div>"
      ],
      "text/plain": [
       "       SH1N      SH3N     SH4N       SL1       SL2       SL3  SH1-DW08  \\\n",
       "0  3.966582 -1.171022 -3.16418 -2.654321  7.135584 -5.892172  3.966582   \n",
       "\n",
       "   SH1-DW18  SH1-DW28  SH3-DW08  SH3-DW18  SH3-DW28  SH4-DW08  SH4-DW18  \\\n",
       "0  3.966582  3.966582 -1.171022 -1.171022 -1.171022  -3.16418  -3.16418   \n",
       "\n",
       "   SH4-DW28  \n",
       "0  -3.16418  "
      ]
     },
     "metadata": {},
     "output_type": "display_data"
    },
    {
     "data": {
      "text/html": [
       "<div>\n",
       "<style scoped>\n",
       "    .dataframe tbody tr th:only-of-type {\n",
       "        vertical-align: middle;\n",
       "    }\n",
       "\n",
       "    .dataframe tbody tr th {\n",
       "        vertical-align: top;\n",
       "    }\n",
       "\n",
       "    .dataframe thead th {\n",
       "        text-align: right;\n",
       "    }\n",
       "</style>\n",
       "<table border=\"1\" class=\"dataframe\">\n",
       "  <thead>\n",
       "    <tr style=\"text-align: right;\">\n",
       "      <th></th>\n",
       "      <th>SH1N</th>\n",
       "      <th>SH3N</th>\n",
       "      <th>SH4N</th>\n",
       "      <th>SL1</th>\n",
       "      <th>SL2</th>\n",
       "      <th>SL3</th>\n",
       "      <th>SH1-DW08</th>\n",
       "      <th>SH1-DW18</th>\n",
       "      <th>SH1-DW28</th>\n",
       "      <th>SH3-DW08</th>\n",
       "      <th>SH3-DW18</th>\n",
       "      <th>SH3-DW28</th>\n",
       "      <th>SH4-DW08</th>\n",
       "      <th>SH4-DW18</th>\n",
       "      <th>SH4-DW28</th>\n",
       "    </tr>\n",
       "  </thead>\n",
       "  <tbody>\n",
       "    <tr>\n",
       "      <th>0</th>\n",
       "      <td>-0.594987</td>\n",
       "      <td>-0.175653</td>\n",
       "      <td>-0.474627</td>\n",
       "      <td>-0.398148</td>\n",
       "      <td>-1.070338</td>\n",
       "      <td>-0.883826</td>\n",
       "      <td>-0.594987</td>\n",
       "      <td>-0.594987</td>\n",
       "      <td>-0.594987</td>\n",
       "      <td>-0.175653</td>\n",
       "      <td>-0.175653</td>\n",
       "      <td>-0.175653</td>\n",
       "      <td>-0.474627</td>\n",
       "      <td>-0.474627</td>\n",
       "      <td>-0.474627</td>\n",
       "    </tr>\n",
       "    <tr>\n",
       "      <th>1</th>\n",
       "      <td>0.594987</td>\n",
       "      <td>0.175653</td>\n",
       "      <td>0.474627</td>\n",
       "      <td>0.398148</td>\n",
       "      <td>1.070338</td>\n",
       "      <td>0.883826</td>\n",
       "      <td>0.594987</td>\n",
       "      <td>0.594987</td>\n",
       "      <td>0.594987</td>\n",
       "      <td>0.175653</td>\n",
       "      <td>0.175653</td>\n",
       "      <td>0.175653</td>\n",
       "      <td>0.474627</td>\n",
       "      <td>0.474627</td>\n",
       "      <td>0.474627</td>\n",
       "    </tr>\n",
       "  </tbody>\n",
       "</table>\n",
       "</div>"
      ],
      "text/plain": [
       "       SH1N      SH3N      SH4N       SL1       SL2       SL3  SH1-DW08  \\\n",
       "0 -0.594987 -0.175653 -0.474627 -0.398148 -1.070338 -0.883826 -0.594987   \n",
       "1  0.594987  0.175653  0.474627  0.398148  1.070338  0.883826  0.594987   \n",
       "\n",
       "   SH1-DW18  SH1-DW28  SH3-DW08  SH3-DW18  SH3-DW28  SH4-DW08  SH4-DW18  \\\n",
       "0 -0.594987 -0.594987 -0.175653 -0.175653 -0.175653 -0.474627 -0.474627   \n",
       "1  0.594987  0.594987  0.175653  0.175653  0.175653  0.474627  0.474627   \n",
       "\n",
       "   SH4-DW28  \n",
       "0 -0.474627  \n",
       "1  0.474627  "
      ]
     },
     "metadata": {},
     "output_type": "display_data"
    }
   ],
   "source": [
    "MODE = 'DW_SH1N_SH3N_SH4N_SL1_SL2_SL3_SH1DW081828_SH3DW081828_SH4DW081828'\n",
    "NAME_ROOT = f'mobo_{MODE}_v1'\n",
    "\n",
    "from apsopt.util.log import prepare_loggers\n",
    "prepare_loggers()\n",
    "fh = logging.FileHandler(f'logs/{NAME_ROOT}_{datetime.now():%Y%m%dT%H%M%S}.optlog', mode='w')\n",
    "fh.setLevel(logging.NOTSET)\n",
    "logging.getLogger().addHandler(fh)\n",
    "\n",
    "dfknobs, ivals_ref, ivals, gvocs, iknobvals = prepare(MODE)\n",
    "variables = gvocs.variables\n",
    "\n",
    "reference_point = {'LT': 3.0, # hours\n",
    "                   'EFF': 10.0 # % injected\n",
    "                   }\n",
    "\n",
    "display(pd.DataFrame(ivals_ref,index=[0]))\n",
    "display(pd.DataFrame(variables))"
   ]
  },
  {
   "cell_type": "code",
   "execution_count": 4,
   "metadata": {},
   "outputs": [],
   "source": [
    "TEST_MODE = True\n",
    "#@TEST_MODE = False"
   ]
  },
  {
   "cell_type": "code",
   "execution_count": 5,
   "metadata": {},
   "outputs": [
    {
     "name": "stdout",
     "output_type": "stream",
     "text": [
      "SH1N   : +3.967 + -0.595 -> +3.372\n",
      "SH3N   : -1.171 + -0.176 -> -1.347\n",
      "SH4N   : -3.164 + -0.475 -> -3.639\n",
      "SL1    : -2.654 + -0.398 -> -3.052\n",
      "SL2    : +7.136 + -1.070 -> +6.065\n",
      "SL3    : -5.892 + -0.884 -> -6.776\n",
      "SH1-DW08: +3.967 + -0.595 -> +3.372\n",
      "SH1-DW18: +3.967 + -0.595 -> +3.372\n",
      "SH1-DW28: +3.967 + -0.595 -> +3.372\n",
      "SH3-DW08: -1.171 + -0.176 -> -1.347\n",
      "SH3-DW18: -1.171 + -0.176 -> -1.347\n",
      "SH3-DW28: -1.171 + -0.176 -> -1.347\n",
      "SH4-DW08: -3.164 + -0.475 -> -3.639\n",
      "SH4-DW18: -3.164 + -0.475 -> -3.639\n",
      "SH4-DW28: -3.164 + -0.475 -> -3.639\n"
     ]
    },
    {
     "data": {
      "text/plain": [
       "{'SH1N': 3.3715950570000004,\n",
       " 'SH3N': -1.3466749343,\n",
       " 'SH4N': -3.6388071633,\n",
       " 'SL1': -3.0524693915000003,\n",
       " 'SL2': 6.0652466465,\n",
       " 'SL3': -6.775997940300001,\n",
       " 'SH1-DW08': 3.3715950570000004,\n",
       " 'SH1-DW18': 3.3715950570000004,\n",
       " 'SH1-DW28': 3.3715950570000004,\n",
       " 'SH3-DW08': -1.3466749343,\n",
       " 'SH3-DW18': -1.3466749343,\n",
       " 'SH3-DW28': -1.3466749343,\n",
       " 'SH4-DW08': -3.6388071633,\n",
       " 'SH4-DW18': -3.6388071633,\n",
       " 'SH4-DW28': -3.6388071633}"
      ]
     },
     "execution_count": 5,
     "metadata": {},
     "output_type": "execute_result"
    }
   ],
   "source": [
    "inputs_dict = compute_family_k2l_from_knob_k2l(\n",
    "    dfknobs, {k:variables[k][0] for k in variables.keys()}, ivals, True)\n",
    "inputs_dict"
   ]
  },
  {
   "cell_type": "markdown",
   "metadata": {},
   "source": [
    "### Test eval function"
   ]
  },
  {
   "cell_type": "code",
   "execution_count": 6,
   "metadata": {},
   "outputs": [],
   "source": [
    "# Test\n",
    "if True and not TEST_MODE:\n",
    "    raw_eval_f = get_raw_eval_f()\n",
    "    raw_eval_f(inputs_dict, meas_bxb_tunes=True, meas_lifetime=True, meas_inj_eff=True)"
   ]
  },
  {
   "cell_type": "code",
   "execution_count": 7,
   "metadata": {},
   "outputs": [
    {
     "name": "stderr",
     "output_type": "stream",
     "text": [
      "[INFO ][18:59:41.516 generator.   16] Initializing generator aps_mobo\n",
      "[INFO ][18:59:41.517 generator.   64] Initialized generator aps_mobo\n"
     ]
    }
   ],
   "source": [
    "eval_f = get_eval_f(TEST_MODE, gvocs, dfknobs, ivals)\n",
    "ev = FunctionEvaluator(script=eval_f)\n",
    "\n",
    "generator_name = 'aps_mobo'\n",
    "gc = get_generator_class(generator_name)\n",
    "gen = gc(gvocs=gvocs)\n",
    "gen.numerical_optimizer.n_raw_samples = 128 #512\n",
    "gen.numerical_optimizer.n_restarts = 20\n",
    "gen.gp_constructor.use_low_noise_prior = False\n",
    "gen.gp_constructor.use_high_noise_prior = False\n",
    "gen.max_travel_distances = [1.0] * len(gvocs.variables_active)\n",
    "gen.reference_point = reference_point"
   ]
  },
  {
   "cell_type": "code",
   "execution_count": 8,
   "metadata": {},
   "outputs": [
    {
     "name": "stderr",
     "output_type": "stream",
     "text": [
      "[DEBUG][18:59:42.182 optimizer.   83] Initializing optimizer with tag='0de00a4155' store_history=True dump_every_step=True history_directory=None execution_mode='sync'\n",
      "[DEBUG][18:59:42.183 optimizer.  138] Generator set to: supports_batch_generation=True supports_multi_objective=True vocs=VOCS(variables={'SH1N': [-0.594987363, 0.594987363], 'SH3N': [-0.17565325229999998, 0.17565325229999998], 'SH4N': [-0.4746270213, 0.4746270213], 'SL1': [-0.39814818150000003, 0.39814818150000003], 'SL2': [-1.0703376435, 1.0703376435], 'SL3': [-0.8838258183000001, 0.8838258183000001], 'SH1-DW08': [-0.594987363, 0.594987363], 'SH1-DW18': [-0.594987363, 0.594987363], 'SH1-DW28': [-0.594987363, 0.594987363], 'SH3-DW08': [-0.17565325229999998, 0.17565325229999998], 'SH3-DW18': [-0.17565325229999998, 0.17565325229999998], 'SH3-DW28': [-0.17565325229999998, 0.17565325229999998], 'SH4-DW08': [-0.4746270213, 0.4746270213], 'SH4-DW18': [-0.4746270213, 0.4746270213], 'SH4-DW28': [-0.4746270213, 0.4746270213]}, constraints={}, objectives={'LT': 'MAXIMIZE', 'EFF': 'MAXIMIZE'}, constants={}, observables=[]) data=None model=None n_monte_carlo_samples=128 turbo_controller=None use_cuda=False gp_constructor=MOBOModelConstructor(name='mobo_model', use_low_noise_prior=False, covar_modules={}, mean_modules={}, trainable_mean_keys=[], use_high_noise_prior=False) numerical_optimizer=APSLBFGSOptimizer(name='APSLBFGS', n_raw_samples=128, n_restarts=20, max_iter=2000, sequential=True) max_travel_distances=[1.0, 1.0, 1.0, 1.0, 1.0, 1.0, 1.0, 1.0, 1.0, 1.0, 1.0, 1.0, 1.0, 1.0, 1.0] fixed_features=None computation_time=None log_transform_acquisition_function=False n_interpolate_points=None n_candidates=1 reference_point={'LT': 3.0, 'EFF': 10.0} prune_inferior_points_kwargs=None\n",
      "[DEBUG][18:59:42.184 optimizer.  105] Evaluator: on_error='ignore' max_workers=1 script=<function make_dummy_eval.<locals>.master_eval_function_dummy at 0x000001222E89E980> post_script=None script_kwargs={} executor=None eval_cnt=0 TRACE=True\n",
      "[INFO ][18:59:42.184 optimizer. 1236] APSopt home directory resolved as C:\\Users\\boss\\.apsopt\n",
      "[INFO ][18:59:42.185 optimizer. 1242] APSopt directory C:\\Users\\boss\\.apsopt exists\n",
      "[INFO ][18:59:42.186 optimizer. 1249] Creating run subfolder C:\\Users\\boss\\.apsopt\\2023_12_16-18_59_42-aps_mobo-0de00a4155-449c3198\n",
      "[INFO ][18:59:42.193 optimizer. 1267] Writing Metadata {'run_id': 'aps_mobo-0de00a4155-449c3198', 'start_ts': 1702774782.1874754, 'hostname': 'SERVY.nuclearrussian.com', 'user': 'boss', 'effective_user': 'boss'} to C:\\Users\\boss\\.apsopt\\2023_12_16-18_59_42-aps_mobo-0de00a4155-449c3198\\apsopt_metadata.json\n"
     ]
    }
   ],
   "source": [
    "options = AlgorithmOptions(store_history=True, dump_every_step=True)\n",
    "opt = Optimizer(options=options, generator=gen, evaluator=ev, gvocs=gvocs)"
   ]
  },
  {
   "cell_type": "markdown",
   "metadata": {},
   "source": [
    "### Sample at initial values"
   ]
  },
  {
   "cell_type": "code",
   "execution_count": 9,
   "metadata": {},
   "outputs": [
    {
     "name": "stderr",
     "output_type": "stream",
     "text": [
      "[INFO ][18:59:43.671 optimizer.  573] Evaluating 1 inputs\n",
      "[DEBUG][18:59:43.673 evaluators  193] Data kwargs: row={'SH1N': 0.0, 'SH3N': 0.0, 'SH4N': 0.0, 'SL1': 0.0, 'SL2': 0.0, 'SL3': 0.0, 'SH1-DW08': 0.0, 'SH1-DW18': 0.0, 'SH1-DW28': 0.0, 'SH3-DW08': 0.0, 'SH3-DW18': 0.0, 'SH3-DW28': 0.0, 'SH4-DW08': 0.0, 'SH4-DW18': 0.0, 'SH4-DW28': 0.0}\n",
      "[DEBUG][18:59:43.674 evaluators  211] Result: output={'result': {'LT': 3.3969010675734883, 'EFF': -0.020352954273539215, '_nux': -1.0382997912282832, '_nuy': 2.037740888877974, '_eps_x_bxbOn': -0.7978345993770948, '_eps_y_bxbOn': -1.2882240120539536}, 'exception': None, 'traceback': '', 'wall_time': 0.0001338999718427658, 'cpu_time': 0.0}\n",
      "[DEBUG][18:59:43.676 optimizer.  291] Adding (1) new data to internal dataframes\n",
      "[DEBUG][18:59:43.685 optimizer. 1286] Dumped state to [C:\\Users\\boss\\.apsopt\\2023_12_16-18_59_42-aps_mobo-0de00a4155-449c3198\\dump_auto_00000.json] in [0.00613]s\n"
     ]
    }
   ],
   "source": [
    "opt.generate_at(iknobvals)\n",
    "opt.evaluate_data()"
   ]
  },
  {
   "cell_type": "code",
   "execution_count": 10,
   "metadata": {},
   "outputs": [
    {
     "data": {
      "text/html": [
       "<div>\n",
       "<style scoped>\n",
       "    .dataframe tbody tr th:only-of-type {\n",
       "        vertical-align: middle;\n",
       "    }\n",
       "\n",
       "    .dataframe tbody tr th {\n",
       "        vertical-align: top;\n",
       "    }\n",
       "\n",
       "    .dataframe thead th {\n",
       "        text-align: right;\n",
       "    }\n",
       "</style>\n",
       "<table border=\"1\" class=\"dataframe\">\n",
       "  <thead>\n",
       "    <tr style=\"text-align: right;\">\n",
       "      <th></th>\n",
       "      <th>SH1N</th>\n",
       "      <th>SH3N</th>\n",
       "      <th>SH4N</th>\n",
       "      <th>SL1</th>\n",
       "      <th>SL2</th>\n",
       "      <th>SL3</th>\n",
       "      <th>SH1-DW08</th>\n",
       "      <th>SH1-DW18</th>\n",
       "      <th>SH1-DW28</th>\n",
       "      <th>SH3-DW08</th>\n",
       "      <th>...</th>\n",
       "      <th>traceback</th>\n",
       "      <th>wall_time</th>\n",
       "      <th>cpu_time</th>\n",
       "      <th>valid</th>\n",
       "      <th>LT</th>\n",
       "      <th>EFF</th>\n",
       "      <th>_nux</th>\n",
       "      <th>_nuy</th>\n",
       "      <th>_eps_x_bxbOn</th>\n",
       "      <th>_eps_y_bxbOn</th>\n",
       "    </tr>\n",
       "  </thead>\n",
       "  <tbody>\n",
       "    <tr>\n",
       "      <th>1</th>\n",
       "      <td>0.0</td>\n",
       "      <td>0.0</td>\n",
       "      <td>0.0</td>\n",
       "      <td>0.0</td>\n",
       "      <td>0.0</td>\n",
       "      <td>0.0</td>\n",
       "      <td>0.0</td>\n",
       "      <td>0.0</td>\n",
       "      <td>0.0</td>\n",
       "      <td>0.0</td>\n",
       "      <td>...</td>\n",
       "      <td></td>\n",
       "      <td>0.000134</td>\n",
       "      <td>0.0</td>\n",
       "      <td>True</td>\n",
       "      <td>3.396901</td>\n",
       "      <td>-0.020353</td>\n",
       "      <td>-1.0383</td>\n",
       "      <td>2.037741</td>\n",
       "      <td>-0.797835</td>\n",
       "      <td>-1.288224</td>\n",
       "    </tr>\n",
       "  </tbody>\n",
       "</table>\n",
       "<p>1 rows × 27 columns</p>\n",
       "</div>"
      ],
      "text/plain": [
       "   SH1N  SH3N  SH4N  SL1  SL2  SL3  SH1-DW08  SH1-DW18  SH1-DW28  SH3-DW08  \\\n",
       "1   0.0   0.0   0.0  0.0  0.0  0.0       0.0       0.0       0.0       0.0   \n",
       "\n",
       "   ...  traceback  wall_time  cpu_time  valid        LT       EFF    _nux  \\\n",
       "1  ...              0.000134       0.0   True  3.396901 -0.020353 -1.0383   \n",
       "\n",
       "       _nuy  _eps_x_bxbOn  _eps_y_bxbOn  \n",
       "1  2.037741     -0.797835     -1.288224  \n",
       "\n",
       "[1 rows x 27 columns]"
      ]
     },
     "execution_count": 10,
     "metadata": {},
     "output_type": "execute_result"
    }
   ],
   "source": [
    "assert opt.data.iloc[0].valid, f'ERROR: {opt.data.iloc[0].traceback}'\n",
    "opt.data"
   ]
  },
  {
   "cell_type": "markdown",
   "metadata": {},
   "source": [
    "### Sample close to initial point"
   ]
  },
  {
   "cell_type": "code",
   "execution_count": null,
   "metadata": {},
   "outputs": [],
   "source": [
    "mt = {k: 0.05 for k in variables.keys()}\n",
    "opt.generate_random_around_point(n=7, point=iknobvals, spans=mt, use_normalized_distances=True)\n",
    "opt.evaluate_data()"
   ]
  },
  {
   "cell_type": "code",
   "execution_count": null,
   "metadata": {},
   "outputs": [],
   "source": [
    "opt.data"
   ]
  },
  {
   "cell_type": "markdown",
   "metadata": {},
   "source": [
    "### Run optimizer"
   ]
  },
  {
   "cell_type": "code",
   "execution_count": null,
   "metadata": {},
   "outputs": [],
   "source": [
    "opt.step()"
   ]
  },
  {
   "cell_type": "code",
   "execution_count": null,
   "metadata": {},
   "outputs": [],
   "source": [
    "for i in range(20):\n",
    "    print(f'\\n** Step #{i+1} at {datetime.now():%Y-%m-%d %H:%M:%S}**\\n')\n",
    "    opt.step()"
   ]
  },
  {
   "cell_type": "code",
   "execution_count": null,
   "metadata": {},
   "outputs": [],
   "source": [
    "opt.data.tail()"
   ]
  },
  {
   "cell_type": "markdown",
   "metadata": {},
   "source": [
    "### Plot"
   ]
  },
  {
   "cell_type": "code",
   "execution_count": null,
   "metadata": {},
   "outputs": [],
   "source": [
    "import matplotlib.pyplot as plt\n",
    "\n",
    "hvs = []\n",
    "for i in range(1,len(opt.data)):\n",
    "    hv = opt.generator.calculate_hypervolume_at(i=i)\n",
    "    hvs.append(hv)\n",
    "\n",
    "fig,ax = plt.subplots(1,2,squeeze=False,figsize=(12,6))\n",
    "df = opt.data\n",
    "ol = ['EFF', 'LT']\n",
    "l = ax[0,0].scatter(df.loc[:,ol[0]], df.loc[:,ol[1]],10,marker='o',c=range(len(df)),vmax=len(df))\n",
    "ax[0,0].scatter(df.loc[:1,ol[0]], df.loc[:1,ol[1]], 20,marker='o',c='red',label='initial point')\n",
    "ax[0,0].scatter(gen.reference_point[ol[0]], gen.reference_point[ol[1]],40,marker='*',c='black',label='reference point')\n",
    "ax[0,0].set_xlabel(ol[0])\n",
    "ax[0,0].set_ylabel(ol[1])\n",
    "fig.colorbar(l)\n",
    "ax[0,0].legend()\n",
    "\n",
    "ax[0,1].plot(hvs,marker='o')\n",
    "ax[0,1].set_xlabel('Step #')\n",
    "ax[0,1].set_ylabel('Hypervolume')"
   ]
  },
  {
   "cell_type": "code",
   "execution_count": null,
   "metadata": {},
   "outputs": [],
   "source": [
    "fig,ax = plt.subplots(1,2,squeeze=False,figsize=(8,6))\n",
    "df = opt.data\n",
    "\n",
    "ax[0,0].plot(df.loc[:,'_nux'], marker='o', label='nux')\n",
    "ax[0,0].plot(df.loc[:,'_nuy'], marker='o', label='nuy')\n",
    "ax[0,1].plot(df.loc[:,'_eps_x_bxbOn'], marker='o', label='eps_x_bxbOn', color='red')\n",
    "ax[0,1].plot(df.loc[:,'_eps_y_bxbOn']*1e2, marker='o', label='eps_y_bxbOn', color='green')\n",
    "ax[0,0].set_xlabel('Step #')\n",
    "ax[0,0].set_ylabel('Tune')\n",
    "ax[0,0].legend()\n",
    "ax[0,1].legend()"
   ]
  },
  {
   "cell_type": "code",
   "execution_count": null,
   "metadata": {},
   "outputs": [],
   "source": [
    "# This will save optimizer state\n",
    "if not TEST_MODE:\n",
    "    opt.state_to_json(f'{datetime.now():%Y%m%dT%H%M%S}_{NAME_ROOT}_dump.json')"
   ]
  },
  {
   "cell_type": "code",
   "execution_count": null,
   "metadata": {},
   "outputs": [],
   "source": [
    "# Nominal (i.e., design) sextupole settings:\n",
    "opt.generate_at({k:0.0 for k in variables.keys()})\n",
    "opt.evaluate_data()"
   ]
  },
  {
   "cell_type": "code",
   "execution_count": null,
   "metadata": {},
   "outputs": [],
   "source": [
    "with pd.option_context('display.max_rows', 500):\n",
    "    display(opt.data)"
   ]
  },
  {
   "cell_type": "code",
   "execution_count": null,
   "metadata": {},
   "outputs": [],
   "source": [
    "opt.generator.model.state_dict()"
   ]
  },
  {
   "cell_type": "code",
   "execution_count": null,
   "metadata": {},
   "outputs": [],
   "source": []
  }
 ],
 "metadata": {
  "kernelspec": {
   "display_name": "py311ml",
   "language": "python",
   "name": "python3"
  },
  "language_info": {
   "codemirror_mode": {
    "name": "ipython",
    "version": 3
   },
   "file_extension": ".py",
   "mimetype": "text/x-python",
   "name": "python",
   "nbconvert_exporter": "python",
   "pygments_lexer": "ipython3",
   "version": "3.11.6"
  }
 },
 "nbformat": 4,
 "nbformat_minor": 2
}
