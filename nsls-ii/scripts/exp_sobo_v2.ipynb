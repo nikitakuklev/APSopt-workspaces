{
 "cells": [
  {
   "cell_type": "code",
   "execution_count": null,
   "metadata": {},
   "outputs": [],
   "source": [
    "import logging, json\n",
    "import numpy as np\n",
    "import pandas as pd\n",
    "import time\n",
    "\n",
    "from apsopt.core.optimizer import Optimizer, get_generator_class\n",
    "from apsopt.core.evaluators import FunctionEvaluator\n",
    "from apsopt.util.pydantic.options import AlgorithmOptions\n",
    "from apsopt.util.pydantic.vocs import GVOCS\n",
    "\n",
    "from opt_funcs_nsls import make_dummy_eval, make_dummy_eval_lifetime\n",
    "\n",
    "logger = logging.getLogger(__name__)"
   ]
  },
  {
   "cell_type": "code",
   "execution_count": null,
   "metadata": {},
   "outputs": [],
   "source": [
    "MODE = '6and3'\n",
    "with open(f'lattice/data_{MODE}.json', 'r') as f:\n",
    "    data_dict = json.load(f)\n",
    "groups = data_dict['groups']\n",
    "groups_direct = data_dict['groups_direct']\n",
    "all_groups = {**groups, **groups_direct}\n",
    "indices = data_dict['indices']\n",
    "null_knobs = data_dict['null_knobs']\n",
    "dfknobs = pd.read_json(f'lattice/dfknobs_{MODE}.json')"
   ]
  },
  {
   "cell_type": "code",
   "execution_count": null,
   "metadata": {},
   "outputs": [],
   "source": [
    "# impact of K2L difference\n",
    "dfknobs.loc['SM2B',:] *= 0.25/0.2"
   ]
  },
  {
   "cell_type": "code",
   "execution_count": null,
   "metadata": {},
   "outputs": [],
   "source": [
    "dfknobs"
   ]
  },
  {
   "cell_type": "markdown",
   "metadata": {},
   "source": [
    "This notebook uses:\n",
    "- Absolute K2L offsets per knob as variables\n",
    "- Absolute K2L values per family as inputs to the evaluation function\n",
    "- Lifetime as the objective"
   ]
  },
  {
   "cell_type": "markdown",
   "metadata": {},
   "source": [
    "SETUP SINGLE-OBJECTIVE RUN (i.e. only lifetime)"
   ]
  },
  {
   "cell_type": "code",
   "execution_count": null,
   "metadata": {},
   "outputs": [],
   "source": [
    "# DO NOT CHANGE - USED TO CALCULATE ABSOLUTE K2L\n",
    "initial_values_ref = {\n",
    "    'SM1A': -23.68063424*0.2,\n",
    "    'SM2B': 28.64315469*0.25,\n",
    "    'SM1B': -25.94603546*0.2,\n",
    "    'SL3': -29.46086061*0.2,\n",
    "    'SL2': 35.67792145*0.2,\n",
    "    'SL1': -13.27160605*0.2,\n",
    "    'SH4': -15.82090071*0.2,\n",
    "    'SH3': -5.85510841*0.2,\n",
    "    'SH1': 19.8329121*0.2,\n",
    "}\n",
    "\n",
    "# CHANGE THIS TO VALUES FROM RING IF NEEDED\n",
    "initial_values = initial_values_ref.copy()\n",
    "\n",
    "# optimizer variables in units of K2L\n",
    "variables = {'SVD0':[-0.6,0.6]} # this means SM1B will change by ~10%\n",
    "             \n",
    "for k in ['SH1','SH3','SH4','SL1','SL2','SL3']:\n",
    "    variables[k] = [-np.abs(initial_values_ref[k])*0.1,np.abs(initial_values_ref[k])*0.1]\n",
    "\n",
    "objectives_active = {'LT':'MAXIMIZE'}\n",
    "\n",
    "initial_variable_values = {k:0.0 for k in variables.keys()}\n",
    "\n",
    "gvocs = GVOCS(variables=variables,\n",
    "              variables_active=variables,\n",
    "              objectives=objectives_active,\n",
    "              objectives_active=objectives_active)\n",
    "\n",
    "print(pd.DataFrame(initial_values_ref,index=[0]))\n",
    "print(pd.DataFrame(variables))"
   ]
  },
  {
   "cell_type": "code",
   "execution_count": null,
   "metadata": {},
   "outputs": [],
   "source": [
    "import sext_tools\n",
    "def compute_family_k2l_from_knob_k2l(dfknobs, knobs_dict, debug=False):\n",
    "    group_relative_strengths = sext_tools.knob_strengths_to_group_strengths(dfknobs, knobs_dict)\n",
    "    for k in group_relative_strengths:\n",
    "        if debug:\n",
    "            print(f'{k}: {initial_values[k]:.3f} + {group_relative_strengths[k]:.3f} -> {initial_values[k]+group_relative_strengths[k]:.3f}')\n",
    "        group_relative_strengths[k] = group_relative_strengths[k] + initial_values[k]        \n",
    "    return group_relative_strengths"
   ]
  },
  {
   "cell_type": "code",
   "execution_count": null,
   "metadata": {},
   "outputs": [],
   "source": [
    "compute_family_k2l_from_knob_k2l(dfknobs, {k:variables[k][0] for k in variables.keys()}, True)"
   ]
  },
  {
   "cell_type": "code",
   "execution_count": null,
   "metadata": {},
   "outputs": [],
   "source": [
    "eval_f = make_dummy_eval_lifetime(gvocs)\n",
    "ev = FunctionEvaluator(script=eval_f)\n",
    "\n",
    "generator_name = 'bo_ucb'\n",
    "gc = get_generator_class(generator_name)\n",
    "\n",
    "gen = gc(gvocs=gvocs,\n",
    "         turbo_controller='optimize',\n",
    "        )\n",
    "gen.numerical_optimizer.n_raw_samples = 512\n",
    "gen.numerical_optimizer.n_restarts = 10\n",
    "gen.gp_constructor.use_low_noise_prior = False"
   ]
  },
  {
   "cell_type": "code",
   "execution_count": null,
   "metadata": {},
   "outputs": [],
   "source": [
    "options = AlgorithmOptions(store_history=True, dump_every_step=True)\n",
    "opt = Optimizer(options=options,\n",
    "                generator=gen,\n",
    "                evaluator=ev,\n",
    "                gvocs=gvocs)"
   ]
  },
  {
   "cell_type": "markdown",
   "metadata": {},
   "source": [
    "Sample at initial values (i.e. standard lattice)"
   ]
  },
  {
   "cell_type": "code",
   "execution_count": null,
   "metadata": {},
   "outputs": [],
   "source": [
    "opt.generate_at(initial_variable_values)\n",
    "opt.evaluate_data()"
   ]
  },
  {
   "cell_type": "code",
   "execution_count": null,
   "metadata": {},
   "outputs": [],
   "source": [
    "opt.data"
   ]
  },
  {
   "cell_type": "code",
   "execution_count": null,
   "metadata": {},
   "outputs": [],
   "source": [
    "opt.state_to_json()"
   ]
  },
  {
   "cell_type": "markdown",
   "metadata": {},
   "source": [
    "Sample close to initial point"
   ]
  },
  {
   "cell_type": "code",
   "execution_count": null,
   "metadata": {},
   "outputs": [],
   "source": [
    "mt = {k: 0.05 for k in variables.keys()}\n",
    "opt.generate_random_around_point(n=1, point=initial_variable_values, spans=mt, use_normalized_distances=True)\n",
    "opt.evaluate_data()"
   ]
  },
  {
   "cell_type": "code",
   "execution_count": null,
   "metadata": {},
   "outputs": [],
   "source": [
    "opt.data"
   ]
  },
  {
   "cell_type": "markdown",
   "metadata": {},
   "source": [
    "Run optimizer"
   ]
  },
  {
   "cell_type": "code",
   "execution_count": null,
   "metadata": {},
   "outputs": [],
   "source": [
    "import warnings\n",
    "#warnings.filterwarnings(\"ignore\", message=\"Unable to find non-zero acquisition function values\")\n",
    "\n",
    "for i in range(50):\n",
    "    opt.step()"
   ]
  },
  {
   "cell_type": "code",
   "execution_count": null,
   "metadata": {},
   "outputs": [],
   "source": [
    "opt.data.tail()"
   ]
  },
  {
   "cell_type": "code",
   "execution_count": null,
   "metadata": {},
   "outputs": [],
   "source": [
    "import matplotlib.pyplot as plt\n",
    "\n",
    "fig,ax = plt.subplots(1,2,squeeze=False,figsize=(12,6))\n",
    "df = opt.data\n",
    "ol = ['LT']\n",
    "\n",
    "ax[0,1].plot(df.loc[:,gvocs.objective_names_active[0]],marker='o')\n",
    "ax[0,1].set_xlabel('Step #')\n",
    "ax[0,1].set_ylabel('Objective')"
   ]
  },
  {
   "cell_type": "code",
   "execution_count": null,
   "metadata": {},
   "outputs": [],
   "source": [
    "# This will save optimizer state\n",
    "dt = time.strftime(\"%Y_%m_%d-%H_%M_%S\")\n",
    "opt.state_to_json(f'sobo_dump_{dt}.json')"
   ]
  }
 ],
 "metadata": {
  "kernelspec": {
   "display_name": "py311ml",
   "language": "python",
   "name": "python3"
  },
  "language_info": {
   "codemirror_mode": {
    "name": "ipython",
    "version": 3
   },
   "file_extension": ".py",
   "mimetype": "text/x-python",
   "name": "python",
   "nbconvert_exporter": "python",
   "pygments_lexer": "ipython3",
   "version": "3.11.6"
  }
 },
 "nbformat": 4,
 "nbformat_minor": 2
}
