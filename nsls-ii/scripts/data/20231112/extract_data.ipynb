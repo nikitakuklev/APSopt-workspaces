{
 "cells": [
  {
   "cell_type": "code",
   "execution_count": 1,
   "metadata": {},
   "outputs": [],
   "source": [
    "import json\n",
    "data = json.load(open('20231112_2236_sobo_dump.json'))"
   ]
  },
  {
   "cell_type": "code",
   "execution_count": 2,
   "metadata": {},
   "outputs": [],
   "source": [
    "dd = data['data']\n",
    "keep = set(['_nux', '_nuy', '_eps_x_bxbOn', '_eps_y_bxbOn', 'LT', 'EFF'])\n",
    "for k in dd['output_data']:\n",
    "    bad_keys = set(dd['output_data'][k]['result'].keys()) - keep\n",
    "    for k2 in bad_keys:\n",
    "        dd['output_data'][k]['result'].pop(k2)\n",
    "        dd['output_data'][k].pop(k2, None)\n",
    "for k in dd['last_output_data']:\n",
    "    bad_keys = set(dd['last_output_data'][k]['result'].keys()) - keep\n",
    "    for k2 in bad_keys:\n",
    "        dd['last_output_data'][k]['result'].pop(k2)\n",
    "        dd['last_output_data'][k].pop(k2, None)"
   ]
  },
  {
   "cell_type": "code",
   "execution_count": 4,
   "metadata": {},
   "outputs": [],
   "source": [
    "with open('20231112_2236_sobo_dump_lessdata.json', 'w') as f:\n",
    "    json.dump(data, f, indent=2)"
   ]
  },
  {
   "cell_type": "code",
   "execution_count": null,
   "metadata": {},
   "outputs": [],
   "source": []
  }
 ],
 "metadata": {
  "kernelspec": {
   "display_name": "py311ml",
   "language": "python",
   "name": "python3"
  },
  "language_info": {
   "codemirror_mode": {
    "name": "ipython",
    "version": 3
   },
   "file_extension": ".py",
   "mimetype": "text/x-python",
   "name": "python",
   "nbconvert_exporter": "python",
   "pygments_lexer": "ipython3",
   "version": "3.11.6"
  }
 },
 "nbformat": 4,
 "nbformat_minor": 2
}
