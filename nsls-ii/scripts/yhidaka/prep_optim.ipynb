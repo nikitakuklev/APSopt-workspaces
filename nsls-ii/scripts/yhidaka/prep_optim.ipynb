{
 "cells": [
  {
   "cell_type": "code",
   "execution_count": 1,
   "metadata": {},
   "outputs": [],
   "source": [
    "from opt_funcs import (\n",
    "    injection,\n",
    "    lifetime,\n",
    "    save_ops_conditions_to_file,\n",
    "    load_ops_conditions_from_latest_file,\n",
    "    ramp_RF_freq,\n",
    "    prep_step_1,\n",
    "    prep_step_2,\n",
    "    prep_step_3,\n",
    "    prep_step_4,\n",
    "    prep_step_5)"
   ]
  },
  {
   "cell_type": "code",
   "execution_count": 2,
   "metadata": {},
   "outputs": [],
   "source": [
    "# Capture the current machine conditions that will be modified and will\n",
    "# need to be restored at the end of the shift.\n",
    "# - RF frequency setpoint\n",
    "# - DCCT range\n",
    "# - Tune feedback targets\n",
    "# - BxB SRAM trigger source\n",
    "save_ops_conditions_to_file()\n",
    "\n",
    "# injection.save_inj_kicker_settings_to_file()"
   ]
  },
  {
   "cell_type": "markdown",
   "metadata": {},
   "source": [
    "- Turn on pinger AC contactor\n",
    "- Restore the previously saved bare or ops MASAR orbit/lattice\n",
    "- Cycle quads/sexts if needed (twice if switching between bare and ops)"
   ]
  },
  {
   "cell_type": "code",
   "execution_count": 3,
   "metadata": {},
   "outputs": [
    {
     "name": "stdout",
     "output_type": "stream",
     "text": [
      "SOFB not enabled yet. Enabling now!\n"
     ]
    }
   ],
   "source": [
    "# - Turn on BPM auto gain control (AGC)\n",
    "# - Lower the DCCT range to 200 mA\n",
    "# - Turn on BxB feedback\n",
    "# - Turn on tune feedback\n",
    "# - Inject camshaft\n",
    "# - Setup for obit correction (w/o FOFB)\n",
    "# - Inject 1.6 mA of \"lifetime bunches\"\n",
    "# - Turn on SOFB (high cor.frac, but not too high to slip away from target tunes)\n",
    "prep_step_1()"
   ]
  },
  {
   "cell_type": "markdown",
   "metadata": {},
   "source": [
    "- Adjust RF frequency to bring horizontal corrector sum to ~162 A (was ~174 A before).\n",
    "  - Using Ops lattice. So, no RF freq. adj. performed."
   ]
  },
  {
   "cell_type": "code",
   "execution_count": 4,
   "metadata": {},
   "outputs": [],
   "source": [
    "# - Inject 20 mA of \"lifetime bunches\"\n",
    "# - Turn off BPM AGC\n",
    "# - Set BPM attenuation to 20 dB\n",
    "prep_step_2()"
   ]
  },
  {
   "cell_type": "markdown",
   "metadata": {},
   "source": [
    "- Adjust ROI and exposure time of the BMA pinhole camera\n",
    "- Turn on pinger HVPS"
   ]
  },
  {
   "cell_type": "code",
   "execution_count": 5,
   "metadata": {},
   "outputs": [],
   "source": [
    "# - Turn off SOFB\n",
    "# - Turn off tune feedback\n",
    "# - Turn off BxB feedback\n",
    "prep_step_3()"
   ]
  },
  {
   "cell_type": "markdown",
   "metadata": {},
   "source": [
    "- Keep 20 mA (don't scrape down to <2 mA)\n",
    "- Correct linear optics, coupling, & vertical dispersion => Skipped\n",
    "- Add vertical dispersion to blow up beam to eps_y = 15 pm  => Using coupled 16 pm (opened up all IVUs)\n",
    "- Adjust exposure time of the BMA pinhole camera as needed"
   ]
  },
  {
   "cell_type": "code",
   "execution_count": 6,
   "metadata": {},
   "outputs": [],
   "source": [
    "# - Turn on BxB feedback\n",
    "# - Set pinger for kickout configuration\n",
    "prep_step_4()"
   ]
  },
  {
   "cell_type": "markdown",
   "metadata": {},
   "source": [
    "- Measure chromaticity and adjust to +3/+3 (Make sure SOFB/FOFB/TuneFB are OFF)\n",
    "  - Changed to +2/+2"
   ]
  },
  {
   "cell_type": "code",
   "execution_count": null,
   "metadata": {},
   "outputs": [],
   "source": [
    "# - Turn on FOFB\n",
    "# - Setup for obit correction (with FOFB)\n",
    "# - Turn on SOFB\n",
    "prep_step_5()"
   ]
  },
  {
   "cell_type": "code",
   "execution_count": null,
   "metadata": {},
   "outputs": [],
   "source": []
  },
  {
   "cell_type": "code",
   "execution_count": 2,
   "metadata": {},
   "outputs": [
    {
     "name": "stdout",
     "output_type": "stream",
     "text": [
      "/nsls2/users/yhidaka/git_repos/nsls2scripts3/shifts/2023-12-16_APSU_DA_MA/20231215T123845_opts_conditions.json\n"
     ]
    }
   ],
   "source": [
    "# Cleanup\n",
    "load_ops_conditions_from_latest_file()"
   ]
  },
  {
   "cell_type": "code",
   "execution_count": null,
   "metadata": {},
   "outputs": [],
   "source": []
  }
 ],
 "metadata": {
  "kernelspec": {
   "display_name": "apsopt311",
   "language": "python",
   "name": "python3"
  },
  "language_info": {
   "codemirror_mode": {
    "name": "ipython",
    "version": 3
   },
   "file_extension": ".py",
   "mimetype": "text/x-python",
   "name": "python",
   "nbconvert_exporter": "python",
   "pygments_lexer": "ipython3",
   "version": "3.11.7"
  }
 },
 "nbformat": 4,
 "nbformat_minor": 2
}
