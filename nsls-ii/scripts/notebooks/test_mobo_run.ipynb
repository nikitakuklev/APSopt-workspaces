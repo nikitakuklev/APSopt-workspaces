{
 "cells": [
  {
   "cell_type": "code",
   "execution_count": 1,
   "metadata": {},
   "outputs": [],
   "source": [
    "import logging\n",
    "import numpy as np\n",
    "\n",
    "from apsopt.core.optimizer import Optimizer, get_generator_class\n",
    "from apsopt.core.evaluators import FunctionEvaluator\n",
    "from apsopt.util.pydantic.options import AlgorithmOptions\n",
    "from apsopt.util.pydantic.vocs import GVOCS\n",
    "\n",
    "from opt_funcs_nsls import make_dummy_eval\n",
    "\n",
    "logger = logging.getLogger(__name__)"
   ]
  },
  {
   "cell_type": "markdown",
   "metadata": {},
   "source": [
    "SETUP"
   ]
  },
  {
   "cell_type": "code",
   "execution_count": 2,
   "metadata": {},
   "outputs": [],
   "source": [
    "variables = {'x0':[0,1], # magnet current/knob/etc.\n",
    "              'x1':[0,1]}\n",
    "objectives = {'LT':'maximize', 'EFF':'maximize'}\n",
    "reference_point = {'LT':0.7, # hours\n",
    "                   'EFF':0.5 # fraction injected\n",
    "                   }\n",
    "initial_variable_values = {'x0':0.1, 'x1':0.1}\n",
    "\n",
    "gvocs = GVOCS(variables=variables,\n",
    "              variables_active=variables,\n",
    "              objectives=objectives,\n",
    "              objectives_active=objectives)"
   ]
  },
  {
   "cell_type": "code",
   "execution_count": 3,
   "metadata": {},
   "outputs": [],
   "source": [
    "eval_f = make_dummy_eval(gvocs)\n",
    "ev = FunctionEvaluator(script=eval_f)\n",
    "\n",
    "generator_name = 'aps_mobo'\n",
    "gc = get_generator_class(generator_name)\n",
    "\n",
    "gen = gc(gvocs=gvocs)\n",
    "gen.numerical_optimizer.n_raw_samples = 512\n",
    "gen.numerical_optimizer.n_restarts = 10\n",
    "gen.gp_constructor.use_low_noise_prior = False\n",
    "gen.gp_constructor.use_high_noise_prior = False\n",
    "#gen.max_travel_distances = [0.1] * len(gvocs.variables_active)\n",
    "gen.reference_point = reference_point"
   ]
  },
  {
   "cell_type": "code",
   "execution_count": 4,
   "metadata": {},
   "outputs": [],
   "source": [
    "options = AlgorithmOptions(store_history=True, dump_every_step=True)\n",
    "opt = Optimizer(options=options,\n",
    "                generator=gen,\n",
    "                evaluator=ev,\n",
    "                gvocs=gvocs)"
   ]
  },
  {
   "cell_type": "markdown",
   "metadata": {},
   "source": [
    "Sample at initial values (i.e. standard lattice)"
   ]
  },
  {
   "cell_type": "code",
   "execution_count": 5,
   "metadata": {},
   "outputs": [],
   "source": [
    "opt.generate_at(initial_variable_values)\n",
    "opt.evaluate_data()"
   ]
  },
  {
   "cell_type": "code",
   "execution_count": 6,
   "metadata": {},
   "outputs": [
    {
     "data": {
      "text/html": [
       "<div>\n",
       "<style scoped>\n",
       "    .dataframe tbody tr th:only-of-type {\n",
       "        vertical-align: middle;\n",
       "    }\n",
       "\n",
       "    .dataframe tbody tr th {\n",
       "        vertical-align: top;\n",
       "    }\n",
       "\n",
       "    .dataframe thead th {\n",
       "        text-align: right;\n",
       "    }\n",
       "</style>\n",
       "<table border=\"1\" class=\"dataframe\">\n",
       "  <thead>\n",
       "    <tr style=\"text-align: right;\">\n",
       "      <th></th>\n",
       "      <th>x0</th>\n",
       "      <th>x1</th>\n",
       "      <th>result</th>\n",
       "      <th>exception</th>\n",
       "      <th>traceback</th>\n",
       "      <th>wall_time</th>\n",
       "      <th>cpu_time</th>\n",
       "      <th>valid</th>\n",
       "      <th>LT</th>\n",
       "      <th>EFF</th>\n",
       "    </tr>\n",
       "  </thead>\n",
       "  <tbody>\n",
       "    <tr>\n",
       "      <th>1</th>\n",
       "      <td>0.1</td>\n",
       "      <td>0.1</td>\n",
       "      <td>{'LT': 8.480386934123942, 'EFF': 0.19450885330...</td>\n",
       "      <td>None</td>\n",
       "      <td></td>\n",
       "      <td>0.00007</td>\n",
       "      <td>0.0</td>\n",
       "      <td>True</td>\n",
       "      <td>8.480387</td>\n",
       "      <td>0.194509</td>\n",
       "    </tr>\n",
       "  </tbody>\n",
       "</table>\n",
       "</div>"
      ],
      "text/plain": [
       "    x0   x1                                             result exception  \\\n",
       "1  0.1  0.1  {'LT': 8.480386934123942, 'EFF': 0.19450885330...      None   \n",
       "\n",
       "  traceback  wall_time  cpu_time  valid        LT       EFF  \n",
       "1              0.00007       0.0   True  8.480387  0.194509  "
      ]
     },
     "execution_count": 6,
     "metadata": {},
     "output_type": "execute_result"
    }
   ],
   "source": [
    "opt.data"
   ]
  },
  {
   "cell_type": "markdown",
   "metadata": {},
   "source": [
    "Sample close to initial point"
   ]
  },
  {
   "cell_type": "code",
   "execution_count": 7,
   "metadata": {},
   "outputs": [],
   "source": [
    "mt = {'x0':0.05, 'x1':0.05}\n",
    "opt.generate_random_around_point(n=1, point=initial_variable_values, spans=mt, use_normalized_distances=True)\n",
    "opt.evaluate_data()"
   ]
  },
  {
   "cell_type": "code",
   "execution_count": 8,
   "metadata": {},
   "outputs": [
    {
     "data": {
      "text/html": [
       "<div>\n",
       "<style scoped>\n",
       "    .dataframe tbody tr th:only-of-type {\n",
       "        vertical-align: middle;\n",
       "    }\n",
       "\n",
       "    .dataframe tbody tr th {\n",
       "        vertical-align: top;\n",
       "    }\n",
       "\n",
       "    .dataframe thead th {\n",
       "        text-align: right;\n",
       "    }\n",
       "</style>\n",
       "<table border=\"1\" class=\"dataframe\">\n",
       "  <thead>\n",
       "    <tr style=\"text-align: right;\">\n",
       "      <th></th>\n",
       "      <th>x0</th>\n",
       "      <th>x1</th>\n",
       "      <th>result</th>\n",
       "      <th>exception</th>\n",
       "      <th>traceback</th>\n",
       "      <th>wall_time</th>\n",
       "      <th>cpu_time</th>\n",
       "      <th>valid</th>\n",
       "      <th>LT</th>\n",
       "      <th>EFF</th>\n",
       "    </tr>\n",
       "  </thead>\n",
       "  <tbody>\n",
       "    <tr>\n",
       "      <th>1</th>\n",
       "      <td>0.100000</td>\n",
       "      <td>0.10000</td>\n",
       "      <td>{'LT': 8.480386934123942, 'EFF': 0.19450885330...</td>\n",
       "      <td>None</td>\n",
       "      <td></td>\n",
       "      <td>0.000070</td>\n",
       "      <td>0.0</td>\n",
       "      <td>True</td>\n",
       "      <td>8.480387</td>\n",
       "      <td>0.194509</td>\n",
       "    </tr>\n",
       "    <tr>\n",
       "      <th>2</th>\n",
       "      <td>0.092932</td>\n",
       "      <td>0.11629</td>\n",
       "      <td>{'LT': 9.075438899276502, 'EFF': 0.25808552853...</td>\n",
       "      <td>None</td>\n",
       "      <td></td>\n",
       "      <td>0.000078</td>\n",
       "      <td>0.0</td>\n",
       "      <td>True</td>\n",
       "      <td>9.075439</td>\n",
       "      <td>0.258086</td>\n",
       "    </tr>\n",
       "  </tbody>\n",
       "</table>\n",
       "</div>"
      ],
      "text/plain": [
       "         x0       x1                                             result  \\\n",
       "1  0.100000  0.10000  {'LT': 8.480386934123942, 'EFF': 0.19450885330...   \n",
       "2  0.092932  0.11629  {'LT': 9.075438899276502, 'EFF': 0.25808552853...   \n",
       "\n",
       "  exception traceback  wall_time  cpu_time  valid        LT       EFF  \n",
       "1      None             0.000070       0.0   True  8.480387  0.194509  \n",
       "2      None             0.000078       0.0   True  9.075439  0.258086  "
      ]
     },
     "execution_count": 8,
     "metadata": {},
     "output_type": "execute_result"
    }
   ],
   "source": [
    "opt.data"
   ]
  },
  {
   "cell_type": "markdown",
   "metadata": {},
   "source": [
    "Run optimizer"
   ]
  },
  {
   "cell_type": "code",
   "execution_count": 9,
   "metadata": {},
   "outputs": [
    {
     "name": "stderr",
     "output_type": "stream",
     "text": [
      "c:\\Users\\boss\\Anaconda3\\envs\\py311ml\\Lib\\site-packages\\botorch\\optim\\initializers.py:404: BadInitialCandidatesWarning: Unable to find non-zero acquisition function values - initial conditions are being selected randomly.\n",
      "  warnings.warn(\n"
     ]
    }
   ],
   "source": [
    "import warnings\n",
    "#warnings.filterwarnings(\"ignore\", message=\"Unable to find non-zero acquisition function values\")\n",
    "\n",
    "for i in range(20):\n",
    "    opt.step()"
   ]
  },
  {
   "cell_type": "code",
   "execution_count": 10,
   "metadata": {},
   "outputs": [
    {
     "data": {
      "text/plain": [
       "'{\\n  \"optimizer\": {\\n    \"tag\": \"ff2703efa6\",\\n    \"store_history\": true,\\n    \"dump_every_step\": true,\\n    \"history_directory\": null,\\n    \"execution_mode\": \"sync\"\\n  },\\n  \"generator\": {\\n    \"name\": \"aps_mobo\",\\n    \"n_monte_carlo_samples\": 128,\\n    \"turbo_controller\": null,\\n    \"use_cuda\": false,\\n    \"gp_constructor\": {\\n      \"name\": \"mobo_model\",\\n      \"use_low_noise_prior\": false,\\n      \"covar_modules\": {},\\n      \"mean_modules\": {},\\n      \"trainable_mean_keys\": [],\\n      \"use_high_noise_prior\": false\\n    },\\n    \"numerical_optimizer\": {\\n      \"name\": \"APSLBFGS\",\\n      \"n_raw_samples\": 512,\\n      \"n_restarts\": 10,\\n      \"max_iter\": 2000,\\n      \"sequential\": true\\n    },\\n    \"max_travel_distances\": null,\\n    \"fixed_features\": null,\\n    \"computation_time\": null,\\n    \"n_candidates\": 1,\\n    \"reference_point\": {\\n      \"LT\": 0.7,\\n      \"EFF\": 0.5\\n    },\\n    \"prune_inferior_points_kwargs\": null\\n  },\\n  \"evaluator\": {\\n    \"name\": \"func\",\\n    \"on_error\": \"ignore\",\\n    \"max_workers\": 1,\\n    \"script\": \"opt_funcs_nsls.make_dummy_eval.<locals>.master_eval_function_dummy\",\\n    \"post_script\": null,\\n    \"script_kwargs\": {},\\n    \"eval_cnt\": 22,\\n    \"TRACE\": true\\n  },\\n  \"gvocs\": {\\n    \"variables\": {\\n      \"x0\": [\\n        0.0,\\n        1.0\\n      ],\\n      \"x1\": [\\n        0.0,\\n        1.0\\n      ]\\n    },\\n    \"variables_active\": {\\n      \"x0\": [\\n        0.0,\\n        1.0\\n      ],\\n      \"x1\": [\\n        0.0,\\n        1.0\\n      ]\\n    },\\n    \"auxiliary\": {},\\n    \"readbacks\": {},\\n    \"constraints\": {},\\n    \"constraints_active\": {},\\n    \"objectives\": {\\n      \"LT\": \"MAXIMIZE\",\\n      \"EFF\": \"MAXIMIZE\"\\n    },\\n    \"objectives_active\": {\\n      \"LT\": \"MAXIMIZE\",\\n      \"EFF\": \"MAXIMIZE\"\\n    },\\n    \"observables\": [],\\n    \"atol\": {\\n      \"x0\": 0.05,\\n      \"x1\": 0.05\\n    },\\n    \"initial_change\": {},\\n    \"constants\": {},\\n    \"linked_variables\": {},\\n    \"knobs\": {},\\n    \"knobs_initial_values\": {}\\n  },\\n  \"data\": {\\n    \"input_data\": {\\n      \"1\": {\\n        \"x0\": 0.1,\\n        \"x1\": 0.1\\n      },\\n      \"2\": {\\n        \"x0\": 0.0929317200103581,\\n        \"x1\": 0.11629033123741206\\n      },\\n      \"3\": {\\n        \"x0\": 0.5401218263432384,\\n        \"x1\": 0.7127143247053027\\n      },\\n      \"4\": {\\n        \"x0\": 0.37569716501581396,\\n        \"x1\": 1.0\\n      },\\n      \"5\": {\\n        \"x0\": 0.7440241974961012,\\n        \"x1\": 1.0\\n      },\\n      \"6\": {\\n        \"x0\": 1.0,\\n        \"x1\": 0.7831825905005223\\n      },\\n      \"7\": {\\n        \"x0\": 1.0,\\n        \"x1\": 1.0\\n      },\\n      \"8\": {\\n        \"x0\": 1.0,\\n        \"x1\": 0.32284748586749673\\n      },\\n      \"9\": {\\n        \"x0\": 0.7445102340463116,\\n        \"x1\": 0.7407932485939046\\n      },\\n      \"10\": {\\n        \"x0\": 0.6361952520301477,\\n        \"x1\": 0.5766712447346537\\n      },\\n      \"11\": {\\n        \"x0\": 0.8627564645958143,\\n        \"x1\": 0.7396682982228776\\n      },\\n      \"12\": {\\n        \"x0\": 0.5389715719850205,\\n        \"x1\": 0.48359106385420825\\n      },\\n      \"13\": {\\n        \"x0\": 0.7193836663404232,\\n        \"x1\": 0.6506436995337986\\n      },\\n      \"14\": {\\n        \"x0\": 1.0,\\n        \"x1\": 0.8935767610831583\\n      },\\n      \"15\": {\\n        \"x0\": 0.0,\\n        \"x1\": 1.0\\n      },\\n      \"16\": {\\n        \"x0\": 0.8668793866060426,\\n        \"x1\": 0.8128391588491781\\n      },\\n      \"17\": {\\n        \"x0\": 0.5488794911385528,\\n        \"x1\": 0.5708771054556195\\n      },\\n      \"18\": {\\n        \"x0\": 0.5643702398323464,\\n        \"x1\": 0.3556579109637944\\n      },\\n      \"19\": {\\n        \"x0\": 0.6449424686801887,\\n        \"x1\": 0.4499658012473625\\n      },\\n      \"20\": {\\n        \"x0\": 0.7237975601223746,\\n        \"x1\": 0.8236842490574506\\n      },\\n      \"21\": {\\n        \"x0\": 0.6663145394467239,\\n        \"x1\": 0.6350738223734078\\n      },\\n      \"22\": {\\n        \"x0\": 0.4533184189252784,\\n        \"x1\": 0.4304451985702156\\n      }\\n    },\\n    \"last_input_data\": {\\n      \"22\": {\\n        \"x0\": 0.4533184189252784,\\n        \"x1\": 0.4304451985702156\\n      }\\n    },\\n    \"output_data\": {\\n      \"1\": {\\n        \"result\": {\\n          \"LT\": 8.480386934123942,\\n          \"EFF\": 0.19450885330788514\\n        },\\n        \"exception\": null,\\n        \"traceback\": \"\",\\n        \"wall_time\": 6.9500005338341e-05,\\n        \"cpu_time\": 0.0,\\n        \"valid\": true,\\n        \"LT\": 8.480386934123942,\\n        \"EFF\": 0.19450885330788514\\n      },\\n      \"2\": {\\n        \"result\": {\\n          \"LT\": 9.075438899276502,\\n          \"EFF\": 0.2580855285375449\\n        },\\n        \"exception\": null,\\n        \"traceback\": \"\",\\n        \"wall_time\": 7.779995212331414e-05,\\n        \"cpu_time\": 0.0,\\n        \"valid\": true,\\n        \"LT\": 9.075438899276502,\\n        \"EFF\": 0.2580855285375449\\n      },\\n      \"3\": {\\n        \"result\": {\\n          \"LT\": 9.405671380179154,\\n          \"EFF\": 1.2161072852270158\\n        },\\n        \"exception\": null,\\n        \"traceback\": \"\",\\n        \"wall_time\": 4.8799964133650064e-05,\\n        \"cpu_time\": 0.0,\\n        \"valid\": true,\\n        \"LT\": 9.405671380179154,\\n        \"EFF\": 1.2161072852270158\\n      },\\n      \"4\": {\\n        \"result\": {\\n          \"LT\": 8.083714266346,\\n          \"EFF\": 1.3808572685278575\\n        },\\n        \"exception\": null,\\n        \"traceback\": \"\",\\n        \"wall_time\": 5.8299978263676167e-05,\\n        \"cpu_time\": 0.0,\\n        \"valid\": true,\\n        \"LT\": 8.083714266346,\\n        \"EFF\": 1.3808572685278575\\n      },\\n      \"5\": {\\n        \"result\": {\\n          \"LT\": 7.394047919462721,\\n          \"EFF\": 1.7318361358932677\\n        },\\n        \"exception\": null,\\n        \"traceback\": \"\",\\n        \"wall_time\": 4.8399961087852716e-05,\\n        \"cpu_time\": 0.0,\\n        \"valid\": true,\\n        \"LT\": 7.394047919462721,\\n        \"EFF\": 1.7318361358932677\\n      },\\n      \"6\": {\\n        \"result\": {\\n          \"LT\": 7.297939382365647,\\n          \"EFF\": 1.8174452577157199\\n        },\\n        \"exception\": null,\\n        \"traceback\": \"\",\\n        \"wall_time\": 5.089998012408614e-05,\\n        \"cpu_time\": 0.0,\\n        \"valid\": true,\\n        \"LT\": 7.297939382365647,\\n        \"EFF\": 1.8174452577157199\\n      },\\n      \"7\": {\\n        \"result\": {\\n          \"LT\": 6.490740945332296,\\n          \"EFF\": 1.9744075916859645\\n        },\\n        \"exception\": null,\\n        \"traceback\": \"\",\\n        \"wall_time\": 5.4999953135848045e-05,\\n        \"cpu_time\": 0.0,\\n        \"valid\": true,\\n        \"LT\": 6.490740945332296,\\n        \"EFF\": 1.9744075916859645\\n      },\\n      \"8\": {\\n        \"result\": {\\n          \"LT\": 8.077181756366768,\\n          \"EFF\": 1.3423086671972915\\n        },\\n        \"exception\": null,\\n        \"traceback\": \"\",\\n        \"wall_time\": 5.440000677481294e-05,\\n        \"cpu_time\": 0.0,\\n        \"valid\": true,\\n        \"LT\": 8.077181756366768,\\n        \"EFF\": 1.3423086671972915\\n      },\\n      \"9\": {\\n        \"result\": {\\n          \"LT\": 8.9916887056347,\\n          \"EFF\": 1.5144150237980818\\n        },\\n        \"exception\": null,\\n        \"traceback\": \"\",\\n        \"wall_time\": 5.329999839887023e-05,\\n        \"cpu_time\": 0.0,\\n        \"valid\": true,\\n        \"LT\": 8.9916887056347,\\n        \"EFF\": 1.5144150237980818\\n      },\\n      \"10\": {\\n        \"result\": {\\n          \"LT\": 10.024261539845085,\\n          \"EFF\": 1.2348966252469367\\n        },\\n        \"exception\": null,\\n        \"traceback\": \"\",\\n        \"wall_time\": 6.719998782500625e-05,\\n        \"cpu_time\": 0.0,\\n        \"valid\": true,\\n        \"LT\": 10.024261539845085,\\n        \"EFF\": 1.2348966252469367\\n      },\\n      \"11\": {\\n        \"result\": {\\n          \"LT\": 8.339032823905965,\\n          \"EFF\": 1.4863337949270854\\n        },\\n        \"exception\": null,\\n        \"traceback\": \"\",\\n        \"wall_time\": 4.4599990360438824e-05,\\n        \"cpu_time\": 0.0,\\n        \"valid\": true,\\n        \"LT\": 8.339032823905965,\\n        \"EFF\": 1.4863337949270854\\n      },\\n      \"12\": {\\n        \"result\": {\\n          \"LT\": 10.006569388816665,\\n          \"EFF\": 0.9455381139305357\\n        },\\n        \"exception\": null,\\n        \"traceback\": \"\",\\n        \"wall_time\": 5.129998316988349e-05,\\n        \"cpu_time\": 0.0,\\n        \"valid\": true,\\n        \"LT\": 10.006569388816665,\\n        \"EFF\": 0.9455381139305357\\n      },\\n      \"13\": {\\n        \"result\": {\\n          \"LT\": 8.979153180914595,\\n          \"EFF\": 1.3665995406054545\\n        },\\n        \"exception\": null,\\n        \"traceback\": \"\",\\n        \"wall_time\": 4.9900030717253685e-05,\\n        \"cpu_time\": 0.0,\\n        \"valid\": true,\\n        \"LT\": 8.979153180914595,\\n        \"EFF\": 1.3665995406054545\\n      },\\n      \"14\": {\\n        \"result\": {\\n          \"LT\": 7.619468256026512,\\n          \"EFF\": 1.9135509456125286\\n        },\\n        \"exception\": null,\\n        \"traceback\": \"\",\\n        \"wall_time\": 5.7299970649182796e-05,\\n        \"cpu_time\": 0.0,\\n        \"valid\": true,\\n        \"LT\": 7.619468256026512,\\n        \"EFF\": 1.9135509456125286\\n      },\\n      \"15\": {\\n        \"result\": {\\n          \"LT\": 7.557894947645723,\\n          \"EFF\": 0.9965841704248268\\n        },\\n        \"exception\": null,\\n        \"traceback\": \"\",\\n        \"wall_time\": 4.4599990360438824e-05,\\n        \"cpu_time\": 0.0,\\n        \"valid\": true,\\n        \"LT\": 7.557894947645723,\\n        \"EFF\": 0.9965841704248268\\n      },\\n      \"16\": {\\n        \"result\": {\\n          \"LT\": 8.011101126056273,\\n          \"EFF\": 1.644600140683818\\n        },\\n        \"exception\": null,\\n        \"traceback\": \"\",\\n        \"wall_time\": 5.7299970649182796e-05,\\n        \"cpu_time\": 0.0,\\n        \"valid\": true,\\n        \"LT\": 8.011101126056273,\\n        \"EFF\": 1.644600140683818\\n      },\\n      \"17\": {\\n        \"result\": {\\n          \"LT\": 9.43290844440375,\\n          \"EFF\": 1.1165103938924121\\n        },\\n        \"exception\": null,\\n        \"traceback\": \"\",\\n        \"wall_time\": 5.0099974032491446e-05,\\n        \"cpu_time\": 0.0,\\n        \"valid\": true,\\n        \"LT\": 9.43290844440375,\\n        \"EFF\": 1.1165103938924121\\n      },\\n      \"18\": {\\n        \"result\": {\\n          \"LT\": 9.963702429513738,\\n          \"EFF\": 0.9670541489043071\\n        },\\n        \"exception\": null,\\n        \"traceback\": \"\",\\n        \"wall_time\": 4.840001929551363e-05,\\n        \"cpu_time\": 0.0,\\n        \"valid\": true,\\n        \"LT\": 9.963702429513738,\\n        \"EFF\": 0.9670541489043071\\n      },\\n      \"19\": {\\n        \"result\": {\\n          \"LT\": 9.678292594548425,\\n          \"EFF\": 1.104380145095361\\n        },\\n        \"exception\": null,\\n        \"traceback\": \"\",\\n        \"wall_time\": 5.460000829771161e-05,\\n        \"cpu_time\": 0.0,\\n        \"valid\": true,\\n        \"LT\": 9.678292594548425,\\n        \"EFF\": 1.104380145095361\\n      },\\n      \"20\": {\\n        \"result\": {\\n          \"LT\": 8.840961144835909,\\n          \"EFF\": 1.5245717224193926\\n        },\\n        \"exception\": null,\\n        \"traceback\": \"\",\\n        \"wall_time\": 5.989999044686556e-05,\\n        \"cpu_time\": 0.0,\\n        \"valid\": true,\\n        \"LT\": 8.840961144835909,\\n        \"EFF\": 1.5245717224193926\\n      },\\n      \"21\": {\\n        \"result\": {\\n          \"LT\": 9.201718014835347,\\n          \"EFF\": 1.3970386416801754\\n        },\\n        \"exception\": null,\\n        \"traceback\": \"\",\\n        \"wall_time\": 5.3099996875971556e-05,\\n        \"cpu_time\": 0.0,\\n        \"valid\": true,\\n        \"LT\": 9.201718014835347,\\n        \"EFF\": 1.3970386416801754\\n      },\\n      \"22\": {\\n        \"result\": {\\n          \"LT\": 10.019104151065168,\\n          \"EFF\": 0.9245651224108329\\n        },\\n        \"exception\": null,\\n        \"traceback\": \"\",\\n        \"wall_time\": 5.0799979362636805e-05,\\n        \"cpu_time\": 0.0,\\n        \"valid\": true,\\n        \"LT\": 10.019104151065168,\\n        \"EFF\": 0.9245651224108329\\n      }\\n    },\\n    \"last_output_data\": {\\n      \"22\": {\\n        \"result\": {\\n          \"LT\": 10.019104151065168,\\n          \"EFF\": 0.9245651224108329\\n        },\\n        \"exception\": null,\\n        \"traceback\": \"\",\\n        \"wall_time\": 5.0799979362636805e-05,\\n        \"cpu_time\": 0.0,\\n        \"valid\": true,\\n        \"LT\": 10.019104151065168,\\n        \"EFF\": 0.9245651224108329\\n      }\\n    },\\n    \"metadata\": {\\n      \"1\": 5,\\n      \"2\": 5,\\n      \"3\": 5,\\n      \"4\": 5,\\n      \"5\": 5,\\n      \"6\": 5,\\n      \"7\": 5,\\n      \"8\": 5,\\n      \"9\": 5,\\n      \"10\": 5,\\n      \"11\": 5,\\n      \"12\": 5,\\n      \"13\": 5,\\n      \"14\": 5,\\n      \"15\": 5,\\n      \"16\": 5,\\n      \"17\": 5,\\n      \"18\": 5,\\n      \"19\": 5,\\n      \"20\": 5,\\n      \"21\": 5,\\n      \"22\": 5\\n    }\\n  }\\n}'"
      ]
     },
     "execution_count": 10,
     "metadata": {},
     "output_type": "execute_result"
    }
   ],
   "source": [
    "opt.state_to_json()"
   ]
  },
  {
   "cell_type": "code",
   "execution_count": 11,
   "metadata": {},
   "outputs": [
    {
     "data": {
      "text/html": [
       "<div>\n",
       "<style scoped>\n",
       "    .dataframe tbody tr th:only-of-type {\n",
       "        vertical-align: middle;\n",
       "    }\n",
       "\n",
       "    .dataframe tbody tr th {\n",
       "        vertical-align: top;\n",
       "    }\n",
       "\n",
       "    .dataframe thead th {\n",
       "        text-align: right;\n",
       "    }\n",
       "</style>\n",
       "<table border=\"1\" class=\"dataframe\">\n",
       "  <thead>\n",
       "    <tr style=\"text-align: right;\">\n",
       "      <th></th>\n",
       "      <th>x0</th>\n",
       "      <th>x1</th>\n",
       "      <th>result</th>\n",
       "      <th>exception</th>\n",
       "      <th>traceback</th>\n",
       "      <th>wall_time</th>\n",
       "      <th>cpu_time</th>\n",
       "      <th>valid</th>\n",
       "      <th>LT</th>\n",
       "      <th>EFF</th>\n",
       "    </tr>\n",
       "  </thead>\n",
       "  <tbody>\n",
       "    <tr>\n",
       "      <th>18</th>\n",
       "      <td>0.564370</td>\n",
       "      <td>0.355658</td>\n",
       "      <td>{'LT': 9.963702429513738, 'EFF': 0.96705414890...</td>\n",
       "      <td>None</td>\n",
       "      <td></td>\n",
       "      <td>0.000048</td>\n",
       "      <td>0.0</td>\n",
       "      <td>True</td>\n",
       "      <td>9.963702</td>\n",
       "      <td>0.967054</td>\n",
       "    </tr>\n",
       "    <tr>\n",
       "      <th>19</th>\n",
       "      <td>0.644942</td>\n",
       "      <td>0.449966</td>\n",
       "      <td>{'LT': 9.678292594548425, 'EFF': 1.10438014509...</td>\n",
       "      <td>None</td>\n",
       "      <td></td>\n",
       "      <td>0.000055</td>\n",
       "      <td>0.0</td>\n",
       "      <td>True</td>\n",
       "      <td>9.678293</td>\n",
       "      <td>1.104380</td>\n",
       "    </tr>\n",
       "    <tr>\n",
       "      <th>20</th>\n",
       "      <td>0.723798</td>\n",
       "      <td>0.823684</td>\n",
       "      <td>{'LT': 8.840961144835909, 'EFF': 1.52457172241...</td>\n",
       "      <td>None</td>\n",
       "      <td></td>\n",
       "      <td>0.000060</td>\n",
       "      <td>0.0</td>\n",
       "      <td>True</td>\n",
       "      <td>8.840961</td>\n",
       "      <td>1.524572</td>\n",
       "    </tr>\n",
       "    <tr>\n",
       "      <th>21</th>\n",
       "      <td>0.666315</td>\n",
       "      <td>0.635074</td>\n",
       "      <td>{'LT': 9.201718014835347, 'EFF': 1.39703864168...</td>\n",
       "      <td>None</td>\n",
       "      <td></td>\n",
       "      <td>0.000053</td>\n",
       "      <td>0.0</td>\n",
       "      <td>True</td>\n",
       "      <td>9.201718</td>\n",
       "      <td>1.397039</td>\n",
       "    </tr>\n",
       "    <tr>\n",
       "      <th>22</th>\n",
       "      <td>0.453318</td>\n",
       "      <td>0.430445</td>\n",
       "      <td>{'LT': 10.019104151065168, 'EFF': 0.9245651224...</td>\n",
       "      <td>None</td>\n",
       "      <td></td>\n",
       "      <td>0.000051</td>\n",
       "      <td>0.0</td>\n",
       "      <td>True</td>\n",
       "      <td>10.019104</td>\n",
       "      <td>0.924565</td>\n",
       "    </tr>\n",
       "  </tbody>\n",
       "</table>\n",
       "</div>"
      ],
      "text/plain": [
       "          x0        x1                                             result  \\\n",
       "18  0.564370  0.355658  {'LT': 9.963702429513738, 'EFF': 0.96705414890...   \n",
       "19  0.644942  0.449966  {'LT': 9.678292594548425, 'EFF': 1.10438014509...   \n",
       "20  0.723798  0.823684  {'LT': 8.840961144835909, 'EFF': 1.52457172241...   \n",
       "21  0.666315  0.635074  {'LT': 9.201718014835347, 'EFF': 1.39703864168...   \n",
       "22  0.453318  0.430445  {'LT': 10.019104151065168, 'EFF': 0.9245651224...   \n",
       "\n",
       "   exception traceback  wall_time  cpu_time  valid         LT       EFF  \n",
       "18      None             0.000048       0.0   True   9.963702  0.967054  \n",
       "19      None             0.000055       0.0   True   9.678293  1.104380  \n",
       "20      None             0.000060       0.0   True   8.840961  1.524572  \n",
       "21      None             0.000053       0.0   True   9.201718  1.397039  \n",
       "22      None             0.000051       0.0   True  10.019104  0.924565  "
      ]
     },
     "execution_count": 11,
     "metadata": {},
     "output_type": "execute_result"
    }
   ],
   "source": [
    "opt.data.tail()"
   ]
  },
  {
   "cell_type": "code",
   "execution_count": 12,
   "metadata": {},
   "outputs": [
    {
     "data": {
      "text/plain": [
       "Text(0, 0.5, 'Hypervolume')"
      ]
     },
     "execution_count": 12,
     "metadata": {},
     "output_type": "execute_result"
    },
    {
     "data": {
      "image/png": "[encoded data removed]",
      "text/plain": [
       "<Figure size 1200x600 with 3 Axes>"
      ]
     },
     "metadata": {},
     "output_type": "display_data"
    }
   ],
   "source": [
    "import matplotlib.pyplot as plt\n",
    "\n",
    "hvs = []\n",
    "for i in range(1,len(opt.data)):\n",
    "    hv = opt.generator.calculate_hypervolume_at(i)\n",
    "    hvs.append(hv)\n",
    "\n",
    "fig,ax = plt.subplots(1,2,squeeze=False,figsize=(12,6))\n",
    "df = opt.data\n",
    "ol = ['EFF', 'LT']\n",
    "l = ax[0,0].scatter(df.loc[:,ol[0]], df.loc[:,ol[1]],10,marker='o',c=range(len(df)),vmax=len(df))\n",
    "ax[0,0].scatter(df.loc[:1,ol[0]], df.loc[:1,ol[1]], 20,marker='o',c='red',label='initial point')\n",
    "ax[0,0].scatter(gen.reference_point[ol[0]], gen.reference_point[ol[1]],40,marker='*',c='black',label='reference point')\n",
    "ax[0,0].set_xlabel(ol[0])\n",
    "ax[0,0].set_ylabel(ol[1])\n",
    "fig.colorbar(l)\n",
    "ax[0,0].legend()\n",
    "\n",
    "ax[0,1].plot(hvs,marker='o')\n",
    "ax[0,1].set_xlabel('Step #')\n",
    "ax[0,1].set_ylabel('Hypervolume')"
   ]
  },
  {
   "cell_type": "code",
   "execution_count": null,
   "metadata": {},
   "outputs": [],
   "source": [
    "# This will save optimizer state\n",
    "opt.state_to_json('mobo_dump.json')\n",
    "\n",
    "import os\n",
    "os.remove('mobo_dump.json')"
   ]
  }
 ],
 "metadata": {
  "kernelspec": {
   "display_name": "py311ml",
   "language": "python",
   "name": "python3"
  },
  "language_info": {
   "codemirror_mode": {
    "name": "ipython",
    "version": 3
   },
   "file_extension": ".py",
   "mimetype": "text/x-python",
   "name": "python",
   "nbconvert_exporter": "python",
   "pygments_lexer": "ipython3",
   "version": "3.11.6"
  }
 },
 "nbformat": 4,
 "nbformat_minor": 2
}
