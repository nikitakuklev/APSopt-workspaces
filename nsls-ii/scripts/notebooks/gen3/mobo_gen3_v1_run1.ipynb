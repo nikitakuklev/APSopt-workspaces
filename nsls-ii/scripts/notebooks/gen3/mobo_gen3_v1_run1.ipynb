{
 "cells": [
  {
   "cell_type": "code",
   "execution_count": 1,
   "metadata": {},
   "outputs": [],
   "source": [
    "import sys\n",
    "import logging\n",
    "import json\n",
    "import numpy as np\n",
    "import pandas as pd\n",
    "from datetime import datetime\n",
    "import time\n",
    "\n",
    "from apsopt.core.optimizer import Optimizer, get_generator_class\n",
    "from apsopt.core.evaluators import FunctionEvaluator\n",
    "from apsopt.util.pydantic.options import AlgorithmOptions\n",
    "from apsopt.util.pydantic.vocs import GVOCS\n",
    "import sext_tools as st\n",
    "from gen3_shared import prepare, get_eval_f, compute_family_k2l_from_knob_k2l, get_raw_eval_f\n",
    "\n",
    "logger = logging.getLogger(__name__)"
   ]
  },
  {
   "cell_type": "markdown",
   "metadata": {},
   "source": [
    "### SETUP"
   ]
  },
  {
   "cell_type": "code",
   "execution_count": 2,
   "metadata": {},
   "outputs": [
    {
     "data": {
      "text/html": [
       "<div>\n",
       "<style scoped>\n",
       "    .dataframe tbody tr th:only-of-type {\n",
       "        vertical-align: middle;\n",
       "    }\n",
       "\n",
       "    .dataframe tbody tr th {\n",
       "        vertical-align: top;\n",
       "    }\n",
       "\n",
       "    .dataframe thead th {\n",
       "        text-align: right;\n",
       "    }\n",
       "</style>\n",
       "<table border=\"1\" class=\"dataframe\">\n",
       "  <thead>\n",
       "    <tr style=\"text-align: right;\">\n",
       "      <th></th>\n",
       "      <th>SH1N</th>\n",
       "      <th>SH3N</th>\n",
       "      <th>SH4N</th>\n",
       "      <th>SL1</th>\n",
       "      <th>SL2</th>\n",
       "      <th>SL3</th>\n",
       "      <th>SH1-DW08</th>\n",
       "      <th>SH1-DW18</th>\n",
       "      <th>SH1-DW28</th>\n",
       "      <th>SH3-DW08</th>\n",
       "      <th>SH3-DW18</th>\n",
       "      <th>SH3-DW28</th>\n",
       "      <th>SH4-DW08</th>\n",
       "      <th>SH4-DW18</th>\n",
       "      <th>SH4-DW28</th>\n",
       "    </tr>\n",
       "  </thead>\n",
       "  <tbody>\n",
       "    <tr>\n",
       "      <th>0</th>\n",
       "      <td>3.966582</td>\n",
       "      <td>-1.171022</td>\n",
       "      <td>-3.16418</td>\n",
       "      <td>-2.654321</td>\n",
       "      <td>7.135584</td>\n",
       "      <td>-5.892172</td>\n",
       "      <td>3.966582</td>\n",
       "      <td>3.966582</td>\n",
       "      <td>3.966582</td>\n",
       "      <td>-1.171022</td>\n",
       "      <td>-1.171022</td>\n",
       "      <td>-1.171022</td>\n",
       "      <td>-3.16418</td>\n",
       "      <td>-3.16418</td>\n",
       "      <td>-3.16418</td>\n",
       "    </tr>\n",
       "  </tbody>\n",
       "</table>\n",
       "</div>"
      ],
      "text/plain": [
       "       SH1N      SH3N     SH4N       SL1       SL2       SL3  SH1-DW08  \\\n",
       "0  3.966582 -1.171022 -3.16418 -2.654321  7.135584 -5.892172  3.966582   \n",
       "\n",
       "   SH1-DW18  SH1-DW28  SH3-DW08  SH3-DW18  SH3-DW28  SH4-DW08  SH4-DW18  \\\n",
       "0  3.966582  3.966582 -1.171022 -1.171022 -1.171022  -3.16418  -3.16418   \n",
       "\n",
       "   SH4-DW28  \n",
       "0  -3.16418  "
      ]
     },
     "metadata": {},
     "output_type": "display_data"
    },
    {
     "data": {
      "text/html": [
       "<div>\n",
       "<style scoped>\n",
       "    .dataframe tbody tr th:only-of-type {\n",
       "        vertical-align: middle;\n",
       "    }\n",
       "\n",
       "    .dataframe tbody tr th {\n",
       "        vertical-align: top;\n",
       "    }\n",
       "\n",
       "    .dataframe thead th {\n",
       "        text-align: right;\n",
       "    }\n",
       "</style>\n",
       "<table border=\"1\" class=\"dataframe\">\n",
       "  <thead>\n",
       "    <tr style=\"text-align: right;\">\n",
       "      <th></th>\n",
       "      <th>SH1N</th>\n",
       "      <th>SH3N</th>\n",
       "      <th>SH4N</th>\n",
       "      <th>SL1</th>\n",
       "      <th>SL2</th>\n",
       "      <th>SL3</th>\n",
       "      <th>SH1-DW08</th>\n",
       "      <th>SH1-DW18</th>\n",
       "      <th>SH1-DW28</th>\n",
       "      <th>SH3-DW08</th>\n",
       "      <th>SH3-DW18</th>\n",
       "      <th>SH3-DW28</th>\n",
       "      <th>SH4-DW08</th>\n",
       "      <th>SH4-DW18</th>\n",
       "      <th>SH4-DW28</th>\n",
       "    </tr>\n",
       "  </thead>\n",
       "  <tbody>\n",
       "    <tr>\n",
       "      <th>0</th>\n",
       "      <td>-0.594987</td>\n",
       "      <td>-0.175653</td>\n",
       "      <td>-0.474627</td>\n",
       "      <td>-0.398148</td>\n",
       "      <td>-1.070338</td>\n",
       "      <td>-0.883826</td>\n",
       "      <td>-0.594987</td>\n",
       "      <td>-0.594987</td>\n",
       "      <td>-0.594987</td>\n",
       "      <td>-0.175653</td>\n",
       "      <td>-0.175653</td>\n",
       "      <td>-0.175653</td>\n",
       "      <td>-0.474627</td>\n",
       "      <td>-0.474627</td>\n",
       "      <td>-0.474627</td>\n",
       "    </tr>\n",
       "    <tr>\n",
       "      <th>1</th>\n",
       "      <td>0.594987</td>\n",
       "      <td>0.175653</td>\n",
       "      <td>0.474627</td>\n",
       "      <td>0.398148</td>\n",
       "      <td>1.070338</td>\n",
       "      <td>0.883826</td>\n",
       "      <td>0.594987</td>\n",
       "      <td>0.594987</td>\n",
       "      <td>0.594987</td>\n",
       "      <td>0.175653</td>\n",
       "      <td>0.175653</td>\n",
       "      <td>0.175653</td>\n",
       "      <td>0.474627</td>\n",
       "      <td>0.474627</td>\n",
       "      <td>0.474627</td>\n",
       "    </tr>\n",
       "  </tbody>\n",
       "</table>\n",
       "</div>"
      ],
      "text/plain": [
       "       SH1N      SH3N      SH4N       SL1       SL2       SL3  SH1-DW08  \\\n",
       "0 -0.594987 -0.175653 -0.474627 -0.398148 -1.070338 -0.883826 -0.594987   \n",
       "1  0.594987  0.175653  0.474627  0.398148  1.070338  0.883826  0.594987   \n",
       "\n",
       "   SH1-DW18  SH1-DW28  SH3-DW08  SH3-DW18  SH3-DW28  SH4-DW08  SH4-DW18  \\\n",
       "0 -0.594987 -0.594987 -0.175653 -0.175653 -0.175653 -0.474627 -0.474627   \n",
       "1  0.594987  0.594987  0.175653  0.175653  0.175653  0.474627  0.474627   \n",
       "\n",
       "   SH4-DW28  \n",
       "0 -0.474627  \n",
       "1  0.474627  "
      ]
     },
     "metadata": {},
     "output_type": "display_data"
    }
   ],
   "source": [
    "MODE = 'DW_SH1N_SH3N_SH4N_SL1_SL2_SL3_SH1DW081828_SH3DW081828_SH4DW081828'\n",
    "NAME_ROOT = f'mobo_{MODE}_v1'\n",
    "\n",
    "from apsopt.util.log import prepare_loggers\n",
    "prepare_loggers()\n",
    "fh = logging.FileHandler(f'logs/{NAME_ROOT}_{datetime.now():%Y%m%dT%H%M%S}.optlog', mode='w')\n",
    "fh.setLevel(logging.NOTSET)\n",
    "logging.getLogger().addHandler(fh)\n",
    "\n",
    "dfknobs, ivals_ref, ivals, gvocs, iknobvals = prepare(MODE)\n",
    "variables = gvocs.variables\n",
    "\n",
    "reference_point = {'LT': 3.0, # hours\n",
    "                   'EFF': 10.0 # % injected\n",
    "                   }\n",
    "\n",
    "display(pd.DataFrame(ivals_ref,index=[0]))\n",
    "display(pd.DataFrame(variables))"
   ]
  },
  {
   "cell_type": "code",
   "execution_count": 3,
   "metadata": {},
   "outputs": [],
   "source": [
    "#TEST_MODE = True\n",
    "TEST_MODE = False"
   ]
  },
  {
   "cell_type": "code",
   "execution_count": 4,
   "metadata": {},
   "outputs": [
    {
     "name": "stdout",
     "output_type": "stream",
     "text": [
      "SH1N   : +3.967 + -0.595 -> +3.372\n",
      "SH3N   : -1.171 + -0.176 -> -1.347\n",
      "SH4N   : -3.164 + -0.475 -> -3.639\n",
      "SL1    : -2.654 + -0.398 -> -3.052\n",
      "SL2    : +7.136 + -1.070 -> +6.065\n",
      "SL3    : -5.892 + -0.884 -> -6.776\n",
      "SH1-DW08: +3.967 + -0.595 -> +3.372\n",
      "SH1-DW18: +3.967 + -0.595 -> +3.372\n",
      "SH1-DW28: +3.967 + -0.595 -> +3.372\n",
      "SH3-DW08: -1.171 + -0.176 -> -1.347\n",
      "SH3-DW18: -1.171 + -0.176 -> -1.347\n",
      "SH3-DW28: -1.171 + -0.176 -> -1.347\n",
      "SH4-DW08: -3.164 + -0.475 -> -3.639\n",
      "SH4-DW18: -3.164 + -0.475 -> -3.639\n",
      "SH4-DW28: -3.164 + -0.475 -> -3.639\n"
     ]
    },
    {
     "data": {
      "text/plain": [
       "{'SH1N': 3.3715950570000004,\n",
       " 'SH3N': -1.3466749343,\n",
       " 'SH4N': -3.6388071633,\n",
       " 'SL1': -3.0524693915000003,\n",
       " 'SL2': 6.0652466465,\n",
       " 'SL3': -6.775997940300001,\n",
       " 'SH1-DW08': 3.3715950570000004,\n",
       " 'SH1-DW18': 3.3715950570000004,\n",
       " 'SH1-DW28': 3.3715950570000004,\n",
       " 'SH3-DW08': -1.3466749343,\n",
       " 'SH3-DW18': -1.3466749343,\n",
       " 'SH3-DW28': -1.3466749343,\n",
       " 'SH4-DW08': -3.6388071633,\n",
       " 'SH4-DW18': -3.6388071633,\n",
       " 'SH4-DW28': -3.6388071633}"
      ]
     },
     "execution_count": 4,
     "metadata": {},
     "output_type": "execute_result"
    }
   ],
   "source": [
    "inputs_dict = compute_family_k2l_from_knob_k2l(\n",
    "    dfknobs, {k:variables[k][0] for k in variables.keys()}, ivals, True)\n",
    "inputs_dict"
   ]
  },
  {
   "cell_type": "markdown",
   "metadata": {},
   "source": [
    "### Test eval function"
   ]
  },
  {
   "cell_type": "code",
   "execution_count": null,
   "metadata": {},
   "outputs": [],
   "source": [
    "# Test\n",
    "if True and not TEST_MODE:\n",
    "    raw_eval_f = get_raw_eval_f()\n",
    "    raw_eval_f(inputs_dict, meas_bxb_tunes=True, meas_lifetime=True, meas_inj_eff=True)"
   ]
  },
  {
   "cell_type": "code",
   "execution_count": 5,
   "metadata": {},
   "outputs": [
    {
     "name": "stderr",
     "output_type": "stream",
     "text": [
      "[DEBUG][20:01:47.702 __init__.p   47] Creating converter from 7 to 5\n",
      "[DEBUG][20:01:47.703 __init__.p   47] Creating converter from 5 to 7\n",
      "[DEBUG][20:01:47.704 __init__.p   47] Creating converter from 7 to 5\n",
      "[DEBUG][20:01:47.704 __init__.p   47] Creating converter from 5 to 7\n",
      "[INFO ][20:01:47.812 generator.   16] Initializing generator aps_mobo\n",
      "[INFO ][20:01:47.814 generator.   64] Initialized generator aps_mobo\n"
     ]
    }
   ],
   "source": [
    "eval_f = get_eval_f(TEST_MODE, gvocs, dfknobs, ivals)\n",
    "ev = FunctionEvaluator(script=eval_f)\n",
    "\n",
    "generator_name = 'aps_mobo'\n",
    "gc = get_generator_class(generator_name)\n",
    "gen = gc(gvocs=gvocs)\n",
    "gen.numerical_optimizer.n_raw_samples = 128 #512\n",
    "gen.numerical_optimizer.n_restarts = 20\n",
    "gen.gp_constructor.use_low_noise_prior = False\n",
    "gen.gp_constructor.use_high_noise_prior = False\n",
    "gen.max_travel_distances = [1.0] * len(gvocs.variables_active)\n",
    "gen.reference_point = reference_point"
   ]
  },
  {
   "cell_type": "code",
   "execution_count": 6,
   "metadata": {},
   "outputs": [
    {
     "name": "stderr",
     "output_type": "stream",
     "text": [
      "[DEBUG][20:01:51.018 optimizer.   83] Initializing optimizer with tag='bcbd87b566' store_history=True dump_every_step=True history_directory=None execution_mode='sync'\n",
      "[DEBUG][20:01:51.020 optimizer.  138] Generator set to: supports_batch_generation=True supports_multi_objective=True vocs=VOCS(variables={'SH1N': [-0.594987363, 0.594987363], 'SH3N': [-0.17565325229999998, 0.17565325229999998], 'SH4N': [-0.4746270213, 0.4746270213], 'SL1': [-0.39814818150000003, 0.39814818150000003], 'SL2': [-1.0703376435, 1.0703376435], 'SL3': [-0.8838258183000001, 0.8838258183000001], 'SH1-DW08': [-0.594987363, 0.594987363], 'SH1-DW18': [-0.594987363, 0.594987363], 'SH1-DW28': [-0.594987363, 0.594987363], 'SH3-DW08': [-0.17565325229999998, 0.17565325229999998], 'SH3-DW18': [-0.17565325229999998, 0.17565325229999998], 'SH3-DW28': [-0.17565325229999998, 0.17565325229999998], 'SH4-DW08': [-0.4746270213, 0.4746270213], 'SH4-DW18': [-0.4746270213, 0.4746270213], 'SH4-DW28': [-0.4746270213, 0.4746270213]}, constraints={}, objectives={'LT': 'MAXIMIZE', 'EFF': 'MAXIMIZE'}, constants={}, observables=[]) data=None model=None n_monte_carlo_samples=128 turbo_controller=None use_cuda=False gp_constructor=MOBOModelConstructor(name='mobo_model', use_low_noise_prior=False, covar_modules={}, mean_modules={}, trainable_mean_keys=[], use_high_noise_prior=False) numerical_optimizer=APSLBFGSOptimizer(name='APSLBFGS', n_raw_samples=128, n_restarts=20, max_iter=2000, sequential=True) max_travel_distances=[1.0, 1.0, 1.0, 1.0, 1.0, 1.0, 1.0, 1.0, 1.0, 1.0, 1.0, 1.0, 1.0, 1.0, 1.0] fixed_features=None computation_time=None log_transform_acquisition_function=False n_interpolate_points=None n_candidates=1 reference_point={'LT': 3.0, 'EFF': 10.0} prune_inferior_points_kwargs=None\n",
      "[DEBUG][20:01:51.020 optimizer.  105] Evaluator: on_error='ignore' max_workers=1 script=<function get_eval_f.<locals>.knobs_to_family at 0x7f01f1904040> post_script=None script_kwargs={} executor=None eval_cnt=0 TRACE=True\n",
      "[INFO ][20:01:51.021 optimizer. 1236] APSopt home directory resolved as /nsls2/users/yhidaka/.apsopt\n",
      "[INFO ][20:01:51.022 optimizer. 1242] APSopt directory /nsls2/users/yhidaka/.apsopt exists\n",
      "[INFO ][20:01:51.023 optimizer. 1249] Creating run subfolder /nsls2/users/yhidaka/.apsopt/2023_12_16-20_01_51-aps_mobo-bcbd87b566-cb154515\n",
      "[INFO ][20:01:51.031 optimizer. 1267] Writing Metadata {'run_id': 'aps_mobo-bcbd87b566-cb154515', 'start_ts': 1702774911.0254743, 'hostname': 'physics01.cs.nsls2.local', 'user': 'yhidaka', 'effective_user': 'yhidaka'} to /nsls2/users/yhidaka/.apsopt/2023_12_16-20_01_51-aps_mobo-bcbd87b566-cb154515/apsopt_metadata.json\n"
     ]
    }
   ],
   "source": [
    "options = AlgorithmOptions(store_history=True, dump_every_step=True)\n",
    "opt = Optimizer(options=options, generator=gen, evaluator=ev, gvocs=gvocs)"
   ]
  },
  {
   "cell_type": "markdown",
   "metadata": {},
   "source": [
    "### Sample at initial values"
   ]
  },
  {
   "cell_type": "code",
   "execution_count": 7,
   "metadata": {},
   "outputs": [
    {
     "name": "stderr",
     "output_type": "stream",
     "text": [
      "[INFO ][20:01:57.130 optimizer.  573] Evaluating 1 inputs\n",
      "[DEBUG][20:01:57.132 evaluators  193] Data kwargs: row={'SH1N': 0.0, 'SH3N': 0.0, 'SH4N': 0.0, 'SL1': 0.0, 'SL2': 0.0, 'SL3': 0.0, 'SH1-DW08': 0.0, 'SH1-DW18': 0.0, 'SH1-DW28': 0.0, 'SH3-DW08': 0.0, 'SH3-DW18': 0.0, 'SH3-DW28': 0.0, 'SH4-DW08': 0.0, 'SH4-DW18': 0.0, 'SH4-DW28': 0.0}\n",
      "[INFO ][20:01:57.136 opt_funcs.  688] Setting sextupoles to {'SH1N': 3.9665824200000004, 'SH3N': -1.171021682, 'SH4N': -3.164180142, 'SL1': -2.6543212100000004, 'SL2': 7.135584290000001, 'SL3': -5.892172122000001, 'SH1-DW08': 3.9665824200000004, 'SH1-DW18': 3.9665824200000004, 'SH1-DW28': 3.9665824200000004, 'SH3-DW08': -1.171021682, 'SH3-DW18': -1.171021682, 'SH3-DW28': -1.171021682, 'SH4-DW08': -3.164180142, 'SH4-DW18': -3.164180142, 'SH4-DW28': -3.164180142}\n"
     ]
    },
    {
     "name": "stdout",
     "output_type": "stream",
     "text": [
      "SH1N   : +3.967 + +0.000 -> +3.967\n",
      "SH3N   : -1.171 + +0.000 -> -1.171\n",
      "SH4N   : -3.164 + +0.000 -> -3.164\n",
      "SL1    : -2.654 + +0.000 -> -2.654\n",
      "SL2    : +7.136 + +0.000 -> +7.136\n",
      "SL3    : -5.892 + +0.000 -> -5.892\n",
      "SH1-DW08: +3.967 + +0.000 -> +3.967\n",
      "SH1-DW18: +3.967 + +0.000 -> +3.967\n",
      "SH1-DW28: +3.967 + +0.000 -> +3.967\n",
      "SH3-DW08: -1.171 + +0.000 -> -1.171\n",
      "SH3-DW18: -1.171 + +0.000 -> -1.171\n",
      "SH3-DW28: -1.171 + +0.000 -> -1.171\n",
      "SH4-DW08: -3.164 + +0.000 -> -3.164\n",
      "SH4-DW18: -3.164 + +0.000 -> -3.164\n",
      "SH4-DW28: -3.164 + +0.000 -> -3.164\n",
      "Sextupole adj. took 0.0.\n",
      "Max FCOR I [A] = 0.021; RMS(dx, dy) [m] = (7.931e-07, 1.109e-06)\n",
      "Orbit correction converged\n"
     ]
    },
    {
     "name": "stderr",
     "output_type": "stream",
     "text": [
      "[INFO ][20:02:01.223 opt_funcs.  734] Lifetime measurement START\n",
      "[INFO ][20:02:06.893 opt_funcs.  781] Efficiency measurement START\n"
     ]
    },
    {
     "name": "stdout",
     "output_type": "stream",
     "text": [
      "** # of outliers found = 3 (out of 180)\n",
      "Lifetime = 6.973 (raw tau [hr] = 7.017, epsy [pm] = 16.08) (took 5.7 [s])\n",
      "Inj. Eff. = 87.04 (took 23.2 [s])\n",
      "Eval. func. finished.\n"
     ]
    },
    {
     "name": "stderr",
     "output_type": "stream",
     "text": [
      "[DEBUG][20:02:30.052 evaluators  211] Result: output={'result': {'_nux': 0.21917589877968563, '_nuy': 0.2660200805491891, '_eps_x_bxbOn': 1.0165654020681953e-09, '_eps_y_bxbOn': 1.6078682464775063e-11, '_eps_x_bxbOff': 1.016942777564496e-09, '_eps_y_bxbOff': 1.6081606132088783e-11, 'LT': 6.9731750502292424, '_raw_LT': 7.016592217548143, 'EFF': 87.04028768157387}, 'exception': None, 'traceback': '', 'wall_time': 32.91919851861894, 'cpu_time': 11.364135695000002}\n",
      "[DEBUG][20:02:30.055 optimizer.  291] Adding (1) new data to internal dataframes\n",
      "[DEBUG][20:02:30.070 optimizer. 1286] Dumped state to [/nsls2/users/yhidaka/.apsopt/2023_12_16-20_01_51-aps_mobo-bcbd87b566-cb154515/dump_auto_00000.json] in [0.01070]s\n"
     ]
    }
   ],
   "source": [
    "opt.generate_at(iknobvals)\n",
    "opt.evaluate_data()"
   ]
  },
  {
   "cell_type": "code",
   "execution_count": 8,
   "metadata": {},
   "outputs": [
    {
     "data": {
      "text/html": [
       "<div>\n",
       "<style scoped>\n",
       "    .dataframe tbody tr th:only-of-type {\n",
       "        vertical-align: middle;\n",
       "    }\n",
       "\n",
       "    .dataframe tbody tr th {\n",
       "        vertical-align: top;\n",
       "    }\n",
       "\n",
       "    .dataframe thead th {\n",
       "        text-align: right;\n",
       "    }\n",
       "</style>\n",
       "<table border=\"1\" class=\"dataframe\">\n",
       "  <thead>\n",
       "    <tr style=\"text-align: right;\">\n",
       "      <th></th>\n",
       "      <th>SH1N</th>\n",
       "      <th>SH3N</th>\n",
       "      <th>SH4N</th>\n",
       "      <th>SL1</th>\n",
       "      <th>SL2</th>\n",
       "      <th>SL3</th>\n",
       "      <th>SH1-DW08</th>\n",
       "      <th>SH1-DW18</th>\n",
       "      <th>SH1-DW28</th>\n",
       "      <th>SH3-DW08</th>\n",
       "      <th>...</th>\n",
       "      <th>valid</th>\n",
       "      <th>_nux</th>\n",
       "      <th>_nuy</th>\n",
       "      <th>_eps_x_bxbOn</th>\n",
       "      <th>_eps_y_bxbOn</th>\n",
       "      <th>_eps_x_bxbOff</th>\n",
       "      <th>_eps_y_bxbOff</th>\n",
       "      <th>LT</th>\n",
       "      <th>_raw_LT</th>\n",
       "      <th>EFF</th>\n",
       "    </tr>\n",
       "  </thead>\n",
       "  <tbody>\n",
       "    <tr>\n",
       "      <th>1</th>\n",
       "      <td>0.0</td>\n",
       "      <td>0.0</td>\n",
       "      <td>0.0</td>\n",
       "      <td>0.0</td>\n",
       "      <td>0.0</td>\n",
       "      <td>0.0</td>\n",
       "      <td>0.0</td>\n",
       "      <td>0.0</td>\n",
       "      <td>0.0</td>\n",
       "      <td>0.0</td>\n",
       "      <td>...</td>\n",
       "      <td>True</td>\n",
       "      <td>0.219176</td>\n",
       "      <td>0.26602</td>\n",
       "      <td>1.016565e-09</td>\n",
       "      <td>1.607868e-11</td>\n",
       "      <td>1.016943e-09</td>\n",
       "      <td>1.608161e-11</td>\n",
       "      <td>6.973175</td>\n",
       "      <td>7.016592</td>\n",
       "      <td>87.040288</td>\n",
       "    </tr>\n",
       "  </tbody>\n",
       "</table>\n",
       "<p>1 rows × 30 columns</p>\n",
       "</div>"
      ],
      "text/plain": [
       "   SH1N  SH3N  SH4N  SL1  SL2  SL3  SH1-DW08  SH1-DW18  SH1-DW28  SH3-DW08  \\\n",
       "1   0.0   0.0   0.0  0.0  0.0  0.0       0.0       0.0       0.0       0.0   \n",
       "\n",
       "   ...  valid      _nux     _nuy  _eps_x_bxbOn  _eps_y_bxbOn _eps_x_bxbOff  \\\n",
       "1  ...   True  0.219176  0.26602  1.016565e-09  1.607868e-11  1.016943e-09   \n",
       "\n",
       "  _eps_y_bxbOff        LT   _raw_LT        EFF  \n",
       "1  1.608161e-11  6.973175  7.016592  87.040288  \n",
       "\n",
       "[1 rows x 30 columns]"
      ]
     },
     "execution_count": 8,
     "metadata": {},
     "output_type": "execute_result"
    }
   ],
   "source": [
    "assert opt.data.iloc[0].valid, f'ERROR: {opt.data.iloc[0].traceback}'\n",
    "opt.data"
   ]
  },
  {
   "cell_type": "markdown",
   "metadata": {},
   "source": [
    "### Sample close to initial point"
   ]
  },
  {
   "cell_type": "code",
   "execution_count": 9,
   "metadata": {},
   "outputs": [
    {
     "name": "stderr",
     "output_type": "stream",
     "text": [
      "[INFO ][20:04:24.588 optimizer.  573] Evaluating 2 inputs\n",
      "[DEBUG][20:04:24.591 evaluators  193] Data kwargs: row={'SH1-DW08': 0.024927297401066185, 'SH1-DW18': 0.019665358990232206, 'SH1-DW28': -0.020351503397451398, 'SH1N': 0.02642514782431705, 'SH3-DW08': 0.0017629066293680176, 'SH3-DW18': 0.0054797687592474074, 'SH3-DW28': -0.008399823468394432, 'SH3N': 0.0024763513375217552, 'SH4-DW08': 0.004842132110498193, 'SH4-DW18': 0.0027211858511958543, 'SH4-DW28': 0.015451561699142989, 'SH4N': 0.01705249736648358, 'SL1': -0.0165155174397106, 'SL2': 0.028782918903023758, 'SL3': 0.04035095621316943}\n",
      "[INFO ][20:04:24.596 opt_funcs.  688] Setting sextupoles to {'SH1N': 3.9930075678243173, 'SH3N': -1.1685453306624782, 'SH4N': -3.1471276446335166, 'SL1': -2.670836727439711, 'SL2': 7.164367208903024, 'SL3': -5.8518211657868315, 'SH1-DW08': 3.9915097174010667, 'SH1-DW18': 3.9862477789902324, 'SH1-DW28': 3.946230916602549, 'SH3-DW08': -1.1692587753706318, 'SH3-DW18': -1.1655419132407525, 'SH3-DW28': -1.1794215054683943, 'SH4-DW08': -3.159338009889502, 'SH4-DW18': -3.1614589561488042, 'SH4-DW28': -3.1487285803008573}\n"
     ]
    },
    {
     "name": "stdout",
     "output_type": "stream",
     "text": [
      "SH1N   : +3.967 + +0.026 -> +3.993\n",
      "SH3N   : -1.171 + +0.002 -> -1.169\n",
      "SH4N   : -3.164 + +0.017 -> -3.147\n",
      "SL1    : -2.654 + -0.017 -> -2.671\n",
      "SL2    : +7.136 + +0.029 -> +7.164\n",
      "SL3    : -5.892 + +0.040 -> -5.852\n",
      "SH1-DW08: +3.967 + +0.025 -> +3.992\n",
      "SH1-DW18: +3.967 + +0.020 -> +3.986\n",
      "SH1-DW28: +3.967 + -0.020 -> +3.946\n",
      "SH3-DW08: -1.171 + +0.002 -> -1.169\n",
      "SH3-DW18: -1.171 + +0.005 -> -1.166\n",
      "SH3-DW28: -1.171 + -0.008 -> -1.179\n",
      "SH4-DW08: -3.164 + +0.005 -> -3.159\n",
      "SH4-DW18: -3.164 + +0.003 -> -3.161\n",
      "SH4-DW28: -3.164 + +0.015 -> -3.149\n",
      "Sextupole adj. took 0.1.\n",
      "Max FCOR I [A] = 0.033; RMS(dx, dy) [m] = (1.002e-06, 1.084e-06)\n",
      "Orbit correction converged\n"
     ]
    },
    {
     "name": "stderr",
     "output_type": "stream",
     "text": [
      "[INFO ][20:04:28.673 opt_funcs.  734] Lifetime measurement START\n",
      "[INFO ][20:04:36.631 opt_funcs.  781] Efficiency measurement START\n"
     ]
    },
    {
     "name": "stdout",
     "output_type": "stream",
     "text": [
      "** # of outliers found = 3 (out of 180)\n",
      "Lifetime = 7.186 (raw tau [hr] = 7.423, epsy [pm] = 16.79) (took 8.0 [s])\n",
      "Inj. Eff. = 79.57 (took 20.1 [s])\n",
      "Eval. func. finished.\n"
     ]
    },
    {
     "name": "stderr",
     "output_type": "stream",
     "text": [
      "[DEBUG][20:04:56.767 evaluators  211] Result: output={'result': {'_nux': 0.2202745138270675, '_nuy': 0.2653792217715497, '_eps_x_bxbOn': 1.014695418398621e-09, '_eps_y_bxbOn': 1.687159851419728e-11, '_eps_x_bxbOff': 1.0155350158728232e-09, '_eps_y_bxbOff': 1.6785057528897704e-11, 'LT': 7.186479356109095, '_raw_LT': 7.42347080350426, 'EFF': 79.5661865357408}, 'exception': None, 'traceback': '', 'wall_time': 32.17486252449453, 'cpu_time': 13.430021492000002}\n",
      "[DEBUG][20:04:56.767 evaluators  193] Data kwargs: row={'SH1-DW08': -0.029235853824873963, 'SH1-DW18': -0.015280130625038194, 'SH1-DW28': 0.025141434613460484, 'SH1N': -0.027684371953286206, 'SH3-DW08': -0.0005796732221714559, 'SH3-DW18': -0.0008423172279650969, 'SH3-DW28': 0.003923386088341916, 'SH3N': -0.007394794220869027, 'SH4-DW08': -0.004434268331259719, 'SH4-DW18': -0.021703354587411284, 'SH4-DW28': -0.018224467912756188, 'SH4N': -0.016005217894693922, 'SL1': 0.00924655691859471, 'SL2': -0.032984536537172135, 'SL3': -0.031105088827951037}\n",
      "[INFO ][20:04:56.771 opt_funcs.  688] Setting sextupoles to {'SH1N': 3.938898048046714, 'SH3N': -1.1784164762208689, 'SH4N': -3.1801853598946943, 'SL1': -2.6450746530814055, 'SL2': 7.102599753462829, 'SL3': -5.923277210827952, 'SH1-DW08': 3.9373465661751266, 'SH1-DW18': 3.9513022893749623, 'SH1-DW28': 3.991723854613461, 'SH3-DW08': -1.1716013552221713, 'SH3-DW18': -1.171863999227965, 'SH3-DW28': -1.167098295911658, 'SH4-DW08': -3.16861441033126, 'SH4-DW18': -3.1858834965874117, 'SH4-DW28': -3.1824046099127563}\n"
     ]
    },
    {
     "name": "stdout",
     "output_type": "stream",
     "text": [
      "SH1N   : +3.967 + -0.028 -> +3.939\n",
      "SH3N   : -1.171 + -0.007 -> -1.178\n",
      "SH4N   : -3.164 + -0.016 -> -3.180\n",
      "SL1    : -2.654 + +0.009 -> -2.645\n",
      "SL2    : +7.136 + -0.033 -> +7.103\n",
      "SL3    : -5.892 + -0.031 -> -5.923\n",
      "SH1-DW08: +3.967 + -0.029 -> +3.937\n",
      "SH1-DW18: +3.967 + -0.015 -> +3.951\n",
      "SH1-DW28: +3.967 + +0.025 -> +3.992\n",
      "SH3-DW08: -1.171 + -0.001 -> -1.172\n",
      "SH3-DW18: -1.171 + -0.001 -> -1.172\n",
      "SH3-DW28: -1.171 + +0.004 -> -1.167\n",
      "SH4-DW08: -3.164 + -0.004 -> -3.169\n",
      "SH4-DW18: -3.164 + -0.022 -> -3.186\n",
      "SH4-DW28: -3.164 + -0.018 -> -3.182\n",
      "Sextupole adj. took 0.1.\n",
      "Max FCOR I [A] = 0.004; RMS(dx, dy) [m] = (1.264e-06, 1.122e-06)\n",
      "Orbit correction converged\n"
     ]
    },
    {
     "name": "stderr",
     "output_type": "stream",
     "text": [
      "[INFO ][20:05:00.846 opt_funcs.  734] Lifetime measurement START\n",
      "[INFO ][20:05:14.341 opt_funcs.  781] Efficiency measurement START\n"
     ]
    },
    {
     "name": "stdout",
     "output_type": "stream",
     "text": [
      "** # of outliers found = 2 (out of 180)\n",
      "Lifetime = 6.867 (raw tau [hr] = 6.792, epsy [pm] = 15.36) (took 13.5 [s])\n",
      "Inj. Eff. = 91.72 (took 20.1 [s])\n",
      "Eval. func. finished.\n"
     ]
    },
    {
     "name": "stderr",
     "output_type": "stream",
     "text": [
      "[DEBUG][20:05:34.466 evaluators  211] Result: output={'result': {'_nux': 0.2180772635779276, '_nuy': 0.2660200906263772, '_eps_x_bxbOn': 1.0186438428871222e-09, '_eps_y_bxbOn': 1.542094012028156e-11, '_eps_x_bxbOff': 1.01883854173629e-09, '_eps_y_bxbOff': 1.5360965577823276e-11, 'LT': 6.86712951899101, '_raw_LT': 6.791881417084153, 'EFF': 91.72168371668039}, 'exception': None, 'traceback': '', 'wall_time': 37.69786343164742, 'cpu_time': 19.62809585}\n",
      "[DEBUG][20:05:34.469 optimizer.  291] Adding (2) new data to internal dataframes\n",
      "[DEBUG][20:05:34.486 optimizer. 1286] Dumped state to [/nsls2/users/yhidaka/.apsopt/2023_12_16-20_01_51-aps_mobo-bcbd87b566-cb154515/dump_auto_00001.json] in [0.01176]s\n"
     ]
    }
   ],
   "source": [
    "mt = {k: 0.05 for k in variables.keys()}\n",
    "opt.generate_random_around_point(n=2, point=iknobvals, spans=mt, use_normalized_distances=True)\n",
    "opt.evaluate_data()"
   ]
  },
  {
   "cell_type": "code",
   "execution_count": 10,
   "metadata": {},
   "outputs": [
    {
     "data": {
      "text/html": [
       "<div>\n",
       "<style scoped>\n",
       "    .dataframe tbody tr th:only-of-type {\n",
       "        vertical-align: middle;\n",
       "    }\n",
       "\n",
       "    .dataframe tbody tr th {\n",
       "        vertical-align: top;\n",
       "    }\n",
       "\n",
       "    .dataframe thead th {\n",
       "        text-align: right;\n",
       "    }\n",
       "</style>\n",
       "<table border=\"1\" class=\"dataframe\">\n",
       "  <thead>\n",
       "    <tr style=\"text-align: right;\">\n",
       "      <th></th>\n",
       "      <th>SH1N</th>\n",
       "      <th>SH3N</th>\n",
       "      <th>SH4N</th>\n",
       "      <th>SL1</th>\n",
       "      <th>SL2</th>\n",
       "      <th>SL3</th>\n",
       "      <th>SH1-DW08</th>\n",
       "      <th>SH1-DW18</th>\n",
       "      <th>SH1-DW28</th>\n",
       "      <th>SH3-DW08</th>\n",
       "      <th>...</th>\n",
       "      <th>valid</th>\n",
       "      <th>_nux</th>\n",
       "      <th>_nuy</th>\n",
       "      <th>_eps_x_bxbOn</th>\n",
       "      <th>_eps_y_bxbOn</th>\n",
       "      <th>_eps_x_bxbOff</th>\n",
       "      <th>_eps_y_bxbOff</th>\n",
       "      <th>LT</th>\n",
       "      <th>_raw_LT</th>\n",
       "      <th>EFF</th>\n",
       "    </tr>\n",
       "  </thead>\n",
       "  <tbody>\n",
       "    <tr>\n",
       "      <th>1</th>\n",
       "      <td>0.000000</td>\n",
       "      <td>0.000000</td>\n",
       "      <td>0.000000</td>\n",
       "      <td>0.000000</td>\n",
       "      <td>0.000000</td>\n",
       "      <td>0.000000</td>\n",
       "      <td>0.000000</td>\n",
       "      <td>0.000000</td>\n",
       "      <td>0.000000</td>\n",
       "      <td>0.000000</td>\n",
       "      <td>...</td>\n",
       "      <td>True</td>\n",
       "      <td>0.219176</td>\n",
       "      <td>0.266020</td>\n",
       "      <td>1.016565e-09</td>\n",
       "      <td>1.607868e-11</td>\n",
       "      <td>1.016943e-09</td>\n",
       "      <td>1.608161e-11</td>\n",
       "      <td>6.973175</td>\n",
       "      <td>7.016592</td>\n",
       "      <td>87.040288</td>\n",
       "    </tr>\n",
       "    <tr>\n",
       "      <th>2</th>\n",
       "      <td>0.026425</td>\n",
       "      <td>0.002476</td>\n",
       "      <td>0.017052</td>\n",
       "      <td>-0.016516</td>\n",
       "      <td>0.028783</td>\n",
       "      <td>0.040351</td>\n",
       "      <td>0.024927</td>\n",
       "      <td>0.019665</td>\n",
       "      <td>-0.020352</td>\n",
       "      <td>0.001763</td>\n",
       "      <td>...</td>\n",
       "      <td>True</td>\n",
       "      <td>0.220275</td>\n",
       "      <td>0.265379</td>\n",
       "      <td>1.014695e-09</td>\n",
       "      <td>1.687160e-11</td>\n",
       "      <td>1.015535e-09</td>\n",
       "      <td>1.678506e-11</td>\n",
       "      <td>7.186479</td>\n",
       "      <td>7.423471</td>\n",
       "      <td>79.566187</td>\n",
       "    </tr>\n",
       "    <tr>\n",
       "      <th>3</th>\n",
       "      <td>-0.027684</td>\n",
       "      <td>-0.007395</td>\n",
       "      <td>-0.016005</td>\n",
       "      <td>0.009247</td>\n",
       "      <td>-0.032985</td>\n",
       "      <td>-0.031105</td>\n",
       "      <td>-0.029236</td>\n",
       "      <td>-0.015280</td>\n",
       "      <td>0.025141</td>\n",
       "      <td>-0.000580</td>\n",
       "      <td>...</td>\n",
       "      <td>True</td>\n",
       "      <td>0.218077</td>\n",
       "      <td>0.266020</td>\n",
       "      <td>1.018644e-09</td>\n",
       "      <td>1.542094e-11</td>\n",
       "      <td>1.018839e-09</td>\n",
       "      <td>1.536097e-11</td>\n",
       "      <td>6.867130</td>\n",
       "      <td>6.791881</td>\n",
       "      <td>91.721684</td>\n",
       "    </tr>\n",
       "  </tbody>\n",
       "</table>\n",
       "<p>3 rows × 30 columns</p>\n",
       "</div>"
      ],
      "text/plain": [
       "       SH1N      SH3N      SH4N       SL1       SL2       SL3  SH1-DW08  \\\n",
       "1  0.000000  0.000000  0.000000  0.000000  0.000000  0.000000  0.000000   \n",
       "2  0.026425  0.002476  0.017052 -0.016516  0.028783  0.040351  0.024927   \n",
       "3 -0.027684 -0.007395 -0.016005  0.009247 -0.032985 -0.031105 -0.029236   \n",
       "\n",
       "   SH1-DW18  SH1-DW28  SH3-DW08  ...  valid      _nux      _nuy  _eps_x_bxbOn  \\\n",
       "1  0.000000  0.000000  0.000000  ...   True  0.219176  0.266020  1.016565e-09   \n",
       "2  0.019665 -0.020352  0.001763  ...   True  0.220275  0.265379  1.014695e-09   \n",
       "3 -0.015280  0.025141 -0.000580  ...   True  0.218077  0.266020  1.018644e-09   \n",
       "\n",
       "   _eps_y_bxbOn _eps_x_bxbOff _eps_y_bxbOff        LT   _raw_LT        EFF  \n",
       "1  1.607868e-11  1.016943e-09  1.608161e-11  6.973175  7.016592  87.040288  \n",
       "2  1.687160e-11  1.015535e-09  1.678506e-11  7.186479  7.423471  79.566187  \n",
       "3  1.542094e-11  1.018839e-09  1.536097e-11  6.867130  6.791881  91.721684  \n",
       "\n",
       "[3 rows x 30 columns]"
      ]
     },
     "execution_count": 10,
     "metadata": {},
     "output_type": "execute_result"
    }
   ],
   "source": [
    "opt.data"
   ]
  },
  {
   "cell_type": "markdown",
   "metadata": {},
   "source": [
    "### Run optimizer"
   ]
  },
  {
   "cell_type": "code",
   "execution_count": 11,
   "metadata": {},
   "outputs": [
    {
     "name": "stderr",
     "output_type": "stream",
     "text": [
      "[DEBUG][20:06:28.235 optimizer.  447] Generating 1 candidates\n",
      "[DEBUG][20:06:28.242 bayesian_g  133] Generating model from vocs self.vocs=VOCS(variables={'SH1N': [-0.594987363, 0.594987363], 'SH3N': [-0.17565325229999998, 0.17565325229999998], 'SH4N': [-0.4746270213, 0.4746270213], 'SL1': [-0.39814818150000003, 0.39814818150000003], 'SL2': [-1.0703376435, 1.0703376435], 'SL3': [-0.8838258183000001, 0.8838258183000001], 'SH1-DW08': [-0.594987363, 0.594987363], 'SH1-DW18': [-0.594987363, 0.594987363], 'SH1-DW28': [-0.594987363, 0.594987363], 'SH3-DW08': [-0.17565325229999998, 0.17565325229999998], 'SH3-DW18': [-0.17565325229999998, 0.17565325229999998], 'SH3-DW28': [-0.17565325229999998, 0.17565325229999998], 'SH4-DW08': [-0.4746270213, 0.4746270213], 'SH4-DW18': [-0.4746270213, 0.4746270213], 'SH4-DW28': [-0.4746270213, 0.4746270213]}, constraints={}, objectives={'LT': 'MAXIMIZE', 'EFF': 'MAXIMIZE'}, constants={}, observables=[]) with len(data)=3\n",
      "[INFO ][20:06:28.488    mobo.py  301] Mobo called with inputs.size()=torch.Size([3, 15])\n",
      "[DEBUG][20:06:31.428 bayesian_g  110] Optimize results: tensor([[-0.1103, -0.1061,  0.0867, -0.1249, -0.0116, -0.0386,  0.0513,  0.0013,\n",
      "         -0.0245,  0.0406, -0.0680, -0.0852,  0.0976, -0.1289, -0.2166]],\n",
      "       dtype=torch.float64)\n",
      "[DEBUG][20:06:31.430 bayesian_g  248] Best candidate from optimize tensor([[-0.1103, -0.1061,  0.0867, -0.1249, -0.0116, -0.0386,  0.0513,  0.0013,\n",
      "         -0.0245,  0.0406, -0.0680, -0.0852,  0.0976, -0.1289, -0.2166]],\n",
      "       dtype=torch.float64)\n",
      "[DEBUG][20:06:31.432 optimizer.  488] Generated 1 inputs\n",
      "[INFO ][20:06:31.436 optimizer.  573] Evaluating 1 inputs\n",
      "[DEBUG][20:06:31.438 evaluators  193] Data kwargs: row={'SH1-DW08': -0.11032456040165295, 'SH1-DW18': -0.10612235834050113, 'SH1-DW28': 0.08669668515866145, 'SH1N': -0.12493381838478443, 'SH3-DW08': -0.01160990184356956, 'SH3-DW18': -0.038633113781886996, 'SH3-DW28': 0.051316134421467874, 'SH3N': 0.001316593804139047, 'SH4-DW08': -0.024541114142305046, 'SH4-DW18': 0.040620898419924514, 'SH4-DW28': -0.06796931555460574, 'SH4N': -0.08515780543598334, 'SL1': 0.09758653863247456, 'SL2': -0.12892434545563516, 'SL3': -0.21660110632495738}\n",
      "[INFO ][20:06:31.441 opt_funcs.  688] Setting sextupoles to {'SH1N': 3.841648601615216, 'SH3N': -1.1697050881958608, 'SH4N': -3.2493379474359836, 'SL1': -2.556734671367526, 'SL2': 7.006659944544365, 'SL3': -6.108773228324958, 'SH1-DW08': 3.8562578595983474, 'SH1-DW18': 3.860460061659499, 'SH1-DW28': 4.053279105158662, 'SH3-DW08': -1.1826315838435695, 'SH3-DW18': -1.2096547957818868, 'SH3-DW28': -1.119705547578532, 'SH4-DW08': -3.1887212561423053, 'SH4-DW18': -3.123559243580076, 'SH4-DW28': -3.232149457554606}\n"
     ]
    },
    {
     "name": "stdout",
     "output_type": "stream",
     "text": [
      "SH1N   : +3.967 + -0.125 -> +3.842\n",
      "SH3N   : -1.171 + +0.001 -> -1.170\n",
      "SH4N   : -3.164 + -0.085 -> -3.249\n",
      "SL1    : -2.654 + +0.098 -> -2.557\n",
      "SL2    : +7.136 + -0.129 -> +7.007\n",
      "SL3    : -5.892 + -0.217 -> -6.109\n",
      "SH1-DW08: +3.967 + -0.110 -> +3.856\n",
      "SH1-DW18: +3.967 + -0.106 -> +3.860\n",
      "SH1-DW28: +3.967 + +0.087 -> +4.053\n",
      "SH3-DW08: -1.171 + -0.012 -> -1.183\n",
      "SH3-DW18: -1.171 + -0.039 -> -1.210\n",
      "SH3-DW28: -1.171 + +0.051 -> -1.120\n",
      "SH4-DW08: -3.164 + -0.025 -> -3.189\n",
      "SH4-DW18: -3.164 + +0.041 -> -3.124\n",
      "SH4-DW28: -3.164 + -0.068 -> -3.232\n",
      "Sextupole adj. took 2.1.\n",
      "Max FCOR I [A] = 0.116; RMS(dx, dy) [m] = (9.971e-06, 1.100e-06)\n",
      "Max FCOR I [A] = 0.116; RMS(dx, dy) [m] = (9.971e-06, 1.100e-06)\n",
      "Max FCOR I [A] = 0.035; RMS(dx, dy) [m] = (1.956e-06, 1.107e-06)\n",
      "Orbit correction converged\n"
     ]
    },
    {
     "name": "stderr",
     "output_type": "stream",
     "text": [
      "[INFO ][20:06:39.572 opt_funcs.  734] Lifetime measurement START\n",
      "[INFO ][20:06:44.089 opt_funcs.  781] Efficiency measurement START\n"
     ]
    },
    {
     "name": "stdout",
     "output_type": "stream",
     "text": [
      "** # of outliers found = 3 (out of 180)\n",
      "Lifetime = 6.296 (raw tau [hr] = 5.838, epsy [pm] = 13.43) (took 4.5 [s])\n",
      "Inj. Eff. = 13.71 (took 19.0 [s])\n",
      "Eval. func. finished.\n"
     ]
    },
    {
     "name": "stderr",
     "output_type": "stream",
     "text": [
      "[DEBUG][20:07:03.108 evaluators  211] Result: output={'result': {'_nux': 0.21545278086182013, '_nuy': 0.26922441474613856, '_eps_x_bxbOn': 1.030741402058106e-09, '_eps_y_bxbOn': 1.3578409877351085e-11, '_eps_x_bxbOff': 1.0295854732410738e-09, '_eps_y_bxbOff': 1.3431074529349086e-11, 'LT': 6.296004680245148, '_raw_LT': 5.837792662608662, 'EFF': 13.710310868010172}, 'exception': None, 'traceback': '', 'wall_time': 31.669447265565395, 'cpu_time': 16.742459644999997}\n",
      "[DEBUG][20:07:03.111 optimizer.  291] Adding (1) new data to internal dataframes\n",
      "[DEBUG][20:07:03.126 optimizer. 1286] Dumped state to [/nsls2/users/yhidaka/.apsopt/2023_12_16-20_01_51-aps_mobo-bcbd87b566-cb154515/dump_auto_00002.json] in [0.01022]s\n"
     ]
    }
   ],
   "source": [
    "opt.step()"
   ]
  },
  {
   "cell_type": "code",
   "execution_count": 12,
   "metadata": {},
   "outputs": [
    {
     "name": "stderr",
     "output_type": "stream",
     "text": [
      "[DEBUG][20:07:21.795 optimizer.  447] Generating 1 candidates\n",
      "[DEBUG][20:07:21.802 bayesian_g  133] Generating model from vocs self.vocs=VOCS(variables={'SH1N': [-0.594987363, 0.594987363], 'SH3N': [-0.17565325229999998, 0.17565325229999998], 'SH4N': [-0.4746270213, 0.4746270213], 'SL1': [-0.39814818150000003, 0.39814818150000003], 'SL2': [-1.0703376435, 1.0703376435], 'SL3': [-0.8838258183000001, 0.8838258183000001], 'SH1-DW08': [-0.594987363, 0.594987363], 'SH1-DW18': [-0.594987363, 0.594987363], 'SH1-DW28': [-0.594987363, 0.594987363], 'SH3-DW08': [-0.17565325229999998, 0.17565325229999998], 'SH3-DW18': [-0.17565325229999998, 0.17565325229999998], 'SH3-DW28': [-0.17565325229999998, 0.17565325229999998], 'SH4-DW08': [-0.4746270213, 0.4746270213], 'SH4-DW18': [-0.4746270213, 0.4746270213], 'SH4-DW28': [-0.4746270213, 0.4746270213]}, constraints={}, objectives={'LT': 'MAXIMIZE', 'EFF': 'MAXIMIZE'}, constants={}, observables=[]) with len(data)=4\n"
     ]
    },
    {
     "name": "stdout",
     "output_type": "stream",
     "text": [
      "\n",
      "** Step #1 at 2023-12-16 20:07:21**\n",
      "\n"
     ]
    },
    {
     "name": "stderr",
     "output_type": "stream",
     "text": [
      "[INFO ][20:07:22.422    mobo.py  301] Mobo called with inputs.size()=torch.Size([4, 15])\n",
      "[DEBUG][20:07:24.154 bayesian_g  110] Optimize results: tensor([[-0.0549,  0.0247,  0.0549, -0.0321,  0.0105,  0.0370, -0.0240, -0.0501,\n",
      "          0.0022, -0.1988, -0.0338, -0.0029, -0.0433, -0.0530,  0.0326]],\n",
      "       dtype=torch.float64)\n",
      "[DEBUG][20:07:24.155 bayesian_g  248] Best candidate from optimize tensor([[-0.0549,  0.0247,  0.0549, -0.0321,  0.0105,  0.0370, -0.0240, -0.0501,\n",
      "          0.0022, -0.1988, -0.0338, -0.0029, -0.0433, -0.0530,  0.0326]],\n",
      "       dtype=torch.float64)\n",
      "[DEBUG][20:07:24.157 optimizer.  488] Generated 1 inputs\n",
      "[INFO ][20:07:24.160 optimizer.  573] Evaluating 1 inputs\n",
      "[DEBUG][20:07:24.162 evaluators  193] Data kwargs: row={'SH1-DW08': -0.054869732214885336, 'SH1-DW18': 0.024719507659196463, 'SH1-DW28': 0.05487479186570433, 'SH1N': -0.03214775098298064, 'SH3-DW08': 0.010537038352353726, 'SH3-DW18': 0.03697965670081909, 'SH3-DW28': -0.024018725169819274, 'SH3N': -0.05006223685688819, 'SH4-DW08': 0.0021596440542866126, 'SH4-DW18': -0.19880788017611434, 'SH4-DW28': -0.03380894260051885, 'SH4N': -0.002917641154362462, 'SL1': -0.04332829144236601, 'SL2': -0.0529573325455844, 'SL3': 0.03261685973798102}\n",
      "[INFO ][20:07:24.166 opt_funcs.  688] Setting sextupoles to {'SH1N': 3.9344346690170195, 'SH3N': -1.221083918856888, 'SH4N': -3.1670977831543627, 'SL1': -2.6976495014423665, 'SL2': 7.0826269574544165, 'SL3': -5.8595552622620195, 'SH1-DW08': 3.911712687785115, 'SH1-DW18': 3.991301927659197, 'SH1-DW28': 4.021457211865704, 'SH3-DW08': -1.1604846436476461, 'SH3-DW18': -1.1340420252991807, 'SH3-DW28': -1.195040407169819, 'SH4-DW08': -3.1620204979457136, 'SH4-DW18': -3.3629880221761144, 'SH4-DW28': -3.1979890846005192}\n"
     ]
    },
    {
     "name": "stdout",
     "output_type": "stream",
     "text": [
      "SH1N   : +3.967 + -0.032 -> +3.934\n",
      "SH3N   : -1.171 + -0.050 -> -1.221\n",
      "SH4N   : -3.164 + -0.003 -> -3.167\n",
      "SL1    : -2.654 + -0.043 -> -2.698\n",
      "SL2    : +7.136 + -0.053 -> +7.083\n",
      "SL3    : -5.892 + +0.033 -> -5.860\n",
      "SH1-DW08: +3.967 + -0.055 -> +3.912\n",
      "SH1-DW18: +3.967 + +0.025 -> +3.991\n",
      "SH1-DW28: +3.967 + +0.055 -> +4.021\n",
      "SH3-DW08: -1.171 + +0.011 -> -1.160\n",
      "SH3-DW18: -1.171 + +0.037 -> -1.134\n",
      "SH3-DW28: -1.171 + -0.024 -> -1.195\n",
      "SH4-DW08: -3.164 + +0.002 -> -3.162\n",
      "SH4-DW18: -3.164 + -0.199 -> -3.363\n",
      "SH4-DW28: -3.164 + -0.034 -> -3.198\n",
      "Sextupole adj. took 3.1.\n",
      "Max FCOR I [A] = 0.068; RMS(dx, dy) [m] = (8.259e-06, 1.122e-06)\n",
      "Orbit correction converged\n"
     ]
    },
    {
     "name": "stderr",
     "output_type": "stream",
     "text": [
      "[INFO ][20:07:31.319 opt_funcs.  734] Lifetime measurement START\n",
      "[INFO ][20:07:39.348 opt_funcs.  781] Efficiency measurement START\n"
     ]
    },
    {
     "name": "stdout",
     "output_type": "stream",
     "text": [
      "** # of outliers found = 3 (out of 180)\n",
      "Lifetime = 6.855 (raw tau [hr] = 6.765, epsy [pm] = 15.16) (took 8.0 [s])\n",
      "Inj. Eff. = 92.10 (took 18.8 [s])\n",
      "Eval. func. finished.\n"
     ]
    },
    {
     "name": "stderr",
     "output_type": "stream",
     "text": [
      "[DEBUG][20:07:58.131 evaluators  211] Result: output={'result': {'_nux': 0.2187791699611168, '_nuy': 0.2673933695127926, '_eps_x_bxbOn': 1.024498554419845e-09, '_eps_y_bxbOn': 1.5253122920432985e-11, '_eps_x_bxbOff': 1.0192997785803114e-09, '_eps_y_bxbOff': 1.515801403631086e-11, 'LT': 6.854726748381058, '_raw_LT': 6.7648289524014205, 'EFF': 92.10395205480872}, 'exception': None, 'traceback': '', 'wall_time': 33.96796113997698, 'cpu_time': 20.119059271000026}\n",
      "[DEBUG][20:07:58.134 optimizer.  291] Adding (1) new data to internal dataframes\n",
      "[DEBUG][20:07:58.153 optimizer. 1286] Dumped state to [/nsls2/users/yhidaka/.apsopt/2023_12_16-20_01_51-aps_mobo-bcbd87b566-cb154515/dump_auto_00003.json] in [0.01264]s\n",
      "[DEBUG][20:07:58.154 optimizer.  447] Generating 1 candidates\n",
      "[DEBUG][20:07:58.158 bayesian_g  133] Generating model from vocs self.vocs=VOCS(variables={'SH1N': [-0.594987363, 0.594987363], 'SH3N': [-0.17565325229999998, 0.17565325229999998], 'SH4N': [-0.4746270213, 0.4746270213], 'SL1': [-0.39814818150000003, 0.39814818150000003], 'SL2': [-1.0703376435, 1.0703376435], 'SL3': [-0.8838258183000001, 0.8838258183000001], 'SH1-DW08': [-0.594987363, 0.594987363], 'SH1-DW18': [-0.594987363, 0.594987363], 'SH1-DW28': [-0.594987363, 0.594987363], 'SH3-DW08': [-0.17565325229999998, 0.17565325229999998], 'SH3-DW18': [-0.17565325229999998, 0.17565325229999998], 'SH3-DW28': [-0.17565325229999998, 0.17565325229999998], 'SH4-DW08': [-0.4746270213, 0.4746270213], 'SH4-DW18': [-0.4746270213, 0.4746270213], 'SH4-DW28': [-0.4746270213, 0.4746270213]}, constraints={}, objectives={'LT': 'MAXIMIZE', 'EFF': 'MAXIMIZE'}, constants={}, observables=[]) with len(data)=5\n"
     ]
    },
    {
     "name": "stdout",
     "output_type": "stream",
     "text": [
      "\n",
      "** Step #2 at 2023-12-16 20:07:58**\n",
      "\n"
     ]
    },
    {
     "name": "stderr",
     "output_type": "stream",
     "text": [
      "[INFO ][20:07:58.645    mobo.py  301] Mobo called with inputs.size()=torch.Size([5, 15])\n",
      "[DEBUG][20:08:01.994 bayesian_g  110] Optimize results: tensor([[-0.0957, -0.0208,  0.0989, -0.0666, -0.0015,  0.0345, -0.0494, -0.0182,\n",
      "         -0.0217, -0.0014, -0.0718, -0.0402, -0.0526, -0.1405,  0.0369]],\n",
      "       dtype=torch.float64)\n",
      "[DEBUG][20:08:01.995 bayesian_g  248] Best candidate from optimize tensor([[-0.0957, -0.0208,  0.0989, -0.0666, -0.0015,  0.0345, -0.0494, -0.0182,\n",
      "         -0.0217, -0.0014, -0.0718, -0.0402, -0.0526, -0.1405,  0.0369]],\n",
      "       dtype=torch.float64)\n",
      "[DEBUG][20:08:01.997 optimizer.  488] Generated 1 inputs\n",
      "[INFO ][20:08:02.001 optimizer.  573] Evaluating 1 inputs\n",
      "[DEBUG][20:08:02.002 evaluators  193] Data kwargs: row={'SH1-DW08': -0.09565840639075474, 'SH1-DW18': -0.020786881234892994, 'SH1-DW28': 0.09886336625187851, 'SH1N': -0.0665816436929967, 'SH3-DW08': -0.0015258980830843542, 'SH3-DW18': 0.03445188424212052, 'SH3-DW28': -0.04935412881988741, 'SH3N': -0.018183719367852295, 'SH4-DW08': -0.021737582191177458, 'SH4-DW18': -0.001351818414002894, 'SH4-DW28': -0.0718135456166492, 'SH4N': -0.04015394667829542, 'SL1': -0.05258971259175125, 'SL2': -0.1404800570460181, 'SL3': 0.03688943999332384}\n",
      "[INFO ][20:08:02.005 opt_funcs.  688] Setting sextupoles to {'SH1N': 3.9000007763070035, 'SH3N': -1.1892054013678521, 'SH4N': -3.2043340886782956, 'SL1': -2.7069109225917516, 'SL2': 6.995104232953983, 'SL3': -5.855282682006677, 'SH1-DW08': 3.8709240136092458, 'SH1-DW18': 3.9457955387651076, 'SH1-DW28': 4.065445786251879, 'SH3-DW08': -1.1725475800830842, 'SH3-DW18': -1.1365697977578795, 'SH3-DW28': -1.2203758108198872, 'SH4-DW08': -3.1859177241911776, 'SH4-DW18': -3.165531960414003, 'SH4-DW28': -3.2359936876166495}\n"
     ]
    },
    {
     "name": "stdout",
     "output_type": "stream",
     "text": [
      "SH1N   : +3.967 + -0.067 -> +3.900\n",
      "SH3N   : -1.171 + -0.018 -> -1.189\n",
      "SH4N   : -3.164 + -0.040 -> -3.204\n",
      "SL1    : -2.654 + -0.053 -> -2.707\n",
      "SL2    : +7.136 + -0.140 -> +6.995\n",
      "SL3    : -5.892 + +0.037 -> -5.855\n",
      "SH1-DW08: +3.967 + -0.096 -> +3.871\n",
      "SH1-DW18: +3.967 + -0.021 -> +3.946\n",
      "SH1-DW28: +3.967 + +0.099 -> +4.065\n",
      "SH3-DW08: -1.171 + -0.002 -> -1.173\n",
      "SH3-DW18: -1.171 + +0.034 -> -1.137\n",
      "SH3-DW28: -1.171 + -0.049 -> -1.220\n",
      "SH4-DW08: -3.164 + -0.022 -> -3.186\n",
      "SH4-DW18: -3.164 + -0.001 -> -3.166\n",
      "SH4-DW28: -3.164 + -0.072 -> -3.236\n",
      "Sextupole adj. took 2.1.\n",
      "Max FCOR I [A] = 0.064; RMS(dx, dy) [m] = (3.027e-06, 1.128e-06)\n",
      "Orbit correction converged\n"
     ]
    },
    {
     "name": "stderr",
     "output_type": "stream",
     "text": [
      "[INFO ][20:08:08.120 opt_funcs.  734] Lifetime measurement START\n",
      "[INFO ][20:08:13.565 opt_funcs.  781] Efficiency measurement START\n"
     ]
    },
    {
     "name": "stdout",
     "output_type": "stream",
     "text": [
      "** # of outliers found = 6 (out of 180)\n",
      "Lifetime = 6.668 (raw tau [hr] = 6.463, epsy [pm] = 14.59) (took 5.4 [s])\n",
      "Inj. Eff. = 83.58 (took 18.2 [s])\n",
      "Eval. func. finished.\n"
     ]
    },
    {
     "name": "stderr",
     "output_type": "stream",
     "text": [
      "[DEBUG][20:08:31.756 evaluators  211] Result: output={'result': {'_nux': 0.21755846977982346, '_nuy': 0.2673933695127926, '_eps_x_bxbOn': 1.0198366267282616e-09, '_eps_y_bxbOn': 1.4756012817583822e-11, '_eps_x_bxbOff': 1.0199694224980154e-09, '_eps_y_bxbOff': 1.4593024010402296e-11, 'LT': 6.667900652353452, '_raw_LT': 6.4625947118454175, 'EFF': 83.57968647027599}, 'exception': None, 'traceback': '', 'wall_time': 29.75275330338627, 'cpu_time': 17.68480175000002}\n",
      "[DEBUG][20:08:31.759 optimizer.  291] Adding (1) new data to internal dataframes\n",
      "[DEBUG][20:08:31.782 optimizer. 1286] Dumped state to [/nsls2/users/yhidaka/.apsopt/2023_12_16-20_01_51-aps_mobo-bcbd87b566-cb154515/dump_auto_00004.json] in [0.01692]s\n",
      "[DEBUG][20:08:31.783 optimizer.  447] Generating 1 candidates\n",
      "[DEBUG][20:08:31.788 bayesian_g  133] Generating model from vocs self.vocs=VOCS(variables={'SH1N': [-0.594987363, 0.594987363], 'SH3N': [-0.17565325229999998, 0.17565325229999998], 'SH4N': [-0.4746270213, 0.4746270213], 'SL1': [-0.39814818150000003, 0.39814818150000003], 'SL2': [-1.0703376435, 1.0703376435], 'SL3': [-0.8838258183000001, 0.8838258183000001], 'SH1-DW08': [-0.594987363, 0.594987363], 'SH1-DW18': [-0.594987363, 0.594987363], 'SH1-DW28': [-0.594987363, 0.594987363], 'SH3-DW08': [-0.17565325229999998, 0.17565325229999998], 'SH3-DW18': [-0.17565325229999998, 0.17565325229999998], 'SH3-DW28': [-0.17565325229999998, 0.17565325229999998], 'SH4-DW08': [-0.4746270213, 0.4746270213], 'SH4-DW18': [-0.4746270213, 0.4746270213], 'SH4-DW28': [-0.4746270213, 0.4746270213]}, constraints={}, objectives={'LT': 'MAXIMIZE', 'EFF': 'MAXIMIZE'}, constants={}, observables=[]) with len(data)=6\n"
     ]
    },
    {
     "name": "stdout",
     "output_type": "stream",
     "text": [
      "\n",
      "** Step #3 at 2023-12-16 20:08:31**\n",
      "\n"
     ]
    },
    {
     "name": "stderr",
     "output_type": "stream",
     "text": [
      "[INFO ][20:08:32.433    mobo.py  301] Mobo called with inputs.size()=torch.Size([6, 15])\n",
      "[DEBUG][20:08:37.170 bayesian_g  110] Optimize results: tensor([[ 0.0364, -0.0508, -0.0354, -0.0509, -0.0054,  0.0087, -0.0304, -0.0421,\n",
      "         -0.0205, -0.1625,  0.0063, -0.0392, -0.0002, -0.0390, -0.0775]],\n",
      "       dtype=torch.float64)\n",
      "[DEBUG][20:08:37.171 bayesian_g  248] Best candidate from optimize tensor([[ 0.0364, -0.0508, -0.0354, -0.0509, -0.0054,  0.0087, -0.0304, -0.0421,\n",
      "         -0.0205, -0.1625,  0.0063, -0.0392, -0.0002, -0.0390, -0.0775]],\n",
      "       dtype=torch.float64)\n",
      "[DEBUG][20:08:37.173 optimizer.  488] Generated 1 inputs\n",
      "[INFO ][20:08:37.177 optimizer.  573] Evaluating 1 inputs\n",
      "[DEBUG][20:08:37.178 evaluators  193] Data kwargs: row={'SH1-DW08': 0.03637656149593966, 'SH1-DW18': -0.05082323403356671, 'SH1-DW28': -0.0354045732877958, 'SH1N': -0.0509486605898305, 'SH3-DW08': -0.005422796828432818, 'SH3-DW18': 0.008656146733055098, 'SH3-DW28': -0.030431660972480228, 'SH3N': -0.04211719573033916, 'SH4-DW08': -0.0205127332071792, 'SH4-DW18': -0.16245735377965112, 'SH4-DW28': 0.006277302360505814, 'SH4N': -0.039218093239664444, 'SL1': -0.0002487385281877085, 'SL2': -0.03903571574733669, 'SL3': -0.07746610954119648}\n",
      "[INFO ][20:08:37.182 opt_funcs.  688] Setting sextupoles to {'SH1N': 3.91563375941017, 'SH3N': -1.2131388777303391, 'SH4N': -3.2033982352396646, 'SL1': -2.654569948528188, 'SL2': 7.0965485742526635, 'SL3': -5.9696382315411975, 'SH1-DW08': 4.00295898149594, 'SH1-DW18': 3.915759185966434, 'SH1-DW28': 3.9311778467122047, 'SH3-DW08': -1.1764444788284327, 'SH3-DW18': -1.1623655352669449, 'SH3-DW28': -1.20145334297248, 'SH4-DW08': -3.1846928752071793, 'SH4-DW18': -3.3266374957796514, 'SH4-DW28': -3.1579028396394944}\n"
     ]
    },
    {
     "name": "stdout",
     "output_type": "stream",
     "text": [
      "SH1N   : +3.967 + -0.051 -> +3.916\n",
      "SH3N   : -1.171 + -0.042 -> -1.213\n",
      "SH4N   : -3.164 + -0.039 -> -3.203\n",
      "SL1    : -2.654 + -0.000 -> -2.655\n",
      "SL2    : +7.136 + -0.039 -> +7.097\n",
      "SL3    : -5.892 + -0.077 -> -5.970\n",
      "SH1-DW08: +3.967 + +0.036 -> +4.003\n",
      "SH1-DW18: +3.967 + -0.051 -> +3.916\n",
      "SH1-DW28: +3.967 + -0.035 -> +3.931\n",
      "SH3-DW08: -1.171 + -0.005 -> -1.176\n",
      "SH3-DW18: -1.171 + +0.009 -> -1.162\n",
      "SH3-DW28: -1.171 + -0.030 -> -1.201\n",
      "SH4-DW08: -3.164 + -0.021 -> -3.185\n",
      "SH4-DW18: -3.164 + -0.162 -> -3.327\n",
      "SH4-DW28: -3.164 + +0.006 -> -3.158\n",
      "Sextupole adj. took 1.1.\n",
      "Max FCOR I [A] = 0.083; RMS(dx, dy) [m] = (1.761e-06, 1.125e-06)\n",
      "Orbit correction converged\n"
     ]
    },
    {
     "name": "stderr",
     "output_type": "stream",
     "text": [
      "[INFO ][20:08:42.385 opt_funcs.  734] Lifetime measurement START\n",
      "[INFO ][20:08:48.313 opt_funcs.  781] Efficiency measurement START\n"
     ]
    },
    {
     "name": "stdout",
     "output_type": "stream",
     "text": [
      "** # of outliers found = 6 (out of 180)\n",
      "Lifetime = 6.737 (raw tau [hr] = 6.561, epsy [pm] = 14.70) (took 5.9 [s])\n",
      "Inj. Eff. = 84.74 (took 19.1 [s])\n",
      "Eval. func. finished.\n"
     ]
    },
    {
     "name": "stderr",
     "output_type": "stream",
     "text": [
      "[DEBUG][20:09:07.414 evaluators  211] Result: output={'result': {'_nux': 0.2178331235416689, '_nuy': 0.26754595829510275, '_eps_x_bxbOn': 1.0189281334778274e-09, '_eps_y_bxbOn': 1.483688577668576e-11, '_eps_x_bxbOff': 1.0206757961212795e-09, '_eps_y_bxbOff': 1.4703705584250534e-11, 'LT': 6.737303154538678, '_raw_LT': 6.561370119081869, 'EFF': 84.73726254755115}, 'exception': None, 'traceback': '', 'wall_time': 30.23480544053018, 'cpu_time': 17.922042919999967}\n",
      "[DEBUG][20:09:07.418 optimizer.  291] Adding (1) new data to internal dataframes\n",
      "[DEBUG][20:09:07.435 optimizer. 1286] Dumped state to [/nsls2/users/yhidaka/.apsopt/2023_12_16-20_01_51-aps_mobo-bcbd87b566-cb154515/dump_auto_00005.json] in [0.01297]s\n",
      "[DEBUG][20:09:07.436 optimizer.  447] Generating 1 candidates\n",
      "[DEBUG][20:09:07.440 bayesian_g  133] Generating model from vocs self.vocs=VOCS(variables={'SH1N': [-0.594987363, 0.594987363], 'SH3N': [-0.17565325229999998, 0.17565325229999998], 'SH4N': [-0.4746270213, 0.4746270213], 'SL1': [-0.39814818150000003, 0.39814818150000003], 'SL2': [-1.0703376435, 1.0703376435], 'SL3': [-0.8838258183000001, 0.8838258183000001], 'SH1-DW08': [-0.594987363, 0.594987363], 'SH1-DW18': [-0.594987363, 0.594987363], 'SH1-DW28': [-0.594987363, 0.594987363], 'SH3-DW08': [-0.17565325229999998, 0.17565325229999998], 'SH3-DW18': [-0.17565325229999998, 0.17565325229999998], 'SH3-DW28': [-0.17565325229999998, 0.17565325229999998], 'SH4-DW08': [-0.4746270213, 0.4746270213], 'SH4-DW18': [-0.4746270213, 0.4746270213], 'SH4-DW28': [-0.4746270213, 0.4746270213]}, constraints={}, objectives={'LT': 'MAXIMIZE', 'EFF': 'MAXIMIZE'}, constants={}, observables=[]) with len(data)=7\n"
     ]
    },
    {
     "name": "stdout",
     "output_type": "stream",
     "text": [
      "\n",
      "** Step #4 at 2023-12-16 20:09:07**\n",
      "\n"
     ]
    },
    {
     "name": "stderr",
     "output_type": "stream",
     "text": [
      "[INFO ][20:09:08.600    mobo.py  301] Mobo called with inputs.size()=torch.Size([7, 15])\n",
      "[DEBUG][20:09:13.529 bayesian_g  110] Optimize results: tensor([[-0.1153,  0.0343,  0.0996,  0.0387,  0.0062,  0.0095, -0.0115, -0.0273,\n",
      "          0.0065, -0.1332, -0.0501,  0.0437,  0.0025, -0.0108, -0.0322]],\n",
      "       dtype=torch.float64)\n",
      "[DEBUG][20:09:13.531 bayesian_g  248] Best candidate from optimize tensor([[-0.1153,  0.0343,  0.0996,  0.0387,  0.0062,  0.0095, -0.0115, -0.0273,\n",
      "          0.0065, -0.1332, -0.0501,  0.0437,  0.0025, -0.0108, -0.0322]],\n",
      "       dtype=torch.float64)\n",
      "[DEBUG][20:09:13.534 optimizer.  488] Generated 1 inputs\n",
      "[INFO ][20:09:13.538 optimizer.  573] Evaluating 1 inputs\n",
      "[DEBUG][20:09:13.541 evaluators  193] Data kwargs: row={'SH1-DW08': -0.11534373009019262, 'SH1-DW18': 0.03428792411370203, 'SH1-DW28': 0.09959944124838661, 'SH1N': 0.038686212836225684, 'SH3-DW08': 0.006194891814193272, 'SH3-DW18': 0.009533095845955464, 'SH3-DW28': -0.01146939366902174, 'SH3N': -0.027284834325504652, 'SH4-DW08': 0.006462763997823957, 'SH4-DW18': -0.13316651462517343, 'SH4-DW28': -0.0501246815573189, 'SH4N': 0.04367982061880953, 'SL1': 0.0024616669348995106, 'SL2': -0.010763268449544209, 'SL3': -0.032243567685476926}\n",
      "[INFO ][20:09:13.545 opt_funcs.  688] Setting sextupoles to {'SH1N': 4.005268632836226, 'SH3N': -1.1983065163255044, 'SH4N': -3.120500321381191, 'SL1': -2.651859543065101, 'SL2': 7.124821021550456, 'SL3': -5.924415689685477, 'SH1-DW08': 3.851238689909808, 'SH1-DW18': 4.000870344113703, 'SH1-DW28': 4.066181861248387, 'SH3-DW08': -1.1648267901858067, 'SH3-DW18': -1.1614885861540445, 'SH3-DW28': -1.1824910756690217, 'SH4-DW08': -3.157717378002176, 'SH4-DW18': -3.2973466566251735, 'SH4-DW28': -3.214304823557319}\n"
     ]
    },
    {
     "name": "stdout",
     "output_type": "stream",
     "text": [
      "SH1N   : +3.967 + +0.039 -> +4.005\n",
      "SH3N   : -1.171 + -0.027 -> -1.198\n",
      "SH4N   : -3.164 + +0.044 -> -3.121\n",
      "SL1    : -2.654 + +0.002 -> -2.652\n",
      "SL2    : +7.136 + -0.011 -> +7.125\n",
      "SL3    : -5.892 + -0.032 -> -5.924\n",
      "SH1-DW08: +3.967 + -0.115 -> +3.851\n",
      "SH1-DW18: +3.967 + +0.034 -> +4.001\n",
      "SH1-DW28: +3.967 + +0.100 -> +4.066\n",
      "SH3-DW08: -1.171 + +0.006 -> -1.165\n",
      "SH3-DW18: -1.171 + +0.010 -> -1.161\n",
      "SH3-DW28: -1.171 + -0.011 -> -1.182\n",
      "SH4-DW08: -3.164 + +0.006 -> -3.158\n",
      "SH4-DW18: -3.164 + -0.133 -> -3.297\n",
      "SH4-DW28: -3.164 + -0.050 -> -3.214\n",
      "Sextupole adj. took 1.1.\n",
      "Max FCOR I [A] = 0.014; RMS(dx, dy) [m] = (1.016e-06, 1.147e-06)\n",
      "Orbit correction converged\n"
     ]
    },
    {
     "name": "stderr",
     "output_type": "stream",
     "text": [
      "[INFO ][20:09:18.638 opt_funcs.  734] Lifetime measurement START\n",
      "[INFO ][20:09:24.626 opt_funcs.  781] Efficiency measurement START\n"
     ]
    },
    {
     "name": "stdout",
     "output_type": "stream",
     "text": [
      "** # of outliers found = 3 (out of 180)\n",
      "Lifetime = 7.148 (raw tau [hr] = 7.277, epsy [pm] = 16.03) (took 6.0 [s])\n",
      "Inj. Eff. = 85.75 (took 18.4 [s])\n",
      "Eval. func. finished.\n"
     ]
    },
    {
     "name": "stderr",
     "output_type": "stream",
     "text": [
      "[DEBUG][20:09:43.075 evaluators  211] Result: output={'result': {'_nux': 0.21714140183659278, '_nuy': 0.2666609594812047, '_eps_x_bxbOn': 1.0163004680687495e-09, '_eps_y_bxbOn': 1.62837277113674e-11, '_eps_x_bxbOff': 1.017481272833396e-09, '_eps_y_bxbOff': 1.6032135919191906e-11, 'LT': 7.1475110889465245, '_raw_LT': 7.276649247500875, 'EFF': 85.74898583392925}, 'exception': None, 'traceback': '', 'wall_time': 29.532872853800654, 'cpu_time': 17.883437077000053}\n",
      "[DEBUG][20:09:43.077 optimizer.  291] Adding (1) new data to internal dataframes\n",
      "[DEBUG][20:09:43.097 optimizer. 1286] Dumped state to [/nsls2/users/yhidaka/.apsopt/2023_12_16-20_01_51-aps_mobo-bcbd87b566-cb154515/dump_auto_00006.json] in [0.01498]s\n",
      "[DEBUG][20:09:43.097 optimizer.  447] Generating 1 candidates\n",
      "[DEBUG][20:09:43.104 bayesian_g  133] Generating model from vocs self.vocs=VOCS(variables={'SH1N': [-0.594987363, 0.594987363], 'SH3N': [-0.17565325229999998, 0.17565325229999998], 'SH4N': [-0.4746270213, 0.4746270213], 'SL1': [-0.39814818150000003, 0.39814818150000003], 'SL2': [-1.0703376435, 1.0703376435], 'SL3': [-0.8838258183000001, 0.8838258183000001], 'SH1-DW08': [-0.594987363, 0.594987363], 'SH1-DW18': [-0.594987363, 0.594987363], 'SH1-DW28': [-0.594987363, 0.594987363], 'SH3-DW08': [-0.17565325229999998, 0.17565325229999998], 'SH3-DW18': [-0.17565325229999998, 0.17565325229999998], 'SH3-DW28': [-0.17565325229999998, 0.17565325229999998], 'SH4-DW08': [-0.4746270213, 0.4746270213], 'SH4-DW18': [-0.4746270213, 0.4746270213], 'SH4-DW28': [-0.4746270213, 0.4746270213]}, constraints={}, objectives={'LT': 'MAXIMIZE', 'EFF': 'MAXIMIZE'}, constants={}, observables=[]) with len(data)=8\n"
     ]
    },
    {
     "name": "stdout",
     "output_type": "stream",
     "text": [
      "\n",
      "** Step #5 at 2023-12-16 20:09:43**\n",
      "\n"
     ]
    },
    {
     "name": "stderr",
     "output_type": "stream",
     "text": [
      "[INFO ][20:09:43.537    mobo.py  301] Mobo called with inputs.size()=torch.Size([8, 15])\n",
      "[DEBUG][20:09:48.077 bayesian_g  110] Optimize results: tensor([[-0.0391, -0.0025,  0.0431, -0.0519,  0.0095,  0.0269,  0.0065, -0.0312,\n",
      "          0.0012, -0.0987, -0.0332, -0.0443, -0.0319, -0.0897,  0.0398]],\n",
      "       dtype=torch.float64)\n",
      "[DEBUG][20:09:48.079 bayesian_g  248] Best candidate from optimize tensor([[-0.0391, -0.0025,  0.0431, -0.0519,  0.0095,  0.0269,  0.0065, -0.0312,\n",
      "          0.0012, -0.0987, -0.0332, -0.0443, -0.0319, -0.0897,  0.0398]],\n",
      "       dtype=torch.float64)\n",
      "[DEBUG][20:09:48.081 optimizer.  488] Generated 1 inputs\n",
      "[INFO ][20:09:48.084 optimizer.  573] Evaluating 1 inputs\n",
      "[DEBUG][20:09:48.085 evaluators  193] Data kwargs: row={'SH1-DW08': -0.03908331022751944, 'SH1-DW18': -0.0024666042809971486, 'SH1-DW28': 0.043064051979117876, 'SH1N': -0.05193319814838254, 'SH3-DW08': 0.009486992392443383, 'SH3-DW18': 0.02689935155201201, 'SH3-DW28': 0.0065492976623046355, 'SH3N': -0.031198587108041995, 'SH4-DW08': 0.001183686329026408, 'SH4-DW18': -0.09873377499360966, 'SH4-DW28': -0.033216125189314036, 'SH4N': -0.04425213471568083, 'SL1': -0.03189790927071088, 'SL2': -0.0897146645401318, 'SL3': 0.039800969187867886}\n",
      "[INFO ][20:09:48.089 opt_funcs.  688] Setting sextupoles to {'SH1N': 3.914649221851618, 'SH3N': -1.202220269108042, 'SH4N': -3.208432276715681, 'SL1': -2.6862191192707114, 'SL2': 7.0458696254598685, 'SL3': -5.8523711528121325, 'SH1-DW08': 3.927499109772481, 'SH1-DW18': 3.964115815719003, 'SH1-DW28': 4.009646471979118, 'SH3-DW08': -1.1615346896075565, 'SH3-DW18': -1.144122330447988, 'SH3-DW28': -1.1644723843376952, 'SH4-DW08': -3.162996455670974, 'SH4-DW18': -3.2629139169936097, 'SH4-DW28': -3.197396267189314}\n"
     ]
    },
    {
     "name": "stdout",
     "output_type": "stream",
     "text": [
      "SH1N   : +3.967 + -0.052 -> +3.915\n",
      "SH3N   : -1.171 + -0.031 -> -1.202\n",
      "SH4N   : -3.164 + -0.044 -> -3.208\n",
      "SL1    : -2.654 + -0.032 -> -2.686\n",
      "SL2    : +7.136 + -0.090 -> +7.046\n",
      "SL3    : -5.892 + +0.040 -> -5.852\n",
      "SH1-DW08: +3.967 + -0.039 -> +3.927\n",
      "SH1-DW18: +3.967 + -0.002 -> +3.964\n",
      "SH1-DW28: +3.967 + +0.043 -> +4.010\n",
      "SH3-DW08: -1.171 + +0.009 -> -1.162\n",
      "SH3-DW18: -1.171 + +0.027 -> -1.144\n",
      "SH3-DW28: -1.171 + +0.007 -> -1.164\n",
      "SH4-DW08: -3.164 + +0.001 -> -3.163\n",
      "SH4-DW18: -3.164 + -0.099 -> -3.263\n",
      "SH4-DW28: -3.164 + -0.033 -> -3.197\n",
      "Sextupole adj. took 1.1.\n",
      "Max FCOR I [A] = 0.004; RMS(dx, dy) [m] = (9.067e-07, 1.147e-06)\n",
      "Orbit correction converged\n"
     ]
    },
    {
     "name": "stderr",
     "output_type": "stream",
     "text": [
      "[INFO ][20:09:53.188 opt_funcs.  734] Lifetime measurement START\n",
      "[INFO ][20:09:59.680 opt_funcs.  781] Efficiency measurement START\n"
     ]
    },
    {
     "name": "stdout",
     "output_type": "stream",
     "text": [
      "** # of outliers found = 5 (out of 180)\n",
      "Lifetime = 6.873 (raw tau [hr] = 6.782, epsy [pm] = 15.04) (took 6.5 [s])\n",
      "Inj. Eff. = 87.65 (took 19.1 [s])\n",
      "Eval. func. finished.\n"
     ]
    },
    {
     "name": "stderr",
     "output_type": "stream",
     "text": [
      "[DEBUG][20:10:18.740 evaluators  211] Result: output={'result': {'_nux': 0.21822986243742587, '_nuy': 0.2669356132430502, '_eps_x_bxbOn': 1.0191961163791391e-09, '_eps_y_bxbOn': 1.5192947182743862e-11, '_eps_x_bxbOff': 1.0218847166178691e-09, '_eps_y_bxbOff': 1.504487451687928e-11, 'LT': 6.873110432387923, '_raw_LT': 6.782084867259061, 'EFF': 87.64933601032025}, 'exception': None, 'traceback': '', 'wall_time': 30.654122727923095, 'cpu_time': 18.72252065600003}\n",
      "[DEBUG][20:10:18.743 optimizer.  291] Adding (1) new data to internal dataframes\n",
      "[DEBUG][20:10:18.763 optimizer. 1286] Dumped state to [/nsls2/users/yhidaka/.apsopt/2023_12_16-20_01_51-aps_mobo-bcbd87b566-cb154515/dump_auto_00007.json] in [0.01498]s\n",
      "[DEBUG][20:10:18.763 optimizer.  447] Generating 1 candidates\n",
      "[DEBUG][20:10:18.768 bayesian_g  133] Generating model from vocs self.vocs=VOCS(variables={'SH1N': [-0.594987363, 0.594987363], 'SH3N': [-0.17565325229999998, 0.17565325229999998], 'SH4N': [-0.4746270213, 0.4746270213], 'SL1': [-0.39814818150000003, 0.39814818150000003], 'SL2': [-1.0703376435, 1.0703376435], 'SL3': [-0.8838258183000001, 0.8838258183000001], 'SH1-DW08': [-0.594987363, 0.594987363], 'SH1-DW18': [-0.594987363, 0.594987363], 'SH1-DW28': [-0.594987363, 0.594987363], 'SH3-DW08': [-0.17565325229999998, 0.17565325229999998], 'SH3-DW18': [-0.17565325229999998, 0.17565325229999998], 'SH3-DW28': [-0.17565325229999998, 0.17565325229999998], 'SH4-DW08': [-0.4746270213, 0.4746270213], 'SH4-DW18': [-0.4746270213, 0.4746270213], 'SH4-DW28': [-0.4746270213, 0.4746270213]}, constraints={}, objectives={'LT': 'MAXIMIZE', 'EFF': 'MAXIMIZE'}, constants={}, observables=[]) with len(data)=9\n"
     ]
    },
    {
     "name": "stdout",
     "output_type": "stream",
     "text": [
      "\n",
      "** Step #6 at 2023-12-16 20:10:18**\n",
      "\n"
     ]
    },
    {
     "name": "stderr",
     "output_type": "stream",
     "text": [
      "[INFO ][20:10:19.565    mobo.py  301] Mobo called with inputs.size()=torch.Size([9, 15])\n",
      "[DEBUG][20:10:24.058 bayesian_g  110] Optimize results: tensor([[-0.0583,  0.0419,  0.0490, -0.1286,  0.0034,  0.0144, -0.0240, -0.0214,\n",
      "          0.0030, -0.1105, -0.0177,  0.0275, -0.0069,  0.0273, -0.0151]],\n",
      "       dtype=torch.float64)\n",
      "[DEBUG][20:10:24.059 bayesian_g  248] Best candidate from optimize tensor([[-0.0583,  0.0419,  0.0490, -0.1286,  0.0034,  0.0144, -0.0240, -0.0214,\n",
      "          0.0030, -0.1105, -0.0177,  0.0275, -0.0069,  0.0273, -0.0151]],\n",
      "       dtype=torch.float64)\n",
      "[DEBUG][20:10:24.061 optimizer.  488] Generated 1 inputs\n",
      "[INFO ][20:10:24.064 optimizer.  573] Evaluating 1 inputs\n",
      "[DEBUG][20:10:24.066 evaluators  193] Data kwargs: row={'SH1-DW08': -0.0582993768736313, 'SH1-DW18': 0.04186854409637552, 'SH1-DW28': 0.048979001780260996, 'SH1N': -0.1285694556344424, 'SH3-DW08': 0.0034090620125204496, 'SH3-DW18': 0.014411842397372742, 'SH3-DW28': -0.024047351522435326, 'SH3N': -0.02140422875132956, 'SH4-DW08': 0.0029714644627812027, 'SH4-DW18': -0.11050614888621413, 'SH4-DW28': -0.01774544089802792, 'SH4N': 0.027539826704186143, 'SL1': -0.006947891638087404, 'SL2': 0.02725273945191484, 'SL3': -0.015058407731817942}\n",
      "[INFO ][20:10:24.068 opt_funcs.  688] Setting sextupoles to {'SH1N': 3.838012964365558, 'SH3N': -1.1924259107513295, 'SH4N': -3.136640315295814, 'SL1': -2.661269101638088, 'SL2': 7.162837029451915, 'SL3': -5.907230529731819, 'SH1-DW08': 3.908283043126369, 'SH1-DW18': 4.008450964096376, 'SH1-DW28': 4.015561421780261, 'SH3-DW08': -1.1676126199874794, 'SH3-DW18': -1.1566098396026272, 'SH3-DW28': -1.1950690335224352, 'SH4-DW08': -3.161208677537219, 'SH4-DW18': -3.274686290886214, 'SH4-DW28': -3.181925582898028}\n"
     ]
    },
    {
     "name": "stdout",
     "output_type": "stream",
     "text": [
      "SH1N   : +3.967 + -0.129 -> +3.838\n",
      "SH3N   : -1.171 + -0.021 -> -1.192\n",
      "SH4N   : -3.164 + +0.028 -> -3.137\n",
      "SL1    : -2.654 + -0.007 -> -2.661\n",
      "SL2    : +7.136 + +0.027 -> +7.163\n",
      "SL3    : -5.892 + -0.015 -> -5.907\n",
      "SH1-DW08: +3.967 + -0.058 -> +3.908\n",
      "SH1-DW18: +3.967 + +0.042 -> +4.008\n",
      "SH1-DW28: +3.967 + +0.049 -> +4.016\n",
      "SH3-DW08: -1.171 + +0.003 -> -1.168\n",
      "SH3-DW18: -1.171 + +0.014 -> -1.157\n",
      "SH3-DW28: -1.171 + -0.024 -> -1.195\n",
      "SH4-DW08: -3.164 + +0.003 -> -3.161\n",
      "SH4-DW18: -3.164 + -0.111 -> -3.275\n",
      "SH4-DW28: -3.164 + -0.018 -> -3.182\n",
      "Sextupole adj. took 1.1.\n",
      "Max FCOR I [A] = 0.004; RMS(dx, dy) [m] = (9.284e-07, 1.128e-06)\n",
      "Orbit correction converged\n"
     ]
    },
    {
     "name": "stderr",
     "output_type": "stream",
     "text": [
      "[INFO ][20:10:29.159 opt_funcs.  734] Lifetime measurement START\n",
      "[INFO ][20:10:35.018 opt_funcs.  781] Efficiency measurement START\n"
     ]
    },
    {
     "name": "stdout",
     "output_type": "stream",
     "text": [
      "** # of outliers found = 6 (out of 180)\n",
      "Lifetime = 6.872 (raw tau [hr] = 6.843, epsy [pm] = 15.28) (took 5.9 [s])\n",
      "Inj. Eff. = 88.45 (took 18.4 [s])\n",
      "Eval. func. finished.\n"
     ]
    },
    {
     "name": "stderr",
     "output_type": "stream",
     "text": [
      "[DEBUG][20:10:53.379 evaluators  211] Result: output={'result': {'_nux': 0.2189927962717887, '_nuy': 0.2666304356784298, '_eps_x_bxbOn': 1.0205468254833795e-09, '_eps_y_bxbOn': 1.5391983222788944e-11, '_eps_x_bxbOff': 1.0204958225767521e-09, '_eps_y_bxbOff': 1.528297249347084e-11, 'LT': 6.872450614315906, '_raw_LT': 6.8432970323796765, 'EFF': 88.4454080924796}, 'exception': None, 'traceback': '', 'wall_time': 29.312481066212058, 'cpu_time': 17.783214498999996}\n",
      "[DEBUG][20:10:53.380 optimizer.  291] Adding (1) new data to internal dataframes\n",
      "[DEBUG][20:10:53.402 optimizer. 1286] Dumped state to [/nsls2/users/yhidaka/.apsopt/2023_12_16-20_01_51-aps_mobo-bcbd87b566-cb154515/dump_auto_00008.json] in [0.01707]s\n",
      "[DEBUG][20:10:53.403 optimizer.  447] Generating 1 candidates\n",
      "[DEBUG][20:10:53.407 bayesian_g  133] Generating model from vocs self.vocs=VOCS(variables={'SH1N': [-0.594987363, 0.594987363], 'SH3N': [-0.17565325229999998, 0.17565325229999998], 'SH4N': [-0.4746270213, 0.4746270213], 'SL1': [-0.39814818150000003, 0.39814818150000003], 'SL2': [-1.0703376435, 1.0703376435], 'SL3': [-0.8838258183000001, 0.8838258183000001], 'SH1-DW08': [-0.594987363, 0.594987363], 'SH1-DW18': [-0.594987363, 0.594987363], 'SH1-DW28': [-0.594987363, 0.594987363], 'SH3-DW08': [-0.17565325229999998, 0.17565325229999998], 'SH3-DW18': [-0.17565325229999998, 0.17565325229999998], 'SH3-DW28': [-0.17565325229999998, 0.17565325229999998], 'SH4-DW08': [-0.4746270213, 0.4746270213], 'SH4-DW18': [-0.4746270213, 0.4746270213], 'SH4-DW28': [-0.4746270213, 0.4746270213]}, constraints={}, objectives={'LT': 'MAXIMIZE', 'EFF': 'MAXIMIZE'}, constants={}, observables=[]) with len(data)=10\n"
     ]
    },
    {
     "name": "stdout",
     "output_type": "stream",
     "text": [
      "\n",
      "** Step #7 at 2023-12-16 20:10:53**\n",
      "\n"
     ]
    },
    {
     "name": "stderr",
     "output_type": "stream",
     "text": [
      "[INFO ][20:10:54.215    mobo.py  301] Mobo called with inputs.size()=torch.Size([10, 15])\n",
      "[DEBUG][20:10:59.039 bayesian_g  110] Optimize results: tensor([[ 0.0200,  0.0816, -0.0031,  0.1226,  0.0154,  0.0316, -0.0016, -0.0138,\n",
      "          0.0216, -0.0724,  0.0048,  0.0588, -0.0710,  0.0264, -0.0485]],\n",
      "       dtype=torch.float64)\n",
      "[DEBUG][20:10:59.040 bayesian_g  248] Best candidate from optimize tensor([[ 0.0200,  0.0816, -0.0031,  0.1226,  0.0154,  0.0316, -0.0016, -0.0138,\n",
      "          0.0216, -0.0724,  0.0048,  0.0588, -0.0710,  0.0264, -0.0485]],\n",
      "       dtype=torch.float64)\n",
      "[DEBUG][20:10:59.042 optimizer.  488] Generated 1 inputs\n",
      "[INFO ][20:10:59.046 optimizer.  573] Evaluating 1 inputs\n",
      "[DEBUG][20:10:59.047 evaluators  193] Data kwargs: row={'SH1-DW08': 0.02000439867809102, 'SH1-DW18': 0.08157473679600513, 'SH1-DW28': -0.00313888142239852, 'SH1N': 0.1226317935568388, 'SH3-DW08': 0.015354830434121619, 'SH3-DW18': 0.03155653434881763, 'SH3-DW28': -0.001584425501007182, 'SH3N': -0.013781312154080936, 'SH4-DW08': 0.02159391560001402, 'SH4-DW18': -0.07241711561081755, 'SH4-DW28': 0.004832762161222854, 'SH4N': 0.058800500049435704, 'SL1': -0.07103243436923529, 'SL2': 0.02642730249797041, 'SL3': -0.048504222238058683}\n",
      "[INFO ][20:10:59.051 opt_funcs.  688] Setting sextupoles to {'SH1N': 4.089214213556839, 'SH3N': -1.1848029941540807, 'SH4N': -3.1053796419505644, 'SL1': -2.725353644369236, 'SL2': 7.162011592497971, 'SL3': -5.940676344238059, 'SH1-DW08': 3.9865868186780915, 'SH1-DW18': 4.048157156796005, 'SH1-DW28': 3.963443538577602, 'SH3-DW08': -1.1556668515658783, 'SH3-DW18': -1.1394651476511823, 'SH3-DW28': -1.172606107501007, 'SH4-DW08': -3.142586226399986, 'SH4-DW18': -3.2365972576108177, 'SH4-DW28': -3.1593473798387772}\n"
     ]
    },
    {
     "name": "stdout",
     "output_type": "stream",
     "text": [
      "SH1N   : +3.967 + +0.123 -> +4.089\n",
      "SH3N   : -1.171 + -0.014 -> -1.185\n",
      "SH4N   : -3.164 + +0.059 -> -3.105\n",
      "SL1    : -2.654 + -0.071 -> -2.725\n",
      "SL2    : +7.136 + +0.026 -> +7.162\n",
      "SL3    : -5.892 + -0.049 -> -5.941\n",
      "SH1-DW08: +3.967 + +0.020 -> +3.987\n",
      "SH1-DW18: +3.967 + +0.082 -> +4.048\n",
      "SH1-DW28: +3.967 + -0.003 -> +3.963\n",
      "SH3-DW08: -1.171 + +0.015 -> -1.156\n",
      "SH3-DW18: -1.171 + +0.032 -> -1.139\n",
      "SH3-DW28: -1.171 + -0.002 -> -1.173\n",
      "SH4-DW08: -3.164 + +0.022 -> -3.143\n",
      "SH4-DW18: -3.164 + -0.072 -> -3.237\n",
      "SH4-DW28: -3.164 + +0.005 -> -3.159\n",
      "Sextupole adj. took 3.1.\n",
      "Max FCOR I [A] = 0.114; RMS(dx, dy) [m] = (5.290e-06, 1.144e-06)\n",
      "Max FCOR I [A] = 0.114; RMS(dx, dy) [m] = (5.290e-06, 1.144e-06)\n",
      "Max FCOR I [A] = 0.038; RMS(dx, dy) [m] = (2.065e-06, 1.167e-06)\n",
      "Orbit correction converged\n"
     ]
    },
    {
     "name": "stderr",
     "output_type": "stream",
     "text": [
      "[INFO ][20:11:08.188 opt_funcs.  734] Lifetime measurement START\n",
      "[INFO ][20:11:15.085 opt_funcs.  781] Efficiency measurement START\n"
     ]
    },
    {
     "name": "stdout",
     "output_type": "stream",
     "text": [
      "** # of outliers found = 5 (out of 180)\n",
      "Lifetime = 7.166 (raw tau [hr] = 7.540, epsy [pm] = 17.03) (took 6.9 [s])\n",
      "Inj. Eff. = 72.90 (took 19.0 [s])\n",
      "Eval. func. finished.\n"
     ]
    },
    {
     "name": "stderr",
     "output_type": "stream",
     "text": [
      "[DEBUG][20:11:34.134 evaluators  211] Result: output={'result': {'_nux': 0.22070176644841125, '_nuy': 0.2657759505901185, '_eps_x_bxbOn': 1.0148318606058123e-09, '_eps_y_bxbOn': 1.7036818044081345e-11, '_eps_x_bxbOff': 1.0143419865399626e-09, '_eps_y_bxbOff': 1.7028167203675115e-11, 'LT': 7.165520141490176, '_raw_LT': 7.539971475810211, 'EFF': 72.89945096520253}, 'exception': None, 'traceback': '', 'wall_time': 35.08541342057288, 'cpu_time': 18.78781183199999}\n",
      "[DEBUG][20:11:34.136 optimizer.  291] Adding (1) new data to internal dataframes\n",
      "[DEBUG][20:11:34.156 optimizer. 1286] Dumped state to [/nsls2/users/yhidaka/.apsopt/2023_12_16-20_01_51-aps_mobo-bcbd87b566-cb154515/dump_auto_00009.json] in [0.01619]s\n",
      "[DEBUG][20:11:34.157 optimizer.  447] Generating 1 candidates\n",
      "[DEBUG][20:11:34.160 bayesian_g  133] Generating model from vocs self.vocs=VOCS(variables={'SH1N': [-0.594987363, 0.594987363], 'SH3N': [-0.17565325229999998, 0.17565325229999998], 'SH4N': [-0.4746270213, 0.4746270213], 'SL1': [-0.39814818150000003, 0.39814818150000003], 'SL2': [-1.0703376435, 1.0703376435], 'SL3': [-0.8838258183000001, 0.8838258183000001], 'SH1-DW08': [-0.594987363, 0.594987363], 'SH1-DW18': [-0.594987363, 0.594987363], 'SH1-DW28': [-0.594987363, 0.594987363], 'SH3-DW08': [-0.17565325229999998, 0.17565325229999998], 'SH3-DW18': [-0.17565325229999998, 0.17565325229999998], 'SH3-DW28': [-0.17565325229999998, 0.17565325229999998], 'SH4-DW08': [-0.4746270213, 0.4746270213], 'SH4-DW18': [-0.4746270213, 0.4746270213], 'SH4-DW28': [-0.4746270213, 0.4746270213]}, constraints={}, objectives={'LT': 'MAXIMIZE', 'EFF': 'MAXIMIZE'}, constants={}, observables=[]) with len(data)=11\n"
     ]
    },
    {
     "name": "stdout",
     "output_type": "stream",
     "text": [
      "\n",
      "** Step #8 at 2023-12-16 20:11:34**\n",
      "\n"
     ]
    },
    {
     "name": "stderr",
     "output_type": "stream",
     "text": [
      "[INFO ][20:11:34.595    mobo.py  301] Mobo called with inputs.size()=torch.Size([11, 15])\n",
      "[DEBUG][20:11:47.547 bayesian_g  110] Optimize results: tensor([[-0.0676, -0.0453,  0.0667, -0.0809, -0.0019,  0.0179, -0.0147, -0.0290,\n",
      "         -0.0215, -0.0626, -0.0574, -0.0550, -0.0126, -0.1354, -0.0466]],\n",
      "       dtype=torch.float64)\n",
      "[DEBUG][20:11:47.548 bayesian_g  248] Best candidate from optimize tensor([[-0.0676, -0.0453,  0.0667, -0.0809, -0.0019,  0.0179, -0.0147, -0.0290,\n",
      "         -0.0215, -0.0626, -0.0574, -0.0550, -0.0126, -0.1354, -0.0466]],\n",
      "       dtype=torch.float64)\n",
      "[DEBUG][20:11:47.550 optimizer.  488] Generated 1 inputs\n",
      "[INFO ][20:11:47.554 optimizer.  573] Evaluating 1 inputs\n",
      "[DEBUG][20:11:47.555 evaluators  193] Data kwargs: row={'SH1-DW08': -0.06762113194109431, 'SH1-DW18': -0.045328462798820766, 'SH1-DW28': 0.06670594209851209, 'SH1N': -0.08087155370402759, 'SH3-DW08': -0.0018887044026602725, 'SH3-DW18': 0.017923832197471443, 'SH3-DW28': -0.01473167702630454, 'SH3N': -0.028953553486662925, 'SH4-DW08': -0.021482149269986216, 'SH4-DW18': -0.062628709440946, 'SH4-DW28': -0.05737278859089385, 'SH4N': -0.055032838331661005, 'SL1': -0.012648590715540975, 'SL2': -0.13538890360339845, 'SL3': -0.046637340506454905}\n",
      "[INFO ][20:11:47.557 opt_funcs.  688] Setting sextupoles to {'SH1N': 3.8857108662959727, 'SH3N': -1.1999752354866629, 'SH4N': -3.2192129803316614, 'SL1': -2.6669698007155413, 'SL2': 7.000195386396602, 'SL3': -5.938809462506455, 'SH1-DW08': 3.898961288058906, 'SH1-DW18': 3.9212539572011798, 'SH1-DW28': 4.033288362098513, 'SH3-DW08': -1.1729103864026602, 'SH3-DW18': -1.1530978498025284, 'SH3-DW28': -1.1857533590263045, 'SH4-DW08': -3.1856622912699866, 'SH4-DW18': -3.2268088514409463, 'SH4-DW28': -3.221552930590894}\n"
     ]
    },
    {
     "name": "stdout",
     "output_type": "stream",
     "text": [
      "SH1N   : +3.967 + -0.081 -> +3.886\n",
      "SH3N   : -1.171 + -0.029 -> -1.200\n",
      "SH4N   : -3.164 + -0.055 -> -3.219\n",
      "SL1    : -2.654 + -0.013 -> -2.667\n",
      "SL2    : +7.136 + -0.135 -> +7.000\n",
      "SL3    : -5.892 + -0.047 -> -5.939\n",
      "SH1-DW08: +3.967 + -0.068 -> +3.899\n",
      "SH1-DW18: +3.967 + -0.045 -> +3.921\n",
      "SH1-DW28: +3.967 + +0.067 -> +4.033\n",
      "SH3-DW08: -1.171 + -0.002 -> -1.173\n",
      "SH3-DW18: -1.171 + +0.018 -> -1.153\n",
      "SH3-DW28: -1.171 + -0.015 -> -1.186\n",
      "SH4-DW08: -3.164 + -0.021 -> -3.186\n",
      "SH4-DW18: -3.164 + -0.063 -> -3.227\n",
      "SH4-DW28: -3.164 + -0.057 -> -3.222\n",
      "Sextupole adj. took 2.1.\n",
      "Max FCOR I [A] = 0.134; RMS(dx, dy) [m] = (1.702e-05, 1.182e-06)\n",
      "Max FCOR I [A] = 0.134; RMS(dx, dy) [m] = (1.702e-05, 1.182e-06)\n",
      "Max FCOR I [A] = 0.116; RMS(dx, dy) [m] = (3.096e-06, 1.147e-06)\n",
      "Max FCOR I [A] = 0.116; RMS(dx, dy) [m] = (3.096e-06, 1.147e-06)\n",
      "Max FCOR I [A] = 0.068; RMS(dx, dy) [m] = (2.420e-06, 1.150e-06)\n",
      "Orbit correction converged\n"
     ]
    },
    {
     "name": "stderr",
     "output_type": "stream",
     "text": [
      "[INFO ][20:11:57.676 opt_funcs.  734] Lifetime measurement START\n",
      "[INFO ][20:12:03.040 opt_funcs.  781] Efficiency measurement START\n"
     ]
    },
    {
     "name": "stdout",
     "output_type": "stream",
     "text": [
      "** # of outliers found = 4 (out of 180)\n",
      "Lifetime = 6.622 (raw tau [hr] = 6.341, epsy [pm] = 14.07) (took 5.4 [s])\n",
      "Inj. Eff. = 63.49 (took 20.0 [s])\n",
      "Eval. func. finished.\n"
     ]
    },
    {
     "name": "stderr",
     "output_type": "stream",
     "text": [
      "[DEBUG][20:12:23.044 evaluators  211] Result: output={'result': {'_nux': 0.22355005007611553, '_nuy': 0.26791216331089673, '_eps_x_bxbOn': 1.0214370615440452e-09, '_eps_y_bxbOn': 1.4261425686433511e-11, '_eps_x_bxbOff': 1.0229379653604821e-09, '_eps_y_bxbOff': 1.406912502792038e-11, 'LT': 6.622314929725303, '_raw_LT': 6.341416678768322, 'EFF': 63.49394746052519}, 'exception': None, 'traceback': '', 'wall_time': 35.48786658141762, 'cpu_time': 17.41052190100004}\n",
      "[DEBUG][20:12:23.046 optimizer.  291] Adding (1) new data to internal dataframes\n",
      "[DEBUG][20:12:23.067 optimizer. 1286] Dumped state to [/nsls2/users/yhidaka/.apsopt/2023_12_16-20_01_51-aps_mobo-bcbd87b566-cb154515/dump_auto_00010.json] in [0.01731]s\n",
      "[DEBUG][20:12:23.068 optimizer.  447] Generating 1 candidates\n",
      "[DEBUG][20:12:23.073 bayesian_g  133] Generating model from vocs self.vocs=VOCS(variables={'SH1N': [-0.594987363, 0.594987363], 'SH3N': [-0.17565325229999998, 0.17565325229999998], 'SH4N': [-0.4746270213, 0.4746270213], 'SL1': [-0.39814818150000003, 0.39814818150000003], 'SL2': [-1.0703376435, 1.0703376435], 'SL3': [-0.8838258183000001, 0.8838258183000001], 'SH1-DW08': [-0.594987363, 0.594987363], 'SH1-DW18': [-0.594987363, 0.594987363], 'SH1-DW28': [-0.594987363, 0.594987363], 'SH3-DW08': [-0.17565325229999998, 0.17565325229999998], 'SH3-DW18': [-0.17565325229999998, 0.17565325229999998], 'SH3-DW28': [-0.17565325229999998, 0.17565325229999998], 'SH4-DW08': [-0.4746270213, 0.4746270213], 'SH4-DW18': [-0.4746270213, 0.4746270213], 'SH4-DW28': [-0.4746270213, 0.4746270213]}, constraints={}, objectives={'LT': 'MAXIMIZE', 'EFF': 'MAXIMIZE'}, constants={}, observables=[]) with len(data)=12\n"
     ]
    },
    {
     "name": "stdout",
     "output_type": "stream",
     "text": [
      "\n",
      "** Step #9 at 2023-12-16 20:12:23**\n",
      "\n"
     ]
    },
    {
     "name": "stderr",
     "output_type": "stream",
     "text": [
      "[INFO ][20:12:24.166    mobo.py  301] Mobo called with inputs.size()=torch.Size([12, 15])\n",
      "[DEBUG][20:12:31.201 bayesian_g  110] Optimize results: tensor([[-0.0605,  0.0270,  0.0617, -0.0551,  0.0048,  0.0314, -0.0449, -0.0110,\n",
      "          0.0003, -0.0232, -0.0314, -0.0118, -0.0549, -0.0537,  0.1329]],\n",
      "       dtype=torch.float64)\n",
      "[DEBUG][20:12:31.202 bayesian_g  248] Best candidate from optimize tensor([[-0.0605,  0.0270,  0.0617, -0.0551,  0.0048,  0.0314, -0.0449, -0.0110,\n",
      "          0.0003, -0.0232, -0.0314, -0.0118, -0.0549, -0.0537,  0.1329]],\n",
      "       dtype=torch.float64)\n",
      "[DEBUG][20:12:31.204 optimizer.  488] Generated 1 inputs\n",
      "[INFO ][20:12:31.208 optimizer.  573] Evaluating 1 inputs\n",
      "[DEBUG][20:12:31.210 evaluators  193] Data kwargs: row={'SH1-DW08': -0.060483560209920746, 'SH1-DW18': 0.027009750774454083, 'SH1-DW28': 0.06174164209145134, 'SH1N': -0.0551424639494622, 'SH3-DW08': 0.004752144669327696, 'SH3-DW18': 0.0314416036342368, 'SH3-DW28': -0.04491338233893586, 'SH3N': -0.01102513238482893, 'SH4-DW08': 0.0002509760127033369, 'SH4-DW18': -0.023216348312678804, 'SH4-DW28': -0.03135734262739142, 'SH4N': -0.011782290456190921, 'SL1': -0.05489382302855356, 'SL2': -0.053693001742298706, 'SL3': 0.13293465326058046}\n",
      "[INFO ][20:12:31.213 opt_funcs.  688] Setting sextupoles to {'SH1N': 3.9114399560505384, 'SH3N': -1.1820468143848288, 'SH4N': -3.175962432456191, 'SL1': -2.709215033028554, 'SL2': 7.081891288257702, 'SL3': -5.75923746873942, 'SH1-DW08': 3.9060988597900796, 'SH1-DW18': 3.9935921707744546, 'SH1-DW28': 4.0283240620914516, 'SH3-DW08': -1.1662695373306722, 'SH3-DW18': -1.139580078365763, 'SH3-DW28': -1.2159350643389357, 'SH4-DW08': -3.163929165987297, 'SH4-DW18': -3.187396490312679, 'SH4-DW28': -3.1955374846273914}\n"
     ]
    },
    {
     "name": "stdout",
     "output_type": "stream",
     "text": [
      "SH1N   : +3.967 + -0.055 -> +3.911\n",
      "SH3N   : -1.171 + -0.011 -> -1.182\n",
      "SH4N   : -3.164 + -0.012 -> -3.176\n",
      "SL1    : -2.654 + -0.055 -> -2.709\n",
      "SL2    : +7.136 + -0.054 -> +7.082\n",
      "SL3    : -5.892 + +0.133 -> -5.759\n",
      "SH1-DW08: +3.967 + -0.060 -> +3.906\n",
      "SH1-DW18: +3.967 + +0.027 -> +3.994\n",
      "SH1-DW28: +3.967 + +0.062 -> +4.028\n",
      "SH3-DW08: -1.171 + +0.005 -> -1.166\n",
      "SH3-DW18: -1.171 + +0.031 -> -1.140\n",
      "SH3-DW28: -1.171 + -0.045 -> -1.216\n",
      "SH4-DW08: -3.164 + +0.000 -> -3.164\n",
      "SH4-DW18: -3.164 + -0.023 -> -3.187\n",
      "SH4-DW28: -3.164 + -0.031 -> -3.196\n",
      "Sextupole adj. took 2.1.\n",
      "Max FCOR I [A] = 0.070; RMS(dx, dy) [m] = (2.655e-06, 1.131e-06)\n",
      "Orbit correction converged\n"
     ]
    },
    {
     "name": "stderr",
     "output_type": "stream",
     "text": [
      "[INFO ][20:12:37.366 opt_funcs.  734] Lifetime measurement START\n",
      "[INFO ][20:12:45.437 opt_funcs.  781] Efficiency measurement START\n"
     ]
    },
    {
     "name": "stdout",
     "output_type": "stream",
     "text": [
      "** # of outliers found = 5 (out of 180)\n",
      "Lifetime = 7.058 (raw tau [hr] = 7.186, epsy [pm] = 15.87) (took 8.1 [s])\n",
      "Inj. Eff. = 84.46 (took 18.4 [s])\n",
      "Eval. func. finished.\n"
     ]
    },
    {
     "name": "stderr",
     "output_type": "stream",
     "text": [
      "[DEBUG][20:13:03.798 evaluators  211] Result: output={'result': {'_nux': 0.2194200287387562, '_nuy': 0.2663557819165843, '_eps_x_bxbOn': 1.0172345019369489e-09, '_eps_y_bxbOn': 1.595322080610078e-11, '_eps_x_bxbOff': 1.0179689141943134e-09, '_eps_y_bxbOff': 1.586935929910603e-11, 'LT': 7.057762008127764, '_raw_LT': 7.185639071903804, 'EFF': 84.45757455441452}, 'exception': None, 'traceback': '', 'wall_time': 32.586821706965566, 'cpu_time': 20.32841306299997}\n",
      "[DEBUG][20:13:03.800 optimizer.  291] Adding (1) new data to internal dataframes\n",
      "[DEBUG][20:13:03.821 optimizer. 1286] Dumped state to [/nsls2/users/yhidaka/.apsopt/2023_12_16-20_01_51-aps_mobo-bcbd87b566-cb154515/dump_auto_00011.json] in [0.01749]s\n",
      "[DEBUG][20:13:03.822 optimizer.  447] Generating 1 candidates\n",
      "[DEBUG][20:13:03.826 bayesian_g  133] Generating model from vocs self.vocs=VOCS(variables={'SH1N': [-0.594987363, 0.594987363], 'SH3N': [-0.17565325229999998, 0.17565325229999998], 'SH4N': [-0.4746270213, 0.4746270213], 'SL1': [-0.39814818150000003, 0.39814818150000003], 'SL2': [-1.0703376435, 1.0703376435], 'SL3': [-0.8838258183000001, 0.8838258183000001], 'SH1-DW08': [-0.594987363, 0.594987363], 'SH1-DW18': [-0.594987363, 0.594987363], 'SH1-DW28': [-0.594987363, 0.594987363], 'SH3-DW08': [-0.17565325229999998, 0.17565325229999998], 'SH3-DW18': [-0.17565325229999998, 0.17565325229999998], 'SH3-DW28': [-0.17565325229999998, 0.17565325229999998], 'SH4-DW08': [-0.4746270213, 0.4746270213], 'SH4-DW18': [-0.4746270213, 0.4746270213], 'SH4-DW28': [-0.4746270213, 0.4746270213]}, constraints={}, objectives={'LT': 'MAXIMIZE', 'EFF': 'MAXIMIZE'}, constants={}, observables=[]) with len(data)=13\n"
     ]
    },
    {
     "name": "stdout",
     "output_type": "stream",
     "text": [
      "\n",
      "** Step #10 at 2023-12-16 20:13:03**\n",
      "\n"
     ]
    },
    {
     "name": "stderr",
     "output_type": "stream",
     "text": [
      "[INFO ][20:13:04.348    mobo.py  301] Mobo called with inputs.size()=torch.Size([13, 15])\n",
      "[DEBUG][20:13:09.933 bayesian_g  110] Optimize results: tensor([[-0.0637,  0.0807,  0.0462,  0.1065,  0.0127,  0.0032, -0.0102, -0.0182,\n",
      "          0.0324, -0.1549,  0.0010, -0.0201,  0.0056,  0.1306,  0.0316]],\n",
      "       dtype=torch.float64)\n",
      "[DEBUG][20:13:09.934 bayesian_g  248] Best candidate from optimize tensor([[-0.0637,  0.0807,  0.0462,  0.1065,  0.0127,  0.0032, -0.0102, -0.0182,\n",
      "          0.0324, -0.1549,  0.0010, -0.0201,  0.0056,  0.1306,  0.0316]],\n",
      "       dtype=torch.float64)\n",
      "[DEBUG][20:13:09.936 optimizer.  488] Generated 1 inputs\n",
      "[INFO ][20:13:09.939 optimizer.  573] Evaluating 1 inputs\n",
      "[DEBUG][20:13:09.940 evaluators  193] Data kwargs: row={'SH1-DW08': -0.06366732508500406, 'SH1-DW18': 0.08074419661352998, 'SH1-DW28': 0.04615232968485741, 'SH1N': 0.1065496883363287, 'SH3-DW08': 0.012672746646619023, 'SH3-DW18': 0.0031514023550618894, 'SH3-DW28': -0.010197481368283526, 'SH3N': -0.018195488835361453, 'SH4-DW08': 0.03238342000940735, 'SH4-DW18': -0.15493156936241145, 'SH4-DW28': 0.0010010931889586992, 'SH4N': -0.020055084816910332, 'SL1': 0.005609054943571128, 'SL2': 0.13060267941996498, 'SL3': 0.03163182161877611}\n",
      "[INFO ][20:13:09.943 opt_funcs.  688] Setting sextupoles to {'SH1N': 4.073132108336329, 'SH3N': -1.1892171708353614, 'SH4N': -3.1842352268169107, 'SL1': -2.648712155056429, 'SL2': 7.266186969419966, 'SL3': -5.860540300381224, 'SH1-DW08': 3.9029150949149964, 'SH1-DW18': 4.04732661661353, 'SH1-DW28': 4.012734749684858, 'SH3-DW08': -1.158348935353381, 'SH3-DW18': -1.167870279644938, 'SH3-DW28': -1.1812191633682834, 'SH4-DW08': -3.1317967219905927, 'SH4-DW18': -3.3191117113624116, 'SH4-DW28': -3.1631790488110414}\n"
     ]
    },
    {
     "name": "stdout",
     "output_type": "stream",
     "text": [
      "SH1N   : +3.967 + +0.107 -> +4.073\n",
      "SH3N   : -1.171 + -0.018 -> -1.189\n",
      "SH4N   : -3.164 + -0.020 -> -3.184\n",
      "SL1    : -2.654 + +0.006 -> -2.649\n",
      "SL2    : +7.136 + +0.131 -> +7.266\n",
      "SL3    : -5.892 + +0.032 -> -5.861\n",
      "SH1-DW08: +3.967 + -0.064 -> +3.903\n",
      "SH1-DW18: +3.967 + +0.081 -> +4.047\n",
      "SH1-DW28: +3.967 + +0.046 -> +4.013\n",
      "SH3-DW08: -1.171 + +0.013 -> -1.158\n",
      "SH3-DW18: -1.171 + +0.003 -> -1.168\n",
      "SH3-DW28: -1.171 + -0.010 -> -1.181\n",
      "SH4-DW08: -3.164 + +0.032 -> -3.132\n",
      "SH4-DW18: -3.164 + -0.155 -> -3.319\n",
      "SH4-DW28: -3.164 + +0.001 -> -3.163\n",
      "Sextupole adj. took 2.1.\n",
      "Max FCOR I [A] = 0.080; RMS(dx, dy) [m] = (8.887e-06, 1.161e-06)\n",
      "Orbit correction converged\n"
     ]
    },
    {
     "name": "stderr",
     "output_type": "stream",
     "text": [
      "[INFO ][20:13:16.051 opt_funcs.  734] Lifetime measurement START\n",
      "[INFO ][20:13:21.930 opt_funcs.  781] Efficiency measurement START\n"
     ]
    },
    {
     "name": "stdout",
     "output_type": "stream",
     "text": [
      "** # of outliers found = 4 (out of 180)\n",
      "Lifetime = 7.351 (raw tau [hr] = 7.965, epsy [pm] = 17.94) (took 5.9 [s])\n",
      "Inj. Eff. = 90.79 (took 17.5 [s])\n",
      "Eval. func. finished.\n"
     ]
    },
    {
     "name": "stderr",
     "output_type": "stream",
     "text": [
      "[DEBUG][20:13:39.456 evaluators  211] Result: output={'result': {'_nux': 0.2216783265934459, '_nuy': 0.26464681173996174, '_eps_x_bxbOn': 1.0092079216970745e-09, '_eps_y_bxbOn': 1.7917721764204717e-11, '_eps_x_bxbOff': 1.0113897876372844e-09, '_eps_y_bxbOff': 1.794151156679822e-11, 'LT': 7.35092696343186, '_raw_LT': 7.965184854584236, 'EFF': 90.79105984688205}, 'exception': None, 'traceback': '', 'wall_time': 29.51483489293605, 'cpu_time': 17.701933243999974}\n",
      "[DEBUG][20:13:39.457 optimizer.  291] Adding (1) new data to internal dataframes\n",
      "[DEBUG][20:13:39.481 optimizer. 1286] Dumped state to [/nsls2/users/yhidaka/.apsopt/2023_12_16-20_01_51-aps_mobo-bcbd87b566-cb154515/dump_auto_00012.json] in [0.01960]s\n",
      "[DEBUG][20:13:39.482 optimizer.  447] Generating 1 candidates\n",
      "[DEBUG][20:13:39.485 bayesian_g  133] Generating model from vocs self.vocs=VOCS(variables={'SH1N': [-0.594987363, 0.594987363], 'SH3N': [-0.17565325229999998, 0.17565325229999998], 'SH4N': [-0.4746270213, 0.4746270213], 'SL1': [-0.39814818150000003, 0.39814818150000003], 'SL2': [-1.0703376435, 1.0703376435], 'SL3': [-0.8838258183000001, 0.8838258183000001], 'SH1-DW08': [-0.594987363, 0.594987363], 'SH1-DW18': [-0.594987363, 0.594987363], 'SH1-DW28': [-0.594987363, 0.594987363], 'SH3-DW08': [-0.17565325229999998, 0.17565325229999998], 'SH3-DW18': [-0.17565325229999998, 0.17565325229999998], 'SH3-DW28': [-0.17565325229999998, 0.17565325229999998], 'SH4-DW08': [-0.4746270213, 0.4746270213], 'SH4-DW18': [-0.4746270213, 0.4746270213], 'SH4-DW28': [-0.4746270213, 0.4746270213]}, constraints={}, objectives={'LT': 'MAXIMIZE', 'EFF': 'MAXIMIZE'}, constants={}, observables=[]) with len(data)=14\n"
     ]
    },
    {
     "name": "stdout",
     "output_type": "stream",
     "text": [
      "\n",
      "** Step #11 at 2023-12-16 20:13:39**\n",
      "\n"
     ]
    },
    {
     "name": "stderr",
     "output_type": "stream",
     "text": [
      "[INFO ][20:13:39.834    mobo.py  301] Mobo called with inputs.size()=torch.Size([14, 15])\n",
      "[DEBUG][20:13:45.411 bayesian_g  110] Optimize results: tensor([[-0.0363, -0.0465,  0.0164,  0.0123,  0.0071, -0.0055, -0.0168, -0.0290,\n",
      "          0.0216, -0.1940,  0.0043, -0.0089,  0.0049,  0.0643,  0.0258]],\n",
      "       dtype=torch.float64)\n",
      "[DEBUG][20:13:45.412 bayesian_g  248] Best candidate from optimize tensor([[-0.0363, -0.0465,  0.0164,  0.0123,  0.0071, -0.0055, -0.0168, -0.0290,\n",
      "          0.0216, -0.1940,  0.0043, -0.0089,  0.0049,  0.0643,  0.0258]],\n",
      "       dtype=torch.float64)\n",
      "[DEBUG][20:13:45.413 optimizer.  488] Generated 1 inputs\n",
      "[INFO ][20:13:45.417 optimizer.  573] Evaluating 1 inputs\n",
      "[DEBUG][20:13:45.418 evaluators  193] Data kwargs: row={'SH1-DW08': -0.03625831238922302, 'SH1-DW18': -0.04649453890940265, 'SH1-DW28': 0.016378658404828893, 'SH1N': 0.01230081626603557, 'SH3-DW08': 0.007137208454244982, 'SH3-DW18': -0.00554225619153997, 'SH3-DW28': -0.016758633097910997, 'SH3N': -0.029026375908733977, 'SH4-DW08': 0.021584074324214112, 'SH4-DW18': -0.19403508293651478, 'SH4-DW28': 0.004278672569893386, 'SH4N': -0.008898079059520544, 'SL1': 0.004884741805261212, 'SL2': 0.0643212963097405, 'SL3': 0.025754736343782822}\n",
      "[INFO ][20:13:45.421 opt_funcs.  688] Setting sextupoles to {'SH1N': 3.978883236266036, 'SH3N': -1.2000480579087338, 'SH4N': -3.1730782210595208, 'SL1': -2.649436468194739, 'SL2': 7.199905586309741, 'SL3': -5.866417385656218, 'SH1-DW08': 3.9303241076107773, 'SH1-DW18': 3.920087881090598, 'SH1-DW28': 3.9829610784048293, 'SH3-DW08': -1.163884473545755, 'SH3-DW18': -1.1765639381915398, 'SH3-DW28': -1.187780315097911, 'SH4-DW08': -3.142596067675786, 'SH4-DW18': -3.358215224936515, 'SH4-DW28': -3.159901469430107}\n"
     ]
    },
    {
     "name": "stdout",
     "output_type": "stream",
     "text": [
      "SH1N   : +3.967 + +0.012 -> +3.979\n",
      "SH3N   : -1.171 + -0.029 -> -1.200\n",
      "SH4N   : -3.164 + -0.009 -> -3.173\n",
      "SL1    : -2.654 + +0.005 -> -2.649\n",
      "SL2    : +7.136 + +0.064 -> +7.200\n",
      "SL3    : -5.892 + +0.026 -> -5.866\n",
      "SH1-DW08: +3.967 + -0.036 -> +3.930\n",
      "SH1-DW18: +3.967 + -0.046 -> +3.920\n",
      "SH1-DW28: +3.967 + +0.016 -> +3.983\n",
      "SH3-DW08: -1.171 + +0.007 -> -1.164\n",
      "SH3-DW18: -1.171 + -0.006 -> -1.177\n",
      "SH3-DW28: -1.171 + -0.017 -> -1.188\n",
      "SH4-DW08: -3.164 + +0.022 -> -3.143\n",
      "SH4-DW18: -3.164 + -0.194 -> -3.358\n",
      "SH4-DW28: -3.164 + +0.004 -> -3.160\n",
      "Sextupole adj. took 1.1.\n",
      "Max FCOR I [A] = 0.066; RMS(dx, dy) [m] = (1.647e-06, 1.149e-06)\n",
      "Orbit correction converged\n"
     ]
    },
    {
     "name": "stderr",
     "output_type": "stream",
     "text": [
      "[INFO ][20:13:50.608 opt_funcs.  734] Lifetime measurement START\n",
      "[INFO ][20:13:54.933 opt_funcs.  781] Efficiency measurement START\n"
     ]
    },
    {
     "name": "stdout",
     "output_type": "stream",
     "text": [
      "** # of outliers found = 4 (out of 180)\n",
      "Lifetime = 7.175 (raw tau [hr] = 7.500, epsy [pm] = 16.66) (took 4.3 [s])\n",
      "Inj. Eff. = 77.52 (took 19.2 [s])\n",
      "Eval. func. finished.\n"
     ]
    },
    {
     "name": "stderr",
     "output_type": "stream",
     "text": [
      "[DEBUG][20:14:14.104 evaluators  211] Result: output={'result': {'_nux': 0.2211493548353541, '_nuy': 0.2651656055380659, '_eps_x_bxbOn': 1.015402274996923e-09, '_eps_y_bxbOn': 1.692527226886597e-11, '_eps_x_bxbOff': 1.0143644752641688e-09, '_eps_y_bxbOff': 1.6664491005267837e-11, 'LT': 7.174978484543734, '_raw_LT': 7.500480550742828, 'EFF': 77.51664910594887}, 'exception': None, 'traceback': '', 'wall_time': 28.685466438531876, 'cpu_time': 16.451132062999932}\n",
      "[DEBUG][20:14:14.107 optimizer.  291] Adding (1) new data to internal dataframes\n",
      "[DEBUG][20:14:14.137 optimizer. 1286] Dumped state to [/nsls2/users/yhidaka/.apsopt/2023_12_16-20_01_51-aps_mobo-bcbd87b566-cb154515/dump_auto_00013.json] in [0.02393]s\n",
      "[DEBUG][20:14:14.138 optimizer.  447] Generating 1 candidates\n",
      "[DEBUG][20:14:14.143 bayesian_g  133] Generating model from vocs self.vocs=VOCS(variables={'SH1N': [-0.594987363, 0.594987363], 'SH3N': [-0.17565325229999998, 0.17565325229999998], 'SH4N': [-0.4746270213, 0.4746270213], 'SL1': [-0.39814818150000003, 0.39814818150000003], 'SL2': [-1.0703376435, 1.0703376435], 'SL3': [-0.8838258183000001, 0.8838258183000001], 'SH1-DW08': [-0.594987363, 0.594987363], 'SH1-DW18': [-0.594987363, 0.594987363], 'SH1-DW28': [-0.594987363, 0.594987363], 'SH3-DW08': [-0.17565325229999998, 0.17565325229999998], 'SH3-DW18': [-0.17565325229999998, 0.17565325229999998], 'SH3-DW28': [-0.17565325229999998, 0.17565325229999998], 'SH4-DW08': [-0.4746270213, 0.4746270213], 'SH4-DW18': [-0.4746270213, 0.4746270213], 'SH4-DW28': [-0.4746270213, 0.4746270213]}, constraints={}, objectives={'LT': 'MAXIMIZE', 'EFF': 'MAXIMIZE'}, constants={}, observables=[]) with len(data)=15\n"
     ]
    },
    {
     "name": "stdout",
     "output_type": "stream",
     "text": [
      "\n",
      "** Step #12 at 2023-12-16 20:14:14**\n",
      "\n"
     ]
    },
    {
     "name": "stderr",
     "output_type": "stream",
     "text": [
      "[INFO ][20:14:14.707    mobo.py  301] Mobo called with inputs.size()=torch.Size([15, 15])\n",
      "[DEBUG][20:14:25.654 bayesian_g  110] Optimize results: tensor([[-0.0008,  0.0187, -0.0125,  0.0053, -0.0086, -0.0035, -0.0534, -0.0422,\n",
      "         -0.0149, -0.2127,  0.0117, -0.0873,  0.0451,  0.1013, -0.0849]],\n",
      "       dtype=torch.float64)\n",
      "[DEBUG][20:14:25.655 bayesian_g  248] Best candidate from optimize tensor([[-0.0008,  0.0187, -0.0125,  0.0053, -0.0086, -0.0035, -0.0534, -0.0422,\n",
      "         -0.0149, -0.2127,  0.0117, -0.0873,  0.0451,  0.1013, -0.0849]],\n",
      "       dtype=torch.float64)\n",
      "[DEBUG][20:14:25.657 optimizer.  488] Generated 1 inputs\n",
      "[INFO ][20:14:25.660 optimizer.  573] Evaluating 1 inputs\n",
      "[DEBUG][20:14:25.662 evaluators  193] Data kwargs: row={'SH1-DW08': -0.0007999533797936582, 'SH1-DW18': 0.018669566102936797, 'SH1-DW28': -0.012548364254522586, 'SH1N': 0.0053476489421712065, 'SH3-DW08': -0.008595872134303422, 'SH3-DW18': -0.0035293354413585363, 'SH3-DW28': -0.05339563968875576, 'SH3N': -0.04219275070448745, 'SH4-DW08': -0.014873895007394814, 'SH4-DW18': -0.21266214118087487, 'SH4-DW28': 0.011696249372529928, 'SH4N': -0.08727302358464967, 'SL1': 0.045149065460699515, 'SL2': 0.10132400828670919, 'SL3': -0.08491692669449383}\n",
      "[INFO ][20:14:25.665 opt_funcs.  688] Setting sextupoles to {'SH1N': 3.9719300689421715, 'SH3N': -1.2132144327044874, 'SH4N': -3.2514531655846497, 'SL1': -2.609172144539301, 'SL2': 7.23690829828671, 'SL3': -5.977089048694495, 'SH1-DW08': 3.965782466620207, 'SH1-DW18': 3.985251986102937, 'SH1-DW28': 3.9540340557454776, 'SH3-DW08': -1.1796175541343032, 'SH3-DW18': -1.1745510174413585, 'SH3-DW28': -1.2244173216887557, 'SH4-DW08': -3.179054037007395, 'SH4-DW18': -3.376842283180875, 'SH4-DW28': -3.1524838926274703}\n"
     ]
    },
    {
     "name": "stdout",
     "output_type": "stream",
     "text": [
      "SH1N   : +3.967 + +0.005 -> +3.972\n",
      "SH3N   : -1.171 + -0.042 -> -1.213\n",
      "SH4N   : -3.164 + -0.087 -> -3.251\n",
      "SL1    : -2.654 + +0.045 -> -2.609\n",
      "SL2    : +7.136 + +0.101 -> +7.237\n",
      "SL3    : -5.892 + -0.085 -> -5.977\n",
      "SH1-DW08: +3.967 + -0.001 -> +3.966\n",
      "SH1-DW18: +3.967 + +0.019 -> +3.985\n",
      "SH1-DW28: +3.967 + -0.013 -> +3.954\n",
      "SH3-DW08: -1.171 + -0.009 -> -1.180\n",
      "SH3-DW18: -1.171 + -0.004 -> -1.175\n",
      "SH3-DW28: -1.171 + -0.053 -> -1.224\n",
      "SH4-DW08: -3.164 + -0.015 -> -3.179\n",
      "SH4-DW18: -3.164 + -0.213 -> -3.377\n",
      "SH4-DW28: -3.164 + +0.012 -> -3.152\n",
      "Sextupole adj. took 1.1.\n",
      "Max FCOR I [A] = 0.036; RMS(dx, dy) [m] = (8.972e-07, 1.139e-06)\n",
      "Orbit correction converged\n"
     ]
    },
    {
     "name": "stderr",
     "output_type": "stream",
     "text": [
      "[INFO ][20:14:30.752 opt_funcs.  734] Lifetime measurement START\n",
      "[INFO ][20:14:41.123 opt_funcs.  781] Efficiency measurement START\n"
     ]
    },
    {
     "name": "stdout",
     "output_type": "stream",
     "text": [
      "** # of outliers found = 3 (out of 180)\n",
      "Lifetime = 6.957 (raw tau [hr] = 7.058, epsy [pm] = 15.66) (took 10.4 [s])\n",
      "Inj. Eff. = 84.55 (took 17.8 [s])\n",
      "Eval. func. finished.\n"
     ]
    },
    {
     "name": "stderr",
     "output_type": "stream",
     "text": [
      "[DEBUG][20:14:58.930 evaluators  211] Result: output={'result': {'_nux': 0.21972520630337658, '_nuy': 0.2669356132430502, '_eps_x_bxbOn': 1.0169026429773889e-09, '_eps_y_bxbOn': 1.5614044825076627e-11, '_eps_x_bxbOff': 1.018837321199587e-09, '_eps_y_bxbOff': 1.566187111376576e-11, 'LT': 6.957268922548552, '_raw_LT': 7.0576757595226915, 'EFF': 84.5539371155293}, 'exception': None, 'traceback': '', 'wall_time': 33.26684139482677, 'cpu_time': 22.33292495800015}\n",
      "[DEBUG][20:14:58.932 optimizer.  291] Adding (1) new data to internal dataframes\n",
      "[DEBUG][20:14:58.957 optimizer. 1286] Dumped state to [/nsls2/users/yhidaka/.apsopt/2023_12_16-20_01_51-aps_mobo-bcbd87b566-cb154515/dump_auto_00014.json] in [0.02102]s\n",
      "[DEBUG][20:14:58.958 optimizer.  447] Generating 1 candidates\n",
      "[DEBUG][20:14:58.961 bayesian_g  133] Generating model from vocs self.vocs=VOCS(variables={'SH1N': [-0.594987363, 0.594987363], 'SH3N': [-0.17565325229999998, 0.17565325229999998], 'SH4N': [-0.4746270213, 0.4746270213], 'SL1': [-0.39814818150000003, 0.39814818150000003], 'SL2': [-1.0703376435, 1.0703376435], 'SL3': [-0.8838258183000001, 0.8838258183000001], 'SH1-DW08': [-0.594987363, 0.594987363], 'SH1-DW18': [-0.594987363, 0.594987363], 'SH1-DW28': [-0.594987363, 0.594987363], 'SH3-DW08': [-0.17565325229999998, 0.17565325229999998], 'SH3-DW18': [-0.17565325229999998, 0.17565325229999998], 'SH3-DW28': [-0.17565325229999998, 0.17565325229999998], 'SH4-DW08': [-0.4746270213, 0.4746270213], 'SH4-DW18': [-0.4746270213, 0.4746270213], 'SH4-DW28': [-0.4746270213, 0.4746270213]}, constraints={}, objectives={'LT': 'MAXIMIZE', 'EFF': 'MAXIMIZE'}, constants={}, observables=[]) with len(data)=16\n"
     ]
    },
    {
     "name": "stdout",
     "output_type": "stream",
     "text": [
      "\n",
      "** Step #13 at 2023-12-16 20:14:58**\n",
      "\n"
     ]
    },
    {
     "name": "stderr",
     "output_type": "stream",
     "text": [
      "[INFO ][20:14:59.407    mobo.py  301] Mobo called with inputs.size()=torch.Size([16, 15])\n",
      "[DEBUG][20:15:06.363 bayesian_g  110] Optimize results: tensor([[-0.1560,  0.0503, -0.0352,  0.0915,  0.0092,  0.0047, -0.0212, -0.0071,\n",
      "          0.0306, -0.1430,  0.0073, -0.0168,  0.0040,  0.1448,  0.2287]],\n",
      "       dtype=torch.float64)\n",
      "[DEBUG][20:15:06.365 bayesian_g  248] Best candidate from optimize tensor([[-0.1560,  0.0503, -0.0352,  0.0915,  0.0092,  0.0047, -0.0212, -0.0071,\n",
      "          0.0306, -0.1430,  0.0073, -0.0168,  0.0040,  0.1448,  0.2287]],\n",
      "       dtype=torch.float64)\n",
      "[DEBUG][20:15:06.367 optimizer.  488] Generated 1 inputs\n",
      "[INFO ][20:15:06.370 optimizer.  573] Evaluating 1 inputs\n",
      "[DEBUG][20:15:06.371 evaluators  193] Data kwargs: row={'SH1-DW08': -0.1559990000101355, 'SH1-DW18': 0.0502931483895916, 'SH1-DW28': -0.03524155581979765, 'SH1N': 0.09151956691266386, 'SH3-DW08': 0.009232873920460833, 'SH3-DW18': 0.004740862377871008, 'SH3-DW28': -0.021213394484825333, 'SH3N': -0.007051878075309786, 'SH4-DW08': 0.03060698512815212, 'SH4-DW18': -0.14304799330499293, 'SH4-DW28': 0.007333936120086121, 'SH4N': -0.016768180025544456, 'SL1': 0.003993992252845976, 'SL2': 0.14482401777000348, 'SL3': 0.22873739529875212}\n",
      "[INFO ][20:15:06.374 opt_funcs.  688] Setting sextupoles to {'SH1N': 4.058101986912664, 'SH3N': -1.1780735600753096, 'SH4N': -3.180948322025545, 'SL1': -2.6503272177471544, 'SL2': 7.280408307770004, 'SL3': -5.663434726701249, 'SH1-DW08': 3.810583419989865, 'SH1-DW18': 4.016875568389592, 'SH1-DW28': 3.9313408641802026, 'SH3-DW08': -1.161788808079539, 'SH3-DW18': -1.1662808196221288, 'SH3-DW28': -1.1922350764848253, 'SH4-DW08': -3.133573156871848, 'SH4-DW18': -3.3072281353049933, 'SH4-DW28': -3.1568462058799143}\n"
     ]
    },
    {
     "name": "stdout",
     "output_type": "stream",
     "text": [
      "SH1N   : +3.967 + +0.092 -> +4.058\n",
      "SH3N   : -1.171 + -0.007 -> -1.178\n",
      "SH4N   : -3.164 + -0.017 -> -3.181\n",
      "SL1    : -2.654 + +0.004 -> -2.650\n",
      "SL2    : +7.136 + +0.145 -> +7.280\n",
      "SL3    : -5.892 + +0.229 -> -5.663\n",
      "SH1-DW08: +3.967 + -0.156 -> +3.811\n",
      "SH1-DW18: +3.967 + +0.050 -> +4.017\n",
      "SH1-DW28: +3.967 + -0.035 -> +3.931\n",
      "SH3-DW08: -1.171 + +0.009 -> -1.162\n",
      "SH3-DW18: -1.171 + +0.005 -> -1.166\n",
      "SH3-DW28: -1.171 + -0.021 -> -1.192\n",
      "SH4-DW08: -3.164 + +0.031 -> -3.134\n",
      "SH4-DW18: -3.164 + -0.143 -> -3.307\n",
      "SH4-DW28: -3.164 + +0.007 -> -3.157\n",
      "Sextupole adj. took 3.1.\n",
      "Max FCOR I [A] = 0.113; RMS(dx, dy) [m] = (9.217e-06, 1.165e-06)\n",
      "Max FCOR I [A] = 0.145; RMS(dx, dy) [m] = (1.071e-05, 1.177e-06)\n",
      "Max FCOR I [A] = 0.145; RMS(dx, dy) [m] = (1.071e-05, 1.177e-06)\n",
      "Max FCOR I [A] = 0.071; RMS(dx, dy) [m] = (5.339e-06, 1.156e-06)\n",
      "Orbit correction converged\n"
     ]
    },
    {
     "name": "stderr",
     "output_type": "stream",
     "text": [
      "[INFO ][20:15:16.517 opt_funcs.  734] Lifetime measurement START\n",
      "[INFO ][20:15:21.866 opt_funcs.  781] Efficiency measurement START\n"
     ]
    },
    {
     "name": "stdout",
     "output_type": "stream",
     "text": [
      "** # of outliers found = 4 (out of 180)\n",
      "Lifetime = 7.678 (raw tau [hr] = 8.852, epsy [pm] = 20.19) (took 5.3 [s])\n",
      "Inj. Eff. = 79.75 (took 19.9 [s])\n",
      "Eval. func. finished.\n"
     ]
    },
    {
     "name": "stderr",
     "output_type": "stream",
     "text": [
      "[DEBUG][20:15:41.724 evaluators  211] Result: output={'result': {'_nux': 0.22369246425750072, '_nuy': 0.2628767939577894, '_eps_x_bxbOn': 1.0005331029462724e-09, '_eps_y_bxbOn': 2.030343987735672e-11, '_eps_x_bxbOff': 1.001230231465772e-09, '_eps_y_bxbOff': 2.0186170989913088e-11, 'LT': 7.677706506514808, '_raw_LT': 8.85214946616107, 'EFF': 79.75233454627177}, 'exception': None, 'traceback': '', 'wall_time': 35.351631071418524, 'cpu_time': 17.44019432999994}\n",
      "[DEBUG][20:15:41.726 optimizer.  291] Adding (1) new data to internal dataframes\n",
      "[DEBUG][20:15:41.751 optimizer. 1286] Dumped state to [/nsls2/users/yhidaka/.apsopt/2023_12_16-20_01_51-aps_mobo-bcbd87b566-cb154515/dump_auto_00015.json] in [0.02085]s\n",
      "[DEBUG][20:15:41.751 optimizer.  447] Generating 1 candidates\n",
      "[DEBUG][20:15:41.755 bayesian_g  133] Generating model from vocs self.vocs=VOCS(variables={'SH1N': [-0.594987363, 0.594987363], 'SH3N': [-0.17565325229999998, 0.17565325229999998], 'SH4N': [-0.4746270213, 0.4746270213], 'SL1': [-0.39814818150000003, 0.39814818150000003], 'SL2': [-1.0703376435, 1.0703376435], 'SL3': [-0.8838258183000001, 0.8838258183000001], 'SH1-DW08': [-0.594987363, 0.594987363], 'SH1-DW18': [-0.594987363, 0.594987363], 'SH1-DW28': [-0.594987363, 0.594987363], 'SH3-DW08': [-0.17565325229999998, 0.17565325229999998], 'SH3-DW18': [-0.17565325229999998, 0.17565325229999998], 'SH3-DW28': [-0.17565325229999998, 0.17565325229999998], 'SH4-DW08': [-0.4746270213, 0.4746270213], 'SH4-DW18': [-0.4746270213, 0.4746270213], 'SH4-DW28': [-0.4746270213, 0.4746270213]}, constraints={}, objectives={'LT': 'MAXIMIZE', 'EFF': 'MAXIMIZE'}, constants={}, observables=[]) with len(data)=17\n"
     ]
    },
    {
     "name": "stdout",
     "output_type": "stream",
     "text": [
      "\n",
      "** Step #14 at 2023-12-16 20:15:41**\n",
      "\n"
     ]
    },
    {
     "name": "stderr",
     "output_type": "stream",
     "text": [
      "[INFO ][20:15:42.329    mobo.py  301] Mobo called with inputs.size()=torch.Size([17, 15])\n",
      "[DEBUG][20:15:55.988 bayesian_g  110] Optimize results: tensor([[-0.0092,  0.0377, -0.0042,  0.0209, -0.0048,  0.0161, -0.0207, -0.0376,\n",
      "         -0.0246, -0.1332, -0.0139, -0.0223,  0.0091, -0.0082, -0.1284]],\n",
      "       dtype=torch.float64)\n",
      "[DEBUG][20:15:55.989 bayesian_g  248] Best candidate from optimize tensor([[-0.0092,  0.0377, -0.0042,  0.0209, -0.0048,  0.0161, -0.0207, -0.0376,\n",
      "         -0.0246, -0.1332, -0.0139, -0.0223,  0.0091, -0.0082, -0.1284]],\n",
      "       dtype=torch.float64)\n",
      "[DEBUG][20:15:55.991 optimizer.  488] Generated 1 inputs\n",
      "[INFO ][20:15:55.995 optimizer.  573] Evaluating 1 inputs\n",
      "[DEBUG][20:15:55.997 evaluators  193] Data kwargs: row={'SH1-DW08': -0.009177227670337731, 'SH1-DW18': 0.03765549569322867, 'SH1-DW28': -0.004208038960864711, 'SH1N': 0.020904377756048045, 'SH3-DW08': -0.004797967652503067, 'SH3-DW18': 0.016102231246659517, 'SH3-DW28': -0.020679852733893094, 'SH3N': -0.03758914341934087, 'SH4-DW08': -0.024593532034329058, 'SH4-DW18': -0.13320112345664473, 'SH4-DW28': -0.013929506046446825, 'SH4N': -0.022305935918494647, 'SL1': 0.009085637252533005, 'SL2': -0.008155870272344727, 'SL3': -0.12836515252746525}\n",
      "[INFO ][20:15:56.000 opt_funcs.  688] Setting sextupoles to {'SH1N': 3.9874867977560484, 'SH3N': -1.2086108254193408, 'SH4N': -3.1864860779184947, 'SL1': -2.6452355727474672, 'SL2': 7.127428419727656, 'SL3': -6.020537274527466, 'SH1-DW08': 3.9574051923296625, 'SH1-DW18': 4.004237915693229, 'SH1-DW28': 3.962374381039136, 'SH3-DW08': -1.175819649652503, 'SH3-DW18': -1.1549194507533405, 'SH3-DW28': -1.191701534733893, 'SH4-DW08': -3.188773674034329, 'SH4-DW18': -3.297381265456645, 'SH4-DW28': -3.178109648046447}\n"
     ]
    },
    {
     "name": "stdout",
     "output_type": "stream",
     "text": [
      "SH1N   : +3.967 + +0.021 -> +3.987\n",
      "SH3N   : -1.171 + -0.038 -> -1.209\n",
      "SH4N   : -3.164 + -0.022 -> -3.186\n",
      "SL1    : -2.654 + +0.009 -> -2.645\n",
      "SL2    : +7.136 + -0.008 -> +7.127\n",
      "SL3    : -5.892 + -0.128 -> -6.021\n",
      "SH1-DW08: +3.967 + -0.009 -> +3.957\n",
      "SH1-DW18: +3.967 + +0.038 -> +4.004\n",
      "SH1-DW28: +3.967 + -0.004 -> +3.962\n",
      "SH3-DW08: -1.171 + -0.005 -> -1.176\n",
      "SH3-DW18: -1.171 + +0.016 -> -1.155\n",
      "SH3-DW28: -1.171 + -0.021 -> -1.192\n",
      "SH4-DW08: -3.164 + -0.025 -> -3.189\n",
      "SH4-DW18: -3.164 + -0.133 -> -3.297\n",
      "SH4-DW28: -3.164 + -0.014 -> -3.178\n",
      "Sextupole adj. took 4.1.\n",
      "Max FCOR I [A] = 0.154; RMS(dx, dy) [m] = (1.134e-05, 1.154e-06)\n",
      "Max FCOR I [A] = 0.154; RMS(dx, dy) [m] = (1.134e-05, 1.154e-06)\n",
      "Max FCOR I [A] = 0.062; RMS(dx, dy) [m] = (5.300e-06, 1.171e-06)\n",
      "Orbit correction converged\n"
     ]
    },
    {
     "name": "stderr",
     "output_type": "stream",
     "text": [
      "[INFO ][20:16:06.195 opt_funcs.  734] Lifetime measurement START\n",
      "[INFO ][20:16:10.553 opt_funcs.  781] Efficiency measurement START\n"
     ]
    },
    {
     "name": "stdout",
     "output_type": "stream",
     "text": [
      "** # of outliers found = 2 (out of 180)\n",
      "Lifetime = 6.969 (raw tau [hr] = 6.926, epsy [pm] = 14.97) (took 4.4 [s])\n",
      "Inj. Eff. = 90.20 (took 19.1 [s])\n",
      "Eval. func. finished.\n"
     ]
    },
    {
     "name": "stderr",
     "output_type": "stream",
     "text": [
      "[DEBUG][20:16:29.614 evaluators  211] Result: output={'result': {'_nux': 0.2186876187071683, '_nuy': 0.2670882020253603, '_eps_x_bxbOn': 1.020129214118629e-09, '_eps_y_bxbOn': 1.518867794074496e-11, '_eps_x_bxbOff': 1.0184376195106406e-09, '_eps_y_bxbOff': 1.4968250442351676e-11, 'LT': 6.969226023554359, '_raw_LT': 6.926194419987937, 'EFF': 90.1981533138983}, 'exception': None, 'traceback': '', 'wall_time': 33.61611565295607, 'cpu_time': 16.498307078999915}\n",
      "[DEBUG][20:16:29.617 optimizer.  291] Adding (1) new data to internal dataframes\n",
      "[DEBUG][20:16:29.643 optimizer. 1286] Dumped state to [/nsls2/users/yhidaka/.apsopt/2023_12_16-20_01_51-aps_mobo-bcbd87b566-cb154515/dump_auto_00016.json] in [0.02221]s\n",
      "[DEBUG][20:16:29.644 optimizer.  447] Generating 1 candidates\n",
      "[DEBUG][20:16:29.647 bayesian_g  133] Generating model from vocs self.vocs=VOCS(variables={'SH1N': [-0.594987363, 0.594987363], 'SH3N': [-0.17565325229999998, 0.17565325229999998], 'SH4N': [-0.4746270213, 0.4746270213], 'SL1': [-0.39814818150000003, 0.39814818150000003], 'SL2': [-1.0703376435, 1.0703376435], 'SL3': [-0.8838258183000001, 0.8838258183000001], 'SH1-DW08': [-0.594987363, 0.594987363], 'SH1-DW18': [-0.594987363, 0.594987363], 'SH1-DW28': [-0.594987363, 0.594987363], 'SH3-DW08': [-0.17565325229999998, 0.17565325229999998], 'SH3-DW18': [-0.17565325229999998, 0.17565325229999998], 'SH3-DW28': [-0.17565325229999998, 0.17565325229999998], 'SH4-DW08': [-0.4746270213, 0.4746270213], 'SH4-DW18': [-0.4746270213, 0.4746270213], 'SH4-DW28': [-0.4746270213, 0.4746270213]}, constraints={}, objectives={'LT': 'MAXIMIZE', 'EFF': 'MAXIMIZE'}, constants={}, observables=[]) with len(data)=18\n"
     ]
    },
    {
     "name": "stdout",
     "output_type": "stream",
     "text": [
      "\n",
      "** Step #15 at 2023-12-16 20:16:29**\n",
      "\n"
     ]
    },
    {
     "name": "stderr",
     "output_type": "stream",
     "text": [
      "[INFO ][20:16:30.339    mobo.py  301] Mobo called with inputs.size()=torch.Size([18, 15])\n",
      "[DEBUG][20:16:46.396 bayesian_g  110] Optimize results: tensor([[ 0.0626, -0.0118, -0.0179, -0.0727, -0.0081,  0.0228, -0.0453, -0.0415,\n",
      "         -0.0349, -0.1441,  0.0104,  0.0436, -0.0166, -0.0371, -0.1128]],\n",
      "       dtype=torch.float64)\n",
      "[DEBUG][20:16:46.397 bayesian_g  248] Best candidate from optimize tensor([[ 0.0626, -0.0118, -0.0179, -0.0727, -0.0081,  0.0228, -0.0453, -0.0415,\n",
      "         -0.0349, -0.1441,  0.0104,  0.0436, -0.0166, -0.0371, -0.1128]],\n",
      "       dtype=torch.float64)\n",
      "[DEBUG][20:16:46.399 optimizer.  488] Generated 1 inputs\n",
      "[INFO ][20:16:46.402 optimizer.  573] Evaluating 1 inputs\n",
      "[DEBUG][20:16:46.404 evaluators  193] Data kwargs: row={'SH1-DW08': 0.06260368432927803, 'SH1-DW18': -0.011820676331656295, 'SH1-DW28': -0.01789239594553953, 'SH1N': -0.07268952850831469, 'SH3-DW08': -0.008103233794719356, 'SH3-DW18': 0.02278728178173678, 'SH3-DW28': -0.045276780654700026, 'SH3N': -0.04152288523769189, 'SH4-DW08': -0.03489361200502693, 'SH4-DW18': -0.14405323110439236, 'SH4-DW28': 0.01044417168577358, 'SH4N': 0.04355579691750439, 'SL1': -0.016630907815056942, 'SL2': -0.037105042520057654, 'SL3': -0.1128130606784127}\n",
      "[INFO ][20:16:46.407 opt_funcs.  688] Setting sextupoles to {'SH1N': 3.8938928914916855, 'SH3N': -1.2125445672376918, 'SH4N': -3.1206243450824958, 'SL1': -2.6709521178150575, 'SL2': 7.0984792474799425, 'SL3': -6.004985182678413, 'SH1-DW08': 4.029186104329279, 'SH1-DW18': 3.954761743668344, 'SH1-DW28': 3.9486900240544607, 'SH3-DW08': -1.1791249157947192, 'SH3-DW18': -1.1482344002182632, 'SH3-DW28': -1.2162984626547, 'SH4-DW08': -3.199073754005027, 'SH4-DW18': -3.3082333731043927, 'SH4-DW28': -3.1537359703142265}\n"
     ]
    },
    {
     "name": "stdout",
     "output_type": "stream",
     "text": [
      "SH1N   : +3.967 + -0.073 -> +3.894\n",
      "SH3N   : -1.171 + -0.042 -> -1.213\n",
      "SH4N   : -3.164 + +0.044 -> -3.121\n",
      "SL1    : -2.654 + -0.017 -> -2.671\n",
      "SL2    : +7.136 + -0.037 -> +7.098\n",
      "SL3    : -5.892 + -0.113 -> -6.005\n",
      "SH1-DW08: +3.967 + +0.063 -> +4.029\n",
      "SH1-DW18: +3.967 + -0.012 -> +3.955\n",
      "SH1-DW28: +3.967 + -0.018 -> +3.949\n",
      "SH3-DW08: -1.171 + -0.008 -> -1.179\n",
      "SH3-DW18: -1.171 + +0.023 -> -1.148\n",
      "SH3-DW28: -1.171 + -0.045 -> -1.216\n",
      "SH4-DW08: -3.164 + -0.035 -> -3.199\n",
      "SH4-DW18: -3.164 + -0.144 -> -3.308\n",
      "SH4-DW28: -3.164 + +0.010 -> -3.154\n",
      "Sextupole adj. took 1.1.\n",
      "Max FCOR I [A] = 0.018; RMS(dx, dy) [m] = (8.936e-07, 1.161e-06)\n",
      "Orbit correction converged\n"
     ]
    },
    {
     "name": "stderr",
     "output_type": "stream",
     "text": [
      "[INFO ][20:16:51.498 opt_funcs.  734] Lifetime measurement START\n",
      "[INFO ][20:16:56.346 opt_funcs.  781] Efficiency measurement START\n"
     ]
    },
    {
     "name": "stdout",
     "output_type": "stream",
     "text": [
      "** # of outliers found = 4 (out of 180)\n",
      "Lifetime = 6.791 (raw tau [hr] = 6.616, epsy [pm] = 14.34) (took 4.8 [s])\n",
      "Inj. Eff. = 91.74 (took 19.1 [s])\n",
      "Eval. func. finished.\n"
     ]
    },
    {
     "name": "stderr",
     "output_type": "stream",
     "text": [
      "[DEBUG][20:17:15.463 evaluators  211] Result: output={'result': {'_nux': 0.2181688249090642, '_nuy': 0.26714922947653397, '_eps_x_bxbOn': 1.0190718021962022e-09, '_eps_y_bxbOn': 1.4550934368673932e-11, '_eps_x_bxbOff': 1.0197336089309449e-09, '_eps_y_bxbOff': 1.434039655199989e-11, 'LT': 6.79129512472156, '_raw_LT': 6.616295132173858, 'EFF': 91.74220203088711}, 'exception': None, 'traceback': '', 'wall_time': 29.0577191747725, 'cpu_time': 16.76742829399973}\n",
      "[DEBUG][20:17:15.464 optimizer.  291] Adding (1) new data to internal dataframes\n",
      "[DEBUG][20:17:15.493 optimizer. 1286] Dumped state to [/nsls2/users/yhidaka/.apsopt/2023_12_16-20_01_51-aps_mobo-bcbd87b566-cb154515/dump_auto_00017.json] in [0.02429]s\n",
      "[DEBUG][20:17:15.493 optimizer.  447] Generating 1 candidates\n",
      "[DEBUG][20:17:15.497 bayesian_g  133] Generating model from vocs self.vocs=VOCS(variables={'SH1N': [-0.594987363, 0.594987363], 'SH3N': [-0.17565325229999998, 0.17565325229999998], 'SH4N': [-0.4746270213, 0.4746270213], 'SL1': [-0.39814818150000003, 0.39814818150000003], 'SL2': [-1.0703376435, 1.0703376435], 'SL3': [-0.8838258183000001, 0.8838258183000001], 'SH1-DW08': [-0.594987363, 0.594987363], 'SH1-DW18': [-0.594987363, 0.594987363], 'SH1-DW28': [-0.594987363, 0.594987363], 'SH3-DW08': [-0.17565325229999998, 0.17565325229999998], 'SH3-DW18': [-0.17565325229999998, 0.17565325229999998], 'SH3-DW28': [-0.17565325229999998, 0.17565325229999998], 'SH4-DW08': [-0.4746270213, 0.4746270213], 'SH4-DW18': [-0.4746270213, 0.4746270213], 'SH4-DW28': [-0.4746270213, 0.4746270213]}, constraints={}, objectives={'LT': 'MAXIMIZE', 'EFF': 'MAXIMIZE'}, constants={}, observables=[]) with len(data)=19\n"
     ]
    },
    {
     "name": "stdout",
     "output_type": "stream",
     "text": [
      "\n",
      "** Step #16 at 2023-12-16 20:17:15**\n",
      "\n"
     ]
    },
    {
     "name": "stderr",
     "output_type": "stream",
     "text": [
      "[INFO ][20:17:16.029    mobo.py  301] Mobo called with inputs.size()=torch.Size([19, 15])\n",
      "[DEBUG][20:17:26.573 bayesian_g  110] Optimize results: tensor([[-0.0632,  0.0823,  0.1149, -0.0016,  0.0133,  0.0170,  0.0083, -0.0482,\n",
      "          0.0107, -0.2801, -0.0259, -0.0888,  0.0316,  0.0945,  0.0389]],\n",
      "       dtype=torch.float64)\n",
      "[DEBUG][20:17:26.574 bayesian_g  248] Best candidate from optimize tensor([[-0.0632,  0.0823,  0.1149, -0.0016,  0.0133,  0.0170,  0.0083, -0.0482,\n",
      "          0.0107, -0.2801, -0.0259, -0.0888,  0.0316,  0.0945,  0.0389]],\n",
      "       dtype=torch.float64)\n",
      "[DEBUG][20:17:26.577 optimizer.  488] Generated 1 inputs\n",
      "[INFO ][20:17:26.581 optimizer.  573] Evaluating 1 inputs\n",
      "[DEBUG][20:17:26.582 evaluators  193] Data kwargs: row={'SH1-DW08': -0.06318598067497148, 'SH1-DW18': 0.08232681194913001, 'SH1-DW28': 0.11486670858522967, 'SH1N': -0.0015858447722360814, 'SH3-DW08': 0.01329614863919599, 'SH3-DW18': 0.017035656218590635, 'SH3-DW28': 0.008276390409334821, 'SH3N': -0.04824286103383798, 'SH4-DW08': 0.010706139576887094, 'SH4-DW18': -0.2801207322709934, 'SH4-DW28': -0.025898036679976623, 'SH4N': -0.08882292659342753, 'SL1': 0.031640826487564, 'SL2': 0.09447988284531669, 'SL3': 0.03890637724356428}\n",
      "[INFO ][20:17:26.585 opt_funcs.  688] Setting sextupoles to {'SH1N': 3.9649965752277643, 'SH3N': -1.2192645430338378, 'SH4N': -3.253003068593428, 'SL1': -2.6226803835124364, 'SL2': 7.230064172845317, 'SL3': -5.8532657447564365, 'SH1-DW08': 3.903396439325029, 'SH1-DW18': 4.04890923194913, 'SH1-DW28': 4.08144912858523, 'SH3-DW08': -1.1577255333608039, 'SH3-DW18': -1.1539860257814092, 'SH3-DW28': -1.162745291590665, 'SH4-DW08': -3.153474002423113, 'SH4-DW18': -3.4443008742709935, 'SH4-DW28': -3.190078178679977}\n"
     ]
    },
    {
     "name": "stdout",
     "output_type": "stream",
     "text": [
      "SH1N   : +3.967 + -0.002 -> +3.965\n",
      "SH3N   : -1.171 + -0.048 -> -1.219\n",
      "SH4N   : -3.164 + -0.089 -> -3.253\n",
      "SL1    : -2.654 + +0.032 -> -2.623\n",
      "SL2    : +7.136 + +0.094 -> +7.230\n",
      "SL3    : -5.892 + +0.039 -> -5.853\n",
      "SH1-DW08: +3.967 + -0.063 -> +3.903\n",
      "SH1-DW18: +3.967 + +0.082 -> +4.049\n",
      "SH1-DW28: +3.967 + +0.115 -> +4.081\n",
      "SH3-DW08: -1.171 + +0.013 -> -1.158\n",
      "SH3-DW18: -1.171 + +0.017 -> -1.154\n",
      "SH3-DW28: -1.171 + +0.008 -> -1.163\n",
      "SH4-DW08: -3.164 + +0.011 -> -3.153\n",
      "SH4-DW18: -3.164 + -0.280 -> -3.444\n",
      "SH4-DW28: -3.164 + -0.026 -> -3.190\n",
      "Sextupole adj. took 1.1.\n",
      "Max FCOR I [A] = 0.106; RMS(dx, dy) [m] = (1.029e-05, 1.189e-06)\n",
      "Max FCOR I [A] = 0.106; RMS(dx, dy) [m] = (1.029e-05, 1.189e-06)\n",
      "Max FCOR I [A] = 0.046; RMS(dx, dy) [m] = (3.248e-06, 1.164e-06)\n",
      "Orbit correction converged\n"
     ]
    },
    {
     "name": "stderr",
     "output_type": "stream",
     "text": [
      "[INFO ][20:17:33.674 opt_funcs.  734] Lifetime measurement START\n",
      "[INFO ][20:17:39.989 opt_funcs.  781] Efficiency measurement START\n"
     ]
    },
    {
     "name": "stdout",
     "output_type": "stream",
     "text": [
      "** # of outliers found = 2 (out of 180)\n",
      "Lifetime = 7.161 (raw tau [hr] = 7.417, epsy [pm] = 16.17) (took 6.3 [s])\n",
      "Inj. Eff. = 91.81 (took 19.3 [s])\n",
      "Eval. func. finished.\n"
     ]
    },
    {
     "name": "stderr",
     "output_type": "stream",
     "text": [
      "[DEBUG][20:17:59.277 evaluators  211] Result: output={'result': {'_nux': 0.22057970146887595, '_nuy': 0.2662337068598609, '_eps_x_bxbOn': 1.017283177330687e-09, '_eps_y_bxbOn': 1.632152385895711e-11, '_eps_x_bxbOff': 1.014833662626538e-09, '_eps_y_bxbOff': 1.6170069123462324e-11, 'LT': 7.161125110950317, '_raw_LT': 7.417162328853462, 'EFF': 91.80751168697586}, 'exception': None, 'traceback': '', 'wall_time': 32.69382084719837, 'cpu_time': 18.193356867999682}\n",
      "[DEBUG][20:17:59.279 optimizer.  291] Adding (1) new data to internal dataframes\n",
      "[DEBUG][20:17:59.311 optimizer. 1286] Dumped state to [/nsls2/users/yhidaka/.apsopt/2023_12_16-20_01_51-aps_mobo-bcbd87b566-cb154515/dump_auto_00018.json] in [0.02757]s\n",
      "[DEBUG][20:17:59.311 optimizer.  447] Generating 1 candidates\n",
      "[DEBUG][20:17:59.315 bayesian_g  133] Generating model from vocs self.vocs=VOCS(variables={'SH1N': [-0.594987363, 0.594987363], 'SH3N': [-0.17565325229999998, 0.17565325229999998], 'SH4N': [-0.4746270213, 0.4746270213], 'SL1': [-0.39814818150000003, 0.39814818150000003], 'SL2': [-1.0703376435, 1.0703376435], 'SL3': [-0.8838258183000001, 0.8838258183000001], 'SH1-DW08': [-0.594987363, 0.594987363], 'SH1-DW18': [-0.594987363, 0.594987363], 'SH1-DW28': [-0.594987363, 0.594987363], 'SH3-DW08': [-0.17565325229999998, 0.17565325229999998], 'SH3-DW18': [-0.17565325229999998, 0.17565325229999998], 'SH3-DW28': [-0.17565325229999998, 0.17565325229999998], 'SH4-DW08': [-0.4746270213, 0.4746270213], 'SH4-DW18': [-0.4746270213, 0.4746270213], 'SH4-DW28': [-0.4746270213, 0.4746270213]}, constraints={}, objectives={'LT': 'MAXIMIZE', 'EFF': 'MAXIMIZE'}, constants={}, observables=[]) with len(data)=20\n"
     ]
    },
    {
     "name": "stdout",
     "output_type": "stream",
     "text": [
      "\n",
      "** Step #17 at 2023-12-16 20:17:59**\n",
      "\n"
     ]
    },
    {
     "name": "stderr",
     "output_type": "stream",
     "text": [
      "[INFO ][20:18:00.122    mobo.py  301] Mobo called with inputs.size()=torch.Size([20, 15])\n",
      "[DEBUG][20:18:20.268 bayesian_g  110] Optimize results: tensor([[-0.0899,  0.1102,  0.1020,  0.1015,  0.0037, -0.0095, -0.0202, -0.0139,\n",
      "          0.0181, -0.2439, -0.0191, -0.0191,  0.0628,  0.1958,  0.3153]],\n",
      "       dtype=torch.float64)\n",
      "[DEBUG][20:18:20.271 bayesian_g  248] Best candidate from optimize tensor([[-0.0899,  0.1102,  0.1020,  0.1015,  0.0037, -0.0095, -0.0202, -0.0139,\n",
      "          0.0181, -0.2439, -0.0191, -0.0191,  0.0628,  0.1958,  0.3153]],\n",
      "       dtype=torch.float64)\n",
      "[DEBUG][20:18:20.275 optimizer.  488] Generated 1 inputs\n",
      "[INFO ][20:18:20.283 optimizer.  573] Evaluating 1 inputs\n",
      "[DEBUG][20:18:20.286 evaluators  193] Data kwargs: row={'SH1-DW08': -0.0898827509291213, 'SH1-DW18': 0.11015357076457212, 'SH1-DW28': 0.10195060278438448, 'SH1N': 0.10146287592760202, 'SH3-DW08': 0.0037006730695877976, 'SH3-DW18': -0.009506647046953087, 'SH3-DW28': -0.020170939583584263, 'SH3N': -0.013850194048325926, 'SH4-DW08': 0.018111865368907975, 'SH4-DW18': -0.24385881453932706, 'SH4-DW28': -0.0191261478402205, 'SH4N': -0.019116310417850897, 'SL1': 0.06281333173229903, 'SL2': 0.1957888118853919, 'SL3': 0.31531585206556234}\n",
      "[INFO ][20:18:20.290 opt_funcs.  688] Setting sextupoles to {'SH1N': 4.068045295927602, 'SH3N': -1.184871876048326, 'SH4N': -3.183296452417851, 'SL1': -2.5915078782677012, 'SL2': 7.331373101885393, 'SL3': -5.576856269934439, 'SH1-DW08': 3.876699669070879, 'SH1-DW18': 4.076735990764573, 'SH1-DW28': 4.068533022784385, 'SH3-DW08': -1.167321008930412, 'SH3-DW18': -1.180528329046953, 'SH3-DW28': -1.1911926215835842, 'SH4-DW08': -3.1460682766310923, 'SH4-DW18': -3.408038956539327, 'SH4-DW28': -3.1833062898402207}\n"
     ]
    },
    {
     "name": "stdout",
     "output_type": "stream",
     "text": [
      "SH1N   : +3.967 + +0.101 -> +4.068\n",
      "SH3N   : -1.171 + -0.014 -> -1.185\n",
      "SH4N   : -3.164 + -0.019 -> -3.183\n",
      "SL1    : -2.654 + +0.063 -> -2.592\n",
      "SL2    : +7.136 + +0.196 -> +7.331\n",
      "SL3    : -5.892 + +0.315 -> -5.577\n",
      "SH1-DW08: +3.967 + -0.090 -> +3.877\n",
      "SH1-DW18: +3.967 + +0.110 -> +4.077\n",
      "SH1-DW28: +3.967 + +0.102 -> +4.069\n",
      "SH3-DW08: -1.171 + +0.004 -> -1.167\n",
      "SH3-DW18: -1.171 + -0.010 -> -1.181\n",
      "SH3-DW28: -1.171 + -0.020 -> -1.191\n",
      "SH4-DW08: -3.164 + +0.018 -> -3.146\n",
      "SH4-DW18: -3.164 + -0.244 -> -3.408\n",
      "SH4-DW28: -3.164 + -0.019 -> -3.183\n",
      "Sextupole adj. took 3.2.\n",
      "Max FCOR I [A] = 0.108; RMS(dx, dy) [m] = (8.868e-06, 1.148e-06)\n",
      "Max FCOR I [A] = 0.122; RMS(dx, dy) [m] = (8.521e-06, 1.136e-06)\n",
      "Max FCOR I [A] = 0.122; RMS(dx, dy) [m] = (8.521e-06, 1.136e-06)\n",
      "Max FCOR I [A] = 0.062; RMS(dx, dy) [m] = (2.833e-06, 1.123e-06)\n",
      "Orbit correction converged\n"
     ]
    },
    {
     "name": "stderr",
     "output_type": "stream",
     "text": [
      "[INFO ][20:18:30.487 opt_funcs.  734] Lifetime measurement START\n",
      "[INFO ][20:18:37.493 opt_funcs.  781] Efficiency measurement START\n"
     ]
    },
    {
     "name": "stdout",
     "output_type": "stream",
     "text": [
      "** # of outliers found = 10 (out of 180)\n",
      "Lifetime = 8.118 (raw tau [hr] = 10.734, epsy [pm] = 26.28) (took 7.0 [s])\n",
      "Inj. Eff. = 44.71 (took 19.9 [s])\n",
      "Eval. func. finished.\n"
     ]
    },
    {
     "name": "stderr",
     "output_type": "stream",
     "text": [
      "[DEBUG][20:18:57.356 evaluators  211] Result: output={'result': {'_nux': 0.225279369454588, '_nuy': 0.2615645525997357, '_eps_x_bxbOn': 9.76000957682643e-10, '_eps_y_bxbOn': 2.6597222285908274e-11, '_eps_x_bxbOff': 9.767996480874233e-10, '_eps_y_bxbOff': 2.627764637880616e-11, 'LT': 8.117820165208544, '_raw_LT': 10.733583596260988, 'EFF': 44.70592253422434}, 'exception': None, 'traceback': '', 'wall_time': 37.06880631670356, 'cpu_time': 19.194467882000026}\n",
      "[DEBUG][20:18:57.359 optimizer.  291] Adding (1) new data to internal dataframes\n",
      "[DEBUG][20:18:57.401 optimizer. 1286] Dumped state to [/nsls2/users/yhidaka/.apsopt/2023_12_16-20_01_51-aps_mobo-bcbd87b566-cb154515/dump_auto_00019.json] in [0.03625]s\n",
      "[DEBUG][20:18:57.402 optimizer.  447] Generating 1 candidates\n",
      "[DEBUG][20:18:57.408 bayesian_g  133] Generating model from vocs self.vocs=VOCS(variables={'SH1N': [-0.594987363, 0.594987363], 'SH3N': [-0.17565325229999998, 0.17565325229999998], 'SH4N': [-0.4746270213, 0.4746270213], 'SL1': [-0.39814818150000003, 0.39814818150000003], 'SL2': [-1.0703376435, 1.0703376435], 'SL3': [-0.8838258183000001, 0.8838258183000001], 'SH1-DW08': [-0.594987363, 0.594987363], 'SH1-DW18': [-0.594987363, 0.594987363], 'SH1-DW28': [-0.594987363, 0.594987363], 'SH3-DW08': [-0.17565325229999998, 0.17565325229999998], 'SH3-DW18': [-0.17565325229999998, 0.17565325229999998], 'SH3-DW28': [-0.17565325229999998, 0.17565325229999998], 'SH4-DW08': [-0.4746270213, 0.4746270213], 'SH4-DW18': [-0.4746270213, 0.4746270213], 'SH4-DW28': [-0.4746270213, 0.4746270213]}, constraints={}, objectives={'LT': 'MAXIMIZE', 'EFF': 'MAXIMIZE'}, constants={}, observables=[]) with len(data)=21\n"
     ]
    },
    {
     "name": "stdout",
     "output_type": "stream",
     "text": [
      "\n",
      "** Step #18 at 2023-12-16 20:18:57**\n",
      "\n"
     ]
    },
    {
     "name": "stderr",
     "output_type": "stream",
     "text": [
      "[INFO ][20:18:58.162    mobo.py  301] Mobo called with inputs.size()=torch.Size([21, 15])\n",
      "[DEBUG][20:19:07.773 bayesian_g  110] Optimize results: tensor([[-0.1285,  0.0553,  0.0183,  0.0439,  0.0211,  0.0277, -0.0003, -0.0333,\n",
      "          0.0299, -0.1820,  0.0149, -0.0947, -0.0178,  0.1125,  0.0009]],\n",
      "       dtype=torch.float64)\n",
      "[DEBUG][20:19:07.774 bayesian_g  248] Best candidate from optimize tensor([[-0.1285,  0.0553,  0.0183,  0.0439,  0.0211,  0.0277, -0.0003, -0.0333,\n",
      "          0.0299, -0.1820,  0.0149, -0.0947, -0.0178,  0.1125,  0.0009]],\n",
      "       dtype=torch.float64)\n",
      "[DEBUG][20:19:07.776 optimizer.  488] Generated 1 inputs\n",
      "[INFO ][20:19:07.779 optimizer.  573] Evaluating 1 inputs\n",
      "[DEBUG][20:19:07.780 evaluators  193] Data kwargs: row={'SH1-DW08': -0.128461113257632, 'SH1-DW18': 0.05529862570671059, 'SH1-DW28': 0.01827263241164926, 'SH1N': 0.043857213974564414, 'SH3-DW08': 0.0211034780979547, 'SH3-DW18': 0.02774715726023214, 'SH3-DW28': -0.0002773661615334615, 'SH3N': -0.03334818190998293, 'SH4-DW08': 0.029923084880198434, 'SH4-DW18': -0.18196220773102595, 'SH4-DW28': 0.014945025943041384, 'SH4N': -0.09465303580730756, 'SL1': -0.017835161449537937, 'SL2': 0.11251221268431438, 'SL3': 0.0009310097812808801}\n",
      "[INFO ][20:19:07.783 opt_funcs.  688] Setting sextupoles to {'SH1N': 4.010439633974565, 'SH3N': -1.204369863909983, 'SH4N': -3.2588331778073076, 'SL1': -2.6721563714495384, 'SL2': 7.248096502684315, 'SL3': -5.89124111221872, 'SH1-DW08': 3.8381213067423685, 'SH1-DW18': 4.021881045706711, 'SH1-DW28': 3.9848550524116497, 'SH3-DW08': -1.1499182039020452, 'SH3-DW18': -1.1432745247397678, 'SH3-DW28': -1.1712990481615333, 'SH4-DW08': -3.1342570571198016, 'SH4-DW18': -3.3461423497310263, 'SH4-DW28': -3.1492351160569587}\n"
     ]
    },
    {
     "name": "stdout",
     "output_type": "stream",
     "text": [
      "SH1N   : +3.967 + +0.044 -> +4.010\n",
      "SH3N   : -1.171 + -0.033 -> -1.204\n",
      "SH4N   : -3.164 + -0.095 -> -3.259\n",
      "SL1    : -2.654 + -0.018 -> -2.672\n",
      "SL2    : +7.136 + +0.113 -> +7.248\n",
      "SL3    : -5.892 + +0.001 -> -5.891\n",
      "SH1-DW08: +3.967 + -0.128 -> +3.838\n",
      "SH1-DW18: +3.967 + +0.055 -> +4.022\n",
      "SH1-DW28: +3.967 + +0.018 -> +3.985\n",
      "SH3-DW08: -1.171 + +0.021 -> -1.150\n",
      "SH3-DW18: -1.171 + +0.028 -> -1.143\n",
      "SH3-DW28: -1.171 + -0.000 -> -1.171\n",
      "SH4-DW08: -3.164 + +0.030 -> -3.134\n",
      "SH4-DW18: -3.164 + -0.182 -> -3.346\n",
      "SH4-DW28: -3.164 + +0.015 -> -3.149\n",
      "Sextupole adj. took 3.1.\n",
      "Max FCOR I [A] = 0.112; RMS(dx, dy) [m] = (1.200e-05, 1.183e-06)\n",
      "Max FCOR I [A] = 0.150; RMS(dx, dy) [m] = (1.513e-05, 1.195e-06)\n",
      "Max FCOR I [A] = 0.150; RMS(dx, dy) [m] = (1.513e-05, 1.195e-06)\n",
      "Max FCOR I [A] = 0.054; RMS(dx, dy) [m] = (4.544e-06, 1.204e-06)\n",
      "Orbit correction converged\n"
     ]
    },
    {
     "name": "stderr",
     "output_type": "stream",
     "text": [
      "[INFO ][20:19:17.923 opt_funcs.  734] Lifetime measurement START\n",
      "[INFO ][20:19:23.397 opt_funcs.  781] Efficiency measurement START\n"
     ]
    },
    {
     "name": "stdout",
     "output_type": "stream",
     "text": [
      "** # of outliers found = 10 (out of 180)\n",
      "Lifetime = 7.142 (raw tau [hr] = 7.469, epsy [pm] = 16.41) (took 5.5 [s])\n",
      "Inj. Eff. = 86.20 (took 18.8 [s])\n",
      "Eval. func. finished.\n"
     ]
    },
    {
     "name": "stderr",
     "output_type": "stream",
     "text": [
      "[DEBUG][20:19:42.187 evaluators  211] Result: output={'result': {'_nux': 0.22064072892004954, '_nuy': 0.26611164188032566, '_eps_x_bxbOn': 1.0111067692338774e-09, '_eps_y_bxbOn': 1.654025108798909e-11, '_eps_x_bxbOff': 1.0122900516567289e-09, '_eps_y_bxbOff': 1.64105098225088e-11, 'LT': 7.1418475678964555, '_raw_LT': 7.468729256112592, 'EFF': 86.19522993772135}, 'exception': None, 'traceback': '', 'wall_time': 34.40610630437732, 'cpu_time': 17.719545750999714}\n",
      "[DEBUG][20:19:42.190 optimizer.  291] Adding (1) new data to internal dataframes\n",
      "[DEBUG][20:19:42.224 optimizer. 1286] Dumped state to [/nsls2/users/yhidaka/.apsopt/2023_12_16-20_01_51-aps_mobo-bcbd87b566-cb154515/dump_auto_00020.json] in [0.02808]s\n",
      "[DEBUG][20:19:42.225 optimizer.  447] Generating 1 candidates\n",
      "[DEBUG][20:19:42.229 bayesian_g  133] Generating model from vocs self.vocs=VOCS(variables={'SH1N': [-0.594987363, 0.594987363], 'SH3N': [-0.17565325229999998, 0.17565325229999998], 'SH4N': [-0.4746270213, 0.4746270213], 'SL1': [-0.39814818150000003, 0.39814818150000003], 'SL2': [-1.0703376435, 1.0703376435], 'SL3': [-0.8838258183000001, 0.8838258183000001], 'SH1-DW08': [-0.594987363, 0.594987363], 'SH1-DW18': [-0.594987363, 0.594987363], 'SH1-DW28': [-0.594987363, 0.594987363], 'SH3-DW08': [-0.17565325229999998, 0.17565325229999998], 'SH3-DW18': [-0.17565325229999998, 0.17565325229999998], 'SH3-DW28': [-0.17565325229999998, 0.17565325229999998], 'SH4-DW08': [-0.4746270213, 0.4746270213], 'SH4-DW18': [-0.4746270213, 0.4746270213], 'SH4-DW28': [-0.4746270213, 0.4746270213]}, constraints={}, objectives={'LT': 'MAXIMIZE', 'EFF': 'MAXIMIZE'}, constants={}, observables=[]) with len(data)=22\n"
     ]
    },
    {
     "name": "stdout",
     "output_type": "stream",
     "text": [
      "\n",
      "** Step #19 at 2023-12-16 20:19:42**\n",
      "\n"
     ]
    },
    {
     "name": "stderr",
     "output_type": "stream",
     "text": [
      "[INFO ][20:19:42.876    mobo.py  301] Mobo called with inputs.size()=torch.Size([22, 15])\n",
      "[DEBUG][20:19:57.731 bayesian_g  110] Optimize results: tensor([[-0.0303,  0.0394,  0.0312,  0.0660, -0.0101,  0.0395, -0.0075, -0.0231,\n",
      "         -0.0699, -0.2112, -0.0220, -0.0316,  0.0447,  0.0380,  0.0311]],\n",
      "       dtype=torch.float64)\n",
      "[DEBUG][20:19:57.733 bayesian_g  248] Best candidate from optimize tensor([[-0.0303,  0.0394,  0.0312,  0.0660, -0.0101,  0.0395, -0.0075, -0.0231,\n",
      "         -0.0699, -0.2112, -0.0220, -0.0316,  0.0447,  0.0380,  0.0311]],\n",
      "       dtype=torch.float64)\n",
      "[DEBUG][20:19:57.735 optimizer.  488] Generated 1 inputs\n",
      "[INFO ][20:19:57.739 optimizer.  573] Evaluating 1 inputs\n",
      "[DEBUG][20:19:57.740 evaluators  193] Data kwargs: row={'SH1-DW08': -0.030340450776624266, 'SH1-DW18': 0.03939379476319898, 'SH1-DW28': 0.031227264333657023, 'SH1N': 0.06601373816537445, 'SH3-DW08': -0.010104631139618046, 'SH3-DW18': 0.03954621632001853, 'SH3-DW28': -0.007461112703731162, 'SH3N': -0.023148755537071814, 'SH4-DW08': -0.06993233267383298, 'SH4-DW18': -0.21115393492367, 'SH4-DW28': -0.02197533557042949, 'SH4N': -0.031610482659290215, 'SL1': 0.04468711983097174, 'SL2': 0.03797055351673985, 'SL3': 0.03110090813663269}\n",
      "[INFO ][20:19:57.743 opt_funcs.  688] Setting sextupoles to {'SH1N': 4.032596158165375, 'SH3N': -1.1941704375370716, 'SH4N': -3.19579062465929, 'SL1': -2.6096340901690285, 'SL2': 7.17355484351674, 'SL3': -5.861071213863368, 'SH1-DW08': 3.936241969223376, 'SH1-DW18': 4.0059762147632, 'SH1-DW28': 3.9978096843336575, 'SH3-DW08': -1.181126313139618, 'SH3-DW18': -1.1314754656799815, 'SH3-DW28': -1.178482794703731, 'SH4-DW08': -3.2341124746738332, 'SH4-DW18': -3.37533407692367, 'SH4-DW28': -3.1861554775704297}\n"
     ]
    },
    {
     "name": "stdout",
     "output_type": "stream",
     "text": [
      "SH1N   : +3.967 + +0.066 -> +4.033\n",
      "SH3N   : -1.171 + -0.023 -> -1.194\n",
      "SH4N   : -3.164 + -0.032 -> -3.196\n",
      "SL1    : -2.654 + +0.045 -> -2.610\n",
      "SL2    : +7.136 + +0.038 -> +7.174\n",
      "SL3    : -5.892 + +0.031 -> -5.861\n",
      "SH1-DW08: +3.967 + -0.030 -> +3.936\n",
      "SH1-DW18: +3.967 + +0.039 -> +4.006\n",
      "SH1-DW28: +3.967 + +0.031 -> +3.998\n",
      "SH3-DW08: -1.171 + -0.010 -> -1.181\n",
      "SH3-DW18: -1.171 + +0.040 -> -1.131\n",
      "SH3-DW28: -1.171 + -0.007 -> -1.178\n",
      "SH4-DW08: -3.164 + -0.070 -> -3.234\n",
      "SH4-DW18: -3.164 + -0.211 -> -3.375\n",
      "SH4-DW28: -3.164 + -0.022 -> -3.186\n",
      "Sextupole adj. took 1.1.\n",
      "Max FCOR I [A] = 0.034; RMS(dx, dy) [m] = (8.632e-07, 1.156e-06)\n",
      "Orbit correction converged\n"
     ]
    },
    {
     "name": "stderr",
     "output_type": "stream",
     "text": [
      "[INFO ][20:20:02.928 opt_funcs.  734] Lifetime measurement START\n",
      "[INFO ][20:20:08.211 opt_funcs.  781] Efficiency measurement START\n"
     ]
    },
    {
     "name": "stdout",
     "output_type": "stream",
     "text": [
      "** # of outliers found = 4 (out of 180)\n",
      "Lifetime = 7.266 (raw tau [hr] = 7.680, epsy [pm] = 16.71) (took 5.3 [s])\n",
      "Inj. Eff. = 90.07 (took 17.8 [s])\n",
      "Eval. func. finished.\n"
     ]
    },
    {
     "name": "stderr",
     "output_type": "stream",
     "text": [
      "[DEBUG][20:20:25.995 evaluators  211] Result: output={'result': {'_nux': 0.22137314902882554, '_nuy': 0.26568439933617005, '_eps_x_bxbOn': 1.0149515549155191e-09, '_eps_y_bxbOn': 1.680144869552811e-11, '_eps_x_bxbOff': 1.0131914781477355e-09, '_eps_y_bxbOff': 1.6714231600840784e-11, 'LT': 7.266221245508002, '_raw_LT': 7.679667935402043, 'EFF': 90.06627691775421}, 'exception': None, 'traceback': '', 'wall_time': 28.253735897131264, 'cpu_time': 17.20360220600014}\n",
      "[DEBUG][20:20:25.997 optimizer.  291] Adding (1) new data to internal dataframes\n",
      "[DEBUG][20:20:26.029 optimizer. 1286] Dumped state to [/nsls2/users/yhidaka/.apsopt/2023_12_16-20_01_51-aps_mobo-bcbd87b566-cb154515/dump_auto_00021.json] in [0.02697]s\n",
      "[DEBUG][20:20:26.030 optimizer.  447] Generating 1 candidates\n",
      "[DEBUG][20:20:26.033 bayesian_g  133] Generating model from vocs self.vocs=VOCS(variables={'SH1N': [-0.594987363, 0.594987363], 'SH3N': [-0.17565325229999998, 0.17565325229999998], 'SH4N': [-0.4746270213, 0.4746270213], 'SL1': [-0.39814818150000003, 0.39814818150000003], 'SL2': [-1.0703376435, 1.0703376435], 'SL3': [-0.8838258183000001, 0.8838258183000001], 'SH1-DW08': [-0.594987363, 0.594987363], 'SH1-DW18': [-0.594987363, 0.594987363], 'SH1-DW28': [-0.594987363, 0.594987363], 'SH3-DW08': [-0.17565325229999998, 0.17565325229999998], 'SH3-DW18': [-0.17565325229999998, 0.17565325229999998], 'SH3-DW28': [-0.17565325229999998, 0.17565325229999998], 'SH4-DW08': [-0.4746270213, 0.4746270213], 'SH4-DW18': [-0.4746270213, 0.4746270213], 'SH4-DW28': [-0.4746270213, 0.4746270213]}, constraints={}, objectives={'LT': 'MAXIMIZE', 'EFF': 'MAXIMIZE'}, constants={}, observables=[]) with len(data)=23\n"
     ]
    },
    {
     "name": "stdout",
     "output_type": "stream",
     "text": [
      "\n",
      "** Step #20 at 2023-12-16 20:20:26**\n",
      "\n"
     ]
    },
    {
     "name": "stderr",
     "output_type": "stream",
     "text": [
      "[INFO ][20:20:26.579    mobo.py  301] Mobo called with inputs.size()=torch.Size([23, 15])\n",
      "[DEBUG][20:20:44.505 bayesian_g  110] Optimize results: tensor([[-0.0780, -0.0168,  0.1188,  0.1285,  0.0010, -0.0117, -0.0183, -0.0068,\n",
      "          0.0074, -0.2552, -0.0099,  0.0230,  0.0781,  0.2447,  0.3508]],\n",
      "       dtype=torch.float64)\n",
      "[DEBUG][20:20:44.507 bayesian_g  248] Best candidate from optimize tensor([[-0.0780, -0.0168,  0.1188,  0.1285,  0.0010, -0.0117, -0.0183, -0.0068,\n",
      "          0.0074, -0.2552, -0.0099,  0.0230,  0.0781,  0.2447,  0.3508]],\n",
      "       dtype=torch.float64)\n",
      "[DEBUG][20:20:44.509 optimizer.  488] Generated 1 inputs\n",
      "[INFO ][20:20:44.513 optimizer.  573] Evaluating 1 inputs\n",
      "[DEBUG][20:20:44.514 evaluators  193] Data kwargs: row={'SH1-DW08': -0.07801767467349426, 'SH1-DW18': -0.016762651014337784, 'SH1-DW28': 0.1188257323207112, 'SH1N': 0.1285076330790622, 'SH3-DW08': 0.0009505650406828801, 'SH3-DW18': -0.011740246346570603, 'SH3-DW28': -0.018255723173354485, 'SH3N': -0.0067645038080073145, 'SH4-DW08': 0.007442726281568858, 'SH4-DW18': -0.25520439295882646, 'SH4-DW28': -0.009940485397181753, 'SH4N': 0.02303984381256945, 'SL1': 0.07812941605483707, 'SL2': 0.2447182156004206, 'SL3': 0.3507589111326146}\n",
      "[INFO ][20:20:44.519 opt_funcs.  688] Setting sextupoles to {'SH1N': 4.095090053079063, 'SH3N': -1.1777861858080072, 'SH4N': -3.141140298187431, 'SL1': -2.5761917939451635, 'SL2': 7.3803025056004214, 'SL3': -5.541413210867386, 'SH1-DW08': 3.888564745326506, 'SH1-DW18': 3.9498197689856624, 'SH1-DW28': 4.085408152320712, 'SH3-DW08': -1.170071116959317, 'SH3-DW18': -1.1827619283465705, 'SH3-DW28': -1.1892774051733543, 'SH4-DW08': -3.1567374157184314, 'SH4-DW18': -3.4193845349588265, 'SH4-DW28': -3.174120627397182}\n"
     ]
    },
    {
     "name": "stdout",
     "output_type": "stream",
     "text": [
      "SH1N   : +3.967 + +0.129 -> +4.095\n",
      "SH3N   : -1.171 + -0.007 -> -1.178\n",
      "SH4N   : -3.164 + +0.023 -> -3.141\n",
      "SL1    : -2.654 + +0.078 -> -2.576\n",
      "SL2    : +7.136 + +0.245 -> +7.380\n",
      "SL3    : -5.892 + +0.351 -> -5.541\n",
      "SH1-DW08: +3.967 + -0.078 -> +3.889\n",
      "SH1-DW18: +3.967 + -0.017 -> +3.950\n",
      "SH1-DW28: +3.967 + +0.119 -> +4.085\n",
      "SH3-DW08: -1.171 + +0.001 -> -1.170\n",
      "SH3-DW18: -1.171 + -0.012 -> -1.183\n",
      "SH3-DW28: -1.171 + -0.018 -> -1.189\n",
      "SH4-DW08: -3.164 + +0.007 -> -3.157\n",
      "SH4-DW18: -3.164 + -0.255 -> -3.419\n",
      "SH4-DW28: -3.164 + -0.010 -> -3.174\n",
      "Sextupole adj. took 3.1.\n",
      "Max FCOR I [A] = 0.117; RMS(dx, dy) [m] = (9.427e-06, 1.164e-06)\n",
      "Max FCOR I [A] = 0.152; RMS(dx, dy) [m] = (1.207e-05, 1.175e-06)\n",
      "Max FCOR I [A] = 0.152; RMS(dx, dy) [m] = (1.207e-05, 1.175e-06)\n",
      "Max FCOR I [A] = 0.041; RMS(dx, dy) [m] = (3.201e-06, 1.153e-06)\n",
      "Orbit correction converged\n"
     ]
    },
    {
     "name": "stderr",
     "output_type": "stream",
     "text": [
      "[INFO ][20:20:54.696 opt_funcs.  734] Lifetime measurement START\n",
      "[INFO ][20:21:02.027 opt_funcs.  781] Efficiency measurement START\n"
     ]
    },
    {
     "name": "stdout",
     "output_type": "stream",
     "text": [
      "** # of outliers found = 9 (out of 180)\n",
      "Lifetime = 7.928 (raw tau [hr] = 10.322, epsy [pm] = 25.30) (took 7.3 [s])\n",
      "Inj. Eff. = 22.68 (took 18.0 [s])\n",
      "Eval. func. finished.\n"
     ]
    },
    {
     "name": "stderr",
     "output_type": "stream",
     "text": [
      "[DEBUG][20:21:19.999 evaluators  211] Result: output={'result': {'_nux': 0.22650005955869326, '_nuy': 0.26061851625747595, '_eps_x_bxbOn': 9.877988336918876e-10, '_eps_y_bxbOn': 2.5430861989711857e-11, '_eps_x_bxbOff': 9.868799901786354e-10, '_eps_y_bxbOff': 2.529828938651665e-11, 'LT': 7.92844274955321, '_raw_LT': 10.32150688596491, 'EFF': 22.67627100056728}, 'exception': None, 'traceback': '', 'wall_time': 35.48362787812948, 'cpu_time': 19.084535416000108}\n",
      "[DEBUG][20:21:20.001 optimizer.  291] Adding (1) new data to internal dataframes\n",
      "[DEBUG][20:21:20.033 optimizer. 1286] Dumped state to [/nsls2/users/yhidaka/.apsopt/2023_12_16-20_01_51-aps_mobo-bcbd87b566-cb154515/dump_auto_00022.json] in [0.02814]s\n"
     ]
    }
   ],
   "source": [
    "for i in range(20):\n",
    "    print(f'\\n** Step #{i+1} at {datetime.now():%Y-%m-%d %H:%M:%S}**\\n')\n",
    "    opt.step()"
   ]
  },
  {
   "cell_type": "code",
   "execution_count": 13,
   "metadata": {},
   "outputs": [
    {
     "data": {
      "text/html": [
       "<div>\n",
       "<style scoped>\n",
       "    .dataframe tbody tr th:only-of-type {\n",
       "        vertical-align: middle;\n",
       "    }\n",
       "\n",
       "    .dataframe tbody tr th {\n",
       "        vertical-align: top;\n",
       "    }\n",
       "\n",
       "    .dataframe thead th {\n",
       "        text-align: right;\n",
       "    }\n",
       "</style>\n",
       "<table border=\"1\" class=\"dataframe\">\n",
       "  <thead>\n",
       "    <tr style=\"text-align: right;\">\n",
       "      <th></th>\n",
       "      <th>SH1N</th>\n",
       "      <th>SH3N</th>\n",
       "      <th>SH4N</th>\n",
       "      <th>SL1</th>\n",
       "      <th>SL2</th>\n",
       "      <th>SL3</th>\n",
       "      <th>SH1-DW08</th>\n",
       "      <th>SH1-DW18</th>\n",
       "      <th>SH1-DW28</th>\n",
       "      <th>SH3-DW08</th>\n",
       "      <th>...</th>\n",
       "      <th>valid</th>\n",
       "      <th>_nux</th>\n",
       "      <th>_nuy</th>\n",
       "      <th>_eps_x_bxbOn</th>\n",
       "      <th>_eps_y_bxbOn</th>\n",
       "      <th>_eps_x_bxbOff</th>\n",
       "      <th>_eps_y_bxbOff</th>\n",
       "      <th>LT</th>\n",
       "      <th>_raw_LT</th>\n",
       "      <th>EFF</th>\n",
       "    </tr>\n",
       "  </thead>\n",
       "  <tbody>\n",
       "    <tr>\n",
       "      <th>20</th>\n",
       "      <td>-0.001586</td>\n",
       "      <td>-0.048243</td>\n",
       "      <td>-0.088823</td>\n",
       "      <td>0.031641</td>\n",
       "      <td>0.094480</td>\n",
       "      <td>0.038906</td>\n",
       "      <td>-0.063186</td>\n",
       "      <td>0.082327</td>\n",
       "      <td>0.114867</td>\n",
       "      <td>0.013296</td>\n",
       "      <td>...</td>\n",
       "      <td>True</td>\n",
       "      <td>0.220580</td>\n",
       "      <td>0.266234</td>\n",
       "      <td>1.017283e-09</td>\n",
       "      <td>1.632152e-11</td>\n",
       "      <td>1.014834e-09</td>\n",
       "      <td>1.617007e-11</td>\n",
       "      <td>7.161125</td>\n",
       "      <td>7.417162</td>\n",
       "      <td>91.807512</td>\n",
       "    </tr>\n",
       "    <tr>\n",
       "      <th>21</th>\n",
       "      <td>0.101463</td>\n",
       "      <td>-0.013850</td>\n",
       "      <td>-0.019116</td>\n",
       "      <td>0.062813</td>\n",
       "      <td>0.195789</td>\n",
       "      <td>0.315316</td>\n",
       "      <td>-0.089883</td>\n",
       "      <td>0.110154</td>\n",
       "      <td>0.101951</td>\n",
       "      <td>0.003701</td>\n",
       "      <td>...</td>\n",
       "      <td>True</td>\n",
       "      <td>0.225279</td>\n",
       "      <td>0.261565</td>\n",
       "      <td>9.760010e-10</td>\n",
       "      <td>2.659722e-11</td>\n",
       "      <td>9.767996e-10</td>\n",
       "      <td>2.627765e-11</td>\n",
       "      <td>8.117820</td>\n",
       "      <td>10.733584</td>\n",
       "      <td>44.705923</td>\n",
       "    </tr>\n",
       "    <tr>\n",
       "      <th>22</th>\n",
       "      <td>0.043857</td>\n",
       "      <td>-0.033348</td>\n",
       "      <td>-0.094653</td>\n",
       "      <td>-0.017835</td>\n",
       "      <td>0.112512</td>\n",
       "      <td>0.000931</td>\n",
       "      <td>-0.128461</td>\n",
       "      <td>0.055299</td>\n",
       "      <td>0.018273</td>\n",
       "      <td>0.021103</td>\n",
       "      <td>...</td>\n",
       "      <td>True</td>\n",
       "      <td>0.220641</td>\n",
       "      <td>0.266112</td>\n",
       "      <td>1.011107e-09</td>\n",
       "      <td>1.654025e-11</td>\n",
       "      <td>1.012290e-09</td>\n",
       "      <td>1.641051e-11</td>\n",
       "      <td>7.141848</td>\n",
       "      <td>7.468729</td>\n",
       "      <td>86.195230</td>\n",
       "    </tr>\n",
       "    <tr>\n",
       "      <th>23</th>\n",
       "      <td>0.066014</td>\n",
       "      <td>-0.023149</td>\n",
       "      <td>-0.031610</td>\n",
       "      <td>0.044687</td>\n",
       "      <td>0.037971</td>\n",
       "      <td>0.031101</td>\n",
       "      <td>-0.030340</td>\n",
       "      <td>0.039394</td>\n",
       "      <td>0.031227</td>\n",
       "      <td>-0.010105</td>\n",
       "      <td>...</td>\n",
       "      <td>True</td>\n",
       "      <td>0.221373</td>\n",
       "      <td>0.265684</td>\n",
       "      <td>1.014952e-09</td>\n",
       "      <td>1.680145e-11</td>\n",
       "      <td>1.013191e-09</td>\n",
       "      <td>1.671423e-11</td>\n",
       "      <td>7.266221</td>\n",
       "      <td>7.679668</td>\n",
       "      <td>90.066277</td>\n",
       "    </tr>\n",
       "    <tr>\n",
       "      <th>24</th>\n",
       "      <td>0.128508</td>\n",
       "      <td>-0.006765</td>\n",
       "      <td>0.023040</td>\n",
       "      <td>0.078129</td>\n",
       "      <td>0.244718</td>\n",
       "      <td>0.350759</td>\n",
       "      <td>-0.078018</td>\n",
       "      <td>-0.016763</td>\n",
       "      <td>0.118826</td>\n",
       "      <td>0.000951</td>\n",
       "      <td>...</td>\n",
       "      <td>True</td>\n",
       "      <td>0.226500</td>\n",
       "      <td>0.260619</td>\n",
       "      <td>9.877988e-10</td>\n",
       "      <td>2.543086e-11</td>\n",
       "      <td>9.868800e-10</td>\n",
       "      <td>2.529829e-11</td>\n",
       "      <td>7.928443</td>\n",
       "      <td>10.321507</td>\n",
       "      <td>22.676271</td>\n",
       "    </tr>\n",
       "  </tbody>\n",
       "</table>\n",
       "<p>5 rows × 30 columns</p>\n",
       "</div>"
      ],
      "text/plain": [
       "        SH1N      SH3N      SH4N       SL1       SL2       SL3  SH1-DW08  \\\n",
       "20 -0.001586 -0.048243 -0.088823  0.031641  0.094480  0.038906 -0.063186   \n",
       "21  0.101463 -0.013850 -0.019116  0.062813  0.195789  0.315316 -0.089883   \n",
       "22  0.043857 -0.033348 -0.094653 -0.017835  0.112512  0.000931 -0.128461   \n",
       "23  0.066014 -0.023149 -0.031610  0.044687  0.037971  0.031101 -0.030340   \n",
       "24  0.128508 -0.006765  0.023040  0.078129  0.244718  0.350759 -0.078018   \n",
       "\n",
       "    SH1-DW18  SH1-DW28  SH3-DW08  ...  valid      _nux      _nuy  \\\n",
       "20  0.082327  0.114867  0.013296  ...   True  0.220580  0.266234   \n",
       "21  0.110154  0.101951  0.003701  ...   True  0.225279  0.261565   \n",
       "22  0.055299  0.018273  0.021103  ...   True  0.220641  0.266112   \n",
       "23  0.039394  0.031227 -0.010105  ...   True  0.221373  0.265684   \n",
       "24 -0.016763  0.118826  0.000951  ...   True  0.226500  0.260619   \n",
       "\n",
       "    _eps_x_bxbOn  _eps_y_bxbOn _eps_x_bxbOff _eps_y_bxbOff        LT  \\\n",
       "20  1.017283e-09  1.632152e-11  1.014834e-09  1.617007e-11  7.161125   \n",
       "21  9.760010e-10  2.659722e-11  9.767996e-10  2.627765e-11  8.117820   \n",
       "22  1.011107e-09  1.654025e-11  1.012290e-09  1.641051e-11  7.141848   \n",
       "23  1.014952e-09  1.680145e-11  1.013191e-09  1.671423e-11  7.266221   \n",
       "24  9.877988e-10  2.543086e-11  9.868800e-10  2.529829e-11  7.928443   \n",
       "\n",
       "      _raw_LT        EFF  \n",
       "20   7.417162  91.807512  \n",
       "21  10.733584  44.705923  \n",
       "22   7.468729  86.195230  \n",
       "23   7.679668  90.066277  \n",
       "24  10.321507  22.676271  \n",
       "\n",
       "[5 rows x 30 columns]"
      ]
     },
     "execution_count": 13,
     "metadata": {},
     "output_type": "execute_result"
    }
   ],
   "source": [
    "opt.data.tail()"
   ]
  },
  {
   "cell_type": "markdown",
   "metadata": {},
   "source": [
    "### Plot"
   ]
  },
  {
   "cell_type": "code",
   "execution_count": 14,
   "metadata": {},
   "outputs": [
    {
     "data": {
      "text/plain": [
       "Text(0, 0.5, 'Hypervolume')"
      ]
     },
     "execution_count": 14,
     "metadata": {},
     "output_type": "execute_result"
    },
    {
     "data": {
      "image/png": "[encoded data removed]",
      "text/plain": [
       "<Figure size 1200x600 with 3 Axes>"
      ]
     },
     "metadata": {},
     "output_type": "display_data"
    }
   ],
   "source": [
    "import matplotlib.pyplot as plt\n",
    "\n",
    "hvs = []\n",
    "for i in range(1,len(opt.data)):\n",
    "    hv = opt.generator.calculate_hypervolume_at(i=i)\n",
    "    hvs.append(hv)\n",
    "\n",
    "fig,ax = plt.subplots(1,2,squeeze=False,figsize=(12,6))\n",
    "df = opt.data\n",
    "ol = ['EFF', 'LT']\n",
    "l = ax[0,0].scatter(df.loc[:,ol[0]], df.loc[:,ol[1]],10,marker='o',c=range(len(df)),vmax=len(df))\n",
    "ax[0,0].scatter(df.loc[:1,ol[0]], df.loc[:1,ol[1]], 20,marker='o',c='red',label='initial point')\n",
    "ax[0,0].scatter(gen.reference_point[ol[0]], gen.reference_point[ol[1]],40,marker='*',c='black',label='reference point')\n",
    "ax[0,0].set_xlabel(ol[0])\n",
    "ax[0,0].set_ylabel(ol[1])\n",
    "fig.colorbar(l)\n",
    "ax[0,0].legend()\n",
    "\n",
    "ax[0,1].plot(hvs,marker='o')\n",
    "ax[0,1].set_xlabel('Step #')\n",
    "ax[0,1].set_ylabel('Hypervolume')"
   ]
  },
  {
   "cell_type": "code",
   "execution_count": 15,
   "metadata": {},
   "outputs": [
    {
     "data": {
      "text/plain": [
       "<matplotlib.legend.Legend at 0x7efec7345610>"
      ]
     },
     "execution_count": 15,
     "metadata": {},
     "output_type": "execute_result"
    },
    {
     "data": {
      "image/png": "[encoded data removed]",
      "text/plain": [
       "<Figure size 800x600 with 2 Axes>"
      ]
     },
     "metadata": {},
     "output_type": "display_data"
    }
   ],
   "source": [
    "fig,ax = plt.subplots(1,2,squeeze=False,figsize=(8,6))\n",
    "df = opt.data\n",
    "\n",
    "ax[0,0].plot(df.loc[:,'_nux'], marker='o', label='nux')\n",
    "ax[0,0].plot(df.loc[:,'_nuy'], marker='o', label='nuy')\n",
    "ax[0,1].plot(df.loc[:,'_eps_x_bxbOn'], marker='o', label='eps_x_bxbOn', color='red')\n",
    "ax[0,1].plot(df.loc[:,'_eps_y_bxbOn']*1e2, marker='o', label='eps_y_bxbOn', color='green')\n",
    "ax[0,0].set_xlabel('Step #')\n",
    "ax[0,0].set_ylabel('Tune')\n",
    "ax[0,0].legend()\n",
    "ax[0,1].legend()"
   ]
  },
  {
   "cell_type": "code",
   "execution_count": 16,
   "metadata": {},
   "outputs": [],
   "source": [
    "# This will save optimizer state\n",
    "if not TEST_MODE:\n",
    "    opt.state_to_json(f'{datetime.now():%Y%m%dT%H%M%S}_{NAME_ROOT}_dump.json')"
   ]
  },
  {
   "cell_type": "code",
   "execution_count": 20,
   "metadata": {},
   "outputs": [
    {
     "name": "stderr",
     "output_type": "stream",
     "text": [
      "[INFO ][20:26:21.119 optimizer.  573] Evaluating 1 inputs\n",
      "[DEBUG][20:26:21.121 evaluators  193] Data kwargs: row={'SH1N': 0.0, 'SH3N': 0.0, 'SH4N': 0.0, 'SL1': 0.0, 'SL2': 0.0, 'SL3': 0.0, 'SH1-DW08': 0.0, 'SH1-DW18': 0.0, 'SH1-DW28': 0.0, 'SH3-DW08': 0.0, 'SH3-DW18': 0.0, 'SH3-DW28': 0.0, 'SH4-DW08': 0.0, 'SH4-DW18': 0.0, 'SH4-DW28': 0.0}\n",
      "[INFO ][20:26:21.126 opt_funcs.  688] Setting sextupoles to {'SH1N': 3.9665824200000004, 'SH3N': -1.171021682, 'SH4N': -3.164180142, 'SL1': -2.6543212100000004, 'SL2': 7.135584290000001, 'SL3': -5.892172122000001, 'SH1-DW08': 3.9665824200000004, 'SH1-DW18': 3.9665824200000004, 'SH1-DW28': 3.9665824200000004, 'SH3-DW08': -1.171021682, 'SH3-DW18': -1.171021682, 'SH3-DW28': -1.171021682, 'SH4-DW08': -3.164180142, 'SH4-DW18': -3.164180142, 'SH4-DW28': -3.164180142}\n"
     ]
    },
    {
     "name": "stdout",
     "output_type": "stream",
     "text": [
      "SH1N   : +3.967 + +0.000 -> +3.967\n",
      "SH3N   : -1.171 + +0.000 -> -1.171\n",
      "SH4N   : -3.164 + +0.000 -> -3.164\n",
      "SL1    : -2.654 + +0.000 -> -2.654\n",
      "SL2    : +7.136 + +0.000 -> +7.136\n",
      "SL3    : -5.892 + +0.000 -> -5.892\n",
      "SH1-DW08: +3.967 + +0.000 -> +3.967\n",
      "SH1-DW18: +3.967 + +0.000 -> +3.967\n",
      "SH1-DW28: +3.967 + +0.000 -> +3.967\n",
      "SH3-DW08: -1.171 + +0.000 -> -1.171\n",
      "SH3-DW18: -1.171 + +0.000 -> -1.171\n",
      "SH3-DW28: -1.171 + +0.000 -> -1.171\n",
      "SH4-DW08: -3.164 + +0.000 -> -3.164\n",
      "SH4-DW18: -3.164 + +0.000 -> -3.164\n",
      "SH4-DW28: -3.164 + +0.000 -> -3.164\n",
      "Sextupole adj. took 0.0.\n",
      "Max FCOR I [A] = 0.003; RMS(dx, dy) [m] = (8.964e-07, 1.144e-06)\n",
      "Orbit correction converged\n"
     ]
    },
    {
     "name": "stderr",
     "output_type": "stream",
     "text": [
      "[INFO ][20:26:25.178 opt_funcs.  734] Lifetime measurement START\n",
      "[INFO ][20:26:31.324 opt_funcs.  781] Efficiency measurement START\n"
     ]
    },
    {
     "name": "stdout",
     "output_type": "stream",
     "text": [
      "** # of outliers found = 4 (out of 180)\n",
      "Lifetime = 7.119 (raw tau [hr] = 7.475, epsy [pm] = 16.25) (took 6.1 [s])\n",
      "Inj. Eff. = 69.55 (took 17.8 [s])\n",
      "Eval. func. finished.\n"
     ]
    },
    {
     "name": "stderr",
     "output_type": "stream",
     "text": [
      "[DEBUG][20:26:49.111 evaluators  211] Result: output={'result': {'_nux': 0.21981675755732505, '_nuy': 0.2657149130617568, '_eps_x_bxbOn': 1.011848648370043e-09, '_eps_y_bxbOn': 1.6240101073097063e-11, '_eps_x_bxbOff': 1.0151827102010265e-09, '_eps_y_bxbOff': 1.624559785781227e-11, 'LT': 7.118625301089786, '_raw_LT': 7.475097030945426, 'EFF': 69.55206848972699}, 'exception': None, 'traceback': '', 'wall_time': 27.988034321926534, 'cpu_time': 12.680545530000018}\n",
      "[DEBUG][20:26:49.113 optimizer.  291] Adding (1) new data to internal dataframes\n",
      "[DEBUG][20:26:49.147 optimizer. 1286] Dumped state to [/nsls2/users/yhidaka/.apsopt/2023_12_16-20_01_51-aps_mobo-bcbd87b566-cb154515/dump_auto_00024.json] in [0.02987]s\n"
     ]
    }
   ],
   "source": [
    "# Nominal (i.e., design) sextupole settings:\n",
    "opt.generate_at({k:0.0 for k in variables.keys()})\n",
    "opt.evaluate_data()"
   ]
  },
  {
   "cell_type": "code",
   "execution_count": 18,
   "metadata": {},
   "outputs": [
    {
     "data": {
      "text/html": [
       "<div>\n",
       "<style scoped>\n",
       "    .dataframe tbody tr th:only-of-type {\n",
       "        vertical-align: middle;\n",
       "    }\n",
       "\n",
       "    .dataframe tbody tr th {\n",
       "        vertical-align: top;\n",
       "    }\n",
       "\n",
       "    .dataframe thead th {\n",
       "        text-align: right;\n",
       "    }\n",
       "</style>\n",
       "<table border=\"1\" class=\"dataframe\">\n",
       "  <thead>\n",
       "    <tr style=\"text-align: right;\">\n",
       "      <th></th>\n",
       "      <th>SH1N</th>\n",
       "      <th>SH3N</th>\n",
       "      <th>SH4N</th>\n",
       "      <th>SL1</th>\n",
       "      <th>SL2</th>\n",
       "      <th>SL3</th>\n",
       "      <th>SH1-DW08</th>\n",
       "      <th>SH1-DW18</th>\n",
       "      <th>SH1-DW28</th>\n",
       "      <th>SH3-DW08</th>\n",
       "      <th>...</th>\n",
       "      <th>valid</th>\n",
       "      <th>_nux</th>\n",
       "      <th>_nuy</th>\n",
       "      <th>_eps_x_bxbOn</th>\n",
       "      <th>_eps_y_bxbOn</th>\n",
       "      <th>_eps_x_bxbOff</th>\n",
       "      <th>_eps_y_bxbOff</th>\n",
       "      <th>LT</th>\n",
       "      <th>_raw_LT</th>\n",
       "      <th>EFF</th>\n",
       "    </tr>\n",
       "  </thead>\n",
       "  <tbody>\n",
       "    <tr>\n",
       "      <th>1</th>\n",
       "      <td>0.000000</td>\n",
       "      <td>0.000000</td>\n",
       "      <td>0.000000</td>\n",
       "      <td>0.000000</td>\n",
       "      <td>0.000000</td>\n",
       "      <td>0.000000</td>\n",
       "      <td>0.000000</td>\n",
       "      <td>0.000000</td>\n",
       "      <td>0.000000</td>\n",
       "      <td>0.000000</td>\n",
       "      <td>...</td>\n",
       "      <td>True</td>\n",
       "      <td>0.219176</td>\n",
       "      <td>0.266020</td>\n",
       "      <td>1.016565e-09</td>\n",
       "      <td>1.607868e-11</td>\n",
       "      <td>1.016943e-09</td>\n",
       "      <td>1.608161e-11</td>\n",
       "      <td>6.973175</td>\n",
       "      <td>7.016592</td>\n",
       "      <td>87.040288</td>\n",
       "    </tr>\n",
       "    <tr>\n",
       "      <th>2</th>\n",
       "      <td>0.026425</td>\n",
       "      <td>0.002476</td>\n",
       "      <td>0.017052</td>\n",
       "      <td>-0.016516</td>\n",
       "      <td>0.028783</td>\n",
       "      <td>0.040351</td>\n",
       "      <td>0.024927</td>\n",
       "      <td>0.019665</td>\n",
       "      <td>-0.020352</td>\n",
       "      <td>0.001763</td>\n",
       "      <td>...</td>\n",
       "      <td>True</td>\n",
       "      <td>0.220275</td>\n",
       "      <td>0.265379</td>\n",
       "      <td>1.014695e-09</td>\n",
       "      <td>1.687160e-11</td>\n",
       "      <td>1.015535e-09</td>\n",
       "      <td>1.678506e-11</td>\n",
       "      <td>7.186479</td>\n",
       "      <td>7.423471</td>\n",
       "      <td>79.566187</td>\n",
       "    </tr>\n",
       "    <tr>\n",
       "      <th>3</th>\n",
       "      <td>-0.027684</td>\n",
       "      <td>-0.007395</td>\n",
       "      <td>-0.016005</td>\n",
       "      <td>0.009247</td>\n",
       "      <td>-0.032985</td>\n",
       "      <td>-0.031105</td>\n",
       "      <td>-0.029236</td>\n",
       "      <td>-0.015280</td>\n",
       "      <td>0.025141</td>\n",
       "      <td>-0.000580</td>\n",
       "      <td>...</td>\n",
       "      <td>True</td>\n",
       "      <td>0.218077</td>\n",
       "      <td>0.266020</td>\n",
       "      <td>1.018644e-09</td>\n",
       "      <td>1.542094e-11</td>\n",
       "      <td>1.018839e-09</td>\n",
       "      <td>1.536097e-11</td>\n",
       "      <td>6.867130</td>\n",
       "      <td>6.791881</td>\n",
       "      <td>91.721684</td>\n",
       "    </tr>\n",
       "    <tr>\n",
       "      <th>4</th>\n",
       "      <td>-0.124934</td>\n",
       "      <td>0.001317</td>\n",
       "      <td>-0.085158</td>\n",
       "      <td>0.097587</td>\n",
       "      <td>-0.128924</td>\n",
       "      <td>-0.216601</td>\n",
       "      <td>-0.110325</td>\n",
       "      <td>-0.106122</td>\n",
       "      <td>0.086697</td>\n",
       "      <td>-0.011610</td>\n",
       "      <td>...</td>\n",
       "      <td>True</td>\n",
       "      <td>0.215453</td>\n",
       "      <td>0.269224</td>\n",
       "      <td>1.030741e-09</td>\n",
       "      <td>1.357841e-11</td>\n",
       "      <td>1.029585e-09</td>\n",
       "      <td>1.343107e-11</td>\n",
       "      <td>6.296005</td>\n",
       "      <td>5.837793</td>\n",
       "      <td>13.710311</td>\n",
       "    </tr>\n",
       "    <tr>\n",
       "      <th>5</th>\n",
       "      <td>-0.032148</td>\n",
       "      <td>-0.050062</td>\n",
       "      <td>-0.002918</td>\n",
       "      <td>-0.043328</td>\n",
       "      <td>-0.052957</td>\n",
       "      <td>0.032617</td>\n",
       "      <td>-0.054870</td>\n",
       "      <td>0.024720</td>\n",
       "      <td>0.054875</td>\n",
       "      <td>0.010537</td>\n",
       "      <td>...</td>\n",
       "      <td>True</td>\n",
       "      <td>0.218779</td>\n",
       "      <td>0.267393</td>\n",
       "      <td>1.024499e-09</td>\n",
       "      <td>1.525312e-11</td>\n",
       "      <td>1.019300e-09</td>\n",
       "      <td>1.515801e-11</td>\n",
       "      <td>6.854727</td>\n",
       "      <td>6.764829</td>\n",
       "      <td>92.103952</td>\n",
       "    </tr>\n",
       "    <tr>\n",
       "      <th>6</th>\n",
       "      <td>-0.066582</td>\n",
       "      <td>-0.018184</td>\n",
       "      <td>-0.040154</td>\n",
       "      <td>-0.052590</td>\n",
       "      <td>-0.140480</td>\n",
       "      <td>0.036889</td>\n",
       "      <td>-0.095658</td>\n",
       "      <td>-0.020787</td>\n",
       "      <td>0.098863</td>\n",
       "      <td>-0.001526</td>\n",
       "      <td>...</td>\n",
       "      <td>True</td>\n",
       "      <td>0.217558</td>\n",
       "      <td>0.267393</td>\n",
       "      <td>1.019837e-09</td>\n",
       "      <td>1.475601e-11</td>\n",
       "      <td>1.019969e-09</td>\n",
       "      <td>1.459302e-11</td>\n",
       "      <td>6.667901</td>\n",
       "      <td>6.462595</td>\n",
       "      <td>83.579686</td>\n",
       "    </tr>\n",
       "    <tr>\n",
       "      <th>7</th>\n",
       "      <td>-0.050949</td>\n",
       "      <td>-0.042117</td>\n",
       "      <td>-0.039218</td>\n",
       "      <td>-0.000249</td>\n",
       "      <td>-0.039036</td>\n",
       "      <td>-0.077466</td>\n",
       "      <td>0.036377</td>\n",
       "      <td>-0.050823</td>\n",
       "      <td>-0.035405</td>\n",
       "      <td>-0.005423</td>\n",
       "      <td>...</td>\n",
       "      <td>True</td>\n",
       "      <td>0.217833</td>\n",
       "      <td>0.267546</td>\n",
       "      <td>1.018928e-09</td>\n",
       "      <td>1.483689e-11</td>\n",
       "      <td>1.020676e-09</td>\n",
       "      <td>1.470371e-11</td>\n",
       "      <td>6.737303</td>\n",
       "      <td>6.561370</td>\n",
       "      <td>84.737263</td>\n",
       "    </tr>\n",
       "    <tr>\n",
       "      <th>8</th>\n",
       "      <td>0.038686</td>\n",
       "      <td>-0.027285</td>\n",
       "      <td>0.043680</td>\n",
       "      <td>0.002462</td>\n",
       "      <td>-0.010763</td>\n",
       "      <td>-0.032244</td>\n",
       "      <td>-0.115344</td>\n",
       "      <td>0.034288</td>\n",
       "      <td>0.099599</td>\n",
       "      <td>0.006195</td>\n",
       "      <td>...</td>\n",
       "      <td>True</td>\n",
       "      <td>0.217141</td>\n",
       "      <td>0.266661</td>\n",
       "      <td>1.016300e-09</td>\n",
       "      <td>1.628373e-11</td>\n",
       "      <td>1.017481e-09</td>\n",
       "      <td>1.603214e-11</td>\n",
       "      <td>7.147511</td>\n",
       "      <td>7.276649</td>\n",
       "      <td>85.748986</td>\n",
       "    </tr>\n",
       "    <tr>\n",
       "      <th>9</th>\n",
       "      <td>-0.051933</td>\n",
       "      <td>-0.031199</td>\n",
       "      <td>-0.044252</td>\n",
       "      <td>-0.031898</td>\n",
       "      <td>-0.089715</td>\n",
       "      <td>0.039801</td>\n",
       "      <td>-0.039083</td>\n",
       "      <td>-0.002467</td>\n",
       "      <td>0.043064</td>\n",
       "      <td>0.009487</td>\n",
       "      <td>...</td>\n",
       "      <td>True</td>\n",
       "      <td>0.218230</td>\n",
       "      <td>0.266936</td>\n",
       "      <td>1.019196e-09</td>\n",
       "      <td>1.519295e-11</td>\n",
       "      <td>1.021885e-09</td>\n",
       "      <td>1.504487e-11</td>\n",
       "      <td>6.873110</td>\n",
       "      <td>6.782085</td>\n",
       "      <td>87.649336</td>\n",
       "    </tr>\n",
       "    <tr>\n",
       "      <th>10</th>\n",
       "      <td>-0.128569</td>\n",
       "      <td>-0.021404</td>\n",
       "      <td>0.027540</td>\n",
       "      <td>-0.006948</td>\n",
       "      <td>0.027253</td>\n",
       "      <td>-0.015058</td>\n",
       "      <td>-0.058299</td>\n",
       "      <td>0.041869</td>\n",
       "      <td>0.048979</td>\n",
       "      <td>0.003409</td>\n",
       "      <td>...</td>\n",
       "      <td>True</td>\n",
       "      <td>0.218993</td>\n",
       "      <td>0.266630</td>\n",
       "      <td>1.020547e-09</td>\n",
       "      <td>1.539198e-11</td>\n",
       "      <td>1.020496e-09</td>\n",
       "      <td>1.528297e-11</td>\n",
       "      <td>6.872451</td>\n",
       "      <td>6.843297</td>\n",
       "      <td>88.445408</td>\n",
       "    </tr>\n",
       "    <tr>\n",
       "      <th>11</th>\n",
       "      <td>0.122632</td>\n",
       "      <td>-0.013781</td>\n",
       "      <td>0.058801</td>\n",
       "      <td>-0.071032</td>\n",
       "      <td>0.026427</td>\n",
       "      <td>-0.048504</td>\n",
       "      <td>0.020004</td>\n",
       "      <td>0.081575</td>\n",
       "      <td>-0.003139</td>\n",
       "      <td>0.015355</td>\n",
       "      <td>...</td>\n",
       "      <td>True</td>\n",
       "      <td>0.220702</td>\n",
       "      <td>0.265776</td>\n",
       "      <td>1.014832e-09</td>\n",
       "      <td>1.703682e-11</td>\n",
       "      <td>1.014342e-09</td>\n",
       "      <td>1.702817e-11</td>\n",
       "      <td>7.165520</td>\n",
       "      <td>7.539971</td>\n",
       "      <td>72.899451</td>\n",
       "    </tr>\n",
       "    <tr>\n",
       "      <th>12</th>\n",
       "      <td>-0.080872</td>\n",
       "      <td>-0.028954</td>\n",
       "      <td>-0.055033</td>\n",
       "      <td>-0.012649</td>\n",
       "      <td>-0.135389</td>\n",
       "      <td>-0.046637</td>\n",
       "      <td>-0.067621</td>\n",
       "      <td>-0.045328</td>\n",
       "      <td>0.066706</td>\n",
       "      <td>-0.001889</td>\n",
       "      <td>...</td>\n",
       "      <td>True</td>\n",
       "      <td>0.223550</td>\n",
       "      <td>0.267912</td>\n",
       "      <td>1.021437e-09</td>\n",
       "      <td>1.426143e-11</td>\n",
       "      <td>1.022938e-09</td>\n",
       "      <td>1.406913e-11</td>\n",
       "      <td>6.622315</td>\n",
       "      <td>6.341417</td>\n",
       "      <td>63.493947</td>\n",
       "    </tr>\n",
       "    <tr>\n",
       "      <th>13</th>\n",
       "      <td>-0.055142</td>\n",
       "      <td>-0.011025</td>\n",
       "      <td>-0.011782</td>\n",
       "      <td>-0.054894</td>\n",
       "      <td>-0.053693</td>\n",
       "      <td>0.132935</td>\n",
       "      <td>-0.060484</td>\n",
       "      <td>0.027010</td>\n",
       "      <td>0.061742</td>\n",
       "      <td>0.004752</td>\n",
       "      <td>...</td>\n",
       "      <td>True</td>\n",
       "      <td>0.219420</td>\n",
       "      <td>0.266356</td>\n",
       "      <td>1.017235e-09</td>\n",
       "      <td>1.595322e-11</td>\n",
       "      <td>1.017969e-09</td>\n",
       "      <td>1.586936e-11</td>\n",
       "      <td>7.057762</td>\n",
       "      <td>7.185639</td>\n",
       "      <td>84.457575</td>\n",
       "    </tr>\n",
       "    <tr>\n",
       "      <th>14</th>\n",
       "      <td>0.106550</td>\n",
       "      <td>-0.018195</td>\n",
       "      <td>-0.020055</td>\n",
       "      <td>0.005609</td>\n",
       "      <td>0.130603</td>\n",
       "      <td>0.031632</td>\n",
       "      <td>-0.063667</td>\n",
       "      <td>0.080744</td>\n",
       "      <td>0.046152</td>\n",
       "      <td>0.012673</td>\n",
       "      <td>...</td>\n",
       "      <td>True</td>\n",
       "      <td>0.221678</td>\n",
       "      <td>0.264647</td>\n",
       "      <td>1.009208e-09</td>\n",
       "      <td>1.791772e-11</td>\n",
       "      <td>1.011390e-09</td>\n",
       "      <td>1.794151e-11</td>\n",
       "      <td>7.350927</td>\n",
       "      <td>7.965185</td>\n",
       "      <td>90.791060</td>\n",
       "    </tr>\n",
       "    <tr>\n",
       "      <th>15</th>\n",
       "      <td>0.012301</td>\n",
       "      <td>-0.029026</td>\n",
       "      <td>-0.008898</td>\n",
       "      <td>0.004885</td>\n",
       "      <td>0.064321</td>\n",
       "      <td>0.025755</td>\n",
       "      <td>-0.036258</td>\n",
       "      <td>-0.046495</td>\n",
       "      <td>0.016379</td>\n",
       "      <td>0.007137</td>\n",
       "      <td>...</td>\n",
       "      <td>True</td>\n",
       "      <td>0.221149</td>\n",
       "      <td>0.265166</td>\n",
       "      <td>1.015402e-09</td>\n",
       "      <td>1.692527e-11</td>\n",
       "      <td>1.014364e-09</td>\n",
       "      <td>1.666449e-11</td>\n",
       "      <td>7.174978</td>\n",
       "      <td>7.500481</td>\n",
       "      <td>77.516649</td>\n",
       "    </tr>\n",
       "    <tr>\n",
       "      <th>16</th>\n",
       "      <td>0.005348</td>\n",
       "      <td>-0.042193</td>\n",
       "      <td>-0.087273</td>\n",
       "      <td>0.045149</td>\n",
       "      <td>0.101324</td>\n",
       "      <td>-0.084917</td>\n",
       "      <td>-0.000800</td>\n",
       "      <td>0.018670</td>\n",
       "      <td>-0.012548</td>\n",
       "      <td>-0.008596</td>\n",
       "      <td>...</td>\n",
       "      <td>True</td>\n",
       "      <td>0.219725</td>\n",
       "      <td>0.266936</td>\n",
       "      <td>1.016903e-09</td>\n",
       "      <td>1.561404e-11</td>\n",
       "      <td>1.018837e-09</td>\n",
       "      <td>1.566187e-11</td>\n",
       "      <td>6.957269</td>\n",
       "      <td>7.057676</td>\n",
       "      <td>84.553937</td>\n",
       "    </tr>\n",
       "    <tr>\n",
       "      <th>17</th>\n",
       "      <td>0.091520</td>\n",
       "      <td>-0.007052</td>\n",
       "      <td>-0.016768</td>\n",
       "      <td>0.003994</td>\n",
       "      <td>0.144824</td>\n",
       "      <td>0.228737</td>\n",
       "      <td>-0.155999</td>\n",
       "      <td>0.050293</td>\n",
       "      <td>-0.035242</td>\n",
       "      <td>0.009233</td>\n",
       "      <td>...</td>\n",
       "      <td>True</td>\n",
       "      <td>0.223692</td>\n",
       "      <td>0.262877</td>\n",
       "      <td>1.000533e-09</td>\n",
       "      <td>2.030344e-11</td>\n",
       "      <td>1.001230e-09</td>\n",
       "      <td>2.018617e-11</td>\n",
       "      <td>7.677707</td>\n",
       "      <td>8.852149</td>\n",
       "      <td>79.752335</td>\n",
       "    </tr>\n",
       "    <tr>\n",
       "      <th>18</th>\n",
       "      <td>0.020904</td>\n",
       "      <td>-0.037589</td>\n",
       "      <td>-0.022306</td>\n",
       "      <td>0.009086</td>\n",
       "      <td>-0.008156</td>\n",
       "      <td>-0.128365</td>\n",
       "      <td>-0.009177</td>\n",
       "      <td>0.037655</td>\n",
       "      <td>-0.004208</td>\n",
       "      <td>-0.004798</td>\n",
       "      <td>...</td>\n",
       "      <td>True</td>\n",
       "      <td>0.218688</td>\n",
       "      <td>0.267088</td>\n",
       "      <td>1.020129e-09</td>\n",
       "      <td>1.518868e-11</td>\n",
       "      <td>1.018438e-09</td>\n",
       "      <td>1.496825e-11</td>\n",
       "      <td>6.969226</td>\n",
       "      <td>6.926194</td>\n",
       "      <td>90.198153</td>\n",
       "    </tr>\n",
       "    <tr>\n",
       "      <th>19</th>\n",
       "      <td>-0.072690</td>\n",
       "      <td>-0.041523</td>\n",
       "      <td>0.043556</td>\n",
       "      <td>-0.016631</td>\n",
       "      <td>-0.037105</td>\n",
       "      <td>-0.112813</td>\n",
       "      <td>0.062604</td>\n",
       "      <td>-0.011821</td>\n",
       "      <td>-0.017892</td>\n",
       "      <td>-0.008103</td>\n",
       "      <td>...</td>\n",
       "      <td>True</td>\n",
       "      <td>0.218169</td>\n",
       "      <td>0.267149</td>\n",
       "      <td>1.019072e-09</td>\n",
       "      <td>1.455093e-11</td>\n",
       "      <td>1.019734e-09</td>\n",
       "      <td>1.434040e-11</td>\n",
       "      <td>6.791295</td>\n",
       "      <td>6.616295</td>\n",
       "      <td>91.742202</td>\n",
       "    </tr>\n",
       "    <tr>\n",
       "      <th>20</th>\n",
       "      <td>-0.001586</td>\n",
       "      <td>-0.048243</td>\n",
       "      <td>-0.088823</td>\n",
       "      <td>0.031641</td>\n",
       "      <td>0.094480</td>\n",
       "      <td>0.038906</td>\n",
       "      <td>-0.063186</td>\n",
       "      <td>0.082327</td>\n",
       "      <td>0.114867</td>\n",
       "      <td>0.013296</td>\n",
       "      <td>...</td>\n",
       "      <td>True</td>\n",
       "      <td>0.220580</td>\n",
       "      <td>0.266234</td>\n",
       "      <td>1.017283e-09</td>\n",
       "      <td>1.632152e-11</td>\n",
       "      <td>1.014834e-09</td>\n",
       "      <td>1.617007e-11</td>\n",
       "      <td>7.161125</td>\n",
       "      <td>7.417162</td>\n",
       "      <td>91.807512</td>\n",
       "    </tr>\n",
       "    <tr>\n",
       "      <th>21</th>\n",
       "      <td>0.101463</td>\n",
       "      <td>-0.013850</td>\n",
       "      <td>-0.019116</td>\n",
       "      <td>0.062813</td>\n",
       "      <td>0.195789</td>\n",
       "      <td>0.315316</td>\n",
       "      <td>-0.089883</td>\n",
       "      <td>0.110154</td>\n",
       "      <td>0.101951</td>\n",
       "      <td>0.003701</td>\n",
       "      <td>...</td>\n",
       "      <td>True</td>\n",
       "      <td>0.225279</td>\n",
       "      <td>0.261565</td>\n",
       "      <td>9.760010e-10</td>\n",
       "      <td>2.659722e-11</td>\n",
       "      <td>9.767996e-10</td>\n",
       "      <td>2.627765e-11</td>\n",
       "      <td>8.117820</td>\n",
       "      <td>10.733584</td>\n",
       "      <td>44.705923</td>\n",
       "    </tr>\n",
       "    <tr>\n",
       "      <th>22</th>\n",
       "      <td>0.043857</td>\n",
       "      <td>-0.033348</td>\n",
       "      <td>-0.094653</td>\n",
       "      <td>-0.017835</td>\n",
       "      <td>0.112512</td>\n",
       "      <td>0.000931</td>\n",
       "      <td>-0.128461</td>\n",
       "      <td>0.055299</td>\n",
       "      <td>0.018273</td>\n",
       "      <td>0.021103</td>\n",
       "      <td>...</td>\n",
       "      <td>True</td>\n",
       "      <td>0.220641</td>\n",
       "      <td>0.266112</td>\n",
       "      <td>1.011107e-09</td>\n",
       "      <td>1.654025e-11</td>\n",
       "      <td>1.012290e-09</td>\n",
       "      <td>1.641051e-11</td>\n",
       "      <td>7.141848</td>\n",
       "      <td>7.468729</td>\n",
       "      <td>86.195230</td>\n",
       "    </tr>\n",
       "    <tr>\n",
       "      <th>23</th>\n",
       "      <td>0.066014</td>\n",
       "      <td>-0.023149</td>\n",
       "      <td>-0.031610</td>\n",
       "      <td>0.044687</td>\n",
       "      <td>0.037971</td>\n",
       "      <td>0.031101</td>\n",
       "      <td>-0.030340</td>\n",
       "      <td>0.039394</td>\n",
       "      <td>0.031227</td>\n",
       "      <td>-0.010105</td>\n",
       "      <td>...</td>\n",
       "      <td>True</td>\n",
       "      <td>0.221373</td>\n",
       "      <td>0.265684</td>\n",
       "      <td>1.014952e-09</td>\n",
       "      <td>1.680145e-11</td>\n",
       "      <td>1.013191e-09</td>\n",
       "      <td>1.671423e-11</td>\n",
       "      <td>7.266221</td>\n",
       "      <td>7.679668</td>\n",
       "      <td>90.066277</td>\n",
       "    </tr>\n",
       "    <tr>\n",
       "      <th>24</th>\n",
       "      <td>0.128508</td>\n",
       "      <td>-0.006765</td>\n",
       "      <td>0.023040</td>\n",
       "      <td>0.078129</td>\n",
       "      <td>0.244718</td>\n",
       "      <td>0.350759</td>\n",
       "      <td>-0.078018</td>\n",
       "      <td>-0.016763</td>\n",
       "      <td>0.118826</td>\n",
       "      <td>0.000951</td>\n",
       "      <td>...</td>\n",
       "      <td>True</td>\n",
       "      <td>0.226500</td>\n",
       "      <td>0.260619</td>\n",
       "      <td>9.877988e-10</td>\n",
       "      <td>2.543086e-11</td>\n",
       "      <td>9.868800e-10</td>\n",
       "      <td>2.529829e-11</td>\n",
       "      <td>7.928443</td>\n",
       "      <td>10.321507</td>\n",
       "      <td>22.676271</td>\n",
       "    </tr>\n",
       "    <tr>\n",
       "      <th>25</th>\n",
       "      <td>0.000000</td>\n",
       "      <td>0.000000</td>\n",
       "      <td>0.000000</td>\n",
       "      <td>0.000000</td>\n",
       "      <td>0.000000</td>\n",
       "      <td>0.000000</td>\n",
       "      <td>0.000000</td>\n",
       "      <td>0.000000</td>\n",
       "      <td>0.000000</td>\n",
       "      <td>0.000000</td>\n",
       "      <td>...</td>\n",
       "      <td>True</td>\n",
       "      <td>0.219786</td>\n",
       "      <td>0.265532</td>\n",
       "      <td>1.013247e-09</td>\n",
       "      <td>1.646998e-11</td>\n",
       "      <td>1.013318e-09</td>\n",
       "      <td>1.627365e-11</td>\n",
       "      <td>7.135540</td>\n",
       "      <td>7.480748</td>\n",
       "      <td>73.846069</td>\n",
       "    </tr>\n",
       "  </tbody>\n",
       "</table>\n",
       "<p>25 rows × 30 columns</p>\n",
       "</div>"
      ],
      "text/plain": [
       "        SH1N      SH3N      SH4N       SL1       SL2       SL3  SH1-DW08  \\\n",
       "1   0.000000  0.000000  0.000000  0.000000  0.000000  0.000000  0.000000   \n",
       "2   0.026425  0.002476  0.017052 -0.016516  0.028783  0.040351  0.024927   \n",
       "3  -0.027684 -0.007395 -0.016005  0.009247 -0.032985 -0.031105 -0.029236   \n",
       "4  -0.124934  0.001317 -0.085158  0.097587 -0.128924 -0.216601 -0.110325   \n",
       "5  -0.032148 -0.050062 -0.002918 -0.043328 -0.052957  0.032617 -0.054870   \n",
       "6  -0.066582 -0.018184 -0.040154 -0.052590 -0.140480  0.036889 -0.095658   \n",
       "7  -0.050949 -0.042117 -0.039218 -0.000249 -0.039036 -0.077466  0.036377   \n",
       "8   0.038686 -0.027285  0.043680  0.002462 -0.010763 -0.032244 -0.115344   \n",
       "9  -0.051933 -0.031199 -0.044252 -0.031898 -0.089715  0.039801 -0.039083   \n",
       "10 -0.128569 -0.021404  0.027540 -0.006948  0.027253 -0.015058 -0.058299   \n",
       "11  0.122632 -0.013781  0.058801 -0.071032  0.026427 -0.048504  0.020004   \n",
       "12 -0.080872 -0.028954 -0.055033 -0.012649 -0.135389 -0.046637 -0.067621   \n",
       "13 -0.055142 -0.011025 -0.011782 -0.054894 -0.053693  0.132935 -0.060484   \n",
       "14  0.106550 -0.018195 -0.020055  0.005609  0.130603  0.031632 -0.063667   \n",
       "15  0.012301 -0.029026 -0.008898  0.004885  0.064321  0.025755 -0.036258   \n",
       "16  0.005348 -0.042193 -0.087273  0.045149  0.101324 -0.084917 -0.000800   \n",
       "17  0.091520 -0.007052 -0.016768  0.003994  0.144824  0.228737 -0.155999   \n",
       "18  0.020904 -0.037589 -0.022306  0.009086 -0.008156 -0.128365 -0.009177   \n",
       "19 -0.072690 -0.041523  0.043556 -0.016631 -0.037105 -0.112813  0.062604   \n",
       "20 -0.001586 -0.048243 -0.088823  0.031641  0.094480  0.038906 -0.063186   \n",
       "21  0.101463 -0.013850 -0.019116  0.062813  0.195789  0.315316 -0.089883   \n",
       "22  0.043857 -0.033348 -0.094653 -0.017835  0.112512  0.000931 -0.128461   \n",
       "23  0.066014 -0.023149 -0.031610  0.044687  0.037971  0.031101 -0.030340   \n",
       "24  0.128508 -0.006765  0.023040  0.078129  0.244718  0.350759 -0.078018   \n",
       "25  0.000000  0.000000  0.000000  0.000000  0.000000  0.000000  0.000000   \n",
       "\n",
       "    SH1-DW18  SH1-DW28  SH3-DW08  ...  valid      _nux      _nuy  \\\n",
       "1   0.000000  0.000000  0.000000  ...   True  0.219176  0.266020   \n",
       "2   0.019665 -0.020352  0.001763  ...   True  0.220275  0.265379   \n",
       "3  -0.015280  0.025141 -0.000580  ...   True  0.218077  0.266020   \n",
       "4  -0.106122  0.086697 -0.011610  ...   True  0.215453  0.269224   \n",
       "5   0.024720  0.054875  0.010537  ...   True  0.218779  0.267393   \n",
       "6  -0.020787  0.098863 -0.001526  ...   True  0.217558  0.267393   \n",
       "7  -0.050823 -0.035405 -0.005423  ...   True  0.217833  0.267546   \n",
       "8   0.034288  0.099599  0.006195  ...   True  0.217141  0.266661   \n",
       "9  -0.002467  0.043064  0.009487  ...   True  0.218230  0.266936   \n",
       "10  0.041869  0.048979  0.003409  ...   True  0.218993  0.266630   \n",
       "11  0.081575 -0.003139  0.015355  ...   True  0.220702  0.265776   \n",
       "12 -0.045328  0.066706 -0.001889  ...   True  0.223550  0.267912   \n",
       "13  0.027010  0.061742  0.004752  ...   True  0.219420  0.266356   \n",
       "14  0.080744  0.046152  0.012673  ...   True  0.221678  0.264647   \n",
       "15 -0.046495  0.016379  0.007137  ...   True  0.221149  0.265166   \n",
       "16  0.018670 -0.012548 -0.008596  ...   True  0.219725  0.266936   \n",
       "17  0.050293 -0.035242  0.009233  ...   True  0.223692  0.262877   \n",
       "18  0.037655 -0.004208 -0.004798  ...   True  0.218688  0.267088   \n",
       "19 -0.011821 -0.017892 -0.008103  ...   True  0.218169  0.267149   \n",
       "20  0.082327  0.114867  0.013296  ...   True  0.220580  0.266234   \n",
       "21  0.110154  0.101951  0.003701  ...   True  0.225279  0.261565   \n",
       "22  0.055299  0.018273  0.021103  ...   True  0.220641  0.266112   \n",
       "23  0.039394  0.031227 -0.010105  ...   True  0.221373  0.265684   \n",
       "24 -0.016763  0.118826  0.000951  ...   True  0.226500  0.260619   \n",
       "25  0.000000  0.000000  0.000000  ...   True  0.219786  0.265532   \n",
       "\n",
       "    _eps_x_bxbOn  _eps_y_bxbOn _eps_x_bxbOff _eps_y_bxbOff        LT  \\\n",
       "1   1.016565e-09  1.607868e-11  1.016943e-09  1.608161e-11  6.973175   \n",
       "2   1.014695e-09  1.687160e-11  1.015535e-09  1.678506e-11  7.186479   \n",
       "3   1.018644e-09  1.542094e-11  1.018839e-09  1.536097e-11  6.867130   \n",
       "4   1.030741e-09  1.357841e-11  1.029585e-09  1.343107e-11  6.296005   \n",
       "5   1.024499e-09  1.525312e-11  1.019300e-09  1.515801e-11  6.854727   \n",
       "6   1.019837e-09  1.475601e-11  1.019969e-09  1.459302e-11  6.667901   \n",
       "7   1.018928e-09  1.483689e-11  1.020676e-09  1.470371e-11  6.737303   \n",
       "8   1.016300e-09  1.628373e-11  1.017481e-09  1.603214e-11  7.147511   \n",
       "9   1.019196e-09  1.519295e-11  1.021885e-09  1.504487e-11  6.873110   \n",
       "10  1.020547e-09  1.539198e-11  1.020496e-09  1.528297e-11  6.872451   \n",
       "11  1.014832e-09  1.703682e-11  1.014342e-09  1.702817e-11  7.165520   \n",
       "12  1.021437e-09  1.426143e-11  1.022938e-09  1.406913e-11  6.622315   \n",
       "13  1.017235e-09  1.595322e-11  1.017969e-09  1.586936e-11  7.057762   \n",
       "14  1.009208e-09  1.791772e-11  1.011390e-09  1.794151e-11  7.350927   \n",
       "15  1.015402e-09  1.692527e-11  1.014364e-09  1.666449e-11  7.174978   \n",
       "16  1.016903e-09  1.561404e-11  1.018837e-09  1.566187e-11  6.957269   \n",
       "17  1.000533e-09  2.030344e-11  1.001230e-09  2.018617e-11  7.677707   \n",
       "18  1.020129e-09  1.518868e-11  1.018438e-09  1.496825e-11  6.969226   \n",
       "19  1.019072e-09  1.455093e-11  1.019734e-09  1.434040e-11  6.791295   \n",
       "20  1.017283e-09  1.632152e-11  1.014834e-09  1.617007e-11  7.161125   \n",
       "21  9.760010e-10  2.659722e-11  9.767996e-10  2.627765e-11  8.117820   \n",
       "22  1.011107e-09  1.654025e-11  1.012290e-09  1.641051e-11  7.141848   \n",
       "23  1.014952e-09  1.680145e-11  1.013191e-09  1.671423e-11  7.266221   \n",
       "24  9.877988e-10  2.543086e-11  9.868800e-10  2.529829e-11  7.928443   \n",
       "25  1.013247e-09  1.646998e-11  1.013318e-09  1.627365e-11  7.135540   \n",
       "\n",
       "      _raw_LT        EFF  \n",
       "1    7.016592  87.040288  \n",
       "2    7.423471  79.566187  \n",
       "3    6.791881  91.721684  \n",
       "4    5.837793  13.710311  \n",
       "5    6.764829  92.103952  \n",
       "6    6.462595  83.579686  \n",
       "7    6.561370  84.737263  \n",
       "8    7.276649  85.748986  \n",
       "9    6.782085  87.649336  \n",
       "10   6.843297  88.445408  \n",
       "11   7.539971  72.899451  \n",
       "12   6.341417  63.493947  \n",
       "13   7.185639  84.457575  \n",
       "14   7.965185  90.791060  \n",
       "15   7.500481  77.516649  \n",
       "16   7.057676  84.553937  \n",
       "17   8.852149  79.752335  \n",
       "18   6.926194  90.198153  \n",
       "19   6.616295  91.742202  \n",
       "20   7.417162  91.807512  \n",
       "21  10.733584  44.705923  \n",
       "22   7.468729  86.195230  \n",
       "23   7.679668  90.066277  \n",
       "24  10.321507  22.676271  \n",
       "25   7.480748  73.846069  \n",
       "\n",
       "[25 rows x 30 columns]"
      ]
     },
     "metadata": {},
     "output_type": "display_data"
    }
   ],
   "source": [
    "with pd.option_context('display.max_rows', 500):\n",
    "    display(opt.data)"
   ]
  },
  {
   "cell_type": "code",
   "execution_count": 19,
   "metadata": {},
   "outputs": [
    {
     "data": {
      "text/plain": [
       "OrderedDict([('models.0.likelihood.noise_covar.raw_noise',\n",
       "              tensor([0.0404], dtype=torch.float64)),\n",
       "             ('models.0.likelihood.noise_covar.noise_prior.concentration',\n",
       "              tensor(1.1000, dtype=torch.float64)),\n",
       "             ('models.0.likelihood.noise_covar.noise_prior.rate',\n",
       "              tensor(0.0500, dtype=torch.float64)),\n",
       "             ('models.0.likelihood.noise_covar.raw_noise_constraint.lower_bound',\n",
       "              tensor(1.0000e-04, dtype=torch.float64)),\n",
       "             ('models.0.likelihood.noise_covar.raw_noise_constraint.upper_bound',\n",
       "              tensor(inf, dtype=torch.float64)),\n",
       "             ('models.0.mean_module.raw_constant',\n",
       "              tensor(-1.6666, dtype=torch.float64)),\n",
       "             ('models.0.covar_module.raw_outputscale',\n",
       "              tensor(1.4248, dtype=torch.float64)),\n",
       "             ('models.0.covar_module.base_kernel.raw_lengthscale',\n",
       "              tensor([[-1.3493, -2.2664, -0.8923, -0.6254, -0.8371, -0.6012, -0.5138, -0.6824,\n",
       "                       -0.7737, -0.4641, -1.1012, -0.9549, -0.7853, -0.8980, -1.5826]],\n",
       "                     dtype=torch.float64)),\n",
       "             ('models.0.covar_module.base_kernel.lengthscale_prior.concentration',\n",
       "              tensor(3., dtype=torch.float64)),\n",
       "             ('models.0.covar_module.base_kernel.lengthscale_prior.rate',\n",
       "              tensor(6., dtype=torch.float64)),\n",
       "             ('models.0.covar_module.base_kernel.raw_lengthscale_constraint.lower_bound',\n",
       "              tensor(0., dtype=torch.float64)),\n",
       "             ('models.0.covar_module.base_kernel.raw_lengthscale_constraint.upper_bound',\n",
       "              tensor(inf, dtype=torch.float64)),\n",
       "             ('models.0.covar_module.outputscale_prior.concentration',\n",
       "              tensor(2., dtype=torch.float64)),\n",
       "             ('models.0.covar_module.outputscale_prior.rate',\n",
       "              tensor(0.1500, dtype=torch.float64)),\n",
       "             ('models.0.covar_module.raw_outputscale_constraint.lower_bound',\n",
       "              tensor(0., dtype=torch.float64)),\n",
       "             ('models.0.covar_module.raw_outputscale_constraint.upper_bound',\n",
       "              tensor(inf, dtype=torch.float64)),\n",
       "             ('models.0.outcome_transform.means',\n",
       "              tensor([[80.1080]], dtype=torch.float64)),\n",
       "             ('models.0.outcome_transform.stdvs',\n",
       "              tensor([[18.0639]], dtype=torch.float64)),\n",
       "             ('models.0.outcome_transform._stdvs_sq',\n",
       "              tensor([[326.3040]], dtype=torch.float64)),\n",
       "             ('models.0.outcome_transform._is_trained', tensor(True)),\n",
       "             ('models.0.input_transform._coefficient',\n",
       "              tensor([[1.1900, 1.1900, 1.1900, 1.1900, 0.3513, 0.3513, 0.3513, 0.3513, 0.9493,\n",
       "                       0.9493, 0.9493, 0.9493, 0.7963, 2.1407, 1.7677]], dtype=torch.float64)),\n",
       "             ('models.0.input_transform._offset',\n",
       "              tensor([[-0.5950, -0.5950, -0.5950, -0.5950, -0.1757, -0.1757, -0.1757, -0.1757,\n",
       "                       -0.4746, -0.4746, -0.4746, -0.4746, -0.3981, -1.0703, -0.8838]],\n",
       "                     dtype=torch.float64)),\n",
       "             ('models.1.likelihood.noise_covar.raw_noise',\n",
       "              tensor([0.0048], dtype=torch.float64)),\n",
       "             ('models.1.likelihood.noise_covar.noise_prior.concentration',\n",
       "              tensor(1.1000, dtype=torch.float64)),\n",
       "             ('models.1.likelihood.noise_covar.noise_prior.rate',\n",
       "              tensor(0.0500, dtype=torch.float64)),\n",
       "             ('models.1.likelihood.noise_covar.raw_noise_constraint.lower_bound',\n",
       "              tensor(1.0000e-04, dtype=torch.float64)),\n",
       "             ('models.1.likelihood.noise_covar.raw_noise_constraint.upper_bound',\n",
       "              tensor(inf, dtype=torch.float64)),\n",
       "             ('models.1.mean_module.raw_constant',\n",
       "              tensor(-0.0527, dtype=torch.float64)),\n",
       "             ('models.1.covar_module.raw_outputscale',\n",
       "              tensor(1.1505, dtype=torch.float64)),\n",
       "             ('models.1.covar_module.base_kernel.raw_lengthscale',\n",
       "              tensor([[-0.4243, -0.6592, -0.5111, -0.9725, -0.7636, -0.5888, -0.3196, -0.9117,\n",
       "                       -0.7328, -0.3645, -0.6859, -0.5475, -0.6292, -0.8553, -1.2799]],\n",
       "                     dtype=torch.float64)),\n",
       "             ('models.1.covar_module.base_kernel.lengthscale_prior.concentration',\n",
       "              tensor(3., dtype=torch.float64)),\n",
       "             ('models.1.covar_module.base_kernel.lengthscale_prior.rate',\n",
       "              tensor(6., dtype=torch.float64)),\n",
       "             ('models.1.covar_module.base_kernel.raw_lengthscale_constraint.lower_bound',\n",
       "              tensor(0., dtype=torch.float64)),\n",
       "             ('models.1.covar_module.base_kernel.raw_lengthscale_constraint.upper_bound',\n",
       "              tensor(inf, dtype=torch.float64)),\n",
       "             ('models.1.covar_module.outputscale_prior.concentration',\n",
       "              tensor(2., dtype=torch.float64)),\n",
       "             ('models.1.covar_module.outputscale_prior.rate',\n",
       "              tensor(0.1500, dtype=torch.float64)),\n",
       "             ('models.1.covar_module.raw_outputscale_constraint.lower_bound',\n",
       "              tensor(0., dtype=torch.float64)),\n",
       "             ('models.1.covar_module.raw_outputscale_constraint.upper_bound',\n",
       "              tensor(inf, dtype=torch.float64)),\n",
       "             ('models.1.outcome_transform.means',\n",
       "              tensor([[7.0404]], dtype=torch.float64)),\n",
       "             ('models.1.outcome_transform.stdvs',\n",
       "              tensor([[0.3671]], dtype=torch.float64)),\n",
       "             ('models.1.outcome_transform._stdvs_sq',\n",
       "              tensor([[0.1348]], dtype=torch.float64)),\n",
       "             ('models.1.outcome_transform._is_trained', tensor(True)),\n",
       "             ('models.1.input_transform._coefficient',\n",
       "              tensor([[1.1900, 1.1900, 1.1900, 1.1900, 0.3513, 0.3513, 0.3513, 0.3513, 0.9493,\n",
       "                       0.9493, 0.9493, 0.9493, 0.7963, 2.1407, 1.7677]], dtype=torch.float64)),\n",
       "             ('models.1.input_transform._offset',\n",
       "              tensor([[-0.5950, -0.5950, -0.5950, -0.5950, -0.1757, -0.1757, -0.1757, -0.1757,\n",
       "                       -0.4746, -0.4746, -0.4746, -0.4746, -0.3981, -1.0703, -0.8838]],\n",
       "                     dtype=torch.float64)),\n",
       "             ('likelihood.likelihoods.0.noise_covar.raw_noise',\n",
       "              tensor([0.0404], dtype=torch.float64)),\n",
       "             ('likelihood.likelihoods.0.noise_covar.noise_prior.concentration',\n",
       "              tensor(1.1000, dtype=torch.float64)),\n",
       "             ('likelihood.likelihoods.0.noise_covar.noise_prior.rate',\n",
       "              tensor(0.0500, dtype=torch.float64)),\n",
       "             ('likelihood.likelihoods.0.noise_covar.raw_noise_constraint.lower_bound',\n",
       "              tensor(1.0000e-04, dtype=torch.float64)),\n",
       "             ('likelihood.likelihoods.0.noise_covar.raw_noise_constraint.upper_bound',\n",
       "              tensor(inf, dtype=torch.float64)),\n",
       "             ('likelihood.likelihoods.1.noise_covar.raw_noise',\n",
       "              tensor([0.0048], dtype=torch.float64)),\n",
       "             ('likelihood.likelihoods.1.noise_covar.noise_prior.concentration',\n",
       "              tensor(1.1000, dtype=torch.float64)),\n",
       "             ('likelihood.likelihoods.1.noise_covar.noise_prior.rate',\n",
       "              tensor(0.0500, dtype=torch.float64)),\n",
       "             ('likelihood.likelihoods.1.noise_covar.raw_noise_constraint.lower_bound',\n",
       "              tensor(1.0000e-04, dtype=torch.float64)),\n",
       "             ('likelihood.likelihoods.1.noise_covar.raw_noise_constraint.upper_bound',\n",
       "              tensor(inf, dtype=torch.float64))])"
      ]
     },
     "execution_count": 19,
     "metadata": {},
     "output_type": "execute_result"
    }
   ],
   "source": [
    "opt.generator.model.state_dict()"
   ]
  },
  {
   "cell_type": "code",
   "execution_count": null,
   "metadata": {},
   "outputs": [],
   "source": []
  }
 ],
 "metadata": {
  "kernelspec": {
   "display_name": "py311ml",
   "language": "python",
   "name": "python3"
  },
  "language_info": {
   "codemirror_mode": {
    "name": "ipython",
    "version": 3
   },
   "file_extension": ".py",
   "mimetype": "text/x-python",
   "name": "python",
   "nbconvert_exporter": "python",
   "pygments_lexer": "ipython3",
   "version": "3.11.7"
  }
 },
 "nbformat": 4,
 "nbformat_minor": 2
}
