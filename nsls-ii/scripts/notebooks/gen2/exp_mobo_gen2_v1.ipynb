{
 "cells": [
  {
   "cell_type": "code",
   "execution_count": 1,
   "metadata": {},
   "outputs": [],
   "source": [
    "import sys\n",
    "import logging\n",
    "import json\n",
    "import numpy as np\n",
    "import pandas as pd\n",
    "from datetime import datetime\n",
    "import time\n",
    "\n",
    "from apsopt.core.optimizer import Optimizer, get_generator_class\n",
    "from apsopt.core.evaluators import FunctionEvaluator\n",
    "from apsopt.util.pydantic.options import AlgorithmOptions\n",
    "from apsopt.util.pydantic.vocs import GVOCS\n",
    "\n",
    "logger = logging.getLogger(__name__)"
   ]
  },
  {
   "cell_type": "markdown",
   "metadata": {},
   "source": [
    "### SETUP"
   ]
  },
  {
   "cell_type": "code",
   "execution_count": 2,
   "metadata": {},
   "outputs": [
    {
     "name": "stdout",
     "output_type": "stream",
     "text": [
      "       SM1A      SM2B      SM1B       SL3       SL2       SL1      SH4  \\\n",
      "0 -4.736127  7.160789 -5.189207 -5.892172  7.135584 -2.654321 -3.16418   \n",
      "\n",
      "        SH3       SH1  \n",
      "0 -1.171022  3.966582  \n",
      "   SVD0       SH1       SH3       SH4       SL1       SL2       SL3\n",
      "0  -0.6 -0.396658 -0.117102 -0.316418 -0.265432 -0.713558 -0.589217\n",
      "1   0.6  0.396658  0.117102  0.316418  0.265432  0.713558  0.589217\n"
     ]
    }
   ],
   "source": [
    "# Load precomputed data\n",
    "\n",
    "MODE = '6and3'\n",
    "with open(f'lattice/data_{MODE}.json', 'r') as f:\n",
    "    data_dict = json.load(f)\n",
    "groups = data_dict['groups']\n",
    "groups_direct = data_dict['groups_direct']\n",
    "all_groups = {**groups, **groups_direct}\n",
    "indices = data_dict['indices']\n",
    "null_knobs = data_dict['null_knobs']\n",
    "dfknobs = pd.read_json(f'lattice/dfknobs_{MODE}.json')\n",
    "\n",
    "# impact of K2L difference\n",
    "dfknobs.loc['SM2B',:] *= 0.25/0.2\n",
    "\n",
    "# DO NOT CHANGE - USED TO CALCULATE ABSOLUTE K2L\n",
    "initial_values_ref = {\n",
    "    'SM1A': -23.68063424*0.2,\n",
    "    'SM2B': 28.64315469*0.25,\n",
    "    'SM1B': -25.94603546*0.2,\n",
    "    'SL3': -29.46086061*0.2,\n",
    "    'SL2': 35.67792145*0.2,\n",
    "    'SL1': -13.27160605*0.2,\n",
    "    'SH4': -15.82090071*0.2,\n",
    "    'SH3': -5.85510841*0.2,\n",
    "    'SH1': 19.8329121*0.2,\n",
    "}\n",
    "\n",
    "# CHANGE THIS TO VALUES FROM RING IF NEEDED\n",
    "initial_values = initial_values_ref.copy()\n",
    "\n",
    "initial_values['SM1A'] *= 1.01\n",
    "initial_values['SM1B'] *= 1.008\n",
    "\n",
    "# optimizer variables in units of K2L\n",
    "variables = {'SVD0':[-0.6,0.6]} # this means SM1B will change by ~10%\n",
    "# variables = {'SVD0':[-0.4,0.4]} # this means SM1B will change by ~10%\n",
    "\n",
    "for k in ['SH1','SH3','SH4','SL1','SL2','SL3']:\n",
    "    variables[k] = [-np.abs(initial_values_ref[k])*0.1,np.abs(initial_values_ref[k])*0.1]\n",
    "    # variables[k] = [-np.abs(initial_values_ref[k])*0.075,np.abs(initial_values_ref[k])*0.075]\n",
    "\n",
    "objectives_active = {'LT': 'MAXIMIZE', 'EFF':'MAXIMIZE'}\n",
    "\n",
    "initial_variable_values = {k:0.0 for k in variables.keys()}\n",
    "\n",
    "# Manual modifications\n",
    "initial_variable_values['SH1'] -= 0.2\n",
    "initial_variable_values['SH3'] -= 0.08\n",
    "initial_variable_values['SL2'] -= 0.5\n",
    "initial_variable_values['SL3'] -= 0.5\n",
    "\n",
    "gvocs = GVOCS(variables=variables,\n",
    "              variables_active=variables,\n",
    "              objectives=objectives_active,\n",
    "              objectives_active=objectives_active)\n",
    "\n",
    "print(pd.DataFrame(initial_values_ref,index=[0]))\n",
    "print(pd.DataFrame(variables))"
   ]
  },
  {
   "cell_type": "code",
   "execution_count": 3,
   "metadata": {},
   "outputs": [],
   "source": [
    "reference_point = {'LT': 4.0, # hours\n",
    "                   'EFF': 50.0 # % injected\n",
    "                   }"
   ]
  },
  {
   "cell_type": "code",
   "execution_count": 4,
   "metadata": {},
   "outputs": [],
   "source": [
    "import sext_tools\n",
    "def compute_family_k2l_from_knob_k2l(dfknobs, knobs_dict, debug=False):\n",
    "    group_relative_strengths = sext_tools.knob_strengths_to_group_strengths(dfknobs, knobs_dict)\n",
    "    for k in group_relative_strengths:\n",
    "        if debug:\n",
    "            print(f'{k}: {initial_values[k]:.3f} + {group_relative_strengths[k]:.3f} -> {initial_values[k]+group_relative_strengths[k]:.3f}')\n",
    "        group_relative_strengths[k] = group_relative_strengths[k] + initial_values[k]\n",
    "    return group_relative_strengths"
   ]
  },
  {
   "cell_type": "code",
   "execution_count": 5,
   "metadata": {},
   "outputs": [],
   "source": [
    "#TEST = True\n",
    "TEST = False\n",
    "\n",
    "if TEST:\n",
    "    from opt_funcs_nsls import make_dummy_eval\n",
    "    eval_f = make_dummy_eval(gvocs)\n",
    "else:\n",
    "    sys.path.insert(0, \"/nsls2/users/yhidaka/git_repos/nsls2scripts3/shifts/2023-11-26_APSU_DA_MA\")\n",
    "    import opt_funcs\n",
    "\n",
    "    def knobs_to_family(inputs_dict):\n",
    "        d = compute_family_k2l_from_knob_k2l(dfknobs, inputs_dict, True)\n",
    "        return opt_funcs.master_eval_function(d, meas_bxb_tunes=True, meas_lifetime=True, meas_inj_eff=True)\n",
    "\n",
    "    eval_f = knobs_to_family"
   ]
  },
  {
   "cell_type": "code",
   "execution_count": 6,
   "metadata": {},
   "outputs": [
    {
     "name": "stdout",
     "output_type": "stream",
     "text": [
      "SL1: -2.654 + -0.265 -> -2.920\n",
      "SL2: 7.136 + -0.714 -> 6.422\n",
      "SL3: -5.892 + -0.589 -> -6.481\n",
      "SH1: 3.967 + -0.397 -> 3.570\n",
      "SH3: -1.171 + -0.117 -> -1.288\n",
      "SH4: -3.164 + -0.316 -> -3.481\n",
      "SM1A: -4.783 + 0.398 -> -4.385\n",
      "SM1B: -5.231 + -0.447 -> -5.678\n",
      "SM2B: 7.161 + 0.052 -> 7.213\n"
     ]
    },
    {
     "data": {
      "text/plain": [
       "{'SL1': -2.9197533310000003,\n",
       " 'SL2': 6.422025861000001,\n",
       " 'SL3': -6.481389334200001,\n",
       " 'SH1': 3.5699241780000004,\n",
       " 'SH3': -1.2881238501999999,\n",
       " 'SH4': -3.4805981562,\n",
       " 'SM1A': -4.385288760620001,\n",
       " 'SM1B': -5.6776103901960004,\n",
       " 'SM2B': 7.2127339758749995}"
      ]
     },
     "execution_count": 6,
     "metadata": {},
     "output_type": "execute_result"
    }
   ],
   "source": [
    "inputs_dict = compute_family_k2l_from_knob_k2l(\n",
    "    dfknobs, {k:variables[k][0] for k in variables.keys()}, True)\n",
    "inputs_dict"
   ]
  },
  {
   "cell_type": "code",
   "execution_count": 7,
   "metadata": {},
   "outputs": [
    {
     "name": "stdout",
     "output_type": "stream",
     "text": [
      "Sextupole adj. took 9.5.\n",
      "RMS(dx, dy) [m] = (1.385e-04, 4.436e-06)\n",
      "RMS(dx, dy) [m] = (6.286e-05, 5.053e-06)\n",
      "RMS(dx, dy) [m] = (4.626e-05, 3.244e-06)\n",
      "RMS(dx, dy) [m] = (2.188e-05, 1.943e-06)\n",
      "RMS(dx, dy) [m] = (1.141e-05, 2.699e-06)\n",
      "RMS(dx, dy) [m] = (7.910e-06, 4.541e-06)\n",
      "Orbit correction converged\n",
      "** # of outliers found = 3 (out of 180)\n",
      "Lifetime = 2.953 (raw tau [hr] = 3.435, epsy [pm] = 16.84) (took 3.9 [s])\n",
      "Inj. Eff. = 36.08 (took 23.2 [s])\n",
      "Eval. func. finished.\n",
      "Eval. func. finished.\n"
     ]
    }
   ],
   "source": [
    "if True:\n",
    "    opt_funcs.master_eval_function(inputs_dict, meas_bxb_tunes=True, meas_lifetime=True, meas_inj_eff=True)"
   ]
  },
  {
   "cell_type": "code",
   "execution_count": 8,
   "metadata": {},
   "outputs": [],
   "source": [
    "ev = FunctionEvaluator(script=eval_f)\n",
    "\n",
    "generator_name = 'aps_mobo'\n",
    "gc = get_generator_class(generator_name)\n",
    "\n",
    "gen = gc(gvocs=gvocs)\n",
    "gen.numerical_optimizer.n_raw_samples = 128 #512\n",
    "gen.numerical_optimizer.n_restarts = 10\n",
    "gen.gp_constructor.use_low_noise_prior = False\n",
    "gen.gp_constructor.use_high_noise_prior = False\n",
    "#gen.max_travel_distances = [0.1] * len(gvocs.variables_active)\n",
    "gen.reference_point = reference_point"
   ]
  },
  {
   "cell_type": "code",
   "execution_count": 9,
   "metadata": {},
   "outputs": [],
   "source": [
    "options = AlgorithmOptions(store_history=True, dump_every_step=True)\n",
    "opt = Optimizer(options=options,\n",
    "                generator=gen,\n",
    "                evaluator=ev,\n",
    "                gvocs=gvocs)"
   ]
  },
  {
   "cell_type": "markdown",
   "metadata": {},
   "source": [
    "### Sample at initial values"
   ]
  },
  {
   "cell_type": "code",
   "execution_count": 10,
   "metadata": {},
   "outputs": [
    {
     "name": "stdout",
     "output_type": "stream",
     "text": [
      "SL1: -2.654 + 0.000 -> -2.654\n",
      "SL2: 7.136 + -0.500 -> 6.636\n",
      "SL3: -5.892 + -0.500 -> -6.392\n",
      "SH1: 3.967 + -0.200 -> 3.767\n",
      "SH3: -1.171 + -0.080 -> -1.251\n",
      "SH4: -3.164 + 0.000 -> -3.164\n",
      "SM1A: -4.783 + 0.000 -> -4.783\n",
      "SM1B: -5.231 + 0.000 -> -5.231\n",
      "SM2B: 7.161 + 0.000 -> 7.161\n",
      "Sextupole adj. took 5.3.\n",
      "RMS(dx, dy) [m] = (1.007e-04, 3.813e-06)\n",
      "RMS(dx, dy) [m] = (5.750e-05, 3.903e-06)\n",
      "RMS(dx, dy) [m] = (2.770e-05, 3.531e-06)\n",
      "RMS(dx, dy) [m] = (1.437e-05, 2.437e-06)\n",
      "RMS(dx, dy) [m] = (8.472e-06, 9.710e-07)\n",
      "Orbit correction converged\n",
      "** # of outliers found = 5 (out of 180)\n",
      "Lifetime = 3.575 (raw tau [hr] = 4.166, epsy [pm] = 16.79) (took 3.4 [s])\n",
      "Inj. Eff. = 1.65 (took 16.0 [s])\n",
      "Eval. func. finished.\n",
      "Eval. func. finished.\n"
     ]
    }
   ],
   "source": [
    "opt.generate_at(initial_variable_values)\n",
    "opt.evaluate_data()"
   ]
  },
  {
   "cell_type": "code",
   "execution_count": 22,
   "metadata": {},
   "outputs": [
    {
     "name": "stdout",
     "output_type": "stream",
     "text": [
      "SL1: -2.654 + 0.000 -> -2.654\n",
      "SL2: 7.136 + 0.000 -> 7.136\n",
      "SL3: -5.892 + 0.000 -> -5.892\n",
      "SH1: 3.967 + 0.000 -> 3.967\n",
      "SH3: -1.171 + 0.000 -> -1.171\n",
      "SH4: -3.164 + 0.000 -> -3.164\n",
      "SM1A: -4.783 + 0.000 -> -4.783\n",
      "SM1B: -5.231 + 0.000 -> -5.231\n",
      "SM2B: 7.161 + 0.000 -> 7.161\n",
      "Sextupole adj. took 3.2.\n",
      "RMS(dx, dy) [m] = (8.566e-05, 4.104e-06)\n",
      "RMS(dx, dy) [m] = (1.398e-04, 8.843e-06)\n",
      "RMS(dx, dy) [m] = (3.763e-05, 3.572e-06)\n",
      "RMS(dx, dy) [m] = (2.031e-05, 4.303e-06)\n",
      "RMS(dx, dy) [m] = (1.092e-05, 3.465e-06)\n",
      "RMS(dx, dy) [m] = (5.033e-06, 1.095e-06)\n",
      "Orbit correction converged\n",
      "** # of outliers found = 6 (out of 180)\n",
      "Lifetime = 5.815 (raw tau [hr] = 7.078, epsy [pm] = 17.68) (took 4.5 [s])\n",
      "Inj. Eff. = 85.41 (took 18.4 [s])\n",
      "Eval. func. finished.\n",
      "Eval. func. finished.\n"
     ]
    }
   ],
   "source": [
    "# Nominal (i.e., design) sextupole settings:\n",
    "opt.generate_at({k:0.0 for k in variables.keys()})\n",
    "opt.evaluate_data()"
   ]
  },
  {
   "cell_type": "code",
   "execution_count": 12,
   "metadata": {},
   "outputs": [
    {
     "data": {
      "text/html": [
       "<div>\n",
       "<style scoped>\n",
       "    .dataframe tbody tr th:only-of-type {\n",
       "        vertical-align: middle;\n",
       "    }\n",
       "\n",
       "    .dataframe tbody tr th {\n",
       "        vertical-align: top;\n",
       "    }\n",
       "\n",
       "    .dataframe thead th {\n",
       "        text-align: right;\n",
       "    }\n",
       "</style>\n",
       "<table border=\"1\" class=\"dataframe\">\n",
       "  <thead>\n",
       "    <tr style=\"text-align: right;\">\n",
       "      <th></th>\n",
       "      <th>SVD0</th>\n",
       "      <th>SH1</th>\n",
       "      <th>SH3</th>\n",
       "      <th>SH4</th>\n",
       "      <th>SL1</th>\n",
       "      <th>SL2</th>\n",
       "      <th>SL3</th>\n",
       "      <th>result</th>\n",
       "      <th>exception</th>\n",
       "      <th>traceback</th>\n",
       "      <th>...</th>\n",
       "      <th>valid</th>\n",
       "      <th>_nux</th>\n",
       "      <th>_nuy</th>\n",
       "      <th>_eps_x_bxbOn</th>\n",
       "      <th>_eps_y_bxbOn</th>\n",
       "      <th>_eps_x_bxbOff</th>\n",
       "      <th>_eps_y_bxbOff</th>\n",
       "      <th>LT</th>\n",
       "      <th>_raw_LT</th>\n",
       "      <th>EFF</th>\n",
       "    </tr>\n",
       "  </thead>\n",
       "  <tbody>\n",
       "    <tr>\n",
       "      <th>1</th>\n",
       "      <td>0.0</td>\n",
       "      <td>-0.2</td>\n",
       "      <td>-0.08</td>\n",
       "      <td>0.0</td>\n",
       "      <td>0.0</td>\n",
       "      <td>-0.5</td>\n",
       "      <td>-0.5</td>\n",
       "      <td>{'_nux': 0.21099733959289255, '_nuy': 0.268644...</td>\n",
       "      <td>None</td>\n",
       "      <td></td>\n",
       "      <td>...</td>\n",
       "      <td>True</td>\n",
       "      <td>0.210997</td>\n",
       "      <td>0.268645</td>\n",
       "      <td>2.264683e-09</td>\n",
       "      <td>1.708862e-11</td>\n",
       "      <td>2.263759e-09</td>\n",
       "      <td>1.678668e-11</td>\n",
       "      <td>3.575129</td>\n",
       "      <td>4.166117</td>\n",
       "      <td>1.647341</td>\n",
       "    </tr>\n",
       "    <tr>\n",
       "      <th>2</th>\n",
       "      <td>0.0</td>\n",
       "      <td>-0.2</td>\n",
       "      <td>-0.08</td>\n",
       "      <td>0.0</td>\n",
       "      <td>0.0</td>\n",
       "      <td>-0.5</td>\n",
       "      <td>-0.5</td>\n",
       "      <td>{'_nux': 0.21099733959289255, '_nuy': 0.268370...</td>\n",
       "      <td>None</td>\n",
       "      <td></td>\n",
       "      <td>...</td>\n",
       "      <td>True</td>\n",
       "      <td>0.210997</td>\n",
       "      <td>0.268370</td>\n",
       "      <td>2.266347e-09</td>\n",
       "      <td>1.680131e-11</td>\n",
       "      <td>2.262876e-09</td>\n",
       "      <td>1.669104e-11</td>\n",
       "      <td>3.672483</td>\n",
       "      <td>4.274899</td>\n",
       "      <td>1.806105</td>\n",
       "    </tr>\n",
       "  </tbody>\n",
       "</table>\n",
       "<p>2 rows × 22 columns</p>\n",
       "</div>"
      ],
      "text/plain": [
       "   SVD0  SH1   SH3  SH4  SL1  SL2  SL3  \\\n",
       "1   0.0 -0.2 -0.08  0.0  0.0 -0.5 -0.5   \n",
       "2   0.0 -0.2 -0.08  0.0  0.0 -0.5 -0.5   \n",
       "\n",
       "                                              result exception traceback  ...  \\\n",
       "1  {'_nux': 0.21099733959289255, '_nuy': 0.268644...      None            ...   \n",
       "2  {'_nux': 0.21099733959289255, '_nuy': 0.268370...      None            ...   \n",
       "\n",
       "   valid      _nux      _nuy  _eps_x_bxbOn  _eps_y_bxbOn  _eps_x_bxbOff  \\\n",
       "1   True  0.210997  0.268645  2.264683e-09  1.708862e-11   2.263759e-09   \n",
       "2   True  0.210997  0.268370  2.266347e-09  1.680131e-11   2.262876e-09   \n",
       "\n",
       "   _eps_y_bxbOff        LT   _raw_LT       EFF  \n",
       "1   1.678668e-11  3.575129  4.166117  1.647341  \n",
       "2   1.669104e-11  3.672483  4.274899  1.806105  \n",
       "\n",
       "[2 rows x 22 columns]"
      ]
     },
     "execution_count": 12,
     "metadata": {},
     "output_type": "execute_result"
    }
   ],
   "source": [
    "opt.data"
   ]
  },
  {
   "cell_type": "markdown",
   "metadata": {},
   "source": [
    "### Sample close to initial point"
   ]
  },
  {
   "cell_type": "code",
   "execution_count": 13,
   "metadata": {},
   "outputs": [
    {
     "name": "stdout",
     "output_type": "stream",
     "text": [
      "SL1: -2.654 + 0.010 -> -2.644\n",
      "SL2: 7.136 + -0.524 -> 6.612\n",
      "SL3: -5.892 + -0.502 -> -6.394\n",
      "SH1: 3.967 + -0.196 -> 3.770\n",
      "SH3: -1.171 + -0.081 -> -1.252\n",
      "SH4: -3.164 + -0.004 -> -3.168\n",
      "SM1A: -4.783 + -0.010 -> -4.794\n",
      "SM1B: -5.231 + 0.012 -> -5.219\n",
      "SM2B: 7.161 + -0.001 -> 7.159\n",
      "Sextupole adj. took 0.1.\n",
      "RMS(dx, dy) [m] = (1.766e-06, 4.348e-07)\n",
      "Orbit correction converged\n",
      "** # of outliers found = 2 (out of 180)\n",
      "Lifetime = 3.678 (raw tau [hr] = 4.283, epsy [pm] = 16.69) (took 4.0 [s])\n",
      "Inj. Eff. = 1.93 (took 16.0 [s])\n",
      "Eval. func. finished.\n",
      "Eval. func. finished.\n"
     ]
    }
   ],
   "source": [
    "mt = {k: 0.05 for k in variables.keys()}\n",
    "opt.generate_random_around_point(n=1, point=initial_variable_values, spans=mt, use_normalized_distances=True)\n",
    "opt.evaluate_data()"
   ]
  },
  {
   "cell_type": "code",
   "execution_count": 14,
   "metadata": {},
   "outputs": [
    {
     "data": {
      "text/html": [
       "<div>\n",
       "<style scoped>\n",
       "    .dataframe tbody tr th:only-of-type {\n",
       "        vertical-align: middle;\n",
       "    }\n",
       "\n",
       "    .dataframe tbody tr th {\n",
       "        vertical-align: top;\n",
       "    }\n",
       "\n",
       "    .dataframe thead th {\n",
       "        text-align: right;\n",
       "    }\n",
       "</style>\n",
       "<table border=\"1\" class=\"dataframe\">\n",
       "  <thead>\n",
       "    <tr style=\"text-align: right;\">\n",
       "      <th></th>\n",
       "      <th>SVD0</th>\n",
       "      <th>SH1</th>\n",
       "      <th>SH3</th>\n",
       "      <th>SH4</th>\n",
       "      <th>SL1</th>\n",
       "      <th>SL2</th>\n",
       "      <th>SL3</th>\n",
       "      <th>result</th>\n",
       "      <th>exception</th>\n",
       "      <th>traceback</th>\n",
       "      <th>...</th>\n",
       "      <th>valid</th>\n",
       "      <th>_nux</th>\n",
       "      <th>_nuy</th>\n",
       "      <th>_eps_x_bxbOn</th>\n",
       "      <th>_eps_y_bxbOn</th>\n",
       "      <th>_eps_x_bxbOff</th>\n",
       "      <th>_eps_y_bxbOff</th>\n",
       "      <th>LT</th>\n",
       "      <th>_raw_LT</th>\n",
       "      <th>EFF</th>\n",
       "    </tr>\n",
       "  </thead>\n",
       "  <tbody>\n",
       "    <tr>\n",
       "      <th>1</th>\n",
       "      <td>0.000000</td>\n",
       "      <td>-0.200000</td>\n",
       "      <td>-0.080000</td>\n",
       "      <td>0.000000</td>\n",
       "      <td>0.000000</td>\n",
       "      <td>-0.500000</td>\n",
       "      <td>-0.500000</td>\n",
       "      <td>{'_nux': 0.21099733959289255, '_nuy': 0.268644...</td>\n",
       "      <td>None</td>\n",
       "      <td></td>\n",
       "      <td>...</td>\n",
       "      <td>True</td>\n",
       "      <td>0.210997</td>\n",
       "      <td>0.268645</td>\n",
       "      <td>2.264683e-09</td>\n",
       "      <td>1.708862e-11</td>\n",
       "      <td>2.263759e-09</td>\n",
       "      <td>1.678668e-11</td>\n",
       "      <td>3.575129</td>\n",
       "      <td>4.166117</td>\n",
       "      <td>1.647341</td>\n",
       "    </tr>\n",
       "    <tr>\n",
       "      <th>2</th>\n",
       "      <td>0.000000</td>\n",
       "      <td>-0.200000</td>\n",
       "      <td>-0.080000</td>\n",
       "      <td>0.000000</td>\n",
       "      <td>0.000000</td>\n",
       "      <td>-0.500000</td>\n",
       "      <td>-0.500000</td>\n",
       "      <td>{'_nux': 0.21099733959289255, '_nuy': 0.268370...</td>\n",
       "      <td>None</td>\n",
       "      <td></td>\n",
       "      <td>...</td>\n",
       "      <td>True</td>\n",
       "      <td>0.210997</td>\n",
       "      <td>0.268370</td>\n",
       "      <td>2.266347e-09</td>\n",
       "      <td>1.680131e-11</td>\n",
       "      <td>2.262876e-09</td>\n",
       "      <td>1.669104e-11</td>\n",
       "      <td>3.672483</td>\n",
       "      <td>4.274899</td>\n",
       "      <td>1.806105</td>\n",
       "    </tr>\n",
       "    <tr>\n",
       "      <th>3</th>\n",
       "      <td>0.015514</td>\n",
       "      <td>-0.196213</td>\n",
       "      <td>-0.081386</td>\n",
       "      <td>-0.003579</td>\n",
       "      <td>0.009994</td>\n",
       "      <td>-0.523752</td>\n",
       "      <td>-0.501679</td>\n",
       "      <td>{'_nux': 0.21099733959289255, '_nuy': 0.268309...</td>\n",
       "      <td>None</td>\n",
       "      <td></td>\n",
       "      <td>...</td>\n",
       "      <td>True</td>\n",
       "      <td>0.210997</td>\n",
       "      <td>0.268309</td>\n",
       "      <td>2.252518e-09</td>\n",
       "      <td>1.682469e-11</td>\n",
       "      <td>2.254053e-09</td>\n",
       "      <td>1.668708e-11</td>\n",
       "      <td>3.678472</td>\n",
       "      <td>4.283441</td>\n",
       "      <td>1.925223</td>\n",
       "    </tr>\n",
       "  </tbody>\n",
       "</table>\n",
       "<p>3 rows × 22 columns</p>\n",
       "</div>"
      ],
      "text/plain": [
       "       SVD0       SH1       SH3       SH4       SL1       SL2       SL3  \\\n",
       "1  0.000000 -0.200000 -0.080000  0.000000  0.000000 -0.500000 -0.500000   \n",
       "2  0.000000 -0.200000 -0.080000  0.000000  0.000000 -0.500000 -0.500000   \n",
       "3  0.015514 -0.196213 -0.081386 -0.003579  0.009994 -0.523752 -0.501679   \n",
       "\n",
       "                                              result exception traceback  ...  \\\n",
       "1  {'_nux': 0.21099733959289255, '_nuy': 0.268644...      None            ...   \n",
       "2  {'_nux': 0.21099733959289255, '_nuy': 0.268370...      None            ...   \n",
       "3  {'_nux': 0.21099733959289255, '_nuy': 0.268309...      None            ...   \n",
       "\n",
       "   valid      _nux      _nuy  _eps_x_bxbOn  _eps_y_bxbOn  _eps_x_bxbOff  \\\n",
       "1   True  0.210997  0.268645  2.264683e-09  1.708862e-11   2.263759e-09   \n",
       "2   True  0.210997  0.268370  2.266347e-09  1.680131e-11   2.262876e-09   \n",
       "3   True  0.210997  0.268309  2.252518e-09  1.682469e-11   2.254053e-09   \n",
       "\n",
       "   _eps_y_bxbOff        LT   _raw_LT       EFF  \n",
       "1   1.678668e-11  3.575129  4.166117  1.647341  \n",
       "2   1.669104e-11  3.672483  4.274899  1.806105  \n",
       "3   1.668708e-11  3.678472  4.283441  1.925223  \n",
       "\n",
       "[3 rows x 22 columns]"
      ]
     },
     "execution_count": 14,
     "metadata": {},
     "output_type": "execute_result"
    }
   ],
   "source": [
    "opt.data"
   ]
  },
  {
   "cell_type": "markdown",
   "metadata": {},
   "source": [
    "### Run optimizer"
   ]
  },
  {
   "cell_type": "code",
   "execution_count": 16,
   "metadata": {},
   "outputs": [
    {
     "name": "stderr",
     "output_type": "stream",
     "text": [
      "/nsls2/users/yhidaka/.conda/envs/apsopt311/lib/python3.11/site-packages/linear_operator/utils/cholesky.py:40: NumericalWarning: A not p.d., added jitter of 1.0e-08 to the diagonal\n",
      "  warnings.warn(\n",
      "/nsls2/users/yhidaka/.conda/envs/apsopt311/lib/python3.11/site-packages/botorch/optim/initializers.py:404: BadInitialCandidatesWarning: Unable to find non-zero acquisition function values - initial conditions are being selected randomly.\n",
      "  warnings.warn(\n"
     ]
    },
    {
     "name": "stdout",
     "output_type": "stream",
     "text": [
      "SL1: -2.654 + -0.124 -> -2.779\n",
      "SL2: 7.136 + -0.439 -> 6.697\n",
      "SL3: -5.892 + 0.222 -> -5.670\n",
      "SH1: 3.967 + -0.106 -> 3.861\n",
      "SH3: -1.171 + 0.087 -> -1.084\n",
      "SH4: -3.164 + -0.116 -> -3.280\n",
      "SM1A: -4.783 + 0.343 -> -4.441\n",
      "SM1B: -5.231 + -0.385 -> -5.615\n",
      "SM2B: 7.161 + 0.045 -> 7.206\n",
      "Sextupole adj. took 7.3.\n",
      "RMS(dx, dy) [m] = (7.076e-05, 5.198e-06)\n",
      "RMS(dx, dy) [m] = (3.575e-04, 2.463e-05)\n",
      "RMS(dx, dy) [m] = (3.460e-05, 3.173e-06)\n",
      "RMS(dx, dy) [m] = (1.283e-04, 1.635e-05)\n",
      "RMS(dx, dy) [m] = (8.787e-06, 1.997e-06)\n",
      "Orbit correction converged\n",
      "** # of outliers found = 2 (out of 180)\n",
      "Lifetime = 6.390 (raw tau [hr] = 7.456, epsy [pm] = 16.73) (took 5.0 [s])\n",
      "Inj. Eff. = 7.14 (took 18.1 [s])\n",
      "Eval. func. finished.\n",
      "Eval. func. finished.\n"
     ]
    }
   ],
   "source": [
    "opt.step()"
   ]
  },
  {
   "cell_type": "code",
   "execution_count": 23,
   "metadata": {},
   "outputs": [
    {
     "name": "stdout",
     "output_type": "stream",
     "text": [
      "\n",
      "** Step #1 at 2023-11-26 21:30:41**\n",
      "\n"
     ]
    },
    {
     "name": "stderr",
     "output_type": "stream",
     "text": [
      "/nsls2/users/yhidaka/.conda/envs/apsopt311/lib/python3.11/site-packages/linear_operator/utils/cholesky.py:40: NumericalWarning: A not p.d., added jitter of 1.0e-08 to the diagonal\n",
      "  warnings.warn(\n"
     ]
    },
    {
     "name": "stdout",
     "output_type": "stream",
     "text": [
      "SL1: -2.654 + -0.037 -> -2.691\n",
      "SL2: 7.136 + -0.014 -> 7.122\n",
      "SL3: -5.892 + 0.110 -> -5.782\n",
      "SH1: 3.967 + 0.056 -> 4.023\n",
      "SH3: -1.171 + 0.017 -> -1.154\n",
      "SH4: -3.164 + -0.010 -> -3.174\n",
      "SM1A: -4.783 + -0.104 -> -4.888\n",
      "SM1B: -5.231 + 0.117 -> -5.114\n",
      "SM2B: 7.161 + -0.014 -> 7.147\n",
      "Sextupole adj. took 1.1.\n",
      "RMS(dx, dy) [m] = (2.229e-05, 9.095e-07)\n",
      "RMS(dx, dy) [m] = (2.104e-05, 2.761e-06)\n",
      "RMS(dx, dy) [m] = (1.089e-05, 6.511e-07)\n",
      "RMS(dx, dy) [m] = (5.159e-06, 1.199e-06)\n",
      "Orbit correction converged\n",
      "** # of outliers found = 7 (out of 180)\n",
      "Lifetime = 5.817 (raw tau [hr] = 7.088, epsy [pm] = 17.68) (took 5.4 [s])\n",
      "Inj. Eff. = 82.76 (took 19.2 [s])\n",
      "Eval. func. finished.\n",
      "Eval. func. finished.\n",
      "\n",
      "** Step #2 at 2023-11-26 21:31:22**\n",
      "\n"
     ]
    },
    {
     "name": "stderr",
     "output_type": "stream",
     "text": [
      "/nsls2/users/yhidaka/.conda/envs/apsopt311/lib/python3.11/site-packages/linear_operator/utils/cholesky.py:40: NumericalWarning: A not p.d., added jitter of 1.0e-08 to the diagonal\n",
      "  warnings.warn(\n"
     ]
    },
    {
     "name": "stdout",
     "output_type": "stream",
     "text": [
      "SL1: -2.654 + -0.017 -> -2.671\n",
      "SL2: 7.136 + 0.091 -> 7.227\n",
      "SL3: -5.892 + 0.100 -> -5.793\n",
      "SH1: 3.967 + 0.024 -> 3.991\n",
      "SH3: -1.171 + 0.016 -> -1.155\n",
      "SH4: -3.164 + -0.023 -> -3.187\n",
      "SM1A: -4.783 + 0.028 -> -4.756\n",
      "SM1B: -5.231 + -0.031 -> -5.262\n",
      "SM2B: 7.161 + 0.004 -> 7.164\n",
      "Sextupole adj. took 1.1.\n",
      "RMS(dx, dy) [m] = (2.247e-05, 9.195e-07)\n",
      "RMS(dx, dy) [m] = (7.207e-05, 5.659e-06)\n",
      "RMS(dx, dy) [m] = (1.469e-05, 1.375e-06)\n",
      "RMS(dx, dy) [m] = (3.170e-05, 2.024e-06)\n",
      "RMS(dx, dy) [m] = (5.837e-06, 1.088e-06)\n",
      "Orbit correction converged\n",
      "** # of outliers found = 2 (out of 180)\n",
      "Lifetime = 6.022 (raw tau [hr] = 7.359, epsy [pm] = 17.76) (took 5.1 [s])\n",
      "Inj. Eff. = 82.00 (took 19.9 [s])\n",
      "Eval. func. finished.\n",
      "Eval. func. finished.\n",
      "\n",
      "** Step #3 at 2023-11-26 21:32:07**\n",
      "\n"
     ]
    },
    {
     "name": "stderr",
     "output_type": "stream",
     "text": [
      "/nsls2/users/yhidaka/.conda/envs/apsopt311/lib/python3.11/site-packages/linear_operator/utils/cholesky.py:40: NumericalWarning: A not p.d., added jitter of 1.0e-08 to the diagonal\n",
      "  warnings.warn(\n"
     ]
    },
    {
     "name": "stdout",
     "output_type": "stream",
     "text": [
      "SL1: -2.654 + 0.068 -> -2.586\n",
      "SL2: 7.136 + 0.057 -> 7.193\n",
      "SL3: -5.892 + 0.043 -> -5.849\n",
      "SH1: 3.967 + 0.070 -> 4.036\n",
      "SH3: -1.171 + 0.027 -> -1.144\n",
      "SH4: -3.164 + -0.003 -> -3.167\n",
      "SM1A: -4.783 + -0.047 -> -4.830\n",
      "SM1B: -5.231 + 0.052 -> -5.179\n",
      "SM2B: 7.161 + -0.006 -> 7.155\n",
      "Sextupole adj. took 1.1.\n",
      "RMS(dx, dy) [m] = (3.665e-05, 2.132e-06)\n",
      "RMS(dx, dy) [m] = (3.042e-04, 1.139e-05)\n",
      "RMS(dx, dy) [m] = (9.507e-06, 7.453e-07)\n",
      "Orbit correction converged\n",
      "** # of outliers found = 4 (out of 180)\n",
      "Lifetime = 5.850 (raw tau [hr] = 7.148, epsy [pm] = 17.72) (took 5.6 [s])\n",
      "Inj. Eff. = 77.23 (took 19.9 [s])\n",
      "Eval. func. finished.\n",
      "Eval. func. finished.\n",
      "\n",
      "** Step #4 at 2023-11-26 21:32:46**\n",
      "\n"
     ]
    },
    {
     "name": "stderr",
     "output_type": "stream",
     "text": [
      "/nsls2/users/yhidaka/.conda/envs/apsopt311/lib/python3.11/site-packages/linear_operator/utils/cholesky.py:40: NumericalWarning: A not p.d., added jitter of 1.0e-08 to the diagonal\n",
      "  warnings.warn(\n"
     ]
    },
    {
     "name": "stdout",
     "output_type": "stream",
     "text": [
      "SL1: -2.654 + -0.048 -> -2.703\n",
      "SL2: 7.136 + 0.089 -> 7.225\n",
      "SL3: -5.892 + 0.032 -> -5.860\n",
      "SH1: 3.967 + 0.016 -> 3.983\n",
      "SH3: -1.171 + -0.003 -> -1.174\n",
      "SH4: -3.164 + -0.034 -> -3.198\n",
      "SM1A: -4.783 + -0.052 -> -4.836\n",
      "SM1B: -5.231 + 0.059 -> -5.172\n",
      "SM2B: 7.161 + -0.007 -> 7.154\n",
      "Sextupole adj. took 1.1.\n",
      "RMS(dx, dy) [m] = (9.224e-07, 6.649e-07)\n",
      "Orbit correction converged\n",
      "** # of outliers found = 10 (out of 180)\n",
      "Lifetime = 5.786 (raw tau [hr] = 7.074, epsy [pm] = 17.70) (took 6.6 [s])\n",
      "Inj. Eff. = 80.84 (took 18.5 [s])\n",
      "Eval. func. finished.\n",
      "Eval. func. finished.\n",
      "\n",
      "** Step #5 at 2023-11-26 21:33:20**\n",
      "\n"
     ]
    },
    {
     "name": "stderr",
     "output_type": "stream",
     "text": [
      "/nsls2/users/yhidaka/.conda/envs/apsopt311/lib/python3.11/site-packages/linear_operator/utils/cholesky.py:40: NumericalWarning: A not p.d., added jitter of 1.0e-08 to the diagonal\n",
      "  warnings.warn(\n"
     ]
    },
    {
     "name": "stdout",
     "output_type": "stream",
     "text": [
      "SL1: -2.654 + -0.052 -> -2.706\n",
      "SL2: 7.136 + -0.018 -> 7.117\n",
      "SL3: -5.892 + 0.056 -> -5.836\n",
      "SH1: 3.967 + 0.099 -> 4.066\n",
      "SH3: -1.171 + 0.005 -> -1.166\n",
      "SH4: -3.164 + 0.016 -> -3.148\n",
      "SM1A: -4.783 + 0.081 -> -4.703\n",
      "SM1B: -5.231 + -0.091 -> -5.322\n",
      "SM2B: 7.161 + 0.011 -> 7.171\n",
      "Sextupole adj. took 1.1.\n",
      "RMS(dx, dy) [m] = (5.319e-05, 1.749e-06)\n",
      "RMS(dx, dy) [m] = (1.729e-04, 1.051e-05)\n",
      "RMS(dx, dy) [m] = (1.124e-05, 1.129e-06)\n",
      "RMS(dx, dy) [m] = (2.422e-05, 1.689e-06)\n",
      "RMS(dx, dy) [m] = (5.353e-06, 1.790e-06)\n",
      "Orbit correction converged\n",
      "** # of outliers found = 3 (out of 180)\n",
      "Lifetime = 6.167 (raw tau [hr] = 7.552, epsy [pm] = 17.73) (took 6.1 [s])\n",
      "Inj. Eff. = 83.70 (took 19.3 [s])\n",
      "Eval. func. finished.\n",
      "Eval. func. finished.\n",
      "\n",
      "** Step #6 at 2023-11-26 21:34:05**\n",
      "\n"
     ]
    },
    {
     "name": "stderr",
     "output_type": "stream",
     "text": [
      "/nsls2/users/yhidaka/.conda/envs/apsopt311/lib/python3.11/site-packages/linear_operator/utils/cholesky.py:40: NumericalWarning: A not p.d., added jitter of 1.0e-08 to the diagonal\n",
      "  warnings.warn(\n"
     ]
    },
    {
     "name": "stdout",
     "output_type": "stream",
     "text": [
      "SL1: -2.654 + -0.061 -> -2.716\n",
      "SL2: 7.136 + 0.040 -> 7.176\n",
      "SL3: -5.892 + 0.048 -> -5.844\n",
      "SH1: 3.967 + 0.002 -> 3.969\n",
      "SH3: -1.171 + 0.022 -> -1.149\n",
      "SH4: -3.164 + 0.055 -> -3.109\n",
      "SM1A: -4.783 + 0.041 -> -4.742\n",
      "SM1B: -5.231 + -0.046 -> -5.277\n",
      "SM2B: 7.161 + 0.005 -> 7.166\n",
      "Sextupole adj. took 1.1.\n",
      "RMS(dx, dy) [m] = (9.348e-07, 8.338e-07)\n",
      "Orbit correction converged\n",
      "** # of outliers found = 9 (out of 180)\n",
      "Lifetime = 6.113 (raw tau [hr] = 7.499, epsy [pm] = 17.76) (took 6.6 [s])\n",
      "Inj. Eff. = 83.96 (took 20.0 [s])\n",
      "Eval. func. finished.\n",
      "Eval. func. finished.\n",
      "\n",
      "** Step #7 at 2023-11-26 21:34:40**\n",
      "\n"
     ]
    },
    {
     "name": "stderr",
     "output_type": "stream",
     "text": [
      "/nsls2/users/yhidaka/.conda/envs/apsopt311/lib/python3.11/site-packages/linear_operator/utils/cholesky.py:40: NumericalWarning: A not p.d., added jitter of 1.0e-08 to the diagonal\n",
      "  warnings.warn(\n"
     ]
    },
    {
     "name": "stdout",
     "output_type": "stream",
     "text": [
      "SL1: -2.654 + -0.005 -> -2.660\n",
      "SL2: 7.136 + 0.007 -> 7.142\n",
      "SL3: -5.892 + 0.064 -> -5.828\n",
      "SH1: 3.967 + 0.019 -> 3.985\n",
      "SH3: -1.171 + -0.014 -> -1.185\n",
      "SH4: -3.164 + 0.054 -> -3.111\n",
      "SM1A: -4.783 + 0.046 -> -4.737\n",
      "SM1B: -5.231 + -0.052 -> -5.283\n",
      "SM2B: 7.161 + 0.006 -> 7.167\n",
      "Sextupole adj. took 0.1.\n",
      "RMS(dx, dy) [m] = (6.737e-07, 4.663e-07)\n",
      "Orbit correction converged\n",
      "** # of outliers found = 6 (out of 180)\n",
      "Lifetime = 5.870 (raw tau [hr] = 7.214, epsy [pm] = 17.79) (took 6.0 [s])\n",
      "Inj. Eff. = 81.84 (took 18.7 [s])\n",
      "Eval. func. finished.\n",
      "Eval. func. finished.\n",
      "\n",
      "** Step #8 at 2023-11-26 21:35:11**\n",
      "\n"
     ]
    },
    {
     "name": "stderr",
     "output_type": "stream",
     "text": [
      "/nsls2/users/yhidaka/.conda/envs/apsopt311/lib/python3.11/site-packages/linear_operator/utils/cholesky.py:40: NumericalWarning: A not p.d., added jitter of 1.0e-08 to the diagonal\n",
      "  warnings.warn(\n"
     ]
    },
    {
     "name": "stdout",
     "output_type": "stream",
     "text": [
      "SL1: -2.654 + -0.051 -> -2.706\n",
      "SL2: 7.136 + -0.061 -> 7.075\n",
      "SL3: -5.892 + 0.052 -> -5.840\n",
      "SH1: 3.967 + 0.006 -> 3.973\n",
      "SH3: -1.171 + 0.029 -> -1.142\n",
      "SH4: -3.164 + 0.006 -> -3.159\n",
      "SM1A: -4.783 + 0.090 -> -4.694\n",
      "SM1B: -5.231 + -0.101 -> -5.332\n",
      "SM2B: 7.161 + 0.012 -> 7.173\n",
      "Sextupole adj. took 0.1.\n",
      "RMS(dx, dy) [m] = (2.435e-06, 1.452e-06)\n",
      "Orbit correction converged\n",
      "** # of outliers found = 3 (out of 180)\n",
      "Lifetime = 5.941 (raw tau [hr] = 7.310, epsy [pm] = 17.81) (took 6.1 [s])\n",
      "Inj. Eff. = 82.16 (took 18.7 [s])\n",
      "Eval. func. finished.\n",
      "Eval. func. finished.\n",
      "\n",
      "** Step #9 at 2023-11-26 21:35:43**\n",
      "\n"
     ]
    },
    {
     "name": "stderr",
     "output_type": "stream",
     "text": [
      "/nsls2/users/yhidaka/.conda/envs/apsopt311/lib/python3.11/site-packages/linear_operator/utils/cholesky.py:40: NumericalWarning: A not p.d., added jitter of 1.0e-08 to the diagonal\n",
      "  warnings.warn(\n"
     ]
    },
    {
     "name": "stdout",
     "output_type": "stream",
     "text": [
      "SL1: -2.654 + -0.090 -> -2.744\n",
      "SL2: 7.136 + 0.113 -> 7.248\n",
      "SL3: -5.892 + 0.102 -> -5.790\n",
      "SH1: 3.967 + 0.133 -> 4.099\n",
      "SH3: -1.171 + 0.020 -> -1.151\n",
      "SH4: -3.164 + 0.036 -> -3.128\n",
      "SM1A: -4.783 + 0.053 -> -4.731\n",
      "SM1B: -5.231 + -0.059 -> -5.290\n",
      "SM2B: 7.161 + 0.007 -> 7.168\n",
      "Sextupole adj. took 2.1.\n",
      "RMS(dx, dy) [m] = (5.906e-05, 2.376e-06)\n",
      "RMS(dx, dy) [m] = (1.591e-05, 2.445e-06)\n",
      "RMS(dx, dy) [m] = (8.506e-06, 1.501e-06)\n",
      "Orbit correction converged\n",
      "** # of outliers found = 4 (out of 180)\n",
      "Lifetime = 6.051 (raw tau [hr] = 7.450, epsy [pm] = 17.81) (took 5.1 [s])\n",
      "Inj. Eff. = 74.81 (took 18.4 [s])\n",
      "Eval. func. finished.\n",
      "Eval. func. finished.\n",
      "\n",
      "** Step #10 at 2023-11-26 21:36:22**\n",
      "\n"
     ]
    },
    {
     "name": "stderr",
     "output_type": "stream",
     "text": [
      "/nsls2/users/yhidaka/.conda/envs/apsopt311/lib/python3.11/site-packages/linear_operator/utils/cholesky.py:40: NumericalWarning: A not p.d., added jitter of 1.0e-08 to the diagonal\n",
      "  warnings.warn(\n"
     ]
    },
    {
     "name": "stdout",
     "output_type": "stream",
     "text": [
      "SL1: -2.654 + -0.038 -> -2.692\n",
      "SL2: 7.136 + -0.027 -> 7.108\n",
      "SL3: -5.892 + 0.035 -> -5.857\n",
      "SH1: 3.967 + 0.036 -> 4.002\n",
      "SH3: -1.171 + 0.010 -> -1.161\n",
      "SH4: -3.164 + 0.011 -> -3.153\n",
      "SM1A: -4.783 + 0.013 -> -4.771\n",
      "SM1B: -5.231 + -0.014 -> -5.245\n",
      "SM2B: 7.161 + 0.002 -> 7.162\n",
      "Sextupole adj. took 1.1.\n",
      "RMS(dx, dy) [m] = (5.823e-07, 9.806e-07)\n",
      "Orbit correction converged\n",
      "** # of outliers found = 7 (out of 180)\n",
      "Lifetime = 5.940 (raw tau [hr] = 7.319, epsy [pm] = 17.81) (took 6.6 [s])\n",
      "Inj. Eff. = 85.28 (took 18.7 [s])\n",
      "Eval. func. finished.\n",
      "Eval. func. finished.\n"
     ]
    }
   ],
   "source": [
    "for i in range(10):\n",
    "    print(f'\\n** Step #{i+1} at {datetime.now():%Y-%m-%d %H:%M:%S}**\\n')\n",
    "    opt.step()"
   ]
  },
  {
   "cell_type": "code",
   "execution_count": 24,
   "metadata": {},
   "outputs": [
    {
     "data": {
      "text/html": [
       "<div>\n",
       "<style scoped>\n",
       "    .dataframe tbody tr th:only-of-type {\n",
       "        vertical-align: middle;\n",
       "    }\n",
       "\n",
       "    .dataframe tbody tr th {\n",
       "        vertical-align: top;\n",
       "    }\n",
       "\n",
       "    .dataframe thead th {\n",
       "        text-align: right;\n",
       "    }\n",
       "</style>\n",
       "<table border=\"1\" class=\"dataframe\">\n",
       "  <thead>\n",
       "    <tr style=\"text-align: right;\">\n",
       "      <th></th>\n",
       "      <th>SVD0</th>\n",
       "      <th>SH1</th>\n",
       "      <th>SH3</th>\n",
       "      <th>SH4</th>\n",
       "      <th>SL1</th>\n",
       "      <th>SL2</th>\n",
       "      <th>SL3</th>\n",
       "      <th>result</th>\n",
       "      <th>exception</th>\n",
       "      <th>traceback</th>\n",
       "      <th>...</th>\n",
       "      <th>valid</th>\n",
       "      <th>_nux</th>\n",
       "      <th>_nuy</th>\n",
       "      <th>_eps_x_bxbOn</th>\n",
       "      <th>_eps_y_bxbOn</th>\n",
       "      <th>_eps_x_bxbOff</th>\n",
       "      <th>_eps_y_bxbOff</th>\n",
       "      <th>LT</th>\n",
       "      <th>_raw_LT</th>\n",
       "      <th>EFF</th>\n",
       "    </tr>\n",
       "  </thead>\n",
       "  <tbody>\n",
       "    <tr>\n",
       "      <th>22</th>\n",
       "      <td>-0.062296</td>\n",
       "      <td>0.002058</td>\n",
       "      <td>0.021632</td>\n",
       "      <td>0.054942</td>\n",
       "      <td>-0.061211</td>\n",
       "      <td>0.040408</td>\n",
       "      <td>0.047984</td>\n",
       "      <td>{'_nux': 0.21758909367793444, '_nuy': 0.256712...</td>\n",
       "      <td>None</td>\n",
       "      <td></td>\n",
       "      <td>...</td>\n",
       "      <td>True</td>\n",
       "      <td>0.217589</td>\n",
       "      <td>0.256712</td>\n",
       "      <td>2.185375e-09</td>\n",
       "      <td>1.835336e-11</td>\n",
       "      <td>2.235183e-09</td>\n",
       "      <td>1.775722e-11</td>\n",
       "      <td>6.113263</td>\n",
       "      <td>7.499236</td>\n",
       "      <td>83.959710</td>\n",
       "    </tr>\n",
       "    <tr>\n",
       "      <th>23</th>\n",
       "      <td>-0.070043</td>\n",
       "      <td>0.018622</td>\n",
       "      <td>-0.014069</td>\n",
       "      <td>0.053570</td>\n",
       "      <td>-0.005426</td>\n",
       "      <td>0.006601</td>\n",
       "      <td>0.064412</td>\n",
       "      <td>{'_nux': 0.21592081434218158, '_nuy': 0.260313...</td>\n",
       "      <td>None</td>\n",
       "      <td></td>\n",
       "      <td>...</td>\n",
       "      <td>True</td>\n",
       "      <td>0.215921</td>\n",
       "      <td>0.260313</td>\n",
       "      <td>2.221827e-09</td>\n",
       "      <td>1.823417e-11</td>\n",
       "      <td>2.235027e-09</td>\n",
       "      <td>1.779191e-11</td>\n",
       "      <td>5.869699</td>\n",
       "      <td>7.213586</td>\n",
       "      <td>81.840518</td>\n",
       "    </tr>\n",
       "    <tr>\n",
       "      <th>24</th>\n",
       "      <td>-0.135525</td>\n",
       "      <td>0.006223</td>\n",
       "      <td>0.029387</td>\n",
       "      <td>0.005503</td>\n",
       "      <td>-0.051359</td>\n",
       "      <td>-0.060673</td>\n",
       "      <td>0.051916</td>\n",
       "      <td>{'_nux': 0.21494425370268208, '_nuy': 0.257139...</td>\n",
       "      <td>None</td>\n",
       "      <td></td>\n",
       "      <td>...</td>\n",
       "      <td>True</td>\n",
       "      <td>0.214944</td>\n",
       "      <td>0.257140</td>\n",
       "      <td>2.218781e-09</td>\n",
       "      <td>1.801934e-11</td>\n",
       "      <td>2.234301e-09</td>\n",
       "      <td>1.780588e-11</td>\n",
       "      <td>5.941180</td>\n",
       "      <td>7.310062</td>\n",
       "      <td>82.157466</td>\n",
       "    </tr>\n",
       "    <tr>\n",
       "      <th>25</th>\n",
       "      <td>-0.079482</td>\n",
       "      <td>0.132610</td>\n",
       "      <td>0.019854</td>\n",
       "      <td>0.036151</td>\n",
       "      <td>-0.089984</td>\n",
       "      <td>0.112561</td>\n",
       "      <td>0.101978</td>\n",
       "      <td>{'_nux': 0.21620564956729885, '_nuy': 0.255613...</td>\n",
       "      <td>None</td>\n",
       "      <td></td>\n",
       "      <td>...</td>\n",
       "      <td>True</td>\n",
       "      <td>0.216206</td>\n",
       "      <td>0.255614</td>\n",
       "      <td>2.225417e-09</td>\n",
       "      <td>1.848565e-11</td>\n",
       "      <td>2.233920e-09</td>\n",
       "      <td>1.780792e-11</td>\n",
       "      <td>6.050906</td>\n",
       "      <td>7.450429</td>\n",
       "      <td>74.807793</td>\n",
       "    </tr>\n",
       "    <tr>\n",
       "      <th>26</th>\n",
       "      <td>-0.019251</td>\n",
       "      <td>0.035717</td>\n",
       "      <td>0.010038</td>\n",
       "      <td>0.011315</td>\n",
       "      <td>-0.038134</td>\n",
       "      <td>-0.027305</td>\n",
       "      <td>0.035456</td>\n",
       "      <td>{'_nux': 0.21099733959289255, '_nuy': 0.259275...</td>\n",
       "      <td>None</td>\n",
       "      <td></td>\n",
       "      <td>...</td>\n",
       "      <td>True</td>\n",
       "      <td>0.210997</td>\n",
       "      <td>0.259276</td>\n",
       "      <td>2.126313e-09</td>\n",
       "      <td>1.807637e-11</td>\n",
       "      <td>2.231799e-09</td>\n",
       "      <td>1.780588e-11</td>\n",
       "      <td>5.939542</td>\n",
       "      <td>7.319167</td>\n",
       "      <td>85.280974</td>\n",
       "    </tr>\n",
       "  </tbody>\n",
       "</table>\n",
       "<p>5 rows × 22 columns</p>\n",
       "</div>"
      ],
      "text/plain": [
       "        SVD0       SH1       SH3       SH4       SL1       SL2       SL3  \\\n",
       "22 -0.062296  0.002058  0.021632  0.054942 -0.061211  0.040408  0.047984   \n",
       "23 -0.070043  0.018622 -0.014069  0.053570 -0.005426  0.006601  0.064412   \n",
       "24 -0.135525  0.006223  0.029387  0.005503 -0.051359 -0.060673  0.051916   \n",
       "25 -0.079482  0.132610  0.019854  0.036151 -0.089984  0.112561  0.101978   \n",
       "26 -0.019251  0.035717  0.010038  0.011315 -0.038134 -0.027305  0.035456   \n",
       "\n",
       "                                               result exception traceback  \\\n",
       "22  {'_nux': 0.21758909367793444, '_nuy': 0.256712...      None             \n",
       "23  {'_nux': 0.21592081434218158, '_nuy': 0.260313...      None             \n",
       "24  {'_nux': 0.21494425370268208, '_nuy': 0.257139...      None             \n",
       "25  {'_nux': 0.21620564956729885, '_nuy': 0.255613...      None             \n",
       "26  {'_nux': 0.21099733959289255, '_nuy': 0.259275...      None             \n",
       "\n",
       "    ...  valid      _nux      _nuy  _eps_x_bxbOn  _eps_y_bxbOn  _eps_x_bxbOff  \\\n",
       "22  ...   True  0.217589  0.256712  2.185375e-09  1.835336e-11   2.235183e-09   \n",
       "23  ...   True  0.215921  0.260313  2.221827e-09  1.823417e-11   2.235027e-09   \n",
       "24  ...   True  0.214944  0.257140  2.218781e-09  1.801934e-11   2.234301e-09   \n",
       "25  ...   True  0.216206  0.255614  2.225417e-09  1.848565e-11   2.233920e-09   \n",
       "26  ...   True  0.210997  0.259276  2.126313e-09  1.807637e-11   2.231799e-09   \n",
       "\n",
       "    _eps_y_bxbOff        LT   _raw_LT        EFF  \n",
       "22   1.775722e-11  6.113263  7.499236  83.959710  \n",
       "23   1.779191e-11  5.869699  7.213586  81.840518  \n",
       "24   1.780588e-11  5.941180  7.310062  82.157466  \n",
       "25   1.780792e-11  6.050906  7.450429  74.807793  \n",
       "26   1.780588e-11  5.939542  7.319167  85.280974  \n",
       "\n",
       "[5 rows x 22 columns]"
      ]
     },
     "execution_count": 24,
     "metadata": {},
     "output_type": "execute_result"
    }
   ],
   "source": [
    "opt.data.tail()"
   ]
  },
  {
   "cell_type": "code",
   "execution_count": 25,
   "metadata": {},
   "outputs": [
    {
     "data": {
      "text/plain": [
       "Text(0, 0.5, 'Hypervolume')"
      ]
     },
     "execution_count": 25,
     "metadata": {},
     "output_type": "execute_result"
    },
    {
     "data": {
      "image/png": "[encoded data removed]",
      "text/plain": [
       "<Figure size 1200x600 with 3 Axes>"
      ]
     },
     "metadata": {},
     "output_type": "display_data"
    }
   ],
   "source": [
    "import matplotlib.pyplot as plt\n",
    "\n",
    "hvs = []\n",
    "for i in range(1,len(opt.data)):\n",
    "    hv = opt.generator.calculate_hypervolume_at(i)\n",
    "    hvs.append(hv)\n",
    "\n",
    "fig,ax = plt.subplots(1,2,squeeze=False,figsize=(12,6))\n",
    "df = opt.data\n",
    "ol = ['EFF', 'LT']\n",
    "l = ax[0,0].scatter(df.loc[:,ol[0]], df.loc[:,ol[1]],10,marker='o',c=range(len(df)),vmax=len(df))\n",
    "ax[0,0].scatter(df.loc[:1,ol[0]], df.loc[:1,ol[1]], 20,marker='o',c='red',label='initial point')\n",
    "ax[0,0].scatter(gen.reference_point[ol[0]], gen.reference_point[ol[1]],40,marker='*',c='black',label='reference point')\n",
    "ax[0,0].set_xlabel(ol[0])\n",
    "ax[0,0].set_ylabel(ol[1])\n",
    "fig.colorbar(l)\n",
    "ax[0,0].legend()\n",
    "\n",
    "ax[0,1].plot(hvs,marker='o')\n",
    "ax[0,1].set_xlabel('Step #')\n",
    "ax[0,1].set_ylabel('Hypervolume')"
   ]
  },
  {
   "cell_type": "code",
   "execution_count": 26,
   "metadata": {},
   "outputs": [
    {
     "data": {
      "text/plain": [
       "<matplotlib.legend.Legend at 0x7f15da5afd50>"
      ]
     },
     "execution_count": 26,
     "metadata": {},
     "output_type": "execute_result"
    },
    {
     "data": {
      "image/png": "[encoded data removed]",
      "text/plain": [
       "<Figure size 800x600 with 2 Axes>"
      ]
     },
     "metadata": {},
     "output_type": "display_data"
    }
   ],
   "source": [
    "fig,ax = plt.subplots(1,2,squeeze=False,figsize=(8,6))\n",
    "df = opt.data\n",
    "\n",
    "ax[0,0].plot(df.loc[:,'_nux'], marker='o', label='nux')\n",
    "ax[0,0].plot(df.loc[:,'_nuy'], marker='o', label='nuy')\n",
    "ax[0,1].plot(df.loc[:,'_eps_x_bxbOn'], marker='o', label='eps_x_bxbOn', color='red')\n",
    "ax[0,1].plot(df.loc[:,'_eps_y_bxbOn']*1e2, marker='o', label='eps_y_bxbOn', color='green')\n",
    "ax[0,0].set_xlabel('Step #')\n",
    "ax[0,0].set_ylabel('Tune')\n",
    "ax[0,0].legend()\n",
    "ax[0,1].legend()"
   ]
  },
  {
   "cell_type": "code",
   "execution_count": 27,
   "metadata": {},
   "outputs": [
    {
     "data": {
      "text/plain": [
       "'{\\n  \"optimizer\": {\\n    \"tag\": \"005e3ea6c5\",\\n    \"store_history\": true,\\n    \"dump_every_step\": true,\\n    \"history_directory\": null,\\n    \"execution_mode\": \"sync\"\\n  },\\n  \"generator\": {\\n    \"name\": \"aps_mobo\",\\n    \"n_monte_carlo_samples\": 128,\\n    \"turbo_controller\": null,\\n    \"use_cuda\": false,\\n    \"gp_constructor\": {\\n      \"name\": \"mobo_model\",\\n      \"use_low_noise_prior\": false,\\n      \"covar_modules\": {},\\n      \"mean_modules\": {},\\n      \"trainable_mean_keys\": [],\\n      \"use_high_noise_prior\": false\\n    },\\n    \"numerical_optimizer\": {\\n      \"name\": \"APSLBFGS\",\\n      \"n_raw_samples\": 128,\\n      \"n_restarts\": 10,\\n      \"max_iter\": 2000,\\n      \"sequential\": true\\n    },\\n    \"max_travel_distances\": null,\\n    \"fixed_features\": null,\\n    \"computation_time\": null,\\n    \"n_candidates\": 1,\\n    \"reference_point\": {\\n      \"LT\": 4.0,\\n      \"EFF\": 50.0\\n    },\\n    \"prune_inferior_points_kwargs\": null\\n  },\\n  \"evaluator\": {\\n    \"name\": \"func\",\\n    \"on_error\": \"ignore\",\\n    \"max_workers\": 1,\\n    \"script\": \"__main__.knobs_to_family\",\\n    \"post_script\": null,\\n    \"script_kwargs\": {},\\n    \"eval_cnt\": 26,\\n    \"TRACE\": true\\n  },\\n  \"gvocs\": {\\n    \"variables\": {\\n      \"SVD0\": [\\n        -0.6,\\n        0.6\\n      ],\\n      \"SH1\": [\\n        -0.39665824200000005,\\n        0.39665824200000005\\n      ],\\n      \"SH3\": [\\n        -0.1171021682,\\n        0.1171021682\\n      ],\\n      \"SH4\": [\\n        -0.31641801420000004,\\n        0.31641801420000004\\n      ],\\n      \"SL1\": [\\n        -0.2654321210000001,\\n        0.2654321210000001\\n      ],\\n      \"SL2\": [\\n        -0.7135584290000001,\\n        0.7135584290000001\\n      ],\\n      \"SL3\": [\\n        -0.5892172122000001,\\n        0.5892172122000001\\n      ]\\n    },\\n    \"variables_active\": {\\n      \"SVD0\": [\\n        -0.6,\\n        0.6\\n      ],\\n      \"SH1\": [\\n        -0.39665824200000005,\\n        0.39665824200000005\\n      ],\\n      \"SH3\": [\\n        -0.1171021682,\\n        0.1171021682\\n      ],\\n      \"SH4\": [\\n        -0.31641801420000004,\\n        0.31641801420000004\\n      ],\\n      \"SL1\": [\\n        -0.2654321210000001,\\n        0.2654321210000001\\n      ],\\n      \"SL2\": [\\n        -0.7135584290000001,\\n        0.7135584290000001\\n      ],\\n      \"SL3\": [\\n        -0.5892172122000001,\\n        0.5892172122000001\\n      ]\\n    },\\n    \"auxiliary\": {},\\n    \"readbacks\": {},\\n    \"constraints\": {},\\n    \"constraints_active\": {},\\n    \"objectives\": {\\n      \"LT\": \"MAXIMIZE\",\\n      \"EFF\": \"MAXIMIZE\"\\n    },\\n    \"objectives_active\": {\\n      \"LT\": \"MAXIMIZE\",\\n      \"EFF\": \"MAXIMIZE\"\\n    },\\n    \"observables\": [],\\n    \"atol\": {\\n      \"SH1\": 0.05,\\n      \"SH3\": 0.05,\\n      \"SH4\": 0.05,\\n      \"SL1\": 0.05,\\n      \"SL2\": 0.05,\\n      \"SL3\": 0.05,\\n      \"SVD0\": 0.05\\n    },\\n    \"initial_change\": {},\\n    \"constants\": {},\\n    \"linked_variables\": {},\\n    \"knobs\": {},\\n    \"knobs_initial_values\": {}\\n  },\\n  \"data\": {\\n    \"input_data\": {\\n      \"1\": {\\n        \"SVD0\": 0.0,\\n        \"SH1\": -0.2,\\n        \"SH3\": -0.08,\\n        \"SH4\": 0.0,\\n        \"SL1\": 0.0,\\n        \"SL2\": -0.5,\\n        \"SL3\": -0.5\\n      },\\n      \"2\": {\\n        \"SVD0\": 0.0,\\n        \"SH1\": -0.2,\\n        \"SH3\": -0.08,\\n        \"SH4\": 0.0,\\n        \"SL1\": 0.0,\\n        \"SL2\": -0.5,\\n        \"SL3\": -0.5\\n      },\\n      \"3\": {\\n        \"SH1\": -0.19621318210687078,\\n        \"SH3\": -0.08138637008900287,\\n        \"SH4\": -0.003578509900152559,\\n        \"SL1\": 0.009993814473711964,\\n        \"SL2\": -0.5237521461758167,\\n        \"SL3\": -0.5016791376922032,\\n        \"SVD0\": 0.015513623983655973\\n      },\\n      \"4\": {\\n        \"SH1\": 0.04331951850216326,\\n        \"SH3\": 0.03979174429147517,\\n        \"SH4\": 0.2179057438120493,\\n        \"SL1\": -0.046079022967489974,\\n        \"SL2\": -0.622752324740618,\\n        \"SL3\": -0.3481175980157085,\\n        \"SVD0\": 0.31911014132201665\\n      },\\n      \"5\": {\\n        \"SH1\": -0.10568557264936379,\\n        \"SH3\": 0.08727409056220858,\\n        \"SH4\": -0.11550123316482555,\\n        \"SL1\": -0.12419847157369329,\\n        \"SL2\": -0.4389371227840805,\\n        \"SL3\": 0.22172189458088798,\\n        \"SVD0\": -0.5165764085948467\\n      },\\n      \"6\": {\\n        \"SH1\": 0.15365238447549084,\\n        \"SH3\": 0.09829722390670984,\\n        \"SH4\": -0.11340750095529398,\\n        \"SL1\": -0.09481416425092556,\\n        \"SL2\": -0.06457998241131968,\\n        \"SL3\": 0.3382862884151081,\\n        \"SVD0\": 0.3565133728086948\\n      },\\n      \"7\": {\\n        \"SH1\": 0.1887538128956527,\\n        \"SH3\": 0.11070225211420559,\\n        \"SH4\": -0.15852942129161662,\\n        \"SL1\": -0.10273639378385165,\\n        \"SL2\": 0.023508537933211466,\\n        \"SL3\": 0.45418030048255204,\\n        \"SVD0\": 0.41950468338555463\\n      },\\n      \"8\": {\\n        \"SH1\": 0.14057568020934372,\\n        \"SH3\": 0.10749670547873096,\\n        \"SH4\": -0.08404283036235631,\\n        \"SL1\": -0.09609314516592019,\\n        \"SL2\": 0.06820469303311472,\\n        \"SL3\": 0.24138284321723893,\\n        \"SVD0\": 0.2800595541619922\\n      },\\n      \"9\": {\\n        \"SH1\": 0.14461780271214178,\\n        \"SH3\": 0.0981305706148073,\\n        \"SH4\": -0.08605070037883325,\\n        \"SL1\": -0.17335644579524487,\\n        \"SL2\": 0.04496226957132587,\\n        \"SL3\": 0.2502650024614953,\\n        \"SVD0\": 0.22099223972627202\\n      },\\n      \"10\": {\\n        \"SH1\": 0.16509573062250404,\\n        \"SH3\": 0.0793276733788808,\\n        \"SH4\": -0.08040915721059422,\\n        \"SL1\": -0.07184162989042123,\\n        \"SL2\": 0.17542660717888114,\\n        \"SL3\": 0.24273667977622213,\\n        \"SVD0\": 0.28088337128491986\\n      },\\n      \"11\": {\\n        \"SH1\": 0.24133407214124628,\\n        \"SH3\": 0.10419008502164018,\\n        \"SH4\": -0.08096845466708824,\\n        \"SL1\": -0.0820587297451062,\\n        \"SL2\": 0.03839428829665299,\\n        \"SL3\": 0.2022303520721032,\\n        \"SVD0\": 0.2605324173219848\\n      },\\n      \"12\": {\\n        \"SH1\": 0.24195069738151462,\\n        \"SH3\": 0.09863169973707626,\\n        \"SH4\": -0.09959097937088811,\\n        \"SL1\": -0.12594421285202675,\\n        \"SL2\": 0.09469317622034466,\\n        \"SL3\": 0.12453514841671687,\\n        \"SVD0\": 0.39537544766581834\\n      },\\n      \"13\": {\\n        \"SH1\": 0.25192755548138485,\\n        \"SH3\": 0.10541598895346127,\\n        \"SH4\": -0.016669457609489347,\\n        \"SL1\": -0.10176802398409887,\\n        \"SL2\": 0.07933108205495953,\\n        \"SL3\": 0.26231963722679347,\\n        \"SVD0\": 0.32998705939693485\\n      },\\n      \"14\": {\\n        \"SH1\": 0.22048116497292186,\\n        \"SH3\": 0.10102839870815597,\\n        \"SH4\": -0.11463061109922525,\\n        \"SL1\": -0.059185562411039644,\\n        \"SL2\": 0.0726247552121966,\\n        \"SL3\": 0.14287602970429264,\\n        \"SVD0\": 0.2061475131997871\\n      },\\n      \"15\": {\\n        \"SH1\": 0.264219873250981,\\n        \"SH3\": 0.10768882898195271,\\n        \"SH4\": -0.09920077935102369,\\n        \"SL1\": -0.10364453703727579,\\n        \"SL2\": 0.13888256627511394,\\n        \"SL3\": 0.28563816172206574,\\n        \"SVD0\": 0.27009146646797394\\n      },\\n      \"16\": {\\n        \"SVD0\": 0.0,\\n        \"SH1\": 0.0,\\n        \"SH3\": 0.0,\\n        \"SH4\": 0.0,\\n        \"SL1\": 0.0,\\n        \"SL2\": 0.0,\\n        \"SL3\": 0.0\\n      },\\n      \"17\": {\\n        \"SH1\": 0.05599660961221774,\\n        \"SH3\": 0.017467070029840624,\\n        \"SH4\": -0.010302245872479104,\\n        \"SL1\": -0.03713371619374021,\\n        \"SL2\": -0.013864684892944451,\\n        \"SL3\": 0.10995134983563112,\\n        \"SVD0\": 0.15704866492876624\\n      },\\n      \"18\": {\\n        \"SH1\": 0.024264780869082365,\\n        \"SH3\": 0.01619556910534157,\\n        \"SH4\": -0.023278173412841854,\\n        \"SL1\": -0.017107292577308374,\\n        \"SL2\": 0.09102571474801122,\\n        \"SL3\": 0.09951520500691026,\\n        \"SVD0\": -0.04207760969766963\\n      },\\n      \"19\": {\\n        \"SH1\": 0.06952350860858167,\\n        \"SH3\": 0.027323510441593105,\\n        \"SH4\": -0.003069616720309651,\\n        \"SL1\": 0.06848829150938815,\\n        \"SL2\": 0.057106529259916286,\\n        \"SL3\": 0.04317875562799363,\\n        \"SVD0\": 0.07008031489901108\\n      },\\n      \"20\": {\\n        \"SH1\": 0.016325241113403267,\\n        \"SH3\": -0.003403062844912911,\\n        \"SH4\": -0.03418675826543768,\\n        \"SL1\": -0.048398415367056635,\\n        \"SL2\": 0.0891598579321696,\\n        \"SL3\": 0.032377101890436334,\\n        \"SVD0\": 0.07903360088965915\\n      },\\n      \"21\": {\\n        \"SH1\": 0.09936906828423157,\\n        \"SH3\": 0.005372094010379965,\\n        \"SH4\": 0.016385499356149705,\\n        \"SL1\": -0.051580740269168555,\\n        \"SL2\": -0.01837049518484958,\\n        \"SL3\": 0.05649236810442489,\\n        \"SVD0\": -0.12193103536752072\\n      },\\n      \"22\": {\\n        \"SH1\": 0.002057905495864858,\\n        \"SH3\": 0.021631503886058872,\\n        \"SH4\": 0.05494151638512221,\\n        \"SL1\": -0.06121144038438957,\\n        \"SL2\": 0.040408109489387015,\\n        \"SL3\": 0.047983963372375434,\\n        \"SVD0\": -0.062295816633541716\\n      },\\n      \"23\": {\\n        \"SH1\": 0.018621658757804894,\\n        \"SH3\": -0.014069229550499102,\\n        \"SH4\": 0.05357039246302229,\\n        \"SL1\": -0.00542611314931257,\\n        \"SL2\": 0.0066010797015111965,\\n        \"SL3\": 0.06441202762012681,\\n        \"SVD0\": -0.07004303923227401\\n      },\\n      \"24\": {\\n        \"SH1\": 0.006222768958947316,\\n        \"SH3\": 0.02938714851748616,\\n        \"SH4\": 0.005503019373768798,\\n        \"SL1\": -0.05135872169473525,\\n        \"SL2\": -0.06067252969649865,\\n        \"SL3\": 0.05191609441218711,\\n        \"SVD0\": -0.13552534999632224\\n      },\\n      \"25\": {\\n        \"SH1\": 0.13261009566811346,\\n        \"SH3\": 0.01985440355375332,\\n        \"SH4\": 0.03615065056429979,\\n        \"SL1\": -0.08998371532680109,\\n        \"SL2\": 0.11256082316569041,\\n        \"SL3\": 0.1019776442081879,\\n        \"SVD0\": -0.07948187902023929\\n      },\\n      \"26\": {\\n        \"SH1\": 0.03571675137750286,\\n        \"SH3\": 0.010038339164458308,\\n        \"SH4\": 0.011314661207638084,\\n        \"SL1\": -0.03813410157941186,\\n        \"SL2\": -0.02730467726720558,\\n        \"SL3\": 0.03545566598712587,\\n        \"SVD0\": -0.019250807552552495\\n      }\\n    },\\n    \"last_input_data\": {\\n      \"26\": {\\n        \"SH1\": 0.03571675137750286,\\n        \"SH3\": 0.010038339164458308,\\n        \"SH4\": 0.011314661207638084,\\n        \"SL1\": -0.03813410157941186,\\n        \"SL2\": -0.02730467726720558,\\n        \"SL3\": 0.03545566598712587,\\n        \"SVD0\": -0.019250807552552495\\n      }\\n    },\\n    \"output_data\": {\\n      \"1\": {\\n        \"result\": {\\n          \"_nux\": 0.21099733959289255,\\n          \"_nuy\": 0.2686447194433418,\\n          \"_eps_x_bxbOn\": 2.2646833992616114e-09,\\n          \"_eps_y_bxbOn\": 1.7088615127757397e-11,\\n          \"_eps_x_bxbOff\": 2.2637592184941424e-09,\\n          \"_eps_y_bxbOff\": 1.6786682581703985e-11,\\n          \"LT\": 3.5751291109464045,\\n          \"_raw_LT\": 4.166116557474358,\\n          \"EFF\": 1.6473405134899095\\n        },\\n        \"exception\": null,\\n        \"traceback\": \"\",\\n        \"wall_time\": 40.80970959831029,\\n        \"cpu_time\": 9.455931061999998,\\n        \"valid\": true,\\n        \"_nux\": 0.21099733959289255,\\n        \"_nuy\": 0.2686447194433418,\\n        \"_eps_x_bxbOn\": 2.2646833992616114e-09,\\n        \"_eps_y_bxbOn\": 1.7088615127757397e-11,\\n        \"_eps_x_bxbOff\": 2.2637592184941424e-09,\\n        \"_eps_y_bxbOff\": 1.6786682581703985e-11,\\n        \"LT\": 3.5751291109464045,\\n        \"_raw_LT\": 4.166116557474358,\\n        \"EFF\": 1.6473405134899095\\n      },\\n      \"2\": {\\n        \"result\": {\\n          \"_nux\": 0.21099733959289255,\\n          \"_nuy\": 0.26837006554243,\\n          \"_eps_x_bxbOn\": 2.266346928586959e-09,\\n          \"_eps_y_bxbOn\": 1.6801308993275237e-11,\\n          \"_eps_x_bxbOff\": 2.26287605449596e-09,\\n          \"_eps_y_bxbOff\": 1.669104131303681e-11,\\n          \"LT\": 3.6724828714380946,\\n          \"_raw_LT\": 4.274898907280566,\\n          \"EFF\": 1.8061046608316798\\n        },\\n        \"exception\": null,\\n        \"traceback\": \"\",\\n        \"wall_time\": 24.542477189097553,\\n        \"cpu_time\": 10.231516478,\\n        \"valid\": true,\\n        \"_nux\": 0.21099733959289255,\\n        \"_nuy\": 0.26837006554243,\\n        \"_eps_x_bxbOn\": 2.266346928586959e-09,\\n        \"_eps_y_bxbOn\": 1.6801308993275237e-11,\\n        \"_eps_x_bxbOff\": 2.26287605449596e-09,\\n        \"_eps_y_bxbOff\": 1.669104131303681e-11,\\n        \"LT\": 3.6724828714380946,\\n        \"_raw_LT\": 4.274898907280566,\\n        \"EFF\": 1.8061046608316798\\n      },\\n      \"3\": {\\n        \"result\": {\\n          \"_nux\": 0.21099733959289255,\\n          \"_nuy\": 0.268309027983163,\\n          \"_eps_x_bxbOn\": 2.252518244549261e-09,\\n          \"_eps_y_bxbOn\": 1.682468997626249e-11,\\n          \"_eps_x_bxbOff\": 2.2540530953994368e-09,\\n          \"_eps_y_bxbOff\": 1.668707589165223e-11,\\n          \"LT\": 3.678471596839955,\\n          \"_raw_LT\": 4.283440808718556,\\n          \"EFF\": 1.9252228983670923\\n        },\\n        \"exception\": null,\\n        \"traceback\": \"\",\\n        \"wall_time\": 24.109552304726094,\\n        \"cpu_time\": 10.015943119,\\n        \"valid\": true,\\n        \"_nux\": 0.21099733959289255,\\n        \"_nuy\": 0.268309027983163,\\n        \"_eps_x_bxbOn\": 2.252518244549261e-09,\\n        \"_eps_y_bxbOn\": 1.682468997626249e-11,\\n        \"_eps_x_bxbOff\": 2.2540530953994368e-09,\\n        \"_eps_y_bxbOff\": 1.668707589165223e-11,\\n        \"LT\": 3.678471596839955,\\n        \"_raw_LT\": 4.283440808718556,\\n        \"EFF\": 1.9252228983670923\\n      },\\n      \"4\": {\\n        \"result\": {\\n          \"_nux\": 0.2101428473537983,\\n          \"_nuy\": 0.26342623486285877,\\n          \"_eps_x_bxbOn\": 2.2517988015886046e-09,\\n          \"_eps_y_bxbOn\": 1.6923272890436335e-11,\\n          \"_eps_x_bxbOff\": 2.2515536507921016e-09,\\n          \"_eps_y_bxbOff\": 1.6683110470267652e-11,\\n          \"LT\": 4.9454331778341265,\\n          \"_raw_LT\": 5.759526141706912,\\n          \"EFF\": 0.192487406349281\\n        },\\n        \"exception\": null,\\n        \"traceback\": \"\",\\n        \"wall_time\": 44.248772585298866,\\n        \"cpu_time\": 16.200750417000002,\\n        \"valid\": true,\\n        \"_nux\": 0.2101428473537983,\\n        \"_nuy\": 0.26342623486285877,\\n        \"_eps_x_bxbOn\": 2.2517988015886046e-09,\\n        \"_eps_y_bxbOn\": 1.6923272890436335e-11,\\n        \"_eps_x_bxbOff\": 2.2515536507921016e-09,\\n        \"_eps_y_bxbOff\": 1.6683110470267652e-11,\\n        \"LT\": 4.9454331778341265,\\n        \"_raw_LT\": 5.759526141706912,\\n        \"EFF\": 0.192487406349281\\n      },\\n      \"5\": {\\n        \"result\": {\\n          \"_nux\": 0.2149849521269889,\\n          \"_nuy\": 0.25393532771614513,\\n          \"_eps_x_bxbOn\": 2.2061690101613023e-09,\\n          \"_eps_y_bxbOn\": 1.891784715564544e-11,\\n          \"_eps_x_bxbOff\": 2.2499581103752993e-09,\\n          \"_eps_y_bxbOff\": 1.6730979635106854e-11,\\n          \"LT\": 6.390398852179438,\\n          \"_raw_LT\": 7.456208703004231,\\n          \"EFF\": 7.144299902150533\\n        },\\n        \"exception\": null,\\n        \"traceback\": \"\",\\n        \"wall_time\": 46.45747805619612,\\n        \"cpu_time\": 17.388615214000012,\\n        \"valid\": true,\\n        \"_nux\": 0.2149849521269889,\\n        \"_nuy\": 0.25393532771614513,\\n        \"_eps_x_bxbOn\": 2.2061690101613023e-09,\\n        \"_eps_y_bxbOn\": 1.891784715564544e-11,\\n        \"_eps_x_bxbOff\": 2.2499581103752993e-09,\\n        \"_eps_y_bxbOff\": 1.6730979635106854e-11,\\n        \"LT\": 6.390398852179438,\\n        \"_raw_LT\": 7.456208703004231,\\n        \"EFF\": 7.144299902150533\\n      },\\n      \"6\": {\\n        \"result\": {\\n          \"_nux\": 0.21612426615494285,\\n          \"_nuy\": 0.2579331165358504,\\n          \"_eps_x_bxbOn\": 2.2496649771663635e-09,\\n          \"_eps_y_bxbOn\": 1.7820411344274126e-11,\\n          \"_eps_x_bxbOff\": 2.2489656235994337e-09,\\n          \"_eps_y_bxbOff\": 1.680092124195409e-11,\\n          \"LT\": 6.0047562506613374,\\n          \"_raw_LT\": 7.047494953267479,\\n          \"EFF\": 58.522162341708814\\n        },\\n        \"exception\": null,\\n        \"traceback\": \"\",\\n        \"wall_time\": 58.16091293981299,\\n        \"cpu_time\": 17.75072599400002,\\n        \"valid\": true,\\n        \"_nux\": 0.21612426615494285,\\n        \"_nuy\": 0.2579331165358504,\\n        \"_eps_x_bxbOn\": 2.2496649771663635e-09,\\n        \"_eps_y_bxbOn\": 1.7820411344274126e-11,\\n        \"_eps_x_bxbOff\": 2.2489656235994337e-09,\\n        \"_eps_y_bxbOff\": 1.680092124195409e-11,\\n        \"LT\": 6.0047562506613374,\\n        \"_raw_LT\": 7.047494953267479,\\n        \"EFF\": 58.522162341708814\\n      },\\n      \"7\": {\\n        \"result\": {\\n          \"_nux\": 0.22033567299582507,\\n          \"_nuy\": 0.24848796992349884,\\n          \"_eps_x_bxbOn\": 2.251720910876264e-09,\\n          \"_eps_y_bxbOn\": 1.8346271485813532e-11,\\n          \"_eps_x_bxbOff\": 2.247640748896334e-09,\\n          \"_eps_y_bxbOff\": 1.6850182509322455e-11,\\n          \"LT\": 5.851715159582192,\\n          \"_raw_LT\": 6.890270705625528,\\n          \"EFF\": 47.93293018382667\\n        },\\n        \"exception\": null,\\n        \"traceback\": \"\",\\n        \"wall_time\": 41.01125887827948,\\n        \"cpu_time\": 17.394408118,\\n        \"valid\": true,\\n        \"_nux\": 0.22033567299582507,\\n        \"_nuy\": 0.24848796992349884,\\n        \"_eps_x_bxbOn\": 2.251720910876264e-09,\\n        \"_eps_y_bxbOn\": 1.8346271485813532e-11,\\n        \"_eps_x_bxbOff\": 2.247640748896334e-09,\\n        \"_eps_y_bxbOff\": 1.6850182509322455e-11,\\n        \"LT\": 5.851715159582192,\\n        \"_raw_LT\": 6.890270705625528,\\n        \"EFF\": 47.93293018382667\\n      },\\n      \"8\": {\\n        \"result\": {\\n          \"_nux\": 0.21636840295575333,\\n          \"_nuy\": 0.25723120979726266,\\n          \"_eps_x_bxbOn\": 2.2239190489603572e-09,\\n          \"_eps_y_bxbOn\": 1.8027295265079246e-11,\\n          \"_eps_x_bxbOff\": 2.24476144619131e-09,\\n          \"_eps_y_bxbOff\": 1.6995716500599213e-11,\\n          \"LT\": 5.874191065314774,\\n          \"_raw_LT\": 6.957061778695244,\\n          \"EFF\": 65.74670574380744\\n        },\\n        \"exception\": null,\\n        \"traceback\": \"\",\\n        \"wall_time\": 44.43771055387333,\\n        \"cpu_time\": 16.937694196999985,\\n        \"valid\": true,\\n        \"_nux\": 0.21636840295575333,\\n        \"_nuy\": 0.25723120979726266,\\n        \"_eps_x_bxbOn\": 2.2239190489603572e-09,\\n        \"_eps_y_bxbOn\": 1.8027295265079246e-11,\\n        \"_eps_x_bxbOff\": 2.24476144619131e-09,\\n        \"_eps_y_bxbOff\": 1.6995716500599213e-11,\\n        \"LT\": 5.874191065314774,\\n        \"_raw_LT\": 6.957061778695244,\\n        \"EFF\": 65.74670574380744\\n      },\\n      \"9\": {\\n        \"result\": {\\n          \"_nux\": 0.2190234208961468,\\n          \"_nuy\": 0.2573227610975666,\\n          \"_eps_x_bxbOn\": 2.233808491941027e-09,\\n          \"_eps_y_bxbOn\": 1.7989698393799407e-11,\\n          \"_eps_x_bxbOff\": 2.2412757667060695e-09,\\n          \"_eps_y_bxbOff\": 1.7445532456533e-11,\\n          \"LT\": 5.878916144158524,\\n          \"_raw_LT\": 7.061895059074027,\\n          \"EFF\": 61.085290460080586\\n        },\\n        \"exception\": null,\\n        \"traceback\": \"\",\\n        \"wall_time\": 28.22180452896282,\\n        \"cpu_time\": 17.036403885000027,\\n        \"valid\": true,\\n        \"_nux\": 0.2190234208961468,\\n        \"_nuy\": 0.2573227610975666,\\n        \"_eps_x_bxbOn\": 2.233808491941027e-09,\\n        \"_eps_y_bxbOn\": 1.7989698393799407e-11,\\n        \"_eps_x_bxbOff\": 2.2412757667060695e-09,\\n        \"_eps_y_bxbOff\": 1.7445532456533e-11,\\n        \"LT\": 5.878916144158524,\\n        \"_raw_LT\": 7.061895059074027,\\n        \"EFF\": 61.085290460080586\\n      },\\n      \"10\": {\\n        \"result\": {\\n          \"_nux\": 0.21502563711503814,\\n          \"_nuy\": 0.2573532748386035,\\n          \"_eps_x_bxbOn\": 5.380264931438342e-09,\\n          \"_eps_y_bxbOn\": 1.837048887994195e-11,\\n          \"_eps_x_bxbOff\": 2.2422802611835e-09,\\n          \"_eps_y_bxbOff\": 1.7624352392172498e-11,\\n          \"LT\": 5.788553689648549,\\n          \"_raw_LT\": 6.996950852773245,\\n          \"EFF\": 64.95651811070422\\n        },\\n        \"exception\": null,\\n        \"traceback\": \"\",\\n        \"wall_time\": 30.264575289096683,\\n        \"cpu_time\": 17.995245146000002,\\n        \"valid\": true,\\n        \"_nux\": 0.21502563711503814,\\n        \"_nuy\": 0.2573532748386035,\\n        \"_eps_x_bxbOn\": 5.380264931438342e-09,\\n        \"_eps_y_bxbOn\": 1.837048887994195e-11,\\n        \"_eps_x_bxbOff\": 2.2422802611835e-09,\\n        \"_eps_y_bxbOff\": 1.7624352392172498e-11,\\n        \"LT\": 5.788553689648549,\\n        \"_raw_LT\": 6.996950852773245,\\n        \"EFF\": 64.95651811070422\\n      },\\n      \"11\": {\\n        \"result\": {\\n          \"_nux\": 0.2198473926760753,\\n          \"_nuy\": 0.24163682384666024,\\n          \"_eps_x_bxbOn\": 2.2256979057210496e-09,\\n          \"_eps_y_bxbOn\": 1.7871401467034933e-11,\\n          \"_eps_x_bxbOff\": 2.2412757667060695e-09,\\n          \"_eps_y_bxbOff\": 1.7583906847917825e-11,\\n          \"LT\": 5.770539373009607,\\n          \"_raw_LT\": 6.974908976414693,\\n          \"EFF\": 70.06608756246962\\n        },\\n        \"exception\": null,\\n        \"traceback\": \"\",\\n        \"wall_time\": 43.94515785994008,\\n        \"cpu_time\": 17.11195984799997,\\n        \"valid\": true,\\n        \"_nux\": 0.2198473926760753,\\n        \"_nuy\": 0.24163682384666024,\\n        \"_eps_x_bxbOn\": 2.2256979057210496e-09,\\n        \"_eps_y_bxbOn\": 1.7871401467034933e-11,\\n        \"_eps_x_bxbOff\": 2.2412757667060695e-09,\\n        \"_eps_y_bxbOff\": 1.7583906847917825e-11,\\n        \"LT\": 5.770539373009607,\\n        \"_raw_LT\": 6.974908976414693,\\n        \"EFF\": 70.06608756246962\\n      },\\n      \"12\": {\\n        \"result\": {\\n          \"_nux\": 0.21559529412901504,\\n          \"_nuy\": 0.25909277977595774,\\n          \"_eps_x_bxbOn\": 2.2536673804603794e-09,\\n          \"_eps_y_bxbOn\": 1.7489864690003004e-11,\\n          \"_eps_x_bxbOff\": 2.2422702420023497e-09,\\n          \"_eps_y_bxbOff\": 1.7566128941127293e-11,\\n          \"LT\": 5.699005800113888,\\n          \"_raw_LT\": 6.8918779452928245,\\n          \"EFF\": 64.95208197327791\\n        },\\n        \"exception\": null,\\n        \"traceback\": \"\",\\n        \"wall_time\": 29.783847548998892,\\n        \"cpu_time\": 17.813971667000033,\\n        \"valid\": true,\\n        \"_nux\": 0.21559529412901504,\\n        \"_nuy\": 0.25909277977595774,\\n        \"_eps_x_bxbOn\": 2.2536673804603794e-09,\\n        \"_eps_y_bxbOn\": 1.7489864690003004e-11,\\n        \"_eps_x_bxbOff\": 2.2422702420023497e-09,\\n        \"_eps_y_bxbOff\": 1.7566128941127293e-11,\\n        \"LT\": 5.699005800113888,\\n        \"_raw_LT\": 6.8918779452928245,\\n        \"EFF\": 64.95208197327791\\n      },\\n      \"13\": {\\n        \"result\": {\\n          \"_nux\": 0.2169787583940371,\\n          \"_nuy\": 0.25610207037538546,\\n          \"_eps_x_bxbOn\": 2.2100694044830218e-09,\\n          \"_eps_y_bxbOn\": 1.860142658613182e-11,\\n          \"_eps_x_bxbOff\": 2.241247573470804e-09,\\n          \"_eps_y_bxbOff\": 1.7670736830044852e-11,\\n          \"LT\": 5.612475021745306,\\n          \"_raw_LT\": 6.813686753582968,\\n          \"EFF\": 47.539114311721406\\n        },\\n        \"exception\": null,\\n        \"traceback\": \"\",\\n        \"wall_time\": 35.93344989512116,\\n        \"cpu_time\": 17.554211511000062,\\n        \"valid\": true,\\n        \"_nux\": 0.2169787583940371,\\n        \"_nuy\": 0.25610207037538546,\\n        \"_eps_x_bxbOn\": 2.2100694044830218e-09,\\n        \"_eps_y_bxbOn\": 1.860142658613182e-11,\\n        \"_eps_x_bxbOff\": 2.241247573470804e-09,\\n        \"_eps_y_bxbOff\": 1.7670736830044852e-11,\\n        \"LT\": 5.612475021745306,\\n        \"_raw_LT\": 6.813686753582968,\\n        \"EFF\": 47.539114311721406\\n      },\\n      \"14\": {\\n        \"result\": {\\n          \"_nux\": 0.21099733959289255,\\n          \"_nuy\": 0.25713965849695875,\\n          \"_eps_x_bxbOn\": 2.2451737777419122e-09,\\n          \"_eps_y_bxbOn\": 1.7600866546059974e-11,\\n          \"_eps_x_bxbOff\": 2.241247573470804e-09,\\n          \"_eps_y_bxbOff\": 1.7571784259264043e-11,\\n          \"LT\": 5.227124885647459,\\n          \"_raw_LT\": 6.332604800381985,\\n          \"EFF\": 67.67341456384123\\n        },\\n        \"exception\": null,\\n        \"traceback\": \"\",\\n        \"wall_time\": 30.228673866018653,\\n        \"cpu_time\": 17.46189617999994,\\n        \"valid\": true,\\n        \"_nux\": 0.21099733959289255,\\n        \"_nuy\": 0.25713965849695875,\\n        \"_eps_x_bxbOn\": 2.2451737777419122e-09,\\n        \"_eps_y_bxbOn\": 1.7600866546059974e-11,\\n        \"_eps_x_bxbOff\": 2.241247573470804e-09,\\n        \"_eps_y_bxbOff\": 1.7571784259264043e-11,\\n        \"LT\": 5.227124885647459,\\n        \"_raw_LT\": 6.332604800381985,\\n        \"EFF\": 67.67341456384123\\n      },\\n      \"15\": {\\n        \"result\": {\\n          \"_nux\": 0.21767048380841927,\\n          \"_nuy\": 0.2563462004580671,\\n          \"_eps_x_bxbOn\": 2.1936559706876767e-09,\\n          \"_eps_y_bxbOn\": 1.8918733118915834e-11,\\n          \"_eps_x_bxbOff\": 2.2408615587145485e-09,\\n          \"_eps_y_bxbOff\": 1.766479793642717e-11,\\n          \"LT\": 5.96589207473636,\\n          \"_raw_LT\": 7.252834150898536,\\n          \"EFF\": 39.99257096655213\\n        },\\n        \"exception\": null,\\n        \"traceback\": \"\",\\n        \"wall_time\": 41.65847222786397,\\n        \"cpu_time\": 16.490343030000076,\\n        \"valid\": true,\\n        \"_nux\": 0.21767048380841927,\\n        \"_nuy\": 0.2563462004580671,\\n        \"_eps_x_bxbOn\": 2.1936559706876767e-09,\\n        \"_eps_y_bxbOn\": 1.8918733118915834e-11,\\n        \"_eps_x_bxbOff\": 2.2408615587145485e-09,\\n        \"_eps_y_bxbOff\": 1.766479793642717e-11,\\n        \"LT\": 5.96589207473636,\\n        \"_raw_LT\": 7.252834150898536,\\n        \"EFF\": 39.99257096655213\\n      },\\n      \"16\": {\\n        \"result\": {\\n          \"_nux\": 0.21490356871463287,\\n          \"_nuy\": 0.2586960406793186,\\n          \"_eps_x_bxbOn\": 2.236571704094411e-09,\\n          \"_eps_y_bxbOn\": 1.777901724132134e-11,\\n          \"_eps_x_bxbOff\": 2.239397483342476e-09,\\n          \"_eps_y_bxbOff\": 1.767850945066361e-11,\\n          \"LT\": 5.814949709634618,\\n          \"_raw_LT\": 7.077840927785356,\\n          \"EFF\": 85.41393763434577\\n        },\\n        \"exception\": null,\\n        \"traceback\": \"\",\\n        \"wall_time\": 45.17020177887753,\\n        \"cpu_time\": 10.649201383000218,\\n        \"valid\": true,\\n        \"_nux\": 0.21490356871463287,\\n        \"_nuy\": 0.2586960406793186,\\n        \"_eps_x_bxbOn\": 2.236571704094411e-09,\\n        \"_eps_y_bxbOn\": 1.777901724132134e-11,\\n        \"_eps_x_bxbOff\": 2.239397483342476e-09,\\n        \"_eps_y_bxbOff\": 1.767850945066361e-11,\\n        \"LT\": 5.814949709634618,\\n        \"_raw_LT\": 7.077840927785356,\\n        \"EFF\": 85.41393763434577\\n      },\\n      \"17\": {\\n        \"result\": {\\n          \"_nux\": 0.21710082343537793,\\n          \"_nuy\": 0.25832983547810295,\\n          \"_eps_x_bxbOn\": 2.2257648724274235e-09,\\n          \"_eps_y_bxbOn\": 1.7946608574164904e-11,\\n          \"_eps_x_bxbOff\": 2.2402193867729198e-09,\\n          \"_eps_y_bxbOff\": 1.768352475646055e-11,\\n          \"LT\": 5.816781274113707,\\n          \"_raw_LT\": 7.087912500630446,\\n          \"EFF\": 82.7604992855247\\n        },\\n        \"exception\": null,\\n        \"traceback\": \"\",\\n        \"wall_time\": 38.77215510001406,\\n        \"cpu_time\": 17.306400008000082,\\n        \"valid\": true,\\n        \"_nux\": 0.21710082343537793,\\n        \"_nuy\": 0.25832983547810295,\\n        \"_eps_x_bxbOn\": 2.2257648724274235e-09,\\n        \"_eps_y_bxbOn\": 1.7946608574164904e-11,\\n        \"_eps_x_bxbOff\": 2.2402193867729198e-09,\\n        \"_eps_y_bxbOff\": 1.768352475646055e-11,\\n        \"LT\": 5.816781274113707,\\n        \"_raw_LT\": 7.087912500630446,\\n        \"EFF\": 82.7604992855247\\n      },\\n      \"18\": {\\n        \"result\": {\\n          \"_nux\": 0.2179553190335366,\\n          \"_nuy\": 0.25686500459604694,\\n          \"_eps_x_bxbOn\": 2.228332553637672e-09,\\n          \"_eps_y_bxbOn\": 1.824286592086826e-11,\\n          \"_eps_x_bxbOff\": 2.2383663356083213e-09,\\n          \"_eps_y_bxbOff\": 1.7756361677835946e-11,\\n          \"LT\": 6.0221244839545065,\\n          \"_raw_LT\": 7.358993420492156,\\n          \"EFF\": 81.9991247401444\\n        },\\n        \"exception\": null,\\n        \"traceback\": \"\",\\n        \"wall_time\": 42.3832135447301,\\n        \"cpu_time\": 17.36162722999984,\\n        \"valid\": true,\\n        \"_nux\": 0.2179553190335366,\\n        \"_nuy\": 0.25686500459604694,\\n        \"_eps_x_bxbOn\": 2.228332553637672e-09,\\n        \"_eps_y_bxbOn\": 1.824286592086826e-11,\\n        \"_eps_x_bxbOff\": 2.2383663356083213e-09,\\n        \"_eps_y_bxbOff\": 1.7756361677835946e-11,\\n        \"LT\": 6.0221244839545065,\\n        \"_raw_LT\": 7.358993420492156,\\n        \"EFF\": 81.9991247401444\\n      },\\n      \"19\": {\\n        \"result\": {\\n          \"_nux\": 0.21465943191382242,\\n          \"_nuy\": 0.2576889662987823,\\n          \"_eps_x_bxbOn\": 2.245270038684722e-09,\\n          \"_eps_y_bxbOn\": 1.787353477553322e-11,\\n          \"_eps_x_bxbOff\": 2.238139449118279e-09,\\n          \"_eps_y_bxbOff\": 1.7717309818981807e-11,\\n          \"LT\": 5.849504505672127,\\n          \"_raw_LT\": 7.147651280830832,\\n          \"EFF\": 77.2306265828383\\n        },\\n        \"exception\": null,\\n        \"traceback\": \"\",\\n        \"wall_time\": 36.64356765896082,\\n        \"cpu_time\": 17.64343828999995,\\n        \"valid\": true,\\n        \"_nux\": 0.21465943191382242,\\n        \"_nuy\": 0.2576889662987823,\\n        \"_eps_x_bxbOn\": 2.245270038684722e-09,\\n        \"_eps_y_bxbOn\": 1.787353477553322e-11,\\n        \"_eps_x_bxbOff\": 2.238139449118279e-09,\\n        \"_eps_y_bxbOff\": 1.7717309818981807e-11,\\n        \"LT\": 5.849504505672127,\\n        \"_raw_LT\": 7.147651280830832,\\n        \"EFF\": 77.2306265828383\\n      },\\n      \"20\": {\\n        \"result\": {\\n          \"_nux\": 0.21514770551544335,\\n          \"_nuy\": 0.25820777043676213,\\n          \"_eps_x_bxbOn\": 2.2216328698316047e-09,\\n          \"_eps_y_bxbOn\": 1.8035458098430708e-11,\\n          \"_eps_x_bxbOff\": 2.2381759648651534e-09,\\n          \"_eps_y_bxbOff\": 1.7701787001684532e-11,\\n          \"LT\": 5.7857377974274495,\\n          \"_raw_LT\": 7.073550368400235,\\n          \"EFF\": 80.8378710690877\\n        },\\n        \"exception\": null,\\n        \"traceback\": \"\",\\n        \"wall_time\": 30.237645459827036,\\n        \"cpu_time\": 18.714409743000033,\\n        \"valid\": true,\\n        \"_nux\": 0.21514770551544335,\\n        \"_nuy\": 0.25820777043676213,\\n        \"_eps_x_bxbOn\": 2.2216328698316047e-09,\\n        \"_eps_y_bxbOn\": 1.8035458098430708e-11,\\n        \"_eps_x_bxbOff\": 2.2381759648651534e-09,\\n        \"_eps_y_bxbOff\": 1.7701787001684532e-11,\\n        \"LT\": 5.7857377974274495,\\n        \"_raw_LT\": 7.073550368400235,\\n        \"EFF\": 80.8378710690877\\n      },\\n      \"21\": {\\n        \"result\": {\\n          \"_nux\": 0.21099733959289255,\\n          \"_nuy\": 0.2533402442641696,\\n          \"_eps_x_bxbOn\": 2.2165005894036502e-09,\\n          \"_eps_y_bxbOn\": 1.801919414955342e-11,\\n          \"_eps_x_bxbOff\": 2.2379750640086273e-09,\\n          \"_eps_y_bxbOff\": 1.7727100630801382e-11,\\n          \"LT\": 6.1668515003054765,\\n          \"_raw_LT\": 7.551865679988402,\\n          \"EFF\": 83.70392556019814\\n        },\\n        \"exception\": null,\\n        \"traceback\": \"\",\\n        \"wall_time\": 42.5160478791222,\\n        \"cpu_time\": 18.058528926999998,\\n        \"valid\": true,\\n        \"_nux\": 0.21099733959289255,\\n        \"_nuy\": 0.2533402442641696,\\n        \"_eps_x_bxbOn\": 2.2165005894036502e-09,\\n        \"_eps_y_bxbOn\": 1.801919414955342e-11,\\n        \"_eps_x_bxbOff\": 2.2379750640086273e-09,\\n        \"_eps_y_bxbOff\": 1.7727100630801382e-11,\\n        \"LT\": 6.1668515003054765,\\n        \"_raw_LT\": 7.551865679988402,\\n        \"EFF\": 83.70392556019814\\n      },\\n      \"22\": {\\n        \"result\": {\\n          \"_nux\": 0.21758909367793444,\\n          \"_nuy\": 0.25671240565928277,\\n          \"_eps_x_bxbOn\": 2.1853748330269116e-09,\\n          \"_eps_y_bxbOn\": 1.8353361868050555e-11,\\n          \"_eps_x_bxbOff\": 2.2351831758019912e-09,\\n          \"_eps_y_bxbOff\": 1.775722116516881e-11,\\n          \"LT\": 6.1132625498314175,\\n          \"_raw_LT\": 7.499235664406745,\\n          \"EFF\": 83.95971007656232\\n        },\\n        \"exception\": null,\\n        \"traceback\": \"\",\\n        \"wall_time\": 31.67241191584617,\\n        \"cpu_time\": 18.298104184000067,\\n        \"valid\": true,\\n        \"_nux\": 0.21758909367793444,\\n        \"_nuy\": 0.25671240565928277,\\n        \"_eps_x_bxbOn\": 2.1853748330269116e-09,\\n        \"_eps_y_bxbOn\": 1.8353361868050555e-11,\\n        \"_eps_x_bxbOff\": 2.2351831758019912e-09,\\n        \"_eps_y_bxbOff\": 1.775722116516881e-11,\\n        \"LT\": 6.1132625498314175,\\n        \"_raw_LT\": 7.499235664406745,\\n        \"EFF\": 83.95971007656232\\n      },\\n      \"23\": {\\n        \"result\": {\\n          \"_nux\": 0.21592081434218158,\\n          \"_nuy\": 0.26031346378001,\\n          \"_eps_x_bxbOn\": 2.221827409731645e-09,\\n          \"_eps_y_bxbOn\": 1.8234172380107863e-11,\\n          \"_eps_x_bxbOff\": 2.235027039857574e-09,\\n          \"_eps_y_bxbOff\": 1.779190973555319e-11,\\n          \"LT\": 5.869698775140019,\\n          \"_raw_LT\": 7.213585654061809,\\n          \"EFF\": 81.84051812720345\\n        },\\n        \"exception\": null,\\n        \"traceback\": \"\",\\n        \"wall_time\": 28.861284013371915,\\n        \"cpu_time\": 18.011513232999732,\\n        \"valid\": true,\\n        \"_nux\": 0.21592081434218158,\\n        \"_nuy\": 0.26031346378001,\\n        \"_eps_x_bxbOn\": 2.221827409731645e-09,\\n        \"_eps_y_bxbOn\": 1.8234172380107863e-11,\\n        \"_eps_x_bxbOff\": 2.235027039857574e-09,\\n        \"_eps_y_bxbOff\": 1.779190973555319e-11,\\n        \"LT\": 5.869698775140019,\\n        \"_raw_LT\": 7.213585654061809,\\n        \"EFF\": 81.84051812720345\\n      },\\n      \"24\": {\\n        \"result\": {\\n          \"_nux\": 0.21494425370268208,\\n          \"_nuy\": 0.2571396584969587,\\n          \"_eps_x_bxbOn\": 2.218780787541448e-09,\\n          \"_eps_y_bxbOn\": 1.8019343346310542e-11,\\n          \"_eps_x_bxbOff\": 2.2343013187763307e-09,\\n          \"_eps_y_bxbOff\": 1.7805878653718857e-11,\\n          \"LT\": 5.941180392360922,\\n          \"_raw_LT\": 7.310062262835829,\\n          \"EFF\": 82.15746586706838\\n        },\\n        \"exception\": null,\\n        \"traceback\": \"\",\\n        \"wall_time\": 28.838213473092765,\\n        \"cpu_time\": 17.790482080999936,\\n        \"valid\": true,\\n        \"_nux\": 0.21494425370268208,\\n        \"_nuy\": 0.2571396584969587,\\n        \"_eps_x_bxbOn\": 2.218780787541448e-09,\\n        \"_eps_y_bxbOn\": 1.8019343346310542e-11,\\n        \"_eps_x_bxbOff\": 2.2343013187763307e-09,\\n        \"_eps_y_bxbOff\": 1.7805878653718857e-11,\\n        \"LT\": 5.941180392360922,\\n        \"_raw_LT\": 7.310062262835829,\\n        \"EFF\": 82.15746586706838\\n      },\\n      \"25\": {\\n        \"result\": {\\n          \"_nux\": 0.21620564956729885,\\n          \"_nuy\": 0.25561379005563567,\\n          \"_eps_x_bxbOn\": 2.225417472554293e-09,\\n          \"_eps_y_bxbOn\": 1.8485648819041993e-11,\\n          \"_eps_x_bxbOff\": 2.2339203306833845e-09,\\n          \"_eps_y_bxbOff\": 1.7807924411280735e-11,\\n          \"LT\": 6.050906271009451,\\n          \"_raw_LT\": 7.4504291501455295,\\n          \"EFF\": 74.80779268495819\\n        },\\n        \"exception\": null,\\n        \"traceback\": \"\",\\n        \"wall_time\": 35.6877321889624,\\n        \"cpu_time\": 17.203898224000113,\\n        \"valid\": true,\\n        \"_nux\": 0.21620564956729885,\\n        \"_nuy\": 0.25561379005563567,\\n        \"_eps_x_bxbOn\": 2.225417472554293e-09,\\n        \"_eps_y_bxbOn\": 1.8485648819041993e-11,\\n        \"_eps_x_bxbOff\": 2.2339203306833845e-09,\\n        \"_eps_y_bxbOff\": 1.7807924411280735e-11,\\n        \"LT\": 6.050906271009451,\\n        \"_raw_LT\": 7.4504291501455295,\\n        \"EFF\": 74.80779268495819\\n      },\\n      \"26\": {\\n        \"result\": {\\n          \"_nux\": 0.21099733959289255,\\n          \"_nuy\": 0.2592758722993723,\\n          \"_eps_x_bxbOn\": 2.126313165546307e-09,\\n          \"_eps_y_bxbOn\": 1.8076371725704582e-11,\\n          \"_eps_x_bxbOff\": 2.2317986788272527e-09,\\n          \"_eps_y_bxbOff\": 1.7805878653718857e-11,\\n          \"LT\": 5.939542383388315,\\n          \"_raw_LT\": 7.319166770392418,\\n          \"EFF\": 85.28097354140999\\n        },\\n        \"exception\": null,\\n        \"traceback\": \"\",\\n        \"wall_time\": 30.41377090429887,\\n        \"cpu_time\": 18.84101342599979,\\n        \"valid\": true,\\n        \"_nux\": 0.21099733959289255,\\n        \"_nuy\": 0.2592758722993723,\\n        \"_eps_x_bxbOn\": 2.126313165546307e-09,\\n        \"_eps_y_bxbOn\": 1.8076371725704582e-11,\\n        \"_eps_x_bxbOff\": 2.2317986788272527e-09,\\n        \"_eps_y_bxbOff\": 1.7805878653718857e-11,\\n        \"LT\": 5.939542383388315,\\n        \"_raw_LT\": 7.319166770392418,\\n        \"EFF\": 85.28097354140999\\n      }\\n    },\\n    \"last_output_data\": {\\n      \"26\": {\\n        \"result\": {\\n          \"_nux\": 0.21099733959289255,\\n          \"_nuy\": 0.2592758722993723,\\n          \"_eps_x_bxbOn\": 2.126313165546307e-09,\\n          \"_eps_y_bxbOn\": 1.8076371725704582e-11,\\n          \"_eps_x_bxbOff\": 2.2317986788272527e-09,\\n          \"_eps_y_bxbOff\": 1.7805878653718857e-11,\\n          \"LT\": 5.939542383388315,\\n          \"_raw_LT\": 7.319166770392418,\\n          \"EFF\": 85.28097354140999\\n        },\\n        \"exception\": null,\\n        \"traceback\": \"\",\\n        \"wall_time\": 30.41377090429887,\\n        \"cpu_time\": 18.84101342599979,\\n        \"valid\": true,\\n        \"_nux\": 0.21099733959289255,\\n        \"_nuy\": 0.2592758722993723,\\n        \"_eps_x_bxbOn\": 2.126313165546307e-09,\\n        \"_eps_y_bxbOn\": 1.8076371725704582e-11,\\n        \"_eps_x_bxbOff\": 2.2317986788272527e-09,\\n        \"_eps_y_bxbOff\": 1.7805878653718857e-11,\\n        \"LT\": 5.939542383388315,\\n        \"_raw_LT\": 7.319166770392418,\\n        \"EFF\": 85.28097354140999\\n      }\\n    },\\n    \"metadata\": {\\n      \"1\": 5,\\n      \"2\": 5,\\n      \"3\": 5,\\n      \"4\": 5,\\n      \"5\": 5,\\n      \"6\": 5,\\n      \"7\": 5,\\n      \"8\": 5,\\n      \"9\": 5,\\n      \"10\": 5,\\n      \"11\": 5,\\n      \"12\": 5,\\n      \"13\": 5,\\n      \"14\": 5,\\n      \"15\": 5,\\n      \"16\": 5,\\n      \"17\": 5,\\n      \"18\": 5,\\n      \"19\": 5,\\n      \"20\": 5,\\n      \"21\": 5,\\n      \"22\": 5,\\n      \"23\": 5,\\n      \"24\": 5,\\n      \"25\": 5,\\n      \"26\": 5\\n    }\\n  }\\n}'"
      ]
     },
     "execution_count": 27,
     "metadata": {},
     "output_type": "execute_result"
    }
   ],
   "source": [
    "# This will save optimizer state\n",
    "from datetime import datetime\n",
    "opt.state_to_json(f'{datetime.now():%Y%m%dT%H%M%S}_exp_mobo_{MODE}_v1_dump.json')"
   ]
  },
  {
   "cell_type": "code",
   "execution_count": null,
   "metadata": {},
   "outputs": [],
   "source": []
  }
 ],
 "metadata": {
  "kernelspec": {
   "display_name": "py311ml",
   "language": "python",
   "name": "python3"
  },
  "language_info": {
   "codemirror_mode": {
    "name": "ipython",
    "version": 3
   },
   "file_extension": ".py",
   "mimetype": "text/x-python",
   "name": "python",
   "nbconvert_exporter": "python",
   "pygments_lexer": "ipython3",
   "version": "3.11.6"
  }
 },
 "nbformat": 4,
 "nbformat_minor": 2
}
