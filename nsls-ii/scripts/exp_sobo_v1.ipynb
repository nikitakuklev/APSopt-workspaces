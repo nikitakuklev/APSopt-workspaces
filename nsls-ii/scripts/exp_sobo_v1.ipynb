{
 "cells": [
  {
   "cell_type": "code",
   "execution_count": 1,
   "metadata": {},
   "outputs": [],
   "source": [
    "import logging, json\n",
    "import numpy as np\n",
    "import pandas as pd\n",
    "\n",
    "from apsopt.core.optimizer import Optimizer, get_generator_class\n",
    "from apsopt.core.evaluators import FunctionEvaluator\n",
    "from apsopt.util.pydantic.options import AlgorithmOptions\n",
    "from apsopt.util.pydantic.vocs import GVOCS\n",
    "\n",
    "from opt_funcs_nsls import make_dummy_eval, make_dummy_eval_lifetime\n",
    "\n",
    "logger = logging.getLogger(__name__)"
   ]
  },
  {
   "cell_type": "code",
   "execution_count": 2,
   "metadata": {},
   "outputs": [],
   "source": [
    "MODE = '6and3'\n",
    "with open(f'lattice/data_{MODE}.json', 'r') as f:\n",
    "    data_dict = json.load(f)\n",
    "groups = data_dict['groups']\n",
    "groups_direct = data_dict['groups_direct']\n",
    "all_groups = {**groups, **groups_direct}\n",
    "indices = data_dict['indices']\n",
    "null_knobs = data_dict['null_knobs']\n",
    "dfknobs = pd.read_json(f'lattice/dfknobs_{MODE}.json')"
   ]
  },
  {
   "cell_type": "code",
   "execution_count": 3,
   "metadata": {},
   "outputs": [],
   "source": [
    "# impact of K2L difference\n",
    "dfknobs.loc['SM2B',:] *= 0.25/0.2"
   ]
  },
  {
   "cell_type": "code",
   "execution_count": 4,
   "metadata": {},
   "outputs": [
    {
     "data": {
      "text/html": [
       "<div>\n",
       "<style scoped>\n",
       "    .dataframe tbody tr th:only-of-type {\n",
       "        vertical-align: middle;\n",
       "    }\n",
       "\n",
       "    .dataframe tbody tr th {\n",
       "        vertical-align: top;\n",
       "    }\n",
       "\n",
       "    .dataframe thead th {\n",
       "        text-align: right;\n",
       "    }\n",
       "</style>\n",
       "<table border=\"1\" class=\"dataframe\">\n",
       "  <thead>\n",
       "    <tr style=\"text-align: right;\">\n",
       "      <th></th>\n",
       "      <th>SVD0</th>\n",
       "      <th>SH1</th>\n",
       "      <th>SH3</th>\n",
       "      <th>SH4</th>\n",
       "      <th>SL1</th>\n",
       "      <th>SL2</th>\n",
       "      <th>SL3</th>\n",
       "    </tr>\n",
       "  </thead>\n",
       "  <tbody>\n",
       "    <tr>\n",
       "      <th>SL1</th>\n",
       "      <td>0.000000</td>\n",
       "      <td>0</td>\n",
       "      <td>0</td>\n",
       "      <td>0</td>\n",
       "      <td>1</td>\n",
       "      <td>0</td>\n",
       "      <td>0</td>\n",
       "    </tr>\n",
       "    <tr>\n",
       "      <th>SL2</th>\n",
       "      <td>0.000000</td>\n",
       "      <td>0</td>\n",
       "      <td>0</td>\n",
       "      <td>0</td>\n",
       "      <td>0</td>\n",
       "      <td>1</td>\n",
       "      <td>0</td>\n",
       "    </tr>\n",
       "    <tr>\n",
       "      <th>SL3</th>\n",
       "      <td>0.000000</td>\n",
       "      <td>0</td>\n",
       "      <td>0</td>\n",
       "      <td>0</td>\n",
       "      <td>0</td>\n",
       "      <td>0</td>\n",
       "      <td>1</td>\n",
       "    </tr>\n",
       "    <tr>\n",
       "      <th>SH1</th>\n",
       "      <td>0.000000</td>\n",
       "      <td>1</td>\n",
       "      <td>0</td>\n",
       "      <td>0</td>\n",
       "      <td>0</td>\n",
       "      <td>0</td>\n",
       "      <td>0</td>\n",
       "    </tr>\n",
       "    <tr>\n",
       "      <th>SH3</th>\n",
       "      <td>0.000000</td>\n",
       "      <td>0</td>\n",
       "      <td>1</td>\n",
       "      <td>0</td>\n",
       "      <td>0</td>\n",
       "      <td>0</td>\n",
       "      <td>0</td>\n",
       "    </tr>\n",
       "    <tr>\n",
       "      <th>SH4</th>\n",
       "      <td>0.000000</td>\n",
       "      <td>0</td>\n",
       "      <td>0</td>\n",
       "      <td>1</td>\n",
       "      <td>0</td>\n",
       "      <td>0</td>\n",
       "      <td>0</td>\n",
       "    </tr>\n",
       "    <tr>\n",
       "      <th>SM1A</th>\n",
       "      <td>-0.663666</td>\n",
       "      <td>0</td>\n",
       "      <td>0</td>\n",
       "      <td>0</td>\n",
       "      <td>0</td>\n",
       "      <td>0</td>\n",
       "      <td>0</td>\n",
       "    </tr>\n",
       "    <tr>\n",
       "      <th>SM1B</th>\n",
       "      <td>0.744816</td>\n",
       "      <td>0</td>\n",
       "      <td>0</td>\n",
       "      <td>0</td>\n",
       "      <td>0</td>\n",
       "      <td>0</td>\n",
       "      <td>0</td>\n",
       "    </tr>\n",
       "    <tr>\n",
       "      <th>SM2B</th>\n",
       "      <td>-0.086576</td>\n",
       "      <td>0</td>\n",
       "      <td>0</td>\n",
       "      <td>0</td>\n",
       "      <td>0</td>\n",
       "      <td>0</td>\n",
       "      <td>0</td>\n",
       "    </tr>\n",
       "  </tbody>\n",
       "</table>\n",
       "</div>"
      ],
      "text/plain": [
       "          SVD0  SH1  SH3  SH4  SL1  SL2  SL3\n",
       "SL1   0.000000    0    0    0    1    0    0\n",
       "SL2   0.000000    0    0    0    0    1    0\n",
       "SL3   0.000000    0    0    0    0    0    1\n",
       "SH1   0.000000    1    0    0    0    0    0\n",
       "SH3   0.000000    0    1    0    0    0    0\n",
       "SH4   0.000000    0    0    1    0    0    0\n",
       "SM1A -0.663666    0    0    0    0    0    0\n",
       "SM1B  0.744816    0    0    0    0    0    0\n",
       "SM2B -0.086576    0    0    0    0    0    0"
      ]
     },
     "execution_count": 4,
     "metadata": {},
     "output_type": "execute_result"
    }
   ],
   "source": [
    "dfknobs"
   ]
  },
  {
   "cell_type": "markdown",
   "metadata": {},
   "source": [
    "This notebook uses:\n",
    "- Absolute K2L offsets per knob as variables\n",
    "- Absolute K2L values per family as inputs to the evaluation function\n",
    "- Lifetime as the objective"
   ]
  },
  {
   "cell_type": "markdown",
   "metadata": {},
   "source": [
    "SETUP SINGLE-OBJECTIVE RUN (i.e. only lifetime)"
   ]
  },
  {
   "cell_type": "code",
   "execution_count": 5,
   "metadata": {},
   "outputs": [
    {
     "name": "stdout",
     "output_type": "stream",
     "text": [
      "       SM1A      SM2B      SM1B       SL3       SL2       SL1      SH4  \\\n",
      "0 -4.736127  7.160789 -5.189207 -5.892172  7.135584 -2.654321 -3.16418   \n",
      "\n",
      "        SH3       SH1  \n",
      "0 -1.171022  3.966582  \n",
      "   SVD0       SH1       SH3       SH4       SL1       SL2       SL3\n",
      "0  -0.6 -0.396658 -0.117102 -0.316418 -0.265432 -0.713558 -0.589217\n",
      "1   0.6  0.396658  0.117102  0.316418  0.265432  0.713558  0.589217\n"
     ]
    }
   ],
   "source": [
    "# DO NOT CHANGE - USED TO CALCULATE ABSOLUTE K2L\n",
    "initial_values_ref = {\n",
    "    'SM1A': -23.68063424*0.2,\n",
    "    'SM2B': 28.64315469*0.25,\n",
    "    'SM1B': -25.94603546*0.2,\n",
    "    'SL3': -29.46086061*0.2,\n",
    "    'SL2': 35.67792145*0.2,\n",
    "    'SL1': -13.27160605*0.2,\n",
    "    'SH4': -15.82090071*0.2,\n",
    "    'SH3': -5.85510841*0.2,\n",
    "    'SH1': 19.8329121*0.2,\n",
    "}\n",
    "\n",
    "# CHANGE THIS TO VALUES FROM RING IF NEEDED\n",
    "initial_values = initial_values_ref.copy()\n",
    "\n",
    "# optimizer variables in units of K2L\n",
    "variables = {'SVD0':[-0.6,0.6]} # this means SM1B will change by ~10%\n",
    "             \n",
    "for k in ['SH1','SH3','SH4','SL1','SL2','SL3']:\n",
    "    variables[k] = [-np.abs(initial_values_ref[k])*0.1,np.abs(initial_values_ref[k])*0.1]\n",
    "\n",
    "objectives_active = {'LT':'MAXIMIZE'}\n",
    "\n",
    "initial_variable_values = {k:0.0 for k in variables.keys()}\n",
    "\n",
    "gvocs = GVOCS(variables=variables,\n",
    "              variables_active=variables,\n",
    "              objectives=objectives_active,\n",
    "              objectives_active=objectives_active)\n",
    "\n",
    "print(pd.DataFrame(initial_values_ref,index=[0]))\n",
    "print(pd.DataFrame(variables))"
   ]
  },
  {
   "cell_type": "code",
   "execution_count": 6,
   "metadata": {},
   "outputs": [],
   "source": [
    "import sext_tools\n",
    "def compute_family_k2l_from_knob_k2l(dfknobs, knobs_dict, debug=False):\n",
    "    group_relative_strengths = sext_tools.knob_strengths_to_group_strengths(dfknobs, knobs_dict)\n",
    "    for k in group_relative_strengths:\n",
    "        if debug:\n",
    "            print(f'{k}: {initial_values[k]:.3f} + {group_relative_strengths[k]:.3f} -> {initial_values[k]+group_relative_strengths[k]:.3f}')\n",
    "        group_relative_strengths[k] = group_relative_strengths[k] + initial_values[k]        \n",
    "    return group_relative_strengths"
   ]
  },
  {
   "cell_type": "code",
   "execution_count": 7,
   "metadata": {},
   "outputs": [
    {
     "name": "stdout",
     "output_type": "stream",
     "text": [
      "SL1: -2.654 + -0.265 -> -2.920\n",
      "SL2: 7.136 + -0.714 -> 6.422\n",
      "SL3: -5.892 + -0.589 -> -6.481\n",
      "SH1: 3.967 + -0.397 -> 3.570\n",
      "SH3: -1.171 + -0.117 -> -1.288\n",
      "SH4: -3.164 + -0.316 -> -3.481\n",
      "SM1A: -4.736 + 0.398 -> -4.338\n",
      "SM1B: -5.189 + -0.447 -> -5.636\n",
      "SM2B: 7.161 + 0.052 -> 7.213\n"
     ]
    },
    {
     "data": {
      "text/plain": [
       "{'SL1': -2.9197533310000003,\n",
       " 'SL2': 6.422025861000001,\n",
       " 'SL3': -6.481389334200001,\n",
       " 'SH1': 3.5699241780000004,\n",
       " 'SH3': -1.2881238501999999,\n",
       " 'SH4': -3.4805981562,\n",
       " 'SM1A': -4.33792749214,\n",
       " 'SM1B': -5.6360967334600005,\n",
       " 'SM2B': 7.2127339758749995}"
      ]
     },
     "execution_count": 7,
     "metadata": {},
     "output_type": "execute_result"
    }
   ],
   "source": [
    "compute_family_k2l_from_knob_k2l(dfknobs, {k:variables[k][0] for k in variables.keys()}, True)"
   ]
  },
  {
   "cell_type": "code",
   "execution_count": 8,
   "metadata": {},
   "outputs": [],
   "source": [
    "eval_f = make_dummy_eval_lifetime(gvocs)\n",
    "ev = FunctionEvaluator(script=eval_f)\n",
    "\n",
    "generator_name = 'bo_ucb'\n",
    "gc = get_generator_class(generator_name)\n",
    "\n",
    "gen = gc(gvocs=gvocs)\n",
    "gen.numerical_optimizer.n_raw_samples = 512\n",
    "gen.numerical_optimizer.n_restarts = 10\n",
    "gen.gp_constructor.use_low_noise_prior = False"
   ]
  },
  {
   "cell_type": "code",
   "execution_count": 9,
   "metadata": {},
   "outputs": [],
   "source": [
    "options = AlgorithmOptions(store_history=True, dump_every_step=True)\n",
    "opt = Optimizer(options=options,\n",
    "                generator=gen,\n",
    "                evaluator=ev,\n",
    "                gvocs=gvocs)"
   ]
  },
  {
   "cell_type": "markdown",
   "metadata": {},
   "source": [
    "Sample at initial values (i.e. standard lattice)"
   ]
  },
  {
   "cell_type": "code",
   "execution_count": 10,
   "metadata": {},
   "outputs": [],
   "source": [
    "opt.generate_at(initial_variable_values)\n",
    "opt.evaluate_data()"
   ]
  },
  {
   "cell_type": "code",
   "execution_count": 11,
   "metadata": {},
   "outputs": [
    {
     "data": {
      "text/html": [
       "<div>\n",
       "<style scoped>\n",
       "    .dataframe tbody tr th:only-of-type {\n",
       "        vertical-align: middle;\n",
       "    }\n",
       "\n",
       "    .dataframe tbody tr th {\n",
       "        vertical-align: top;\n",
       "    }\n",
       "\n",
       "    .dataframe thead th {\n",
       "        text-align: right;\n",
       "    }\n",
       "</style>\n",
       "<table border=\"1\" class=\"dataframe\">\n",
       "  <thead>\n",
       "    <tr style=\"text-align: right;\">\n",
       "      <th></th>\n",
       "      <th>SVD0</th>\n",
       "      <th>SH1</th>\n",
       "      <th>SH3</th>\n",
       "      <th>SH4</th>\n",
       "      <th>SL1</th>\n",
       "      <th>SL2</th>\n",
       "      <th>SL3</th>\n",
       "      <th>result</th>\n",
       "      <th>exception</th>\n",
       "      <th>traceback</th>\n",
       "      <th>wall_time</th>\n",
       "      <th>cpu_time</th>\n",
       "      <th>valid</th>\n",
       "      <th>LT</th>\n",
       "    </tr>\n",
       "  </thead>\n",
       "  <tbody>\n",
       "    <tr>\n",
       "      <th>1</th>\n",
       "      <td>0.0</td>\n",
       "      <td>0.0</td>\n",
       "      <td>0.0</td>\n",
       "      <td>0.0</td>\n",
       "      <td>0.0</td>\n",
       "      <td>0.0</td>\n",
       "      <td>0.0</td>\n",
       "      <td>{'LT': 4.730315625429988}</td>\n",
       "      <td>None</td>\n",
       "      <td></td>\n",
       "      <td>0.000062</td>\n",
       "      <td>0.0</td>\n",
       "      <td>True</td>\n",
       "      <td>4.730316</td>\n",
       "    </tr>\n",
       "  </tbody>\n",
       "</table>\n",
       "</div>"
      ],
      "text/plain": [
       "   SVD0  SH1  SH3  SH4  SL1  SL2  SL3                     result exception  \\\n",
       "1   0.0  0.0  0.0  0.0  0.0  0.0  0.0  {'LT': 4.730315625429988}      None   \n",
       "\n",
       "  traceback  wall_time  cpu_time  valid        LT  \n",
       "1             0.000062       0.0   True  4.730316  "
      ]
     },
     "execution_count": 11,
     "metadata": {},
     "output_type": "execute_result"
    }
   ],
   "source": [
    "opt.data"
   ]
  },
  {
   "cell_type": "markdown",
   "metadata": {},
   "source": [
    "Sample close to initial point"
   ]
  },
  {
   "cell_type": "code",
   "execution_count": 12,
   "metadata": {},
   "outputs": [],
   "source": [
    "mt = {k: 0.05 for k in variables.keys()}\n",
    "opt.generate_random_around_point(n=1, point=initial_variable_values, spans=mt, use_normalized_distances=True)\n",
    "opt.evaluate_data()"
   ]
  },
  {
   "cell_type": "code",
   "execution_count": 13,
   "metadata": {},
   "outputs": [
    {
     "data": {
      "text/html": [
       "<div>\n",
       "<style scoped>\n",
       "    .dataframe tbody tr th:only-of-type {\n",
       "        vertical-align: middle;\n",
       "    }\n",
       "\n",
       "    .dataframe tbody tr th {\n",
       "        vertical-align: top;\n",
       "    }\n",
       "\n",
       "    .dataframe thead th {\n",
       "        text-align: right;\n",
       "    }\n",
       "</style>\n",
       "<table border=\"1\" class=\"dataframe\">\n",
       "  <thead>\n",
       "    <tr style=\"text-align: right;\">\n",
       "      <th></th>\n",
       "      <th>SVD0</th>\n",
       "      <th>SH1</th>\n",
       "      <th>SH3</th>\n",
       "      <th>SH4</th>\n",
       "      <th>SL1</th>\n",
       "      <th>SL2</th>\n",
       "      <th>SL3</th>\n",
       "      <th>result</th>\n",
       "      <th>exception</th>\n",
       "      <th>traceback</th>\n",
       "      <th>wall_time</th>\n",
       "      <th>cpu_time</th>\n",
       "      <th>valid</th>\n",
       "      <th>LT</th>\n",
       "    </tr>\n",
       "  </thead>\n",
       "  <tbody>\n",
       "    <tr>\n",
       "      <th>1</th>\n",
       "      <td>0.000000</td>\n",
       "      <td>0.000000</td>\n",
       "      <td>0.000000</td>\n",
       "      <td>0.000000</td>\n",
       "      <td>0.000000</td>\n",
       "      <td>0.000000</td>\n",
       "      <td>0.000000</td>\n",
       "      <td>{'LT': 4.730315625429988}</td>\n",
       "      <td>None</td>\n",
       "      <td></td>\n",
       "      <td>0.000062</td>\n",
       "      <td>0.0</td>\n",
       "      <td>True</td>\n",
       "      <td>4.730316</td>\n",
       "    </tr>\n",
       "    <tr>\n",
       "      <th>2</th>\n",
       "      <td>0.015927</td>\n",
       "      <td>0.017124</td>\n",
       "      <td>0.005272</td>\n",
       "      <td>0.008148</td>\n",
       "      <td>-0.009621</td>\n",
       "      <td>0.028042</td>\n",
       "      <td>0.007175</td>\n",
       "      <td>{'LT': 4.729740273681895}</td>\n",
       "      <td>None</td>\n",
       "      <td></td>\n",
       "      <td>0.000056</td>\n",
       "      <td>0.0</td>\n",
       "      <td>True</td>\n",
       "      <td>4.729740</td>\n",
       "    </tr>\n",
       "  </tbody>\n",
       "</table>\n",
       "</div>"
      ],
      "text/plain": [
       "       SVD0       SH1       SH3       SH4       SL1       SL2       SL3  \\\n",
       "1  0.000000  0.000000  0.000000  0.000000  0.000000  0.000000  0.000000   \n",
       "2  0.015927  0.017124  0.005272  0.008148 -0.009621  0.028042  0.007175   \n",
       "\n",
       "                      result exception traceback  wall_time  cpu_time  valid  \\\n",
       "1  {'LT': 4.730315625429988}      None             0.000062       0.0   True   \n",
       "2  {'LT': 4.729740273681895}      None             0.000056       0.0   True   \n",
       "\n",
       "         LT  \n",
       "1  4.730316  \n",
       "2  4.729740  "
      ]
     },
     "execution_count": 13,
     "metadata": {},
     "output_type": "execute_result"
    }
   ],
   "source": [
    "opt.data"
   ]
  },
  {
   "cell_type": "markdown",
   "metadata": {},
   "source": [
    "Run optimizer"
   ]
  },
  {
   "cell_type": "code",
   "execution_count": 14,
   "metadata": {},
   "outputs": [],
   "source": [
    "import warnings\n",
    "#warnings.filterwarnings(\"ignore\", message=\"Unable to find non-zero acquisition function values\")\n",
    "\n",
    "for i in range(50):\n",
    "    opt.step()"
   ]
  },
  {
   "cell_type": "code",
   "execution_count": 15,
   "metadata": {},
   "outputs": [
    {
     "data": {
      "text/html": [
       "<div>\n",
       "<style scoped>\n",
       "    .dataframe tbody tr th:only-of-type {\n",
       "        vertical-align: middle;\n",
       "    }\n",
       "\n",
       "    .dataframe tbody tr th {\n",
       "        vertical-align: top;\n",
       "    }\n",
       "\n",
       "    .dataframe thead th {\n",
       "        text-align: right;\n",
       "    }\n",
       "</style>\n",
       "<table border=\"1\" class=\"dataframe\">\n",
       "  <thead>\n",
       "    <tr style=\"text-align: right;\">\n",
       "      <th></th>\n",
       "      <th>SVD0</th>\n",
       "      <th>SH1</th>\n",
       "      <th>SH3</th>\n",
       "      <th>SH4</th>\n",
       "      <th>SL1</th>\n",
       "      <th>SL2</th>\n",
       "      <th>SL3</th>\n",
       "      <th>result</th>\n",
       "      <th>exception</th>\n",
       "      <th>traceback</th>\n",
       "      <th>wall_time</th>\n",
       "      <th>cpu_time</th>\n",
       "      <th>valid</th>\n",
       "      <th>LT</th>\n",
       "    </tr>\n",
       "  </thead>\n",
       "  <tbody>\n",
       "    <tr>\n",
       "      <th>48</th>\n",
       "      <td>0.287620</td>\n",
       "      <td>0.396658</td>\n",
       "      <td>0.039765</td>\n",
       "      <td>0.268753</td>\n",
       "      <td>0.265432</td>\n",
       "      <td>0.375998</td>\n",
       "      <td>0.396705</td>\n",
       "      <td>{'LT': 9.043553068851137}</td>\n",
       "      <td>None</td>\n",
       "      <td></td>\n",
       "      <td>0.000042</td>\n",
       "      <td>0.0</td>\n",
       "      <td>True</td>\n",
       "      <td>9.043553</td>\n",
       "    </tr>\n",
       "    <tr>\n",
       "      <th>49</th>\n",
       "      <td>0.309424</td>\n",
       "      <td>0.396658</td>\n",
       "      <td>0.041595</td>\n",
       "      <td>0.316418</td>\n",
       "      <td>0.265432</td>\n",
       "      <td>0.407033</td>\n",
       "      <td>0.418049</td>\n",
       "      <td>{'LT': 9.390029308752826}</td>\n",
       "      <td>None</td>\n",
       "      <td></td>\n",
       "      <td>0.000046</td>\n",
       "      <td>0.0</td>\n",
       "      <td>True</td>\n",
       "      <td>9.390029</td>\n",
       "    </tr>\n",
       "    <tr>\n",
       "      <th>50</th>\n",
       "      <td>0.326064</td>\n",
       "      <td>0.396658</td>\n",
       "      <td>0.043651</td>\n",
       "      <td>0.316418</td>\n",
       "      <td>0.265432</td>\n",
       "      <td>0.436214</td>\n",
       "      <td>0.430316</td>\n",
       "      <td>{'LT': 9.265122894659433}</td>\n",
       "      <td>None</td>\n",
       "      <td></td>\n",
       "      <td>0.000050</td>\n",
       "      <td>0.0</td>\n",
       "      <td>True</td>\n",
       "      <td>9.265123</td>\n",
       "    </tr>\n",
       "    <tr>\n",
       "      <th>51</th>\n",
       "      <td>0.336760</td>\n",
       "      <td>0.396658</td>\n",
       "      <td>0.044755</td>\n",
       "      <td>0.316418</td>\n",
       "      <td>0.265432</td>\n",
       "      <td>0.452085</td>\n",
       "      <td>0.436194</td>\n",
       "      <td>{'LT': 9.068660498430217}</td>\n",
       "      <td>None</td>\n",
       "      <td></td>\n",
       "      <td>0.000056</td>\n",
       "      <td>0.0</td>\n",
       "      <td>True</td>\n",
       "      <td>9.068660</td>\n",
       "    </tr>\n",
       "    <tr>\n",
       "      <th>52</th>\n",
       "      <td>0.309465</td>\n",
       "      <td>0.396658</td>\n",
       "      <td>0.040738</td>\n",
       "      <td>0.316418</td>\n",
       "      <td>0.265432</td>\n",
       "      <td>0.423015</td>\n",
       "      <td>0.419608</td>\n",
       "      <td>{'LT': 9.031908173927084}</td>\n",
       "      <td>None</td>\n",
       "      <td></td>\n",
       "      <td>0.000048</td>\n",
       "      <td>0.0</td>\n",
       "      <td>True</td>\n",
       "      <td>9.031908</td>\n",
       "    </tr>\n",
       "  </tbody>\n",
       "</table>\n",
       "</div>"
      ],
      "text/plain": [
       "        SVD0       SH1       SH3       SH4       SL1       SL2       SL3  \\\n",
       "48  0.287620  0.396658  0.039765  0.268753  0.265432  0.375998  0.396705   \n",
       "49  0.309424  0.396658  0.041595  0.316418  0.265432  0.407033  0.418049   \n",
       "50  0.326064  0.396658  0.043651  0.316418  0.265432  0.436214  0.430316   \n",
       "51  0.336760  0.396658  0.044755  0.316418  0.265432  0.452085  0.436194   \n",
       "52  0.309465  0.396658  0.040738  0.316418  0.265432  0.423015  0.419608   \n",
       "\n",
       "                       result exception traceback  wall_time  cpu_time  valid  \\\n",
       "48  {'LT': 9.043553068851137}      None             0.000042       0.0   True   \n",
       "49  {'LT': 9.390029308752826}      None             0.000046       0.0   True   \n",
       "50  {'LT': 9.265122894659433}      None             0.000050       0.0   True   \n",
       "51  {'LT': 9.068660498430217}      None             0.000056       0.0   True   \n",
       "52  {'LT': 9.031908173927084}      None             0.000048       0.0   True   \n",
       "\n",
       "          LT  \n",
       "48  9.043553  \n",
       "49  9.390029  \n",
       "50  9.265123  \n",
       "51  9.068660  \n",
       "52  9.031908  "
      ]
     },
     "execution_count": 15,
     "metadata": {},
     "output_type": "execute_result"
    }
   ],
   "source": [
    "opt.data.tail()"
   ]
  },
  {
   "cell_type": "code",
   "execution_count": 20,
   "metadata": {},
   "outputs": [
    {
     "data": {
      "text/plain": [
       "Text(0, 0.5, 'Objective')"
      ]
     },
     "execution_count": 20,
     "metadata": {},
     "output_type": "execute_result"
    },
    {
     "data": {
      "image/png": "[encoded data removed]",
      "text/plain": [
       "<Figure size 1200x600 with 2 Axes>"
      ]
     },
     "metadata": {},
     "output_type": "display_data"
    }
   ],
   "source": [
    "import matplotlib.pyplot as plt\n",
    "\n",
    "fig,ax = plt.subplots(1,2,squeeze=False,figsize=(12,6))\n",
    "df = opt.data\n",
    "ol = ['LT']\n",
    "\n",
    "ax[0,1].plot(df.loc[:,gvocs.objective_names_active[0]],marker='o')\n",
    "ax[0,1].set_xlabel('Step #')\n",
    "ax[0,1].set_ylabel('Objective')"
   ]
  },
  {
   "cell_type": "code",
   "execution_count": null,
   "metadata": {},
   "outputs": [],
   "source": [
    "# This will save optimizer state\n",
    "opt.state_to_json('sobo_dump.json')\n",
    "\n",
    "import os\n",
    "os.remove('sobo_dump.json')"
   ]
  }
 ],
 "metadata": {
  "kernelspec": {
   "display_name": "py311ml",
   "language": "python",
   "name": "python3"
  },
  "language_info": {
   "codemirror_mode": {
    "name": "ipython",
    "version": 3
   },
   "file_extension": ".py",
   "mimetype": "text/x-python",
   "name": "python",
   "nbconvert_exporter": "python",
   "pygments_lexer": "ipython3",
   "version": "3.11.6"
  }
 },
 "nbformat": 4,
 "nbformat_minor": 2
}
