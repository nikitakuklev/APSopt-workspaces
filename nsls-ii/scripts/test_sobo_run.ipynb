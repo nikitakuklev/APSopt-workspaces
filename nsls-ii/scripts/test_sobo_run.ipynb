{
 "cells": [
  {
   "cell_type": "code",
   "execution_count": 1,
   "metadata": {},
   "outputs": [],
   "source": [
    "import logging\n",
    "import numpy as np\n",
    "\n",
    "from apsopt.core.optimizer import Optimizer, get_generator_class\n",
    "from apsopt.core.evaluators import FunctionEvaluator\n",
    "from apsopt.util.pydantic.options import AlgorithmOptions\n",
    "from apsopt.util.pydantic.vocs import GVOCS\n",
    "\n",
    "from opt_funcs_nsls import make_dummy_eval\n",
    "\n",
    "logger = logging.getLogger(__name__)"
   ]
  },
  {
   "cell_type": "markdown",
   "metadata": {},
   "source": [
    "SETUP SINGLE-OBJECTIVE RUN (i.e. only lifetime)"
   ]
  },
  {
   "cell_type": "code",
   "execution_count": 2,
   "metadata": {},
   "outputs": [],
   "source": [
    "variables = {'x0':[0,1], # magnet current/knob/etc.\n",
    "              'x1':[0,1]}\n",
    "objectives = {'LT':'maximize', 'EFF':'maximize'}\n",
    "objectives_active = {'LT':'maximize'}\n",
    "reference_point = {'LT':0.7, # hours\n",
    "                   'EFF':0.5 # fraction injected\n",
    "                   }\n",
    "initial_variable_values = {'x0':0.1, 'x1':0.1}\n",
    "\n",
    "gvocs = GVOCS(variables=variables,\n",
    "              variables_active=variables,\n",
    "              objectives=objectives,\n",
    "              objectives_active=objectives_active)"
   ]
  },
  {
   "cell_type": "code",
   "execution_count": 3,
   "metadata": {},
   "outputs": [],
   "source": [
    "eval_f = make_dummy_eval(gvocs)\n",
    "ev = FunctionEvaluator(script=eval_f)\n",
    "\n",
    "generator_name = 'bo_ucb'\n",
    "gc = get_generator_class(generator_name)\n",
    "\n",
    "gen = gc(gvocs=gvocs)\n",
    "gen.numerical_optimizer.n_raw_samples = 512\n",
    "gen.numerical_optimizer.n_restarts = 10\n",
    "gen.gp_constructor.use_low_noise_prior = False"
   ]
  },
  {
   "cell_type": "code",
   "execution_count": 4,
   "metadata": {},
   "outputs": [],
   "source": [
    "options = AlgorithmOptions(store_history=True, dump_every_step=True)\n",
    "opt = Optimizer(options=options,\n",
    "                generator=gen,\n",
    "                evaluator=ev,\n",
    "                gvocs=gvocs)"
   ]
  },
  {
   "cell_type": "markdown",
   "metadata": {},
   "source": [
    "Sample at initial values (i.e. standard lattice)"
   ]
  },
  {
   "cell_type": "code",
   "execution_count": 5,
   "metadata": {},
   "outputs": [],
   "source": [
    "opt.generate_at(initial_variable_values)\n",
    "opt.evaluate_data()"
   ]
  },
  {
   "cell_type": "code",
   "execution_count": 6,
   "metadata": {},
   "outputs": [
    {
     "data": {
      "text/html": [
       "<div>\n",
       "<style scoped>\n",
       "    .dataframe tbody tr th:only-of-type {\n",
       "        vertical-align: middle;\n",
       "    }\n",
       "\n",
       "    .dataframe tbody tr th {\n",
       "        vertical-align: top;\n",
       "    }\n",
       "\n",
       "    .dataframe thead th {\n",
       "        text-align: right;\n",
       "    }\n",
       "</style>\n",
       "<table border=\"1\" class=\"dataframe\">\n",
       "  <thead>\n",
       "    <tr style=\"text-align: right;\">\n",
       "      <th></th>\n",
       "      <th>x0</th>\n",
       "      <th>x1</th>\n",
       "      <th>result</th>\n",
       "      <th>exception</th>\n",
       "      <th>traceback</th>\n",
       "      <th>wall_time</th>\n",
       "      <th>cpu_time</th>\n",
       "      <th>valid</th>\n",
       "      <th>LT</th>\n",
       "      <th>EFF</th>\n",
       "    </tr>\n",
       "  </thead>\n",
       "  <tbody>\n",
       "    <tr>\n",
       "      <th>1</th>\n",
       "      <td>0.1</td>\n",
       "      <td>0.1</td>\n",
       "      <td>{'LT': 8.91732521861159, 'EFF': 0.172410838209...</td>\n",
       "      <td>None</td>\n",
       "      <td></td>\n",
       "      <td>0.000088</td>\n",
       "      <td>0.0</td>\n",
       "      <td>True</td>\n",
       "      <td>8.917325</td>\n",
       "      <td>0.172411</td>\n",
       "    </tr>\n",
       "  </tbody>\n",
       "</table>\n",
       "</div>"
      ],
      "text/plain": [
       "    x0   x1                                             result exception  \\\n",
       "1  0.1  0.1  {'LT': 8.91732521861159, 'EFF': 0.172410838209...      None   \n",
       "\n",
       "  traceback  wall_time  cpu_time  valid        LT       EFF  \n",
       "1             0.000088       0.0   True  8.917325  0.172411  "
      ]
     },
     "execution_count": 6,
     "metadata": {},
     "output_type": "execute_result"
    }
   ],
   "source": [
    "opt.data"
   ]
  },
  {
   "cell_type": "markdown",
   "metadata": {},
   "source": [
    "Sample close to initial point"
   ]
  },
  {
   "cell_type": "code",
   "execution_count": 7,
   "metadata": {},
   "outputs": [],
   "source": [
    "mt = {'x0':0.05, 'x1':0.05}\n",
    "opt.generate_random_around_point(n=1, point=initial_variable_values, spans=mt, use_normalized_distances=True)\n",
    "opt.evaluate_data()"
   ]
  },
  {
   "cell_type": "code",
   "execution_count": 8,
   "metadata": {},
   "outputs": [
    {
     "data": {
      "text/html": [
       "<div>\n",
       "<style scoped>\n",
       "    .dataframe tbody tr th:only-of-type {\n",
       "        vertical-align: middle;\n",
       "    }\n",
       "\n",
       "    .dataframe tbody tr th {\n",
       "        vertical-align: top;\n",
       "    }\n",
       "\n",
       "    .dataframe thead th {\n",
       "        text-align: right;\n",
       "    }\n",
       "</style>\n",
       "<table border=\"1\" class=\"dataframe\">\n",
       "  <thead>\n",
       "    <tr style=\"text-align: right;\">\n",
       "      <th></th>\n",
       "      <th>x0</th>\n",
       "      <th>x1</th>\n",
       "      <th>result</th>\n",
       "      <th>exception</th>\n",
       "      <th>traceback</th>\n",
       "      <th>wall_time</th>\n",
       "      <th>cpu_time</th>\n",
       "      <th>valid</th>\n",
       "      <th>LT</th>\n",
       "      <th>EFF</th>\n",
       "    </tr>\n",
       "  </thead>\n",
       "  <tbody>\n",
       "    <tr>\n",
       "      <th>1</th>\n",
       "      <td>0.10000</td>\n",
       "      <td>0.100000</td>\n",
       "      <td>{'LT': 8.91732521861159, 'EFF': 0.172410838209...</td>\n",
       "      <td>None</td>\n",
       "      <td></td>\n",
       "      <td>0.000088</td>\n",
       "      <td>0.0</td>\n",
       "      <td>True</td>\n",
       "      <td>8.917325</td>\n",
       "      <td>0.172411</td>\n",
       "    </tr>\n",
       "    <tr>\n",
       "      <th>2</th>\n",
       "      <td>0.11402</td>\n",
       "      <td>0.093631</td>\n",
       "      <td>{'LT': 9.349294904278974, 'EFF': 0.21657069402...</td>\n",
       "      <td>None</td>\n",
       "      <td></td>\n",
       "      <td>0.000055</td>\n",
       "      <td>0.0</td>\n",
       "      <td>True</td>\n",
       "      <td>9.349295</td>\n",
       "      <td>0.216571</td>\n",
       "    </tr>\n",
       "  </tbody>\n",
       "</table>\n",
       "</div>"
      ],
      "text/plain": [
       "        x0        x1                                             result  \\\n",
       "1  0.10000  0.100000  {'LT': 8.91732521861159, 'EFF': 0.172410838209...   \n",
       "2  0.11402  0.093631  {'LT': 9.349294904278974, 'EFF': 0.21657069402...   \n",
       "\n",
       "  exception traceback  wall_time  cpu_time  valid        LT       EFF  \n",
       "1      None             0.000088       0.0   True  8.917325  0.172411  \n",
       "2      None             0.000055       0.0   True  9.349295  0.216571  "
      ]
     },
     "execution_count": 8,
     "metadata": {},
     "output_type": "execute_result"
    }
   ],
   "source": [
    "opt.data"
   ]
  },
  {
   "cell_type": "markdown",
   "metadata": {},
   "source": [
    "Run optimizer"
   ]
  },
  {
   "cell_type": "code",
   "execution_count": 9,
   "metadata": {},
   "outputs": [],
   "source": [
    "import warnings\n",
    "#warnings.filterwarnings(\"ignore\", message=\"Unable to find non-zero acquisition function values\")\n",
    "\n",
    "for i in range(50):\n",
    "    opt.step()"
   ]
  },
  {
   "cell_type": "code",
   "execution_count": 11,
   "metadata": {},
   "outputs": [
    {
     "data": {
      "text/html": [
       "<div>\n",
       "<style scoped>\n",
       "    .dataframe tbody tr th:only-of-type {\n",
       "        vertical-align: middle;\n",
       "    }\n",
       "\n",
       "    .dataframe tbody tr th {\n",
       "        vertical-align: top;\n",
       "    }\n",
       "\n",
       "    .dataframe thead th {\n",
       "        text-align: right;\n",
       "    }\n",
       "</style>\n",
       "<table border=\"1\" class=\"dataframe\">\n",
       "  <thead>\n",
       "    <tr style=\"text-align: right;\">\n",
       "      <th></th>\n",
       "      <th>x0</th>\n",
       "      <th>x1</th>\n",
       "      <th>result</th>\n",
       "      <th>exception</th>\n",
       "      <th>traceback</th>\n",
       "      <th>wall_time</th>\n",
       "      <th>cpu_time</th>\n",
       "      <th>valid</th>\n",
       "      <th>LT</th>\n",
       "      <th>EFF</th>\n",
       "    </tr>\n",
       "  </thead>\n",
       "  <tbody>\n",
       "    <tr>\n",
       "      <th>48</th>\n",
       "      <td>0.382511</td>\n",
       "      <td>0.529018</td>\n",
       "      <td>{'LT': 9.987568843565633, 'EFF': 0.98093747608...</td>\n",
       "      <td>None</td>\n",
       "      <td></td>\n",
       "      <td>0.000046</td>\n",
       "      <td>0.0</td>\n",
       "      <td>True</td>\n",
       "      <td>9.987569</td>\n",
       "      <td>0.980937</td>\n",
       "    </tr>\n",
       "    <tr>\n",
       "      <th>49</th>\n",
       "      <td>0.381185</td>\n",
       "      <td>0.530845</td>\n",
       "      <td>{'LT': 9.893508813060816, 'EFF': 0.93299170600...</td>\n",
       "      <td>None</td>\n",
       "      <td></td>\n",
       "      <td>0.000048</td>\n",
       "      <td>0.0</td>\n",
       "      <td>True</td>\n",
       "      <td>9.893509</td>\n",
       "      <td>0.932992</td>\n",
       "    </tr>\n",
       "    <tr>\n",
       "      <th>50</th>\n",
       "      <td>0.382638</td>\n",
       "      <td>0.527764</td>\n",
       "      <td>{'LT': 10.104021212519745, 'EFF': 0.8401508892...</td>\n",
       "      <td>None</td>\n",
       "      <td></td>\n",
       "      <td>0.000048</td>\n",
       "      <td>0.0</td>\n",
       "      <td>True</td>\n",
       "      <td>10.104021</td>\n",
       "      <td>0.840151</td>\n",
       "    </tr>\n",
       "    <tr>\n",
       "      <th>51</th>\n",
       "      <td>0.377847</td>\n",
       "      <td>0.533147</td>\n",
       "      <td>{'LT': 9.62596113907777, 'EFF': 0.810700673337...</td>\n",
       "      <td>None</td>\n",
       "      <td></td>\n",
       "      <td>0.000056</td>\n",
       "      <td>0.0</td>\n",
       "      <td>True</td>\n",
       "      <td>9.625961</td>\n",
       "      <td>0.810701</td>\n",
       "    </tr>\n",
       "    <tr>\n",
       "      <th>52</th>\n",
       "      <td>0.392178</td>\n",
       "      <td>0.503849</td>\n",
       "      <td>{'LT': 9.750092645314329, 'EFF': 0.82971991578...</td>\n",
       "      <td>None</td>\n",
       "      <td></td>\n",
       "      <td>0.000056</td>\n",
       "      <td>0.0</td>\n",
       "      <td>True</td>\n",
       "      <td>9.750093</td>\n",
       "      <td>0.829720</td>\n",
       "    </tr>\n",
       "  </tbody>\n",
       "</table>\n",
       "</div>"
      ],
      "text/plain": [
       "          x0        x1                                             result  \\\n",
       "48  0.382511  0.529018  {'LT': 9.987568843565633, 'EFF': 0.98093747608...   \n",
       "49  0.381185  0.530845  {'LT': 9.893508813060816, 'EFF': 0.93299170600...   \n",
       "50  0.382638  0.527764  {'LT': 10.104021212519745, 'EFF': 0.8401508892...   \n",
       "51  0.377847  0.533147  {'LT': 9.62596113907777, 'EFF': 0.810700673337...   \n",
       "52  0.392178  0.503849  {'LT': 9.750092645314329, 'EFF': 0.82971991578...   \n",
       "\n",
       "   exception traceback  wall_time  cpu_time  valid         LT       EFF  \n",
       "48      None             0.000046       0.0   True   9.987569  0.980937  \n",
       "49      None             0.000048       0.0   True   9.893509  0.932992  \n",
       "50      None             0.000048       0.0   True  10.104021  0.840151  \n",
       "51      None             0.000056       0.0   True   9.625961  0.810701  \n",
       "52      None             0.000056       0.0   True   9.750093  0.829720  "
      ]
     },
     "execution_count": 11,
     "metadata": {},
     "output_type": "execute_result"
    }
   ],
   "source": [
    "opt.data.tail()"
   ]
  },
  {
   "cell_type": "code",
   "execution_count": 12,
   "metadata": {},
   "outputs": [
    {
     "data": {
      "text/plain": [
       "Text(0, 0.5, 'Objective')"
      ]
     },
     "execution_count": 12,
     "metadata": {},
     "output_type": "execute_result"
    },
    {
     "data": {
      "image/png": "[encoded data removed]",
      "text/plain": [
       "<Figure size 1200x600 with 3 Axes>"
      ]
     },
     "metadata": {},
     "output_type": "display_data"
    }
   ],
   "source": [
    "import matplotlib.pyplot as plt\n",
    "\n",
    "fig,ax = plt.subplots(1,2,squeeze=False,figsize=(12,6))\n",
    "df = opt.data\n",
    "ol = ['EFF', 'LT']\n",
    "l = ax[0,0].scatter(df.loc[:,ol[0]], df.loc[:,ol[1]],10,marker='o',c=range(len(df)),vmax=len(df))\n",
    "ax[0,0].scatter(df.loc[:1,ol[0]], df.loc[:1,ol[1]], 20,marker='o',c='red',label='initial point')\n",
    "ax[0,0].set_xlabel(ol[0])\n",
    "ax[0,0].set_ylabel(ol[1])\n",
    "fig.colorbar(l)\n",
    "ax[0,0].legend()\n",
    "\n",
    "ax[0,1].plot(df.loc[:,gvocs.objective_names_active[0]],marker='o')\n",
    "ax[0,1].set_xlabel('Step #')\n",
    "ax[0,1].set_ylabel('Objective')"
   ]
  },
  {
   "cell_type": "code",
   "execution_count": 15,
   "metadata": {},
   "outputs": [],
   "source": [
    "# This will save optimizer state\n",
    "opt.state_to_json('sobo_dump.json')\n",
    "\n",
    "import os\n",
    "os.remove('sobo_dump.json')"
   ]
  }
 ],
 "metadata": {
  "kernelspec": {
   "display_name": "py311ml",
   "language": "python",
   "name": "python3"
  },
  "language_info": {
   "codemirror_mode": {
    "name": "ipython",
    "version": 3
   },
   "file_extension": ".py",
   "mimetype": "text/x-python",
   "name": "python",
   "nbconvert_exporter": "python",
   "pygments_lexer": "ipython3",
   "version": "3.11.6"
  }
 },
 "nbformat": 4,
 "nbformat_minor": 2
}
